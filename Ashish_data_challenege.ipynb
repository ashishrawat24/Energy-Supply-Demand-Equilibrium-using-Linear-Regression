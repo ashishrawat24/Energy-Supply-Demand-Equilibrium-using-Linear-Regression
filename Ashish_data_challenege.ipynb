{
 "cells": [
  {
   "cell_type": "code",
   "execution_count": 1,
   "id": "3ab1ad6f-7889-4bea-9bbf-7e383c403efc",
   "metadata": {},
   "outputs": [],
   "source": [
    "#Importing all  the neccessary python libraries \n",
    "\n",
    "import pandas as pd\n",
    "import numpy as np\n",
    "import pytz\n",
    "import os \n",
    "import matplotlib.pyplot as plt"
   ]
  },
  {
   "cell_type": "code",
   "execution_count": 2,
   "id": "5c52b1da-0d54-4b2c-96b5-e14be6fe1e86",
   "metadata": {},
   "outputs": [
    {
     "name": "stderr",
     "output_type": "stream",
     "text": [
      "C:\\Users\\Pavillon Plus\\AppData\\Roaming\\Python\\Python312\\site-packages\\airflow\\__init__.py:36: RuntimeWarning: Airflow currently can be run on POSIX-compliant Operating Systems. For development, it is regularly tested on fairly modern Linux Distros and recent versions of macOS. On Windows you can run it via WSL2 (Windows Subsystem for Linux 2) or via Linux Containers. The work to add Windows support is tracked via https://github.com/apache/airflow/issues/10388, but it is not a high priority.\n",
      "  warnings.warn(\n",
      "OSError while attempting to symlink the latest log directory\n"
     ]
    },
    {
     "data": {
      "text/html": [
       "<pre style=\"white-space:pre;overflow-x:auto;line-height:normal;font-family:Menlo,'DejaVu Sans Mono',consolas,'Courier New',monospace\"><span style=\"color: #808000; text-decoration-color: #808000; font-weight: bold\">C:\\Users\\Pavillon Plus\\AppData\\Local\\Temp\\ipykernel_15452\\</span><span style=\"color: #808000; text-decoration-color: #808000; font-weight: bold\">333356067.</span><span style=\"color: #808000; text-decoration-color: #808000; font-weight: bold\">py:</span><span style=\"color: #808000; text-decoration-color: #808000; font-weight: bold\">5</span><span style=\"color: #808000; text-decoration-color: #808000; font-weight: bold\"> DeprecationWarning</span><span style=\"color: #808000; text-decoration-color: #808000\">: The `airflow.operators.python_operator.PythonOperator` class is deprecated. Please use `</span><span style=\"color: #808000; text-decoration-color: #808000\">'airflow.operators.python.PythonOperator'</span><span style=\"color: #808000; text-decoration-color: #808000\">`.</span>\n",
       "</pre>\n"
      ],
      "text/plain": [
       "\u001b[1;33mC:\\Users\\Pavillon Plus\\AppData\\Local\\Temp\\ipykernel_15452\\\u001b[0m\u001b[1;33m333356067.\u001b[0m\u001b[1;33mpy:\u001b[0m\u001b[1;33m5\u001b[0m\u001b[1;33m DeprecationWarning\u001b[0m\u001b[33m: The `airflow.operators.python_operator.PythonOperator` class is deprecated. Please use `\u001b[0m\u001b[33m'airflow.operators.python.PythonOperator'\u001b[0m\u001b[33m`.\u001b[0m\n"
      ]
     },
     "metadata": {},
     "output_type": "display_data"
    }
   ],
   "source": [
    "#Calling out airflow DAG (Directed Acyclic Graph)\n",
    "\n",
    "from sklearn.linear_model import LinearRegression\n",
    "from airflow import DAG\n",
    "from airflow.operators.python_operator import PythonOperator\n",
    "from datetime import datetime\n"
   ]
  },
  {
   "cell_type": "code",
   "execution_count": 3,
   "id": "603c5797-84a7-4d76-bf11-c96293b6968b",
   "metadata": {},
   "outputs": [
    {
     "name": "stdout",
     "output_type": "stream",
     "text": [
      "First 10 values of Energy Data:\n",
      "                   Timestamp  Price  Volume Sell_Buy\n",
      "0  2024-01-01 03:47:19+00:00  78.33  1037.0     sell\n",
      "1  2024-01-01 17:33:34+01:00  34.14     NaN     Sell\n",
      "2  2024-01-01 15:48:47+00:00  24.52  1805.0      BUY\n",
      "3  2024-01-01 15:26:36+00:00  95.42  1319.0      buy\n",
      "4  2024-01-01 07:15:19+00:00  65.96  1612.0      BUY\n",
      "5  2024-01-01 23:54:10+00:00  26.28  1313.0     SELL\n",
      "6  2024-01-01 16:17:29+00:00  63.61  1551.0      buy\n",
      "7  2024-01-01 01:19:15+00:00  77.58  1254.0     SELL\n",
      "8  2024-01-01 02:01:02+01:00  28.35  1331.0     Sell\n",
      "9  2024-01-01 03:15:52+00:00  80.39  1275.0      Buy\n"
     ]
    }
   ],
   "source": [
    "# Importing energy data file values\n",
    "\n",
    "def load_energy_data_file():\n",
    "    datafile = r'C:\\Users\\Pavillon Plus\\Desktop\\CV and Cover Letters\\Python Practice\\t1-coding-challenge-data-engineer-main\\dags\\energy_data.csv'  #Put actual path of the energy data file\n",
    "    energy_data = pd.read_csv(datafile)\n",
    "    \n",
    "    print(\"First 10 values of Energy Data:\") # printing first ten values in Energy Data file\n",
    "    print(energy_data.head(10))  \n",
    "    \n",
    "    return energy_data\n",
    "\n",
    "# Loading and display first few data sets\n",
    "energy_data = load_energy_data_file()"
   ]
  },
  {
   "cell_type": "code",
   "execution_count": 4,
   "id": "02df3fd2-49bb-4415-b887-40eab2af013c",
   "metadata": {},
   "outputs": [
    {
     "data": {
      "text/html": [
       "<pre style=\"white-space:pre;overflow-x:auto;line-height:normal;font-family:Menlo,'DejaVu Sans Mono',consolas,'Courier New',monospace\"><span style=\"color: #808000; text-decoration-color: #808000; font-weight: bold\">C:\\Users\\Pavillon Plus\\AppData\\Local\\Temp\\ipykernel_15452\\</span><span style=\"color: #808000; text-decoration-color: #808000; font-weight: bold\">746199639.</span><span style=\"color: #808000; text-decoration-color: #808000; font-weight: bold\">py:</span><span style=\"color: #808000; text-decoration-color: #808000; font-weight: bold\">7</span><span style=\"color: #808000; text-decoration-color: #808000; font-weight: bold\"> FutureWarning</span><span style=\"color: #808000; text-decoration-color: #808000\">: In a future version of pandas, parsing datetimes with mixed time zones will raise an error unless `</span><span style=\"color: #808000; text-decoration-color: #808000\">utc</span><span style=\"color: #808000; text-decoration-color: #808000\">=</span><span style=\"color: #808000; text-decoration-color: #808000; font-style: italic\">True</span><span style=\"color: #808000; text-decoration-color: #808000\">`. Please specify `</span><span style=\"color: #808000; text-decoration-color: #808000\">utc</span><span style=\"color: #808000; text-decoration-color: #808000\">=</span><span style=\"color: #808000; text-decoration-color: #808000; font-style: italic\">True</span><span style=\"color: #808000; text-decoration-color: #808000\">` to opt in to the new behaviour and silence this warning. To create a `Series` with mixed offsets and `object` dtype, please use `apply` and `datetime.datetime.strptime`</span>\n",
       "</pre>\n"
      ],
      "text/plain": [
       "\u001b[1;33mC:\\Users\\Pavillon Plus\\AppData\\Local\\Temp\\ipykernel_15452\\\u001b[0m\u001b[1;33m746199639.\u001b[0m\u001b[1;33mpy:\u001b[0m\u001b[1;33m7\u001b[0m\u001b[1;33m FutureWarning\u001b[0m\u001b[33m: In a future version of pandas, parsing datetimes with mixed time zones will raise an error unless `\u001b[0m\u001b[33mutc\u001b[0m\u001b[33m=\u001b[0m\u001b[3;33mTrue\u001b[0m\u001b[33m`. Please specify `\u001b[0m\u001b[33mutc\u001b[0m\u001b[33m=\u001b[0m\u001b[3;33mTrue\u001b[0m\u001b[33m` to opt in to the new behaviour and silence this warning. To create a `Series` with mixed offsets and `object` dtype, please use `apply` and `datetime.datetime.strptime`\u001b[0m\n"
      ]
     },
     "metadata": {},
     "output_type": "display_data"
    },
    {
     "name": "stdout",
     "output_type": "stream",
     "text": [
      "Sample of sorted energy data:\n",
      "                    Timestamp  Price  Volume Sell_Buy  Day_Index\n",
      "0   2024-01-01 00:02:22+01:00  27.25  1125.0     sell          1\n",
      "1   2024-01-01 00:03:08+01:00  55.96   882.0     sell          1\n",
      "2   2024-01-01 00:03:48+01:00  91.00   504.0      buy          1\n",
      "3   2024-01-01 00:03:52+01:00  23.57   979.0      buy          1\n",
      "4   2024-01-01 00:21:59+01:00  50.29  1934.0     sell          1\n",
      "5   2024-01-01 00:25:10+01:00  66.50  1614.0      buy          1\n",
      "6   2024-01-01 00:32:00+01:00  68.06  1310.0     sell          1\n",
      "7   2024-01-01 00:32:47+01:00  77.43   225.0      buy          1\n",
      "8   2024-01-01 00:36:26+01:00  79.99  1266.0     sell          1\n",
      "9   2024-01-01 00:40:09+01:00  61.12   712.0     sell          1\n",
      "10  2024-01-01 00:00:17+00:00  84.33  1978.0     sell          1\n",
      "11  2024-01-01 00:02:12+00:00  77.74   539.0      buy          1\n",
      "12  2024-01-01 00:02:44+00:00  67.88  1598.0     sell          1\n",
      "13  2024-01-01 00:08:38+00:00  28.11  1718.0      buy          1\n",
      "14  2024-01-01 00:10:11+00:00  74.24    74.0     sell          1\n",
      "15  2024-01-01 00:11:04+00:00  53.61  1409.0      buy          1\n",
      "16  2024-01-01 01:11:08+01:00  50.65   154.0     sell          1\n",
      "17  2024-01-01 00:13:12+00:00  64.30    85.0      buy          1\n",
      "18  2024-01-01 00:13:56+00:00  76.83   100.0     sell          1\n",
      "19  2024-01-01 00:16:02+00:00  85.87   891.0      buy          1\n"
     ]
    }
   ],
   "source": [
    "#Data cleaning and arranging the datset in order to perform methametical operations\n",
    "\n",
    "def arrange_timestamps():\n",
    "    datafile = r'C:\\Users\\Pavillon Plus\\Desktop\\CV and Cover Letters\\Python Practice\\t1-coding-challenge-data-engineer-main\\dags\\energy_data.csv'  # Replace with the actual path to the file\n",
    "    energy_data = pd.read_csv(datafile)\n",
    "\n",
    "    energy_data['Timestamp'] = pd.to_datetime(energy_data['Timestamp'], errors='coerce') #formating Timestamp column in datatime format\n",
    "    energy_data = energy_data.dropna(subset=['Timestamp', 'Price', 'Volume', 'Sell_Buy']) #Droing  rows with missing/invalid values\n",
    "    energy_data['Sell_Buy'] = energy_data['Sell_Buy'].str.lower() #changing sell buy column into one format of string\n",
    "\n",
    "    energy_data['Day_Index'] = ((energy_data.index // 1000) + 1) #Indexing the days in the month\n",
    "    sorted_energy_data = energy_data.sort_values(by=['Day_Index', 'Timestamp']).reset_index(drop=True)\n",
    "    \n",
    "    \n",
    "    print(\"Sample of sorted energy data:\")\n",
    "    print(sorted_energy_data.head(20))  \n",
    "\n",
    "    return sorted_energy_data\n",
    "    \n",
    "sorted_energy_data = arrange_timestamps()"
   ]
  },
  {
   "cell_type": "code",
   "execution_count": 5,
   "id": "57894b3a-ba39-44a0-8753-536a8f9bc9aa",
   "metadata": {},
   "outputs": [
    {
     "name": "stdout",
     "output_type": "stream",
     "text": [
      "Sorted energy from row x to y :\n",
      "                     Timestamp  Price  Volume Sell_Buy  Day_Index\n",
      "940  2024-01-01 23:17:27+00:00  33.63   371.0      buy          1\n",
      "941  2024-01-01 23:18:04+00:00  83.14  1858.0     sell          1\n",
      "942  2024-01-01 23:18:57+00:00  68.19   157.0     sell          1\n",
      "943  2024-01-01 23:26:40+00:00  60.55  1069.0      buy          1\n",
      "944  2024-01-01 23:27:26+00:00  55.15   586.0      buy          1\n",
      "945  2024-01-01 23:28:27+00:00  82.17   703.0     sell          1\n",
      "946  2024-01-01 23:34:03+00:00  96.47   101.0     sell          1\n",
      "947  2024-01-01 23:39:50+00:00  99.82   233.0      buy          1\n",
      "948  2024-01-01 23:41:36+00:00  36.58   721.0     sell          1\n",
      "949  2024-01-01 23:42:37+00:00  39.13  1514.0      buy          1\n",
      "950  2024-01-01 23:43:37+00:00  96.93   616.0      buy          1\n",
      "951  2024-01-01 23:45:50+00:00  70.46  1541.0     sell          1\n",
      "952  2024-01-01 23:46:54+00:00  38.13  1216.0     sell          1\n",
      "953  2024-01-01 23:51:17+00:00  65.48   548.0      buy          1\n",
      "954  2024-01-01 23:54:10+00:00  26.28  1313.0     sell          1\n",
      "955  2024-01-01 23:55:22+00:00  44.54  1811.0      buy          1\n",
      "956  2024-01-01 23:55:48+00:00  48.62  1197.0     sell          1\n",
      "957  2024-01-01 23:58:45+00:00  70.73   729.0     sell          1\n",
      "958  2024-01-02 00:00:41+01:00  93.87  1857.0      buy          2\n",
      "959  2024-01-02 00:08:52+01:00  33.97  1942.0     sell          2\n",
      "960  2024-01-02 00:30:06+01:00  80.93   529.0     sell          2\n",
      "961  2024-01-02 00:53:18+01:00  82.78    64.0     sell          2\n",
      "962  2024-01-02 00:03:01+00:00  53.77  1486.0     sell          2\n",
      "963  2024-01-02 00:04:45+00:00  59.70   623.0     sell          2\n",
      "964  2024-01-02 00:05:10+00:00  52.91   582.0      buy          2\n",
      "965  2024-01-02 00:06:03+00:00  79.86  1760.0      buy          2\n",
      "966  2024-01-02 00:06:55+00:00  69.62  1330.0     sell          2\n",
      "967  2024-01-02 01:08:32+01:00  94.91   473.0      buy          2\n",
      "968  2024-01-02 00:08:46+00:00  66.54   402.0     sell          2\n",
      "969  2024-01-02 00:09:12+00:00  97.68  1640.0      buy          2\n",
      "970  2024-01-02 00:09:33+00:00  58.91  1407.0      buy          2\n",
      "971  2024-01-02 00:09:38+00:00  36.13  1867.0     sell          2\n",
      "972  2024-01-02 00:14:04+00:00  99.82   802.0     sell          2\n",
      "973  2024-01-02 00:14:35+00:00  29.75   124.0     sell          2\n",
      "974  2024-01-02 00:14:51+00:00  92.28   419.0     sell          2\n",
      "975  2024-01-02 00:14:53+00:00  66.66  1274.0     sell          2\n",
      "976  2024-01-02 00:16:12+00:00  49.79  1570.0      buy          2\n",
      "977  2024-01-02 00:16:22+00:00  71.70    50.0     sell          2\n",
      "978  2024-01-02 00:17:45+00:00  31.12  1280.0      buy          2\n",
      "979  2024-01-02 00:18:15+00:00  86.29  1482.0     sell          2\n"
     ]
    }
   ],
   "source": [
    "#Creating function to print specific rows to perform a mannual data checkup and ensure data formats\n",
    "\n",
    "def print_specific_rows():\n",
    "    print(\"Sorted energy from row x to y :\")\n",
    "    print(sorted_energy_data.iloc[940:980])  \n",
    "    \n",
    "print_specific_rows()"
   ]
  },
  {
   "cell_type": "code",
   "execution_count": 6,
   "id": "d0d958e3-ac9f-4744-bda8-2249189c1e0b",
   "metadata": {},
   "outputs": [
    {
     "name": "stdout",
     "output_type": "stream",
     "text": [
      "\n",
      "Count of rows for each day (Day_Index):\n",
      "Day 1: 958 rows\n",
      "Day 2: 967 rows\n",
      "Day 3: 965 rows\n",
      "Day 4: 961 rows\n",
      "Day 5: 966 rows\n",
      "Day 6: 958 rows\n",
      "Day 7: 956 rows\n",
      "Day 8: 951 rows\n",
      "Day 9: 962 rows\n",
      "Day 10: 961 rows\n",
      "Day 11: 961 rows\n",
      "Day 12: 956 rows\n",
      "Day 13: 946 rows\n",
      "Day 14: 956 rows\n",
      "Day 15: 954 rows\n",
      "Day 16: 964 rows\n",
      "Day 17: 973 rows\n",
      "Day 18: 963 rows\n",
      "Day 19: 964 rows\n",
      "Day 20: 963 rows\n",
      "Day 21: 955 rows\n",
      "Day 22: 964 rows\n",
      "Day 23: 962 rows\n",
      "Day 24: 969 rows\n",
      "Day 25: 955 rows\n",
      "Day 26: 950 rows\n",
      "Day 27: 953 rows\n",
      "Day 28: 962 rows\n",
      "Day 29: 970 rows\n",
      "Day 30: 969 rows\n",
      "Day 31: 954 rows\n"
     ]
    }
   ],
   "source": [
    "#Counting number of energy data values in each day and estimate missing values in each day\n",
    "\n",
    "def count_day_index(sorted_energy_data):\n",
    "    day_counts = sorted_energy_data['Day_Index'].value_counts().sort_index()\n",
    "    print(\"\\nCount of rows for each day (Day_Index):\")\n",
    "    for day, count in day_counts.items():\n",
    "        print(f\"Day {day}: {count} rows\")\n",
    "\n",
    "    return day_counts\n",
    "    \n",
    "day_counts = count_day_index(sorted_energy_data)"
   ]
  },
  {
   "cell_type": "code",
   "execution_count": 7,
   "id": "723d5bc0-1780-48f0-b209-1961eca32523",
   "metadata": {},
   "outputs": [
    {
     "name": "stdout",
     "output_type": "stream",
     "text": [
      "Extreme outliers in Price detected:\n",
      "                       Timestamp    Price  Day_Index  Volume Sell_Buy\n",
      "105    2024-01-01 02:16:38+00:00  4611.95          1  1786.0      buy\n",
      "362    2024-01-01 10:03:24+01:00  4030.98          1  1884.0      buy\n",
      "512    2024-01-01 12:49:04+00:00  3856.95          1  1947.0      buy\n",
      "655    2024-01-01 17:11:07+01:00  3248.15          1  1850.0      buy\n",
      "683    2024-01-01 16:55:05+00:00  3748.38          1   596.0      buy\n",
      "...                          ...      ...        ...     ...      ...\n",
      "29322  2024-01-31 13:13:16+00:00  4221.70         31    60.0      buy\n",
      "29506  2024-01-31 18:09:06+01:00  1360.78         31   198.0      buy\n",
      "29647  2024-01-31 20:24:08+00:00  3492.02         31   319.0      buy\n",
      "29679  2024-01-31 21:13:15+00:00  3990.33         31  1581.0     sell\n",
      "29700  2024-01-31 21:48:49+00:00  3098.30         31   784.0      buy\n",
      "\n",
      "[308 rows x 5 columns]\n"
     ]
    }
   ],
   "source": [
    "#Checking the extreme outliers in the Price values\n",
    "\n",
    "def check_extreme_outliers(sorted_energy_data):\n",
    "    lower_threshold = 0.0001 #defining lower and upper threshold for prices\n",
    "    upper_threshold = 150 #assuming that buying above this price is not beneficial\n",
    "\n",
    "    # Identify rows with extreme outliers in the Price column\n",
    "    extreme_outliers = sorted_energy_data[(sorted_energy_data['Price'] > upper_threshold) | \n",
    "                                          (sorted_energy_data['Price'] < lower_threshold)]\n",
    "\n",
    "    if extreme_outliers.empty:\n",
    "        print(\"No extreme outliers in Price found.\")\n",
    "    else:\n",
    "        print(\"Extreme outliers in Price detected:\")\n",
    "        print(extreme_outliers[['Timestamp', 'Price','Day_Index','Volume','Sell_Buy']])\n",
    "\n",
    "check_extreme_outliers(sorted_energy_data) # Remove rows with extreme outliers in the Price column\n"
   ]
  },
  {
   "cell_type": "code",
   "execution_count": 8,
   "id": "e84c44a3-d8c7-4dad-822d-b3a16a48a4a8",
   "metadata": {},
   "outputs": [
    {
     "name": "stdout",
     "output_type": "stream",
     "text": [
      "Original dataset size: 29768 rows\n",
      "Filtered dataset size: 29460 rows\n",
      "Number of rows removed: 308\n",
      "Sample of sorted energy data:\n",
      "                    Timestamp  Price  Volume Sell_Buy  Day_Index\n",
      "0   2024-01-01 00:02:22+01:00  27.25  1125.0     sell          1\n",
      "1   2024-01-01 00:03:08+01:00  55.96   882.0     sell          1\n",
      "2   2024-01-01 00:03:48+01:00  91.00   504.0      buy          1\n",
      "3   2024-01-01 00:03:52+01:00  23.57   979.0      buy          1\n",
      "4   2024-01-01 00:21:59+01:00  50.29  1934.0     sell          1\n",
      "5   2024-01-01 00:25:10+01:00  66.50  1614.0      buy          1\n",
      "6   2024-01-01 00:32:00+01:00  68.06  1310.0     sell          1\n",
      "7   2024-01-01 00:32:47+01:00  77.43   225.0      buy          1\n",
      "8   2024-01-01 00:36:26+01:00  79.99  1266.0     sell          1\n",
      "9   2024-01-01 00:40:09+01:00  61.12   712.0     sell          1\n",
      "10  2024-01-01 00:00:17+00:00  84.33  1978.0     sell          1\n",
      "11  2024-01-01 00:02:12+00:00  77.74   539.0      buy          1\n",
      "12  2024-01-01 00:02:44+00:00  67.88  1598.0     sell          1\n",
      "13  2024-01-01 00:08:38+00:00  28.11  1718.0      buy          1\n",
      "14  2024-01-01 00:10:11+00:00  74.24    74.0     sell          1\n",
      "15  2024-01-01 00:11:04+00:00  53.61  1409.0      buy          1\n",
      "16  2024-01-01 01:11:08+01:00  50.65   154.0     sell          1\n",
      "17  2024-01-01 00:13:12+00:00  64.30    85.0      buy          1\n",
      "18  2024-01-01 00:13:56+00:00  76.83   100.0     sell          1\n",
      "19  2024-01-01 00:16:02+00:00  85.87   891.0      buy          1\n"
     ]
    }
   ],
   "source": [
    "#Removing the extreme outliers in the Price values\n",
    "def remove_extreme_outliers(sorted_energy_data):\n",
    "    lower_threshold = 0.0001\n",
    "    upper_threshold = 150\n",
    "\n",
    "    filtered_data = sorted_energy_data[(sorted_energy_data['Price'] >= lower_threshold) & (sorted_energy_data['Price'] <= upper_threshold)]\n",
    "    \n",
    "    print(f\"Original dataset size: {len(sorted_energy_data)} rows\")\n",
    "    print(f\"Filtered dataset size: {len(filtered_data)} rows\")\n",
    "    print(f\"Number of rows removed: {len(sorted_energy_data) - len(filtered_data)}\")\n",
    "    \n",
    "    print(\"Sample of sorted energy data:\")\n",
    "    print(sorted_energy_data.head(20)) \n",
    "    \n",
    "    return filtered_data\n",
    " \n",
    "sorted_energy_data = remove_extreme_outliers(sorted_energy_data)\n"
   ]
  },
  {
   "cell_type": "code",
   "execution_count": 9,
   "id": "61979e03-a68c-46d7-849d-4856e0e75764",
   "metadata": {},
   "outputs": [
    {
     "name": "stdout",
     "output_type": "stream",
     "text": [
      "Sample of data with separate Date and Time columns:\n",
      "             Timestamp  Price  Volume Sell_Buy  Day_Index        Date  \\\n",
      "0  2023-12-31 23:02:22  27.25  1125.0     sell          1  2023-12-31   \n",
      "1  2023-12-31 23:03:08  55.96   882.0     sell          1  2023-12-31   \n",
      "2  2023-12-31 23:03:48  91.00   504.0      buy          1  2023-12-31   \n",
      "3  2023-12-31 23:03:52  23.57   979.0      buy          1  2023-12-31   \n",
      "4  2023-12-31 23:21:59  50.29  1934.0     sell          1  2023-12-31   \n",
      "5  2023-12-31 23:25:10  66.50  1614.0      buy          1  2023-12-31   \n",
      "6  2023-12-31 23:32:00  68.06  1310.0     sell          1  2023-12-31   \n",
      "7  2023-12-31 23:32:47  77.43   225.0      buy          1  2023-12-31   \n",
      "8  2023-12-31 23:36:26  79.99  1266.0     sell          1  2023-12-31   \n",
      "9  2023-12-31 23:40:09  61.12   712.0     sell          1  2023-12-31   \n",
      "10 2024-01-01 00:00:17  84.33  1978.0     sell          1  2024-01-01   \n",
      "11 2024-01-01 00:02:12  77.74   539.0      buy          1  2024-01-01   \n",
      "12 2024-01-01 00:02:44  67.88  1598.0     sell          1  2024-01-01   \n",
      "13 2024-01-01 00:08:38  28.11  1718.0      buy          1  2024-01-01   \n",
      "14 2024-01-01 00:10:11  74.24    74.0     sell          1  2024-01-01   \n",
      "15 2024-01-01 00:11:04  53.61  1409.0      buy          1  2024-01-01   \n",
      "16 2024-01-01 00:11:08  50.65   154.0     sell          1  2024-01-01   \n",
      "17 2024-01-01 00:13:12  64.30    85.0      buy          1  2024-01-01   \n",
      "18 2024-01-01 00:13:56  76.83   100.0     sell          1  2024-01-01   \n",
      "19 2024-01-01 00:16:02  85.87   891.0      buy          1  2024-01-01   \n",
      "\n",
      "        Time  \n",
      "0   23:02:22  \n",
      "1   23:03:08  \n",
      "2   23:03:48  \n",
      "3   23:03:52  \n",
      "4   23:21:59  \n",
      "5   23:25:10  \n",
      "6   23:32:00  \n",
      "7   23:32:47  \n",
      "8   23:36:26  \n",
      "9   23:40:09  \n",
      "10  00:00:17  \n",
      "11  00:02:12  \n",
      "12  00:02:44  \n",
      "13  00:08:38  \n",
      "14  00:10:11  \n",
      "15  00:11:04  \n",
      "16  00:11:08  \n",
      "17  00:13:12  \n",
      "18  00:13:56  \n",
      "19  00:16:02  \n"
     ]
    }
   ],
   "source": [
    "#Creating separate columns of Date and Time from the Timestamp column\n",
    "\n",
    "def split_date_and_time(data):\n",
    "    \n",
    "    data['Timestamp'] = pd.to_datetime(data['Timestamp'], utc=True) # Ensure Timestamp is in datetime format and converted to UTC\n",
    "    data['Timestamp'] = data['Timestamp'].dt.tz_convert(None) # Convert Timestamp to timezone-naive format if needed\n",
    "    \n",
    "    data['Date'] = data['Timestamp'].dt.date #Seperating out date and time \n",
    "    data['Time'] = data['Timestamp'].dt.time  \n",
    "\n",
    "    #Considering the data values only from 2024-01-01 to 2024-01-31\n",
    "    filtered_data = sorted_energy_data[(sorted_energy_data['Date'] >= pd.to_datetime('2024-01-01').date()) &\n",
    "                                   (sorted_energy_data['Date'] <= pd.to_datetime('2024-01-31').date())]\n",
    "    \n",
    "    print(\"Sample of data with separate Date and Time columns:\")\n",
    "    print(data.head(20))\n",
    "\n",
    "    return data\n",
    "\n",
    "sorted_energy_data = split_date_and_time(sorted_energy_data)"
   ]
  },
  {
   "cell_type": "code",
   "execution_count": 10,
   "id": "7dcb156b-6628-45e8-844f-284ccfa8fcdf",
   "metadata": {},
   "outputs": [
    {
     "name": "stdout",
     "output_type": "stream",
     "text": [
      "Rows with time gaps exceeding 5 minutes:\n",
      "                Timestamp  Time_Difference\n",
      "4     2023-12-31 23:21:59        18.116667\n",
      "6     2023-12-31 23:32:00         6.833333\n",
      "10    2024-01-01 00:00:17        20.133333\n",
      "13    2024-01-01 00:08:38         5.900000\n",
      "30    2024-01-01 00:40:11         7.350000\n",
      "...                   ...              ...\n",
      "29732 2024-01-31 22:31:19         5.233333\n",
      "29753 2024-01-31 23:14:47         6.316667\n",
      "29755 2024-01-31 23:26:45         8.000000\n",
      "29759 2024-01-31 23:38:52         5.016667\n",
      "29760 2024-01-31 23:47:53         9.016667\n",
      "\n",
      "[1192 rows x 2 columns]\n"
     ]
    }
   ],
   "source": [
    "#Finding missing time values in updated database \n",
    "\n",
    "def find_missing_intervals(data):\n",
    "\n",
    "    # Calculating time differences between consecutive rows\n",
    "    data['Time_Difference'] = data['Timestamp'].diff().dt.total_seconds() / 60  # Converting the values in minutes\n",
    "    missing_intervals = data[data['Time_Difference'] > 5]  # Identify gaps greater than 5 minutes\n",
    "\n",
    "    print(\"Rows with time gaps exceeding 5 minutes:\")\n",
    "    print(missing_intervals[['Timestamp', 'Time_Difference']])\n",
    "    \n",
    "    return missing_intervals\n",
    "\n",
    "missing_intervals = find_missing_intervals(sorted_energy_data)\n"
   ]
  },
  {
   "cell_type": "code",
   "execution_count": 11,
   "id": "e8edf36c-7d69-49af-ae20-c059931b957b",
   "metadata": {},
   "outputs": [
    {
     "name": "stdout",
     "output_type": "stream",
     "text": [
      "Sample of cleaned data with interpolated rows:\n",
      "                   Timestamp   Price  Volume      Sell_Buy  Day_Index  \\\n",
      "0  2023-12-31 23:02:22+00:00  27.250  1125.0          sell          1   \n",
      "1  2023-12-31 23:03:08+00:00  55.960   882.0          sell          1   \n",
      "2  2023-12-31 23:03:48+00:00  91.000   504.0           buy          1   \n",
      "3  2023-12-31 23:03:52+00:00  23.570   979.0           buy          1   \n",
      "4  2023-12-31 23:08:52+00:00  36.930  1456.5  interpolated          1   \n",
      "5  2023-12-31 23:13:52+00:00  36.930  1456.5  interpolated          1   \n",
      "6  2023-12-31 23:18:52+00:00  36.930  1456.5  interpolated          1   \n",
      "7  2023-12-31 23:21:59+00:00  50.290  1934.0          sell          1   \n",
      "8  2023-12-31 23:25:10+00:00  66.500  1614.0           buy          1   \n",
      "9  2023-12-31 23:30:10+00:00  67.280  1462.0  interpolated          1   \n",
      "10 2023-12-31 23:32:00+00:00  68.060  1310.0          sell          1   \n",
      "11 2023-12-31 23:32:47+00:00  77.430   225.0           buy          1   \n",
      "12 2023-12-31 23:36:26+00:00  79.990  1266.0          sell          1   \n",
      "13 2023-12-31 23:40:09+00:00  61.120   712.0          sell          1   \n",
      "14 2023-12-31 23:45:09+00:00  72.725  1345.0  interpolated          1   \n",
      "15 2023-12-31 23:50:09+00:00  72.725  1345.0  interpolated          1   \n",
      "16 2023-12-31 23:55:09+00:00  72.725  1345.0  interpolated          1   \n",
      "17 2024-01-01 00:00:09+00:00  72.725  1345.0  interpolated          1   \n",
      "18 2024-01-01 00:00:17+00:00  84.330  1978.0          sell          1   \n",
      "19 2024-01-01 00:02:12+00:00  77.740   539.0           buy          1   \n",
      "\n",
      "          Date      Time  \n",
      "0   2023-12-31  23:02:22  \n",
      "1   2023-12-31  23:03:08  \n",
      "2   2023-12-31  23:03:48  \n",
      "3   2023-12-31  23:03:52  \n",
      "4          NaN       NaN  \n",
      "5          NaN       NaN  \n",
      "6          NaN       NaN  \n",
      "7   2023-12-31  23:21:59  \n",
      "8   2023-12-31  23:25:10  \n",
      "9          NaN       NaN  \n",
      "10  2023-12-31  23:32:00  \n",
      "11  2023-12-31  23:32:47  \n",
      "12  2023-12-31  23:36:26  \n",
      "13  2023-12-31  23:40:09  \n",
      "14         NaN       NaN  \n",
      "15         NaN       NaN  \n",
      "16         NaN       NaN  \n",
      "17         NaN       NaN  \n",
      "18  2024-01-01  00:00:17  \n",
      "19  2024-01-01  00:02:12  \n"
     ]
    }
   ],
   "source": [
    "#Filling the missing values in the new datsets\n",
    "\n",
    "def fill_missing_intervals(data):\n",
    "\n",
    "    data['Timestamp'] = pd.to_datetime(data['Timestamp'], utc=True)\n",
    "    data = data.sort_values(by='Timestamp').reset_index(drop=True)\n",
    "    data['Time_Difference'] = data['Timestamp'].diff().dt.total_seconds() / 60  # in minutes\n",
    "    missing_intervals = data[data['Time_Difference'] > 5]\n",
    "\n",
    "    \n",
    "    new_rows = [] # Creating a DataFrame to hold the new rows\n",
    "    \n",
    "    for index, row in missing_intervals.iterrows():\n",
    "        prev_row = data.iloc[index - 1] # getting the previous and next rows\n",
    "        next_row = row\n",
    "\n",
    "        current_time = prev_row['Timestamp'] + pd.Timedelta(minutes=5) # generating timestamps for missing intervals\n",
    "        while current_time < next_row['Timestamp']:\n",
    "            # Assuming the price and volume is calculated using the average Price and Volume\n",
    "            avg_price = (prev_row['Price'] + next_row['Price']) / 2\n",
    "            avg_volume = (prev_row['Volume'] + next_row['Volume']) / 2\n",
    "\n",
    "            # Creating a new row for the datafiling\n",
    "            new_row = {\n",
    "                'Timestamp': current_time,\n",
    "                'Price': avg_price,\n",
    "                'Volume': avg_volume,\n",
    "                'Sell_Buy': 'interpolated',  \n",
    "                'Day_Index': prev_row['Day_Index'],\n",
    "            }\n",
    "            new_rows.append(new_row)\n",
    "\n",
    "            \n",
    "            current_time += pd.Timedelta(minutes=5) # incrementing time by 5 minutes\n",
    "\n",
    "   \n",
    "    new_data = pd.DataFrame(new_rows)  # Add new rows to the original DataFrame\n",
    "    cleaned_data = pd.concat([data, new_data]).sort_values(by='Timestamp').reset_index(drop=True)\n",
    "\n",
    "    \n",
    "    cleaned_data.drop(columns=['Time_Difference'], inplace=True) # Drop the Time_Difference column\n",
    "\n",
    "    print(\"Sample of cleaned data with interpolated rows:\")\n",
    "    print(cleaned_data.head(20))\n",
    "    \n",
    "    return cleaned_data\n",
    "\n",
    "cleaned_data = fill_missing_intervals(sorted_energy_data)"
   ]
  },
  {
   "cell_type": "code",
   "execution_count": 12,
   "id": "47ab1dbf-969e-4eef-a48e-4bf01356399d",
   "metadata": {},
   "outputs": [
    {
     "name": "stdout",
     "output_type": "stream",
     "text": [
      "\n",
      "Count of rows for each day (Day_Index):\n",
      "Day 1: 997 rows\n",
      "Day 2: 979 rows\n",
      "Day 3: 998 rows\n",
      "Day 4: 987 rows\n",
      "Day 5: 1001 rows\n",
      "Day 6: 976 rows\n",
      "Day 7: 987 rows\n",
      "Day 8: 977 rows\n",
      "Day 9: 981 rows\n",
      "Day 10: 987 rows\n",
      "Day 11: 990 rows\n",
      "Day 12: 987 rows\n",
      "Day 13: 972 rows\n",
      "Day 14: 980 rows\n",
      "Day 15: 974 rows\n",
      "Day 16: 985 rows\n",
      "Day 17: 996 rows\n",
      "Day 18: 988 rows\n",
      "Day 19: 990 rows\n",
      "Day 20: 993 rows\n",
      "Day 21: 974 rows\n",
      "Day 22: 991 rows\n",
      "Day 23: 975 rows\n",
      "Day 24: 986 rows\n",
      "Day 25: 980 rows\n",
      "Day 26: 987 rows\n",
      "Day 27: 978 rows\n",
      "Day 28: 987 rows\n",
      "Day 29: 1002 rows\n",
      "Day 30: 997 rows\n",
      "Day 31: 978 rows\n"
     ]
    }
   ],
   "source": [
    "# Counting number of values in each day in cleaned datasets\n",
    "\n",
    "def count_day_index(cleaned_data):\n",
    "    day_counts = cleaned_data['Day_Index'].value_counts().sort_index()\n",
    "    \n",
    "    print(\"\\nCount of rows for each day (Day_Index):\")\n",
    "    for day, count in day_counts.items():\n",
    "        print(f\"Day {day}: {count} rows\")\n",
    "\n",
    "    return day_counts\n",
    "\n",
    "day_counts = count_day_index(cleaned_data)"
   ]
  },
  {
   "cell_type": "code",
   "execution_count": 13,
   "id": "9e4e6280-9a27-4a40-aa29-c8debfaa98e5",
   "metadata": {},
   "outputs": [
    {
     "name": "stdout",
     "output_type": "stream",
     "text": [
      "\n",
      "Data for 2023-12-31:\n",
      "                  Timestamp  Price  Volume Sell_Buy  Day_Index        Date  \\\n",
      "0 2023-12-31 23:02:22+00:00  27.25  1125.0     sell          1  2023-12-31   \n",
      "1 2023-12-31 23:03:08+00:00  55.96   882.0     sell          1  2023-12-31   \n",
      "\n",
      "       Time  \n",
      "0  23:02:22  \n",
      "1  23:03:08  \n",
      "\n",
      "Data for 2024-01-01:\n",
      "                   Timestamp   Price  Volume      Sell_Buy  Day_Index  \\\n",
      "17 2024-01-01 00:00:09+00:00  72.725  1345.0  interpolated          1   \n",
      "18 2024-01-01 00:00:17+00:00  84.330  1978.0          sell          1   \n",
      "\n",
      "          Date      Time  \n",
      "17  2024-01-01       NaN  \n",
      "18  2024-01-01  00:00:17  \n",
      "\n",
      "Data for 2024-01-02:\n",
      "                     Timestamp  Price  Volume Sell_Buy  Day_Index        Date  \\\n",
      "1001 2024-01-02 00:03:01+00:00  53.77  1486.0     sell          2  2024-01-02   \n",
      "1002 2024-01-02 00:04:45+00:00  59.70   623.0     sell          2  2024-01-02   \n",
      "\n",
      "          Time  \n",
      "1001  00:03:01  \n",
      "1002  00:04:45  \n",
      "\n",
      "Data for 2024-01-03:\n",
      "                     Timestamp  Price  Volume Sell_Buy  Day_Index        Date  \\\n",
      "1985 2024-01-03 00:01:15+00:00   73.4  1226.0     sell          3  2024-01-03   \n",
      "1986 2024-01-03 00:02:00+00:00   79.1   967.0      buy          3  2024-01-03   \n",
      "\n",
      "          Time  \n",
      "1985  00:01:15  \n",
      "1986  00:02:00  \n",
      "\n",
      "Data for 2024-01-04:\n",
      "                     Timestamp  Price  Volume Sell_Buy  Day_Index        Date  \\\n",
      "2983 2024-01-04 00:00:54+00:00  79.12  1110.0     sell          4  2024-01-04   \n",
      "2984 2024-01-04 00:01:04+00:00  29.66   757.0     sell          4  2024-01-04   \n",
      "\n",
      "          Time  \n",
      "2983  00:00:54  \n",
      "2984  00:01:04  \n",
      "\n",
      "Data for 2024-01-05:\n",
      "                     Timestamp  Price  Volume Sell_Buy  Day_Index        Date  \\\n",
      "3969 2024-01-05 00:01:35+00:00  79.08  1112.0     sell          5  2024-01-05   \n",
      "3970 2024-01-05 00:02:41+00:00  29.18  1650.0      buy          5  2024-01-05   \n",
      "\n",
      "          Time  \n",
      "3969  00:01:35  \n",
      "3970  00:02:41  \n",
      "\n",
      "Data for 2024-01-06:\n",
      "                     Timestamp  Price  Volume Sell_Buy  Day_Index        Date  \\\n",
      "4971 2024-01-06 00:00:33+00:00  52.35  1145.0     sell          6  2024-01-06   \n",
      "4972 2024-01-06 00:00:48+00:00  79.08  1305.0      buy          6  2024-01-06   \n",
      "\n",
      "          Time  \n",
      "4971  00:00:33  \n",
      "4972  00:00:48  \n",
      "\n",
      "Data for 2024-01-07:\n",
      "                     Timestamp  Price  Volume      Sell_Buy  Day_Index  \\\n",
      "5953 2024-01-07 00:01:32+00:00  77.49  1483.5  interpolated          7   \n",
      "5954 2024-01-07 00:01:44+00:00  91.65  1548.0           buy          7   \n",
      "\n",
      "            Date      Time  \n",
      "5953  2024-01-07       NaN  \n",
      "5954  2024-01-07  00:01:44  \n",
      "\n",
      "Data for 2024-01-08:\n",
      "                     Timestamp  Price  Volume Sell_Buy  Day_Index        Date  \\\n",
      "6936 2024-01-08 00:00:41+00:00  28.62  1399.0     sell          8  2024-01-08   \n",
      "6937 2024-01-08 00:01:22+00:00  78.52   807.0      buy          8  2024-01-08   \n",
      "\n",
      "          Time  \n",
      "6936  00:00:41  \n",
      "6937  00:01:22  \n",
      "\n",
      "Data for 2024-01-09:\n",
      "                     Timestamp  Price  Volume Sell_Buy  Day_Index        Date  \\\n",
      "7908 2024-01-09 00:01:50+00:00  67.98   867.0      buy          9  2024-01-09   \n",
      "7909 2024-01-09 00:04:50+00:00  69.50  1055.0     sell          9  2024-01-09   \n",
      "\n",
      "          Time  \n",
      "7908  00:01:50  \n",
      "7909  00:04:50  \n",
      "\n",
      "Data for 2024-01-10:\n",
      "                     Timestamp  Price  Volume Sell_Buy  Day_Index        Date  \\\n",
      "8888 2024-01-10 00:02:21+00:00  86.97  1720.0      buy         10  2024-01-10   \n",
      "8889 2024-01-10 00:02:26+00:00  74.69  1364.0      buy         10  2024-01-10   \n",
      "\n",
      "          Time  \n",
      "8888  00:02:21  \n",
      "8889  00:02:26  \n",
      "\n",
      "Data for 2024-01-11:\n",
      "                     Timestamp  Price  Volume Sell_Buy  Day_Index        Date  \\\n",
      "9870 2024-01-11 00:00:30+00:00  22.66  1451.0     sell         11  2024-01-11   \n",
      "9871 2024-01-11 00:00:41+00:00  79.59   259.0     sell         11  2024-01-11   \n",
      "\n",
      "          Time  \n",
      "9870  00:00:30  \n",
      "9871  00:00:41  \n",
      "\n",
      "Data for 2024-01-12:\n",
      "                      Timestamp  Price  Volume Sell_Buy  Day_Index  \\\n",
      "10872 2024-01-12 00:00:46+00:00  47.91  1118.0     sell         12   \n",
      "10873 2024-01-12 00:01:11+00:00  52.42   126.0      buy         12   \n",
      "\n",
      "             Date      Time  \n",
      "10872  2024-01-12  00:00:46  \n",
      "10873  2024-01-12  00:01:11  \n",
      "\n",
      "Data for 2024-01-13:\n",
      "                      Timestamp  Price  Volume Sell_Buy  Day_Index  \\\n",
      "11852 2024-01-13 00:00:08+00:00  56.37   610.0     sell         13   \n",
      "11853 2024-01-13 00:03:14+00:00  48.59  1070.0     sell         13   \n",
      "\n",
      "             Date      Time  \n",
      "11852  2024-01-13  00:00:08  \n",
      "11853  2024-01-13  00:03:14  \n",
      "\n",
      "Data for 2024-01-14:\n",
      "                      Timestamp  Price  Volume Sell_Buy  Day_Index  \\\n",
      "12825 2024-01-14 00:00:43+00:00  78.61   498.0      buy         14   \n",
      "12826 2024-01-14 00:01:03+00:00  76.61  1591.0      buy         14   \n",
      "\n",
      "             Date      Time  \n",
      "12825  2024-01-14  00:00:43  \n",
      "12826  2024-01-14  00:01:03  \n",
      "\n",
      "Data for 2024-01-15:\n",
      "                      Timestamp  Price  Volume Sell_Buy  Day_Index  \\\n",
      "13810 2024-01-15 00:01:24+00:00  75.65   730.0     sell         15   \n",
      "13811 2024-01-15 00:03:25+00:00  87.38   667.0      buy         15   \n",
      "\n",
      "             Date      Time  \n",
      "13810  2024-01-15  00:01:24  \n",
      "13811  2024-01-15  00:03:25  \n",
      "\n",
      "Data for 2024-01-16:\n",
      "                      Timestamp  Price  Volume Sell_Buy  Day_Index  \\\n",
      "14785 2024-01-16 00:01:31+00:00  71.04  1985.0     sell         16   \n",
      "14786 2024-01-16 00:02:28+00:00  48.95   124.0     sell         16   \n",
      "\n",
      "             Date      Time  \n",
      "14785  2024-01-16  00:01:31  \n",
      "14786  2024-01-16  00:02:28  \n",
      "\n",
      "Data for 2024-01-17:\n",
      "                      Timestamp  Price  Volume Sell_Buy  Day_Index  \\\n",
      "15766 2024-01-17 00:00:57+00:00  90.33   970.0      buy         17   \n",
      "15767 2024-01-17 00:00:58+00:00  71.54   141.0     sell         17   \n",
      "\n",
      "             Date      Time  \n",
      "15766  2024-01-17  00:00:57  \n",
      "15767  2024-01-17  00:00:58  \n",
      "\n",
      "Data for 2024-01-18:\n",
      "                      Timestamp  Price  Volume Sell_Buy  Day_Index  \\\n",
      "16760 2024-01-18 00:00:57+00:00  40.87  1630.0     sell         18   \n",
      "16761 2024-01-18 00:01:27+00:00  72.49  1472.0      buy         18   \n",
      "\n",
      "             Date      Time  \n",
      "16760  2024-01-18  00:00:57  \n",
      "16761  2024-01-18  00:01:27  \n",
      "\n",
      "Data for 2024-01-19:\n",
      "                      Timestamp   Price  Volume      Sell_Buy  Day_Index  \\\n",
      "17751 2024-01-19 00:00:46+00:00  89.410  1722.0          sell         19   \n",
      "17752 2024-01-19 00:05:46+00:00  82.915  1130.0  interpolated         19   \n",
      "\n",
      "             Date      Time  \n",
      "17751  2024-01-19  00:00:46  \n",
      "17752  2024-01-19       NaN  \n",
      "\n",
      "Data for 2024-01-20:\n",
      "                      Timestamp  Price  Volume Sell_Buy  Day_Index  \\\n",
      "18740 2024-01-20 00:00:05+00:00  87.62   129.0     sell         20   \n",
      "18741 2024-01-20 00:01:09+00:00  36.23   573.0      buy         20   \n",
      "\n",
      "             Date      Time  \n",
      "18740  2024-01-20  00:00:05  \n",
      "18741  2024-01-20  00:01:09  \n",
      "\n",
      "Data for 2024-01-21:\n",
      "                      Timestamp  Price  Volume Sell_Buy  Day_Index  \\\n",
      "19730 2024-01-21 00:00:44+00:00  44.98  1118.0      buy         21   \n",
      "19731 2024-01-21 00:00:49+00:00  46.93   757.0     sell         21   \n",
      "\n",
      "             Date      Time  \n",
      "19730  2024-01-21  00:00:44  \n",
      "19731  2024-01-21  00:00:49  \n",
      "\n",
      "Data for 2024-01-22:\n",
      "                      Timestamp  Price  Volume Sell_Buy  Day_Index  \\\n",
      "20709 2024-01-22 00:01:06+00:00  21.02   146.0      buy         22   \n",
      "20710 2024-01-22 00:01:58+00:00  35.41   533.0      buy         22   \n",
      "\n",
      "             Date      Time  \n",
      "20709  2024-01-22  00:01:06  \n",
      "20710  2024-01-22  00:01:58  \n",
      "\n",
      "Data for 2024-01-23:\n",
      "                      Timestamp   Price  Volume      Sell_Buy  Day_Index  \\\n",
      "21701 2024-01-23 00:01:40+00:00  49.780  1607.0          sell         23   \n",
      "21702 2024-01-23 00:06:40+00:00  48.395  1186.5  interpolated         23   \n",
      "\n",
      "             Date      Time  \n",
      "21701  2024-01-23  00:01:40  \n",
      "21702  2024-01-23       NaN  \n",
      "\n",
      "Data for 2024-01-24:\n",
      "                      Timestamp  Price  Volume Sell_Buy  Day_Index  \\\n",
      "22677 2024-01-24 00:01:41+00:00  78.13  1259.0     sell         24   \n",
      "22678 2024-01-24 00:05:26+00:00  98.77  1158.0     sell         24   \n",
      "\n",
      "             Date      Time  \n",
      "22677  2024-01-24  00:01:41  \n",
      "22678  2024-01-24  00:05:26  \n",
      "\n",
      "Data for 2024-01-25:\n",
      "                      Timestamp  Price  Volume Sell_Buy  Day_Index  \\\n",
      "23654 2024-01-25 00:00:35+00:00  56.62   636.0     sell         25   \n",
      "23655 2024-01-25 00:03:19+00:00  34.61  1121.0     sell         25   \n",
      "\n",
      "             Date      Time  \n",
      "23654  2024-01-25  00:00:35  \n",
      "23655  2024-01-25  00:03:19  \n",
      "\n",
      "Data for 2024-01-26:\n",
      "                      Timestamp  Price  Volume Sell_Buy  Day_Index  \\\n",
      "24636 2024-01-26 00:00:29+00:00  47.90  1928.0      buy         26   \n",
      "24637 2024-01-26 00:01:09+00:00  21.71  1765.0      buy         26   \n",
      "\n",
      "             Date      Time  \n",
      "24636  2024-01-26  00:00:29  \n",
      "24637  2024-01-26  00:01:09  \n",
      "\n",
      "Data for 2024-01-27:\n",
      "                      Timestamp  Price  Volume Sell_Buy  Day_Index  \\\n",
      "25627 2024-01-27 00:00:45+00:00  27.13   194.0     sell         27   \n",
      "25628 2024-01-27 00:01:07+00:00  65.50  1226.0     sell         27   \n",
      "\n",
      "             Date      Time  \n",
      "25627  2024-01-27  00:00:45  \n",
      "25628  2024-01-27  00:01:07  \n",
      "\n",
      "Data for 2024-01-28:\n",
      "                      Timestamp  Price  Volume Sell_Buy  Day_Index  \\\n",
      "26601 2024-01-28 00:03:03+00:00  84.62   498.0      buy         28   \n",
      "26602 2024-01-28 00:03:08+00:00  26.24  1304.0      buy         28   \n",
      "\n",
      "             Date      Time  \n",
      "26601  2024-01-28  00:03:03  \n",
      "26602  2024-01-28  00:03:08  \n",
      "\n",
      "Data for 2024-01-29:\n",
      "                      Timestamp  Price  Volume Sell_Buy  Day_Index  \\\n",
      "27587 2024-01-29 00:01:15+00:00  36.81  1827.0     sell         29   \n",
      "27588 2024-01-29 00:02:21+00:00  44.78   136.0     sell         29   \n",
      "\n",
      "             Date      Time  \n",
      "27587  2024-01-29  00:01:15  \n",
      "27588  2024-01-29  00:02:21  \n",
      "\n",
      "Data for 2024-01-30:\n",
      "                      Timestamp  Price  Volume Sell_Buy  Day_Index  \\\n",
      "28592 2024-01-30 00:00:06+00:00  37.19  1590.0     sell         30   \n",
      "28593 2024-01-30 00:03:47+00:00  35.53  1135.0      buy         30   \n",
      "\n",
      "             Date      Time  \n",
      "28592  2024-01-30  00:00:06  \n",
      "28593  2024-01-30  00:03:47  \n",
      "\n",
      "Data for 2024-01-31:\n",
      "                      Timestamp  Price  Volume Sell_Buy  Day_Index  \\\n",
      "29592 2024-01-31 00:03:10+00:00  24.63   648.0     sell         31   \n",
      "29593 2024-01-31 00:04:14+00:00  96.93  1777.0      buy         31   \n",
      "\n",
      "             Date      Time  \n",
      "29592  2024-01-31  00:03:10  \n",
      "29593  2024-01-31  00:04:14  \n"
     ]
    }
   ],
   "source": [
    "#Spiliting the cleaned datasets into daily datasets\n",
    "\n",
    "def split_data_by_day(cleaned_data):\n",
    "  \n",
    "    cleaned_data['Timestamp'] = pd.to_datetime(cleaned_data['Timestamp'], utc=True)\n",
    "    cleaned_data['Date'] = cleaned_data['Timestamp'].dt.date\n",
    "    grouped_data = {day: group for day, group in cleaned_data.groupby('Date')}\n",
    "\n",
    "    for day, group in grouped_data.items():\n",
    "        print(f\"\\nData for {day}:\")\n",
    "        print(group.head(2))\n",
    "\n",
    "    return grouped_data\n",
    "\n",
    "\n",
    "daily_data = split_data_by_day(cleaned_data)\n"
   ]
  },
  {
   "cell_type": "code",
   "execution_count": 14,
   "id": "2df86058-1b82-401f-b095-5c40fb77ee9f",
   "metadata": {},
   "outputs": [
    {
     "name": "stdout",
     "output_type": "stream",
     "text": [
      "Saved data for 2023-12-31 as processed_data/2023-12-31.parquet\n",
      "Saved data for 2024-01-01 as processed_data/2024-01-01.parquet\n",
      "Saved data for 2024-01-02 as processed_data/2024-01-02.parquet\n",
      "Saved data for 2024-01-03 as processed_data/2024-01-03.parquet\n",
      "Saved data for 2024-01-04 as processed_data/2024-01-04.parquet\n",
      "Saved data for 2024-01-05 as processed_data/2024-01-05.parquet\n",
      "Saved data for 2024-01-06 as processed_data/2024-01-06.parquet\n",
      "Saved data for 2024-01-07 as processed_data/2024-01-07.parquet\n",
      "Saved data for 2024-01-08 as processed_data/2024-01-08.parquet\n",
      "Saved data for 2024-01-09 as processed_data/2024-01-09.parquet\n",
      "Saved data for 2024-01-10 as processed_data/2024-01-10.parquet\n",
      "Saved data for 2024-01-11 as processed_data/2024-01-11.parquet\n",
      "Saved data for 2024-01-12 as processed_data/2024-01-12.parquet\n",
      "Saved data for 2024-01-13 as processed_data/2024-01-13.parquet\n",
      "Saved data for 2024-01-14 as processed_data/2024-01-14.parquet\n",
      "Saved data for 2024-01-15 as processed_data/2024-01-15.parquet\n",
      "Saved data for 2024-01-16 as processed_data/2024-01-16.parquet\n",
      "Saved data for 2024-01-17 as processed_data/2024-01-17.parquet\n",
      "Saved data for 2024-01-18 as processed_data/2024-01-18.parquet\n",
      "Saved data for 2024-01-19 as processed_data/2024-01-19.parquet\n",
      "Saved data for 2024-01-20 as processed_data/2024-01-20.parquet\n",
      "Saved data for 2024-01-21 as processed_data/2024-01-21.parquet\n",
      "Saved data for 2024-01-22 as processed_data/2024-01-22.parquet\n",
      "Saved data for 2024-01-23 as processed_data/2024-01-23.parquet\n",
      "Saved data for 2024-01-24 as processed_data/2024-01-24.parquet\n",
      "Saved data for 2024-01-25 as processed_data/2024-01-25.parquet\n",
      "Saved data for 2024-01-26 as processed_data/2024-01-26.parquet\n",
      "Saved data for 2024-01-27 as processed_data/2024-01-27.parquet\n",
      "Saved data for 2024-01-28 as processed_data/2024-01-28.parquet\n",
      "Saved data for 2024-01-29 as processed_data/2024-01-29.parquet\n",
      "Saved data for 2024-01-30 as processed_data/2024-01-30.parquet\n",
      "Saved data for 2024-01-31 as processed_data/2024-01-31.parquet\n"
     ]
    }
   ],
   "source": [
    "# Creating an output data in the name of processed data\n",
    "output_folder = 'processed_data'\n",
    "if not os.path.exists(output_folder):\n",
    "    os.makedirs(output_folder)\n",
    "\n",
    "\n",
    "# Function to split data by day and save each day's data as a Parquet file\n",
    "def save_daily_parquet(cleaned_data, output_folder):\n",
    "    cleaned_data['Date'] = cleaned_data['Timestamp'].dt.date\n",
    "    grouped_data = cleaned_data.groupby('Date')\n",
    "\n",
    "    # Looping through each group and save as Parquet file\n",
    "    for day, group in grouped_data: \n",
    "        filename = f\"{output_folder}/{day}.parquet\"\n",
    "        group.to_parquet(filename, index=False)\n",
    "        print(f\"Saved data for {day} as {filename}\")\n",
    "\n",
    "save_daily_parquet(cleaned_data, output_folder)\n"
   ]
  },
  {
   "cell_type": "code",
   "execution_count": 15,
   "id": "c81b6cfc-c42a-4ddf-b5e1-9164877f5db8",
   "metadata": {},
   "outputs": [
    {
     "data": {
      "text/html": [
       "<pre style=\"white-space:pre;overflow-x:auto;line-height:normal;font-family:Menlo,'DejaVu Sans Mono',consolas,'Courier New',monospace\"><span style=\"color: #808000; text-decoration-color: #808000; font-weight: bold\">C:\\Users\\Pavillon Plus\\AppData\\Local\\Temp\\ipykernel_15452\\</span><span style=\"color: #808000; text-decoration-color: #808000; font-weight: bold\">1448036441.</span><span style=\"color: #808000; text-decoration-color: #808000; font-weight: bold\">py:</span><span style=\"color: #808000; text-decoration-color: #808000; font-weight: bold\">12</span><span style=\"color: #808000; text-decoration-color: #808000; font-weight: bold\"> FutureWarning</span><span style=\"color: #808000; text-decoration-color: #808000\">: </span><span style=\"color: #808000; text-decoration-color: #808000\">'H'</span><span style=\"color: #808000; text-decoration-color: #808000\"> is deprecated and will be removed in a future version, please use </span><span style=\"color: #808000; text-decoration-color: #808000\">'h'</span><span style=\"color: #808000; text-decoration-color: #808000\"> instead.</span>\n",
       "</pre>\n"
      ],
      "text/plain": [
       "\u001b[1;33mC:\\Users\\Pavillon Plus\\AppData\\Local\\Temp\\ipykernel_15452\\\u001b[0m\u001b[1;33m1448036441.\u001b[0m\u001b[1;33mpy:\u001b[0m\u001b[1;33m12\u001b[0m\u001b[1;33m FutureWarning\u001b[0m\u001b[33m: \u001b[0m\u001b[33m'H'\u001b[0m\u001b[33m is deprecated and will be removed in a future version, please use \u001b[0m\u001b[33m'h'\u001b[0m\u001b[33m instead.\u001b[0m\n"
      ]
     },
     "metadata": {},
     "output_type": "display_data"
    },
    {
     "data": {
      "text/html": [
       "<pre style=\"white-space:pre;overflow-x:auto;line-height:normal;font-family:Menlo,'DejaVu Sans Mono',consolas,'Courier New',monospace\"><span style=\"color: #808000; text-decoration-color: #808000; font-weight: bold\">C:\\Users\\Pavillon Plus\\AppData\\Local\\Temp\\ipykernel_15452\\</span><span style=\"color: #808000; text-decoration-color: #808000; font-weight: bold\">1448036441.</span><span style=\"color: #808000; text-decoration-color: #808000; font-weight: bold\">py:</span><span style=\"color: #808000; text-decoration-color: #808000; font-weight: bold\">30</span><span style=\"color: #808000; text-decoration-color: #808000; font-weight: bold\"> DeprecationWarning</span><span style=\"color: #808000; text-decoration-color: #808000\">: DataFrameGroupBy.apply operated on the grouping columns. This behavior is deprecated, and in a future version of pandas the grouping columns will be excluded from the operation. Either pass `</span><span style=\"color: #808000; text-decoration-color: #808000\">include_groups</span><span style=\"color: #808000; text-decoration-color: #808000\">=</span><span style=\"color: #808000; text-decoration-color: #808000; font-style: italic\">False</span><span style=\"color: #808000; text-decoration-color: #808000\">` to exclude the groupings or explicitly select the grouping columns after groupby to silence this warning.</span>\n",
       "</pre>\n"
      ],
      "text/plain": [
       "\u001b[1;33mC:\\Users\\Pavillon Plus\\AppData\\Local\\Temp\\ipykernel_15452\\\u001b[0m\u001b[1;33m1448036441.\u001b[0m\u001b[1;33mpy:\u001b[0m\u001b[1;33m30\u001b[0m\u001b[1;33m DeprecationWarning\u001b[0m\u001b[33m: DataFrameGroupBy.apply operated on the grouping columns. This behavior is deprecated, and in a future version of pandas the grouping columns will be excluded from the operation. Either pass `\u001b[0m\u001b[33minclude_groups\u001b[0m\u001b[33m=\u001b[0m\u001b[3;33mFalse\u001b[0m\u001b[33m` to exclude the groupings or explicitly select the grouping columns after groupby to silence this warning.\u001b[0m\n"
      ]
     },
     "metadata": {},
     "output_type": "display_data"
    },
    {
     "data": {
      "text/html": [
       "<pre style=\"white-space:pre;overflow-x:auto;line-height:normal;font-family:Menlo,'DejaVu Sans Mono',consolas,'Courier New',monospace\"><span style=\"color: #808000; text-decoration-color: #808000; font-weight: bold\">C:\\Users\\Pavillon Plus\\AppData\\Local\\Temp\\ipykernel_15452\\</span><span style=\"color: #808000; text-decoration-color: #808000; font-weight: bold\">1448036441.</span><span style=\"color: #808000; text-decoration-color: #808000; font-weight: bold\">py:</span><span style=\"color: #808000; text-decoration-color: #808000; font-weight: bold\">45</span><span style=\"color: #808000; text-decoration-color: #808000; font-weight: bold\"> DeprecationWarning</span><span style=\"color: #808000; text-decoration-color: #808000\">: DataFrameGroupBy.apply operated on the grouping columns. This behavior is deprecated, and in a future version of pandas the grouping columns will be excluded from the operation. Either pass `</span><span style=\"color: #808000; text-decoration-color: #808000\">include_groups</span><span style=\"color: #808000; text-decoration-color: #808000\">=</span><span style=\"color: #808000; text-decoration-color: #808000; font-style: italic\">False</span><span style=\"color: #808000; text-decoration-color: #808000\">` to exclude the groupings or explicitly select the grouping columns after groupby to silence this warning.</span>\n",
       "</pre>\n"
      ],
      "text/plain": [
       "\u001b[1;33mC:\\Users\\Pavillon Plus\\AppData\\Local\\Temp\\ipykernel_15452\\\u001b[0m\u001b[1;33m1448036441.\u001b[0m\u001b[1;33mpy:\u001b[0m\u001b[1;33m45\u001b[0m\u001b[1;33m DeprecationWarning\u001b[0m\u001b[33m: DataFrameGroupBy.apply operated on the grouping columns. This behavior is deprecated, and in a future version of pandas the grouping columns will be excluded from the operation. Either pass `\u001b[0m\u001b[33minclude_groups\u001b[0m\u001b[33m=\u001b[0m\u001b[3;33mFalse\u001b[0m\u001b[33m` to exclude the groupings or explicitly select the grouping columns after groupby to silence this warning.\u001b[0m\n"
      ]
     },
     "metadata": {},
     "output_type": "display_data"
    },
    {
     "name": "stdout",
     "output_type": "stream",
     "text": [
      "Hourly aggregates saved to: hourly_aggregates\\hourly_2023-12-31.parquet\n",
      "Processing file: 2023-12-31.parquet\n",
      "                       Hour  avg_sell_price  min_sell_price  max_sell_price  \\\n",
      "0 2023-12-31 23:00:00+00:00       57.111667           27.25           79.99   \n",
      "\n",
      "   total_sell_volume  sell_vwap  avg_buy_price  min_buy_price  max_buy_price  \\\n",
      "0             7229.0  56.884384         64.625          23.57           91.0   \n",
      "\n",
      "   total_buy_volume   buy_vwap  \n",
      "0            3322.0  58.305774  \n"
     ]
    },
    {
     "data": {
      "text/html": [
       "<pre style=\"white-space:pre;overflow-x:auto;line-height:normal;font-family:Menlo,'DejaVu Sans Mono',consolas,'Courier New',monospace\"><span style=\"color: #808000; text-decoration-color: #808000; font-weight: bold\">C:\\Users\\Pavillon Plus\\AppData\\Local\\Temp\\ipykernel_15452\\</span><span style=\"color: #808000; text-decoration-color: #808000; font-weight: bold\">1448036441.</span><span style=\"color: #808000; text-decoration-color: #808000; font-weight: bold\">py:</span><span style=\"color: #808000; text-decoration-color: #808000; font-weight: bold\">12</span><span style=\"color: #808000; text-decoration-color: #808000; font-weight: bold\"> FutureWarning</span><span style=\"color: #808000; text-decoration-color: #808000\">: </span><span style=\"color: #808000; text-decoration-color: #808000\">'H'</span><span style=\"color: #808000; text-decoration-color: #808000\"> is deprecated and will be removed in a future version, please use </span><span style=\"color: #808000; text-decoration-color: #808000\">'h'</span><span style=\"color: #808000; text-decoration-color: #808000\"> instead.</span>\n",
       "</pre>\n"
      ],
      "text/plain": [
       "\u001b[1;33mC:\\Users\\Pavillon Plus\\AppData\\Local\\Temp\\ipykernel_15452\\\u001b[0m\u001b[1;33m1448036441.\u001b[0m\u001b[1;33mpy:\u001b[0m\u001b[1;33m12\u001b[0m\u001b[1;33m FutureWarning\u001b[0m\u001b[33m: \u001b[0m\u001b[33m'H'\u001b[0m\u001b[33m is deprecated and will be removed in a future version, please use \u001b[0m\u001b[33m'h'\u001b[0m\u001b[33m instead.\u001b[0m\n"
      ]
     },
     "metadata": {},
     "output_type": "display_data"
    },
    {
     "data": {
      "text/html": [
       "<pre style=\"white-space:pre;overflow-x:auto;line-height:normal;font-family:Menlo,'DejaVu Sans Mono',consolas,'Courier New',monospace\"><span style=\"color: #808000; text-decoration-color: #808000; font-weight: bold\">C:\\Users\\Pavillon Plus\\AppData\\Local\\Temp\\ipykernel_15452\\</span><span style=\"color: #808000; text-decoration-color: #808000; font-weight: bold\">1448036441.</span><span style=\"color: #808000; text-decoration-color: #808000; font-weight: bold\">py:</span><span style=\"color: #808000; text-decoration-color: #808000; font-weight: bold\">30</span><span style=\"color: #808000; text-decoration-color: #808000; font-weight: bold\"> DeprecationWarning</span><span style=\"color: #808000; text-decoration-color: #808000\">: DataFrameGroupBy.apply operated on the grouping columns. This behavior is deprecated, and in a future version of pandas the grouping columns will be excluded from the operation. Either pass `</span><span style=\"color: #808000; text-decoration-color: #808000\">include_groups</span><span style=\"color: #808000; text-decoration-color: #808000\">=</span><span style=\"color: #808000; text-decoration-color: #808000; font-style: italic\">False</span><span style=\"color: #808000; text-decoration-color: #808000\">` to exclude the groupings or explicitly select the grouping columns after groupby to silence this warning.</span>\n",
       "</pre>\n"
      ],
      "text/plain": [
       "\u001b[1;33mC:\\Users\\Pavillon Plus\\AppData\\Local\\Temp\\ipykernel_15452\\\u001b[0m\u001b[1;33m1448036441.\u001b[0m\u001b[1;33mpy:\u001b[0m\u001b[1;33m30\u001b[0m\u001b[1;33m DeprecationWarning\u001b[0m\u001b[33m: DataFrameGroupBy.apply operated on the grouping columns. This behavior is deprecated, and in a future version of pandas the grouping columns will be excluded from the operation. Either pass `\u001b[0m\u001b[33minclude_groups\u001b[0m\u001b[33m=\u001b[0m\u001b[3;33mFalse\u001b[0m\u001b[33m` to exclude the groupings or explicitly select the grouping columns after groupby to silence this warning.\u001b[0m\n"
      ]
     },
     "metadata": {},
     "output_type": "display_data"
    },
    {
     "data": {
      "text/html": [
       "<pre style=\"white-space:pre;overflow-x:auto;line-height:normal;font-family:Menlo,'DejaVu Sans Mono',consolas,'Courier New',monospace\"><span style=\"color: #808000; text-decoration-color: #808000; font-weight: bold\">C:\\Users\\Pavillon Plus\\AppData\\Local\\Temp\\ipykernel_15452\\</span><span style=\"color: #808000; text-decoration-color: #808000; font-weight: bold\">1448036441.</span><span style=\"color: #808000; text-decoration-color: #808000; font-weight: bold\">py:</span><span style=\"color: #808000; text-decoration-color: #808000; font-weight: bold\">45</span><span style=\"color: #808000; text-decoration-color: #808000; font-weight: bold\"> DeprecationWarning</span><span style=\"color: #808000; text-decoration-color: #808000\">: DataFrameGroupBy.apply operated on the grouping columns. This behavior is deprecated, and in a future version of pandas the grouping columns will be excluded from the operation. Either pass `</span><span style=\"color: #808000; text-decoration-color: #808000\">include_groups</span><span style=\"color: #808000; text-decoration-color: #808000\">=</span><span style=\"color: #808000; text-decoration-color: #808000; font-style: italic\">False</span><span style=\"color: #808000; text-decoration-color: #808000\">` to exclude the groupings or explicitly select the grouping columns after groupby to silence this warning.</span>\n",
       "</pre>\n"
      ],
      "text/plain": [
       "\u001b[1;33mC:\\Users\\Pavillon Plus\\AppData\\Local\\Temp\\ipykernel_15452\\\u001b[0m\u001b[1;33m1448036441.\u001b[0m\u001b[1;33mpy:\u001b[0m\u001b[1;33m45\u001b[0m\u001b[1;33m DeprecationWarning\u001b[0m\u001b[33m: DataFrameGroupBy.apply operated on the grouping columns. This behavior is deprecated, and in a future version of pandas the grouping columns will be excluded from the operation. Either pass `\u001b[0m\u001b[33minclude_groups\u001b[0m\u001b[33m=\u001b[0m\u001b[3;33mFalse\u001b[0m\u001b[33m` to exclude the groupings or explicitly select the grouping columns after groupby to silence this warning.\u001b[0m\n"
      ]
     },
     "metadata": {},
     "output_type": "display_data"
    },
    {
     "name": "stdout",
     "output_type": "stream",
     "text": [
      "Hourly aggregates saved to: hourly_aggregates\\hourly_2024-01-01.parquet\n",
      "Processing file: 2024-01-01.parquet\n",
      "                       Hour  avg_sell_price  min_sell_price  max_sell_price  \\\n",
      "0 2024-01-01 00:00:00+00:00       69.057647           32.77           93.75   \n",
      "1 2024-01-01 01:00:00+00:00       62.038095           24.10           96.01   \n",
      "2 2024-01-01 02:00:00+00:00       59.015455           22.66           99.07   \n",
      "3 2024-01-01 03:00:00+00:00       61.728750           20.22           95.15   \n",
      "4 2024-01-01 04:00:00+00:00       63.376111           21.35           99.79   \n",
      "\n",
      "   total_sell_volume  sell_vwap  avg_buy_price  min_buy_price  max_buy_price  \\\n",
      "0            18048.0  71.424473      64.256667          28.11          92.32   \n",
      "1            25560.0  63.422583      63.526364          20.87          99.26   \n",
      "2            47456.0  81.701268      57.799474          22.69          95.68   \n",
      "3            49609.0  84.670176      59.478889          24.95          99.26   \n",
      "4            18588.0  57.680352      68.102222          38.41          96.01   \n",
      "\n",
      "   total_buy_volume   buy_vwap  \n",
      "0           83478.0  71.786155  \n",
      "1           23443.0  64.431116  \n",
      "2           18509.0  56.772886  \n",
      "3           66018.0  74.967419  \n",
      "4           42404.0  55.834881  \n"
     ]
    },
    {
     "data": {
      "text/html": [
       "<pre style=\"white-space:pre;overflow-x:auto;line-height:normal;font-family:Menlo,'DejaVu Sans Mono',consolas,'Courier New',monospace\"><span style=\"color: #808000; text-decoration-color: #808000; font-weight: bold\">C:\\Users\\Pavillon Plus\\AppData\\Local\\Temp\\ipykernel_15452\\</span><span style=\"color: #808000; text-decoration-color: #808000; font-weight: bold\">1448036441.</span><span style=\"color: #808000; text-decoration-color: #808000; font-weight: bold\">py:</span><span style=\"color: #808000; text-decoration-color: #808000; font-weight: bold\">12</span><span style=\"color: #808000; text-decoration-color: #808000; font-weight: bold\"> FutureWarning</span><span style=\"color: #808000; text-decoration-color: #808000\">: </span><span style=\"color: #808000; text-decoration-color: #808000\">'H'</span><span style=\"color: #808000; text-decoration-color: #808000\"> is deprecated and will be removed in a future version, please use </span><span style=\"color: #808000; text-decoration-color: #808000\">'h'</span><span style=\"color: #808000; text-decoration-color: #808000\"> instead.</span>\n",
       "</pre>\n"
      ],
      "text/plain": [
       "\u001b[1;33mC:\\Users\\Pavillon Plus\\AppData\\Local\\Temp\\ipykernel_15452\\\u001b[0m\u001b[1;33m1448036441.\u001b[0m\u001b[1;33mpy:\u001b[0m\u001b[1;33m12\u001b[0m\u001b[1;33m FutureWarning\u001b[0m\u001b[33m: \u001b[0m\u001b[33m'H'\u001b[0m\u001b[33m is deprecated and will be removed in a future version, please use \u001b[0m\u001b[33m'h'\u001b[0m\u001b[33m instead.\u001b[0m\n"
      ]
     },
     "metadata": {},
     "output_type": "display_data"
    },
    {
     "data": {
      "text/html": [
       "<pre style=\"white-space:pre;overflow-x:auto;line-height:normal;font-family:Menlo,'DejaVu Sans Mono',consolas,'Courier New',monospace\"><span style=\"color: #808000; text-decoration-color: #808000; font-weight: bold\">C:\\Users\\Pavillon Plus\\AppData\\Local\\Temp\\ipykernel_15452\\</span><span style=\"color: #808000; text-decoration-color: #808000; font-weight: bold\">1448036441.</span><span style=\"color: #808000; text-decoration-color: #808000; font-weight: bold\">py:</span><span style=\"color: #808000; text-decoration-color: #808000; font-weight: bold\">30</span><span style=\"color: #808000; text-decoration-color: #808000; font-weight: bold\"> DeprecationWarning</span><span style=\"color: #808000; text-decoration-color: #808000\">: DataFrameGroupBy.apply operated on the grouping columns. This behavior is deprecated, and in a future version of pandas the grouping columns will be excluded from the operation. Either pass `</span><span style=\"color: #808000; text-decoration-color: #808000\">include_groups</span><span style=\"color: #808000; text-decoration-color: #808000\">=</span><span style=\"color: #808000; text-decoration-color: #808000; font-style: italic\">False</span><span style=\"color: #808000; text-decoration-color: #808000\">` to exclude the groupings or explicitly select the grouping columns after groupby to silence this warning.</span>\n",
       "</pre>\n"
      ],
      "text/plain": [
       "\u001b[1;33mC:\\Users\\Pavillon Plus\\AppData\\Local\\Temp\\ipykernel_15452\\\u001b[0m\u001b[1;33m1448036441.\u001b[0m\u001b[1;33mpy:\u001b[0m\u001b[1;33m30\u001b[0m\u001b[1;33m DeprecationWarning\u001b[0m\u001b[33m: DataFrameGroupBy.apply operated on the grouping columns. This behavior is deprecated, and in a future version of pandas the grouping columns will be excluded from the operation. Either pass `\u001b[0m\u001b[33minclude_groups\u001b[0m\u001b[33m=\u001b[0m\u001b[3;33mFalse\u001b[0m\u001b[33m` to exclude the groupings or explicitly select the grouping columns after groupby to silence this warning.\u001b[0m\n"
      ]
     },
     "metadata": {},
     "output_type": "display_data"
    },
    {
     "data": {
      "text/html": [
       "<pre style=\"white-space:pre;overflow-x:auto;line-height:normal;font-family:Menlo,'DejaVu Sans Mono',consolas,'Courier New',monospace\"><span style=\"color: #808000; text-decoration-color: #808000; font-weight: bold\">C:\\Users\\Pavillon Plus\\AppData\\Local\\Temp\\ipykernel_15452\\</span><span style=\"color: #808000; text-decoration-color: #808000; font-weight: bold\">1448036441.</span><span style=\"color: #808000; text-decoration-color: #808000; font-weight: bold\">py:</span><span style=\"color: #808000; text-decoration-color: #808000; font-weight: bold\">45</span><span style=\"color: #808000; text-decoration-color: #808000; font-weight: bold\"> DeprecationWarning</span><span style=\"color: #808000; text-decoration-color: #808000\">: DataFrameGroupBy.apply operated on the grouping columns. This behavior is deprecated, and in a future version of pandas the grouping columns will be excluded from the operation. Either pass `</span><span style=\"color: #808000; text-decoration-color: #808000\">include_groups</span><span style=\"color: #808000; text-decoration-color: #808000\">=</span><span style=\"color: #808000; text-decoration-color: #808000; font-style: italic\">False</span><span style=\"color: #808000; text-decoration-color: #808000\">` to exclude the groupings or explicitly select the grouping columns after groupby to silence this warning.</span>\n",
       "</pre>\n"
      ],
      "text/plain": [
       "\u001b[1;33mC:\\Users\\Pavillon Plus\\AppData\\Local\\Temp\\ipykernel_15452\\\u001b[0m\u001b[1;33m1448036441.\u001b[0m\u001b[1;33mpy:\u001b[0m\u001b[1;33m45\u001b[0m\u001b[1;33m DeprecationWarning\u001b[0m\u001b[33m: DataFrameGroupBy.apply operated on the grouping columns. This behavior is deprecated, and in a future version of pandas the grouping columns will be excluded from the operation. Either pass `\u001b[0m\u001b[33minclude_groups\u001b[0m\u001b[33m=\u001b[0m\u001b[3;33mFalse\u001b[0m\u001b[33m` to exclude the groupings or explicitly select the grouping columns after groupby to silence this warning.\u001b[0m\n"
      ]
     },
     "metadata": {},
     "output_type": "display_data"
    },
    {
     "name": "stdout",
     "output_type": "stream",
     "text": [
      "Hourly aggregates saved to: hourly_aggregates\\hourly_2024-01-02.parquet\n",
      "Processing file: 2024-01-02.parquet\n",
      "                       Hour  avg_sell_price  min_sell_price  max_sell_price  \\\n",
      "0 2024-01-02 00:00:00+00:00       63.443200           23.09           99.82   \n",
      "1 2024-01-02 01:00:00+00:00       57.076667           31.22           97.56   \n",
      "2 2024-01-02 02:00:00+00:00       65.724615           30.62           91.31   \n",
      "3 2024-01-02 03:00:00+00:00       55.933158           20.68           99.92   \n",
      "4 2024-01-02 04:00:00+00:00       52.630417           20.24           97.61   \n",
      "\n",
      "   total_sell_volume  sell_vwap  avg_buy_price  min_buy_price  max_buy_price  \\\n",
      "0            22510.0  63.063174      63.840909          23.55          97.68   \n",
      "1            56920.0  51.827821      57.975909          20.71          96.85   \n",
      "2            11689.0  72.556183      60.459500          21.39          94.50   \n",
      "3            25414.0  55.888114      64.162609          27.67          99.58   \n",
      "4            55954.0  39.255789      59.386923          20.81          94.05   \n",
      "\n",
      "   total_buy_volume   buy_vwap  \n",
      "0           24654.0  63.755204  \n",
      "1           19241.0  58.158416  \n",
      "2           19785.0  64.090678  \n",
      "3           20274.0  61.713070  \n",
      "4           15364.0  56.891564  \n"
     ]
    },
    {
     "data": {
      "text/html": [
       "<pre style=\"white-space:pre;overflow-x:auto;line-height:normal;font-family:Menlo,'DejaVu Sans Mono',consolas,'Courier New',monospace\"><span style=\"color: #808000; text-decoration-color: #808000; font-weight: bold\">C:\\Users\\Pavillon Plus\\AppData\\Local\\Temp\\ipykernel_15452\\</span><span style=\"color: #808000; text-decoration-color: #808000; font-weight: bold\">1448036441.</span><span style=\"color: #808000; text-decoration-color: #808000; font-weight: bold\">py:</span><span style=\"color: #808000; text-decoration-color: #808000; font-weight: bold\">12</span><span style=\"color: #808000; text-decoration-color: #808000; font-weight: bold\"> FutureWarning</span><span style=\"color: #808000; text-decoration-color: #808000\">: </span><span style=\"color: #808000; text-decoration-color: #808000\">'H'</span><span style=\"color: #808000; text-decoration-color: #808000\"> is deprecated and will be removed in a future version, please use </span><span style=\"color: #808000; text-decoration-color: #808000\">'h'</span><span style=\"color: #808000; text-decoration-color: #808000\"> instead.</span>\n",
       "</pre>\n"
      ],
      "text/plain": [
       "\u001b[1;33mC:\\Users\\Pavillon Plus\\AppData\\Local\\Temp\\ipykernel_15452\\\u001b[0m\u001b[1;33m1448036441.\u001b[0m\u001b[1;33mpy:\u001b[0m\u001b[1;33m12\u001b[0m\u001b[1;33m FutureWarning\u001b[0m\u001b[33m: \u001b[0m\u001b[33m'H'\u001b[0m\u001b[33m is deprecated and will be removed in a future version, please use \u001b[0m\u001b[33m'h'\u001b[0m\u001b[33m instead.\u001b[0m\n"
      ]
     },
     "metadata": {},
     "output_type": "display_data"
    },
    {
     "data": {
      "text/html": [
       "<pre style=\"white-space:pre;overflow-x:auto;line-height:normal;font-family:Menlo,'DejaVu Sans Mono',consolas,'Courier New',monospace\"><span style=\"color: #808000; text-decoration-color: #808000; font-weight: bold\">C:\\Users\\Pavillon Plus\\AppData\\Local\\Temp\\ipykernel_15452\\</span><span style=\"color: #808000; text-decoration-color: #808000; font-weight: bold\">1448036441.</span><span style=\"color: #808000; text-decoration-color: #808000; font-weight: bold\">py:</span><span style=\"color: #808000; text-decoration-color: #808000; font-weight: bold\">30</span><span style=\"color: #808000; text-decoration-color: #808000; font-weight: bold\"> DeprecationWarning</span><span style=\"color: #808000; text-decoration-color: #808000\">: DataFrameGroupBy.apply operated on the grouping columns. This behavior is deprecated, and in a future version of pandas the grouping columns will be excluded from the operation. Either pass `</span><span style=\"color: #808000; text-decoration-color: #808000\">include_groups</span><span style=\"color: #808000; text-decoration-color: #808000\">=</span><span style=\"color: #808000; text-decoration-color: #808000; font-style: italic\">False</span><span style=\"color: #808000; text-decoration-color: #808000\">` to exclude the groupings or explicitly select the grouping columns after groupby to silence this warning.</span>\n",
       "</pre>\n"
      ],
      "text/plain": [
       "\u001b[1;33mC:\\Users\\Pavillon Plus\\AppData\\Local\\Temp\\ipykernel_15452\\\u001b[0m\u001b[1;33m1448036441.\u001b[0m\u001b[1;33mpy:\u001b[0m\u001b[1;33m30\u001b[0m\u001b[1;33m DeprecationWarning\u001b[0m\u001b[33m: DataFrameGroupBy.apply operated on the grouping columns. This behavior is deprecated, and in a future version of pandas the grouping columns will be excluded from the operation. Either pass `\u001b[0m\u001b[33minclude_groups\u001b[0m\u001b[33m=\u001b[0m\u001b[3;33mFalse\u001b[0m\u001b[33m` to exclude the groupings or explicitly select the grouping columns after groupby to silence this warning.\u001b[0m\n"
      ]
     },
     "metadata": {},
     "output_type": "display_data"
    },
    {
     "data": {
      "text/html": [
       "<pre style=\"white-space:pre;overflow-x:auto;line-height:normal;font-family:Menlo,'DejaVu Sans Mono',consolas,'Courier New',monospace\"><span style=\"color: #808000; text-decoration-color: #808000; font-weight: bold\">C:\\Users\\Pavillon Plus\\AppData\\Local\\Temp\\ipykernel_15452\\</span><span style=\"color: #808000; text-decoration-color: #808000; font-weight: bold\">1448036441.</span><span style=\"color: #808000; text-decoration-color: #808000; font-weight: bold\">py:</span><span style=\"color: #808000; text-decoration-color: #808000; font-weight: bold\">45</span><span style=\"color: #808000; text-decoration-color: #808000; font-weight: bold\"> DeprecationWarning</span><span style=\"color: #808000; text-decoration-color: #808000\">: DataFrameGroupBy.apply operated on the grouping columns. This behavior is deprecated, and in a future version of pandas the grouping columns will be excluded from the operation. Either pass `</span><span style=\"color: #808000; text-decoration-color: #808000\">include_groups</span><span style=\"color: #808000; text-decoration-color: #808000\">=</span><span style=\"color: #808000; text-decoration-color: #808000; font-style: italic\">False</span><span style=\"color: #808000; text-decoration-color: #808000\">` to exclude the groupings or explicitly select the grouping columns after groupby to silence this warning.</span>\n",
       "</pre>\n"
      ],
      "text/plain": [
       "\u001b[1;33mC:\\Users\\Pavillon Plus\\AppData\\Local\\Temp\\ipykernel_15452\\\u001b[0m\u001b[1;33m1448036441.\u001b[0m\u001b[1;33mpy:\u001b[0m\u001b[1;33m45\u001b[0m\u001b[1;33m DeprecationWarning\u001b[0m\u001b[33m: DataFrameGroupBy.apply operated on the grouping columns. This behavior is deprecated, and in a future version of pandas the grouping columns will be excluded from the operation. Either pass `\u001b[0m\u001b[33minclude_groups\u001b[0m\u001b[33m=\u001b[0m\u001b[3;33mFalse\u001b[0m\u001b[33m` to exclude the groupings or explicitly select the grouping columns after groupby to silence this warning.\u001b[0m\n"
      ]
     },
     "metadata": {},
     "output_type": "display_data"
    },
    {
     "name": "stdout",
     "output_type": "stream",
     "text": [
      "Hourly aggregates saved to: hourly_aggregates\\hourly_2024-01-03.parquet\n",
      "Processing file: 2024-01-03.parquet\n",
      "                       Hour  avg_sell_price  min_sell_price  max_sell_price  \\\n",
      "0 2024-01-03 00:00:00+00:00       66.317692           24.00           99.70   \n",
      "1 2024-01-03 01:00:00+00:00       68.729032           20.76           98.66   \n",
      "2 2024-01-03 02:00:00+00:00       56.973750           22.24           91.62   \n",
      "3 2024-01-03 03:00:00+00:00       55.858000           21.93           96.81   \n",
      "4 2024-01-03 04:00:00+00:00       60.244211           22.04           93.54   \n",
      "\n",
      "   total_sell_volume  sell_vwap  avg_buy_price  min_buy_price  max_buy_price  \\\n",
      "0            17661.0  64.513862      58.806842          22.05          91.54   \n",
      "1            29352.0  72.843014      59.277059          22.45          83.67   \n",
      "2            43251.0  47.328851      55.117586          20.14          98.52   \n",
      "3            30845.0  55.164277      58.690645          20.16          95.11   \n",
      "4            24502.0  59.653541      59.090556          23.97          91.36   \n",
      "\n",
      "   total_buy_volume   buy_vwap  \n",
      "0           21512.0  59.101925  \n",
      "1           16696.0  67.906360  \n",
      "2           32308.0  54.178771  \n",
      "3           31384.0  59.780591  \n",
      "4          130994.0  68.239574  \n"
     ]
    },
    {
     "data": {
      "text/html": [
       "<pre style=\"white-space:pre;overflow-x:auto;line-height:normal;font-family:Menlo,'DejaVu Sans Mono',consolas,'Courier New',monospace\"><span style=\"color: #808000; text-decoration-color: #808000; font-weight: bold\">C:\\Users\\Pavillon Plus\\AppData\\Local\\Temp\\ipykernel_15452\\</span><span style=\"color: #808000; text-decoration-color: #808000; font-weight: bold\">1448036441.</span><span style=\"color: #808000; text-decoration-color: #808000; font-weight: bold\">py:</span><span style=\"color: #808000; text-decoration-color: #808000; font-weight: bold\">12</span><span style=\"color: #808000; text-decoration-color: #808000; font-weight: bold\"> FutureWarning</span><span style=\"color: #808000; text-decoration-color: #808000\">: </span><span style=\"color: #808000; text-decoration-color: #808000\">'H'</span><span style=\"color: #808000; text-decoration-color: #808000\"> is deprecated and will be removed in a future version, please use </span><span style=\"color: #808000; text-decoration-color: #808000\">'h'</span><span style=\"color: #808000; text-decoration-color: #808000\"> instead.</span>\n",
       "</pre>\n"
      ],
      "text/plain": [
       "\u001b[1;33mC:\\Users\\Pavillon Plus\\AppData\\Local\\Temp\\ipykernel_15452\\\u001b[0m\u001b[1;33m1448036441.\u001b[0m\u001b[1;33mpy:\u001b[0m\u001b[1;33m12\u001b[0m\u001b[1;33m FutureWarning\u001b[0m\u001b[33m: \u001b[0m\u001b[33m'H'\u001b[0m\u001b[33m is deprecated and will be removed in a future version, please use \u001b[0m\u001b[33m'h'\u001b[0m\u001b[33m instead.\u001b[0m\n"
      ]
     },
     "metadata": {},
     "output_type": "display_data"
    },
    {
     "data": {
      "text/html": [
       "<pre style=\"white-space:pre;overflow-x:auto;line-height:normal;font-family:Menlo,'DejaVu Sans Mono',consolas,'Courier New',monospace\"><span style=\"color: #808000; text-decoration-color: #808000; font-weight: bold\">C:\\Users\\Pavillon Plus\\AppData\\Local\\Temp\\ipykernel_15452\\</span><span style=\"color: #808000; text-decoration-color: #808000; font-weight: bold\">1448036441.</span><span style=\"color: #808000; text-decoration-color: #808000; font-weight: bold\">py:</span><span style=\"color: #808000; text-decoration-color: #808000; font-weight: bold\">30</span><span style=\"color: #808000; text-decoration-color: #808000; font-weight: bold\"> DeprecationWarning</span><span style=\"color: #808000; text-decoration-color: #808000\">: DataFrameGroupBy.apply operated on the grouping columns. This behavior is deprecated, and in a future version of pandas the grouping columns will be excluded from the operation. Either pass `</span><span style=\"color: #808000; text-decoration-color: #808000\">include_groups</span><span style=\"color: #808000; text-decoration-color: #808000\">=</span><span style=\"color: #808000; text-decoration-color: #808000; font-style: italic\">False</span><span style=\"color: #808000; text-decoration-color: #808000\">` to exclude the groupings or explicitly select the grouping columns after groupby to silence this warning.</span>\n",
       "</pre>\n"
      ],
      "text/plain": [
       "\u001b[1;33mC:\\Users\\Pavillon Plus\\AppData\\Local\\Temp\\ipykernel_15452\\\u001b[0m\u001b[1;33m1448036441.\u001b[0m\u001b[1;33mpy:\u001b[0m\u001b[1;33m30\u001b[0m\u001b[1;33m DeprecationWarning\u001b[0m\u001b[33m: DataFrameGroupBy.apply operated on the grouping columns. This behavior is deprecated, and in a future version of pandas the grouping columns will be excluded from the operation. Either pass `\u001b[0m\u001b[33minclude_groups\u001b[0m\u001b[33m=\u001b[0m\u001b[3;33mFalse\u001b[0m\u001b[33m` to exclude the groupings or explicitly select the grouping columns after groupby to silence this warning.\u001b[0m\n"
      ]
     },
     "metadata": {},
     "output_type": "display_data"
    },
    {
     "data": {
      "text/html": [
       "<pre style=\"white-space:pre;overflow-x:auto;line-height:normal;font-family:Menlo,'DejaVu Sans Mono',consolas,'Courier New',monospace\"><span style=\"color: #808000; text-decoration-color: #808000; font-weight: bold\">C:\\Users\\Pavillon Plus\\AppData\\Local\\Temp\\ipykernel_15452\\</span><span style=\"color: #808000; text-decoration-color: #808000; font-weight: bold\">1448036441.</span><span style=\"color: #808000; text-decoration-color: #808000; font-weight: bold\">py:</span><span style=\"color: #808000; text-decoration-color: #808000; font-weight: bold\">45</span><span style=\"color: #808000; text-decoration-color: #808000; font-weight: bold\"> DeprecationWarning</span><span style=\"color: #808000; text-decoration-color: #808000\">: DataFrameGroupBy.apply operated on the grouping columns. This behavior is deprecated, and in a future version of pandas the grouping columns will be excluded from the operation. Either pass `</span><span style=\"color: #808000; text-decoration-color: #808000\">include_groups</span><span style=\"color: #808000; text-decoration-color: #808000\">=</span><span style=\"color: #808000; text-decoration-color: #808000; font-style: italic\">False</span><span style=\"color: #808000; text-decoration-color: #808000\">` to exclude the groupings or explicitly select the grouping columns after groupby to silence this warning.</span>\n",
       "</pre>\n"
      ],
      "text/plain": [
       "\u001b[1;33mC:\\Users\\Pavillon Plus\\AppData\\Local\\Temp\\ipykernel_15452\\\u001b[0m\u001b[1;33m1448036441.\u001b[0m\u001b[1;33mpy:\u001b[0m\u001b[1;33m45\u001b[0m\u001b[1;33m DeprecationWarning\u001b[0m\u001b[33m: DataFrameGroupBy.apply operated on the grouping columns. This behavior is deprecated, and in a future version of pandas the grouping columns will be excluded from the operation. Either pass `\u001b[0m\u001b[33minclude_groups\u001b[0m\u001b[33m=\u001b[0m\u001b[3;33mFalse\u001b[0m\u001b[33m` to exclude the groupings or explicitly select the grouping columns after groupby to silence this warning.\u001b[0m\n"
      ]
     },
     "metadata": {},
     "output_type": "display_data"
    },
    {
     "name": "stdout",
     "output_type": "stream",
     "text": [
      "Hourly aggregates saved to: hourly_aggregates\\hourly_2024-01-04.parquet\n",
      "Processing file: 2024-01-04.parquet\n",
      "                       Hour  avg_sell_price  min_sell_price  max_sell_price  \\\n",
      "0 2024-01-04 00:00:00+00:00       54.986364           21.06           93.56   \n",
      "1 2024-01-04 01:00:00+00:00       70.338571           46.53           92.55   \n",
      "2 2024-01-04 02:00:00+00:00       60.078824           22.13           96.15   \n",
      "3 2024-01-04 03:00:00+00:00       62.548824           22.21           99.30   \n",
      "4 2024-01-04 04:00:00+00:00       65.601538           28.18           99.81   \n",
      "\n",
      "   total_sell_volume  sell_vwap  avg_buy_price  min_buy_price  max_buy_price  \\\n",
      "0            19224.0  57.360803      53.650000          22.49          91.62   \n",
      "1            14102.0  66.918963      57.463500          24.25          90.73   \n",
      "2            18746.0  67.245444      62.602857          20.72          93.20   \n",
      "3            16640.0  57.420165      61.874667          25.74          85.53   \n",
      "4            28665.0  65.952093      55.724348          23.90          99.33   \n",
      "\n",
      "   total_buy_volume   buy_vwap  \n",
      "0           16569.0  50.412385  \n",
      "1           23529.0  58.375217  \n",
      "2           15264.0  60.454695  \n",
      "3           35285.0  62.371761  \n",
      "4           20136.0  55.656652  \n"
     ]
    },
    {
     "data": {
      "text/html": [
       "<pre style=\"white-space:pre;overflow-x:auto;line-height:normal;font-family:Menlo,'DejaVu Sans Mono',consolas,'Courier New',monospace\"><span style=\"color: #808000; text-decoration-color: #808000; font-weight: bold\">C:\\Users\\Pavillon Plus\\AppData\\Local\\Temp\\ipykernel_15452\\</span><span style=\"color: #808000; text-decoration-color: #808000; font-weight: bold\">1448036441.</span><span style=\"color: #808000; text-decoration-color: #808000; font-weight: bold\">py:</span><span style=\"color: #808000; text-decoration-color: #808000; font-weight: bold\">12</span><span style=\"color: #808000; text-decoration-color: #808000; font-weight: bold\"> FutureWarning</span><span style=\"color: #808000; text-decoration-color: #808000\">: </span><span style=\"color: #808000; text-decoration-color: #808000\">'H'</span><span style=\"color: #808000; text-decoration-color: #808000\"> is deprecated and will be removed in a future version, please use </span><span style=\"color: #808000; text-decoration-color: #808000\">'h'</span><span style=\"color: #808000; text-decoration-color: #808000\"> instead.</span>\n",
       "</pre>\n"
      ],
      "text/plain": [
       "\u001b[1;33mC:\\Users\\Pavillon Plus\\AppData\\Local\\Temp\\ipykernel_15452\\\u001b[0m\u001b[1;33m1448036441.\u001b[0m\u001b[1;33mpy:\u001b[0m\u001b[1;33m12\u001b[0m\u001b[1;33m FutureWarning\u001b[0m\u001b[33m: \u001b[0m\u001b[33m'H'\u001b[0m\u001b[33m is deprecated and will be removed in a future version, please use \u001b[0m\u001b[33m'h'\u001b[0m\u001b[33m instead.\u001b[0m\n"
      ]
     },
     "metadata": {},
     "output_type": "display_data"
    },
    {
     "data": {
      "text/html": [
       "<pre style=\"white-space:pre;overflow-x:auto;line-height:normal;font-family:Menlo,'DejaVu Sans Mono',consolas,'Courier New',monospace\"><span style=\"color: #808000; text-decoration-color: #808000; font-weight: bold\">C:\\Users\\Pavillon Plus\\AppData\\Local\\Temp\\ipykernel_15452\\</span><span style=\"color: #808000; text-decoration-color: #808000; font-weight: bold\">1448036441.</span><span style=\"color: #808000; text-decoration-color: #808000; font-weight: bold\">py:</span><span style=\"color: #808000; text-decoration-color: #808000; font-weight: bold\">30</span><span style=\"color: #808000; text-decoration-color: #808000; font-weight: bold\"> DeprecationWarning</span><span style=\"color: #808000; text-decoration-color: #808000\">: DataFrameGroupBy.apply operated on the grouping columns. This behavior is deprecated, and in a future version of pandas the grouping columns will be excluded from the operation. Either pass `</span><span style=\"color: #808000; text-decoration-color: #808000\">include_groups</span><span style=\"color: #808000; text-decoration-color: #808000\">=</span><span style=\"color: #808000; text-decoration-color: #808000; font-style: italic\">False</span><span style=\"color: #808000; text-decoration-color: #808000\">` to exclude the groupings or explicitly select the grouping columns after groupby to silence this warning.</span>\n",
       "</pre>\n"
      ],
      "text/plain": [
       "\u001b[1;33mC:\\Users\\Pavillon Plus\\AppData\\Local\\Temp\\ipykernel_15452\\\u001b[0m\u001b[1;33m1448036441.\u001b[0m\u001b[1;33mpy:\u001b[0m\u001b[1;33m30\u001b[0m\u001b[1;33m DeprecationWarning\u001b[0m\u001b[33m: DataFrameGroupBy.apply operated on the grouping columns. This behavior is deprecated, and in a future version of pandas the grouping columns will be excluded from the operation. Either pass `\u001b[0m\u001b[33minclude_groups\u001b[0m\u001b[33m=\u001b[0m\u001b[3;33mFalse\u001b[0m\u001b[33m` to exclude the groupings or explicitly select the grouping columns after groupby to silence this warning.\u001b[0m\n"
      ]
     },
     "metadata": {},
     "output_type": "display_data"
    },
    {
     "data": {
      "text/html": [
       "<pre style=\"white-space:pre;overflow-x:auto;line-height:normal;font-family:Menlo,'DejaVu Sans Mono',consolas,'Courier New',monospace\"><span style=\"color: #808000; text-decoration-color: #808000; font-weight: bold\">C:\\Users\\Pavillon Plus\\AppData\\Local\\Temp\\ipykernel_15452\\</span><span style=\"color: #808000; text-decoration-color: #808000; font-weight: bold\">1448036441.</span><span style=\"color: #808000; text-decoration-color: #808000; font-weight: bold\">py:</span><span style=\"color: #808000; text-decoration-color: #808000; font-weight: bold\">45</span><span style=\"color: #808000; text-decoration-color: #808000; font-weight: bold\"> DeprecationWarning</span><span style=\"color: #808000; text-decoration-color: #808000\">: DataFrameGroupBy.apply operated on the grouping columns. This behavior is deprecated, and in a future version of pandas the grouping columns will be excluded from the operation. Either pass `</span><span style=\"color: #808000; text-decoration-color: #808000\">include_groups</span><span style=\"color: #808000; text-decoration-color: #808000\">=</span><span style=\"color: #808000; text-decoration-color: #808000; font-style: italic\">False</span><span style=\"color: #808000; text-decoration-color: #808000\">` to exclude the groupings or explicitly select the grouping columns after groupby to silence this warning.</span>\n",
       "</pre>\n"
      ],
      "text/plain": [
       "\u001b[1;33mC:\\Users\\Pavillon Plus\\AppData\\Local\\Temp\\ipykernel_15452\\\u001b[0m\u001b[1;33m1448036441.\u001b[0m\u001b[1;33mpy:\u001b[0m\u001b[1;33m45\u001b[0m\u001b[1;33m DeprecationWarning\u001b[0m\u001b[33m: DataFrameGroupBy.apply operated on the grouping columns. This behavior is deprecated, and in a future version of pandas the grouping columns will be excluded from the operation. Either pass `\u001b[0m\u001b[33minclude_groups\u001b[0m\u001b[33m=\u001b[0m\u001b[3;33mFalse\u001b[0m\u001b[33m` to exclude the groupings or explicitly select the grouping columns after groupby to silence this warning.\u001b[0m\n"
      ]
     },
     "metadata": {},
     "output_type": "display_data"
    },
    {
     "name": "stdout",
     "output_type": "stream",
     "text": [
      "Hourly aggregates saved to: hourly_aggregates\\hourly_2024-01-05.parquet\n",
      "Processing file: 2024-01-05.parquet\n",
      "                       Hour  avg_sell_price  min_sell_price  max_sell_price  \\\n",
      "0 2024-01-05 00:00:00+00:00       60.527727           21.08           98.41   \n",
      "1 2024-01-05 01:00:00+00:00       58.224762           24.12           96.14   \n",
      "2 2024-01-05 02:00:00+00:00       59.415500           20.17           96.02   \n",
      "3 2024-01-05 03:00:00+00:00       50.882778           20.01           90.01   \n",
      "4 2024-01-05 04:00:00+00:00       71.180769           30.00           96.32   \n",
      "\n",
      "   total_sell_volume  sell_vwap  avg_buy_price  min_buy_price  max_buy_price  \\\n",
      "0            22272.0  60.434911      56.890833          26.34          96.73   \n",
      "1            23815.0  58.951072      64.675500          26.87          97.63   \n",
      "2            20593.0  61.434446      63.637826          24.47          95.78   \n",
      "3            13164.0  51.682662      57.427143          22.84          97.22   \n",
      "4            15021.0  67.311409      57.226364          27.54          92.66   \n",
      "\n",
      "   total_buy_volume   buy_vwap  \n",
      "0           27484.0  55.054538  \n",
      "1           17247.0  61.663403  \n",
      "2           18325.0  64.279668  \n",
      "3           21328.0  57.355661  \n",
      "4           23582.0  55.808716  \n"
     ]
    },
    {
     "data": {
      "text/html": [
       "<pre style=\"white-space:pre;overflow-x:auto;line-height:normal;font-family:Menlo,'DejaVu Sans Mono',consolas,'Courier New',monospace\"><span style=\"color: #808000; text-decoration-color: #808000; font-weight: bold\">C:\\Users\\Pavillon Plus\\AppData\\Local\\Temp\\ipykernel_15452\\</span><span style=\"color: #808000; text-decoration-color: #808000; font-weight: bold\">1448036441.</span><span style=\"color: #808000; text-decoration-color: #808000; font-weight: bold\">py:</span><span style=\"color: #808000; text-decoration-color: #808000; font-weight: bold\">12</span><span style=\"color: #808000; text-decoration-color: #808000; font-weight: bold\"> FutureWarning</span><span style=\"color: #808000; text-decoration-color: #808000\">: </span><span style=\"color: #808000; text-decoration-color: #808000\">'H'</span><span style=\"color: #808000; text-decoration-color: #808000\"> is deprecated and will be removed in a future version, please use </span><span style=\"color: #808000; text-decoration-color: #808000\">'h'</span><span style=\"color: #808000; text-decoration-color: #808000\"> instead.</span>\n",
       "</pre>\n"
      ],
      "text/plain": [
       "\u001b[1;33mC:\\Users\\Pavillon Plus\\AppData\\Local\\Temp\\ipykernel_15452\\\u001b[0m\u001b[1;33m1448036441.\u001b[0m\u001b[1;33mpy:\u001b[0m\u001b[1;33m12\u001b[0m\u001b[1;33m FutureWarning\u001b[0m\u001b[33m: \u001b[0m\u001b[33m'H'\u001b[0m\u001b[33m is deprecated and will be removed in a future version, please use \u001b[0m\u001b[33m'h'\u001b[0m\u001b[33m instead.\u001b[0m\n"
      ]
     },
     "metadata": {},
     "output_type": "display_data"
    },
    {
     "data": {
      "text/html": [
       "<pre style=\"white-space:pre;overflow-x:auto;line-height:normal;font-family:Menlo,'DejaVu Sans Mono',consolas,'Courier New',monospace\"><span style=\"color: #808000; text-decoration-color: #808000; font-weight: bold\">C:\\Users\\Pavillon Plus\\AppData\\Local\\Temp\\ipykernel_15452\\</span><span style=\"color: #808000; text-decoration-color: #808000; font-weight: bold\">1448036441.</span><span style=\"color: #808000; text-decoration-color: #808000; font-weight: bold\">py:</span><span style=\"color: #808000; text-decoration-color: #808000; font-weight: bold\">30</span><span style=\"color: #808000; text-decoration-color: #808000; font-weight: bold\"> DeprecationWarning</span><span style=\"color: #808000; text-decoration-color: #808000\">: DataFrameGroupBy.apply operated on the grouping columns. This behavior is deprecated, and in a future version of pandas the grouping columns will be excluded from the operation. Either pass `</span><span style=\"color: #808000; text-decoration-color: #808000\">include_groups</span><span style=\"color: #808000; text-decoration-color: #808000\">=</span><span style=\"color: #808000; text-decoration-color: #808000; font-style: italic\">False</span><span style=\"color: #808000; text-decoration-color: #808000\">` to exclude the groupings or explicitly select the grouping columns after groupby to silence this warning.</span>\n",
       "</pre>\n"
      ],
      "text/plain": [
       "\u001b[1;33mC:\\Users\\Pavillon Plus\\AppData\\Local\\Temp\\ipykernel_15452\\\u001b[0m\u001b[1;33m1448036441.\u001b[0m\u001b[1;33mpy:\u001b[0m\u001b[1;33m30\u001b[0m\u001b[1;33m DeprecationWarning\u001b[0m\u001b[33m: DataFrameGroupBy.apply operated on the grouping columns. This behavior is deprecated, and in a future version of pandas the grouping columns will be excluded from the operation. Either pass `\u001b[0m\u001b[33minclude_groups\u001b[0m\u001b[33m=\u001b[0m\u001b[3;33mFalse\u001b[0m\u001b[33m` to exclude the groupings or explicitly select the grouping columns after groupby to silence this warning.\u001b[0m\n"
      ]
     },
     "metadata": {},
     "output_type": "display_data"
    },
    {
     "data": {
      "text/html": [
       "<pre style=\"white-space:pre;overflow-x:auto;line-height:normal;font-family:Menlo,'DejaVu Sans Mono',consolas,'Courier New',monospace\"><span style=\"color: #808000; text-decoration-color: #808000; font-weight: bold\">C:\\Users\\Pavillon Plus\\AppData\\Local\\Temp\\ipykernel_15452\\</span><span style=\"color: #808000; text-decoration-color: #808000; font-weight: bold\">1448036441.</span><span style=\"color: #808000; text-decoration-color: #808000; font-weight: bold\">py:</span><span style=\"color: #808000; text-decoration-color: #808000; font-weight: bold\">45</span><span style=\"color: #808000; text-decoration-color: #808000; font-weight: bold\"> DeprecationWarning</span><span style=\"color: #808000; text-decoration-color: #808000\">: DataFrameGroupBy.apply operated on the grouping columns. This behavior is deprecated, and in a future version of pandas the grouping columns will be excluded from the operation. Either pass `</span><span style=\"color: #808000; text-decoration-color: #808000\">include_groups</span><span style=\"color: #808000; text-decoration-color: #808000\">=</span><span style=\"color: #808000; text-decoration-color: #808000; font-style: italic\">False</span><span style=\"color: #808000; text-decoration-color: #808000\">` to exclude the groupings or explicitly select the grouping columns after groupby to silence this warning.</span>\n",
       "</pre>\n"
      ],
      "text/plain": [
       "\u001b[1;33mC:\\Users\\Pavillon Plus\\AppData\\Local\\Temp\\ipykernel_15452\\\u001b[0m\u001b[1;33m1448036441.\u001b[0m\u001b[1;33mpy:\u001b[0m\u001b[1;33m45\u001b[0m\u001b[1;33m DeprecationWarning\u001b[0m\u001b[33m: DataFrameGroupBy.apply operated on the grouping columns. This behavior is deprecated, and in a future version of pandas the grouping columns will be excluded from the operation. Either pass `\u001b[0m\u001b[33minclude_groups\u001b[0m\u001b[33m=\u001b[0m\u001b[3;33mFalse\u001b[0m\u001b[33m` to exclude the groupings or explicitly select the grouping columns after groupby to silence this warning.\u001b[0m\n"
      ]
     },
     "metadata": {},
     "output_type": "display_data"
    },
    {
     "name": "stdout",
     "output_type": "stream",
     "text": [
      "Hourly aggregates saved to: hourly_aggregates\\hourly_2024-01-06.parquet\n",
      "Processing file: 2024-01-06.parquet\n",
      "                       Hour  avg_sell_price  min_sell_price  max_sell_price  \\\n",
      "0 2024-01-06 00:00:00+00:00       52.416667           21.33           92.87   \n",
      "1 2024-01-06 01:00:00+00:00       53.900741           21.00           99.47   \n",
      "2 2024-01-06 02:00:00+00:00       60.801500           24.00           94.93   \n",
      "3 2024-01-06 03:00:00+00:00       59.537857           21.00           96.74   \n",
      "4 2024-01-06 04:00:00+00:00       61.846667           27.56           99.76   \n",
      "\n",
      "   total_sell_volume  sell_vwap  avg_buy_price  min_buy_price  max_buy_price  \\\n",
      "0            15197.0  50.429202      66.128462          34.77          97.82   \n",
      "1            23897.0  53.544906      58.485000          20.00          89.34   \n",
      "2            15248.0  57.446403      55.485882          24.55          99.63   \n",
      "3            14083.0  54.954852      56.387500          20.01          93.97   \n",
      "4            27971.0  65.905584      64.454615          21.26          99.24   \n",
      "\n",
      "   total_buy_volume   buy_vwap  \n",
      "0           16028.0  66.096054  \n",
      "1           12957.0  53.303216  \n",
      "2           16274.0  50.909802  \n",
      "3           16584.0  59.363607  \n",
      "4           28629.0  66.129812  \n"
     ]
    },
    {
     "data": {
      "text/html": [
       "<pre style=\"white-space:pre;overflow-x:auto;line-height:normal;font-family:Menlo,'DejaVu Sans Mono',consolas,'Courier New',monospace\"><span style=\"color: #808000; text-decoration-color: #808000; font-weight: bold\">C:\\Users\\Pavillon Plus\\AppData\\Local\\Temp\\ipykernel_15452\\</span><span style=\"color: #808000; text-decoration-color: #808000; font-weight: bold\">1448036441.</span><span style=\"color: #808000; text-decoration-color: #808000; font-weight: bold\">py:</span><span style=\"color: #808000; text-decoration-color: #808000; font-weight: bold\">12</span><span style=\"color: #808000; text-decoration-color: #808000; font-weight: bold\"> FutureWarning</span><span style=\"color: #808000; text-decoration-color: #808000\">: </span><span style=\"color: #808000; text-decoration-color: #808000\">'H'</span><span style=\"color: #808000; text-decoration-color: #808000\"> is deprecated and will be removed in a future version, please use </span><span style=\"color: #808000; text-decoration-color: #808000\">'h'</span><span style=\"color: #808000; text-decoration-color: #808000\"> instead.</span>\n",
       "</pre>\n"
      ],
      "text/plain": [
       "\u001b[1;33mC:\\Users\\Pavillon Plus\\AppData\\Local\\Temp\\ipykernel_15452\\\u001b[0m\u001b[1;33m1448036441.\u001b[0m\u001b[1;33mpy:\u001b[0m\u001b[1;33m12\u001b[0m\u001b[1;33m FutureWarning\u001b[0m\u001b[33m: \u001b[0m\u001b[33m'H'\u001b[0m\u001b[33m is deprecated and will be removed in a future version, please use \u001b[0m\u001b[33m'h'\u001b[0m\u001b[33m instead.\u001b[0m\n"
      ]
     },
     "metadata": {},
     "output_type": "display_data"
    },
    {
     "data": {
      "text/html": [
       "<pre style=\"white-space:pre;overflow-x:auto;line-height:normal;font-family:Menlo,'DejaVu Sans Mono',consolas,'Courier New',monospace\"><span style=\"color: #808000; text-decoration-color: #808000; font-weight: bold\">C:\\Users\\Pavillon Plus\\AppData\\Local\\Temp\\ipykernel_15452\\</span><span style=\"color: #808000; text-decoration-color: #808000; font-weight: bold\">1448036441.</span><span style=\"color: #808000; text-decoration-color: #808000; font-weight: bold\">py:</span><span style=\"color: #808000; text-decoration-color: #808000; font-weight: bold\">30</span><span style=\"color: #808000; text-decoration-color: #808000; font-weight: bold\"> DeprecationWarning</span><span style=\"color: #808000; text-decoration-color: #808000\">: DataFrameGroupBy.apply operated on the grouping columns. This behavior is deprecated, and in a future version of pandas the grouping columns will be excluded from the operation. Either pass `</span><span style=\"color: #808000; text-decoration-color: #808000\">include_groups</span><span style=\"color: #808000; text-decoration-color: #808000\">=</span><span style=\"color: #808000; text-decoration-color: #808000; font-style: italic\">False</span><span style=\"color: #808000; text-decoration-color: #808000\">` to exclude the groupings or explicitly select the grouping columns after groupby to silence this warning.</span>\n",
       "</pre>\n"
      ],
      "text/plain": [
       "\u001b[1;33mC:\\Users\\Pavillon Plus\\AppData\\Local\\Temp\\ipykernel_15452\\\u001b[0m\u001b[1;33m1448036441.\u001b[0m\u001b[1;33mpy:\u001b[0m\u001b[1;33m30\u001b[0m\u001b[1;33m DeprecationWarning\u001b[0m\u001b[33m: DataFrameGroupBy.apply operated on the grouping columns. This behavior is deprecated, and in a future version of pandas the grouping columns will be excluded from the operation. Either pass `\u001b[0m\u001b[33minclude_groups\u001b[0m\u001b[33m=\u001b[0m\u001b[3;33mFalse\u001b[0m\u001b[33m` to exclude the groupings or explicitly select the grouping columns after groupby to silence this warning.\u001b[0m\n"
      ]
     },
     "metadata": {},
     "output_type": "display_data"
    },
    {
     "data": {
      "text/html": [
       "<pre style=\"white-space:pre;overflow-x:auto;line-height:normal;font-family:Menlo,'DejaVu Sans Mono',consolas,'Courier New',monospace\"><span style=\"color: #808000; text-decoration-color: #808000; font-weight: bold\">C:\\Users\\Pavillon Plus\\AppData\\Local\\Temp\\ipykernel_15452\\</span><span style=\"color: #808000; text-decoration-color: #808000; font-weight: bold\">1448036441.</span><span style=\"color: #808000; text-decoration-color: #808000; font-weight: bold\">py:</span><span style=\"color: #808000; text-decoration-color: #808000; font-weight: bold\">45</span><span style=\"color: #808000; text-decoration-color: #808000; font-weight: bold\"> DeprecationWarning</span><span style=\"color: #808000; text-decoration-color: #808000\">: DataFrameGroupBy.apply operated on the grouping columns. This behavior is deprecated, and in a future version of pandas the grouping columns will be excluded from the operation. Either pass `</span><span style=\"color: #808000; text-decoration-color: #808000\">include_groups</span><span style=\"color: #808000; text-decoration-color: #808000\">=</span><span style=\"color: #808000; text-decoration-color: #808000; font-style: italic\">False</span><span style=\"color: #808000; text-decoration-color: #808000\">` to exclude the groupings or explicitly select the grouping columns after groupby to silence this warning.</span>\n",
       "</pre>\n"
      ],
      "text/plain": [
       "\u001b[1;33mC:\\Users\\Pavillon Plus\\AppData\\Local\\Temp\\ipykernel_15452\\\u001b[0m\u001b[1;33m1448036441.\u001b[0m\u001b[1;33mpy:\u001b[0m\u001b[1;33m45\u001b[0m\u001b[1;33m DeprecationWarning\u001b[0m\u001b[33m: DataFrameGroupBy.apply operated on the grouping columns. This behavior is deprecated, and in a future version of pandas the grouping columns will be excluded from the operation. Either pass `\u001b[0m\u001b[33minclude_groups\u001b[0m\u001b[33m=\u001b[0m\u001b[3;33mFalse\u001b[0m\u001b[33m` to exclude the groupings or explicitly select the grouping columns after groupby to silence this warning.\u001b[0m\n"
      ]
     },
     "metadata": {},
     "output_type": "display_data"
    },
    {
     "name": "stdout",
     "output_type": "stream",
     "text": [
      "Hourly aggregates saved to: hourly_aggregates\\hourly_2024-01-07.parquet\n",
      "Processing file: 2024-01-07.parquet\n",
      "                       Hour  avg_sell_price  min_sell_price  max_sell_price  \\\n",
      "0 2024-01-07 00:00:00+00:00       59.319375           23.62           98.69   \n",
      "1 2024-01-07 01:00:00+00:00       54.655294           22.97           96.68   \n",
      "2 2024-01-07 02:00:00+00:00       63.642424           22.49           95.90   \n",
      "3 2024-01-07 03:00:00+00:00       62.381739           29.41           93.42   \n",
      "4 2024-01-07 04:00:00+00:00       69.622308           41.46           93.87   \n",
      "\n",
      "   total_sell_volume  sell_vwap  avg_buy_price  min_buy_price  max_buy_price  \\\n",
      "0            17442.0  56.733802      66.738421          21.21          91.65   \n",
      "1            17527.0  57.718259      53.604762          21.65          95.64   \n",
      "2            33274.0  63.011520      66.502308          29.29          94.66   \n",
      "3            26259.0  61.626055      59.624706          22.23          89.75   \n",
      "4             9094.0  60.292342      61.398636          22.91          99.98   \n",
      "\n",
      "   total_buy_volume   buy_vwap  \n",
      "0           18195.0  66.500597  \n",
      "1           23626.0  52.065838  \n",
      "2           24366.0  61.163314  \n",
      "3           15013.0  59.359543  \n",
      "4           23639.0  61.854148  \n"
     ]
    },
    {
     "data": {
      "text/html": [
       "<pre style=\"white-space:pre;overflow-x:auto;line-height:normal;font-family:Menlo,'DejaVu Sans Mono',consolas,'Courier New',monospace\"><span style=\"color: #808000; text-decoration-color: #808000; font-weight: bold\">C:\\Users\\Pavillon Plus\\AppData\\Local\\Temp\\ipykernel_15452\\</span><span style=\"color: #808000; text-decoration-color: #808000; font-weight: bold\">1448036441.</span><span style=\"color: #808000; text-decoration-color: #808000; font-weight: bold\">py:</span><span style=\"color: #808000; text-decoration-color: #808000; font-weight: bold\">12</span><span style=\"color: #808000; text-decoration-color: #808000; font-weight: bold\"> FutureWarning</span><span style=\"color: #808000; text-decoration-color: #808000\">: </span><span style=\"color: #808000; text-decoration-color: #808000\">'H'</span><span style=\"color: #808000; text-decoration-color: #808000\"> is deprecated and will be removed in a future version, please use </span><span style=\"color: #808000; text-decoration-color: #808000\">'h'</span><span style=\"color: #808000; text-decoration-color: #808000\"> instead.</span>\n",
       "</pre>\n"
      ],
      "text/plain": [
       "\u001b[1;33mC:\\Users\\Pavillon Plus\\AppData\\Local\\Temp\\ipykernel_15452\\\u001b[0m\u001b[1;33m1448036441.\u001b[0m\u001b[1;33mpy:\u001b[0m\u001b[1;33m12\u001b[0m\u001b[1;33m FutureWarning\u001b[0m\u001b[33m: \u001b[0m\u001b[33m'H'\u001b[0m\u001b[33m is deprecated and will be removed in a future version, please use \u001b[0m\u001b[33m'h'\u001b[0m\u001b[33m instead.\u001b[0m\n"
      ]
     },
     "metadata": {},
     "output_type": "display_data"
    },
    {
     "data": {
      "text/html": [
       "<pre style=\"white-space:pre;overflow-x:auto;line-height:normal;font-family:Menlo,'DejaVu Sans Mono',consolas,'Courier New',monospace\"><span style=\"color: #808000; text-decoration-color: #808000; font-weight: bold\">C:\\Users\\Pavillon Plus\\AppData\\Local\\Temp\\ipykernel_15452\\</span><span style=\"color: #808000; text-decoration-color: #808000; font-weight: bold\">1448036441.</span><span style=\"color: #808000; text-decoration-color: #808000; font-weight: bold\">py:</span><span style=\"color: #808000; text-decoration-color: #808000; font-weight: bold\">30</span><span style=\"color: #808000; text-decoration-color: #808000; font-weight: bold\"> DeprecationWarning</span><span style=\"color: #808000; text-decoration-color: #808000\">: DataFrameGroupBy.apply operated on the grouping columns. This behavior is deprecated, and in a future version of pandas the grouping columns will be excluded from the operation. Either pass `</span><span style=\"color: #808000; text-decoration-color: #808000\">include_groups</span><span style=\"color: #808000; text-decoration-color: #808000\">=</span><span style=\"color: #808000; text-decoration-color: #808000; font-style: italic\">False</span><span style=\"color: #808000; text-decoration-color: #808000\">` to exclude the groupings or explicitly select the grouping columns after groupby to silence this warning.</span>\n",
       "</pre>\n"
      ],
      "text/plain": [
       "\u001b[1;33mC:\\Users\\Pavillon Plus\\AppData\\Local\\Temp\\ipykernel_15452\\\u001b[0m\u001b[1;33m1448036441.\u001b[0m\u001b[1;33mpy:\u001b[0m\u001b[1;33m30\u001b[0m\u001b[1;33m DeprecationWarning\u001b[0m\u001b[33m: DataFrameGroupBy.apply operated on the grouping columns. This behavior is deprecated, and in a future version of pandas the grouping columns will be excluded from the operation. Either pass `\u001b[0m\u001b[33minclude_groups\u001b[0m\u001b[33m=\u001b[0m\u001b[3;33mFalse\u001b[0m\u001b[33m` to exclude the groupings or explicitly select the grouping columns after groupby to silence this warning.\u001b[0m\n"
      ]
     },
     "metadata": {},
     "output_type": "display_data"
    },
    {
     "data": {
      "text/html": [
       "<pre style=\"white-space:pre;overflow-x:auto;line-height:normal;font-family:Menlo,'DejaVu Sans Mono',consolas,'Courier New',monospace\"><span style=\"color: #808000; text-decoration-color: #808000; font-weight: bold\">C:\\Users\\Pavillon Plus\\AppData\\Local\\Temp\\ipykernel_15452\\</span><span style=\"color: #808000; text-decoration-color: #808000; font-weight: bold\">1448036441.</span><span style=\"color: #808000; text-decoration-color: #808000; font-weight: bold\">py:</span><span style=\"color: #808000; text-decoration-color: #808000; font-weight: bold\">45</span><span style=\"color: #808000; text-decoration-color: #808000; font-weight: bold\"> DeprecationWarning</span><span style=\"color: #808000; text-decoration-color: #808000\">: DataFrameGroupBy.apply operated on the grouping columns. This behavior is deprecated, and in a future version of pandas the grouping columns will be excluded from the operation. Either pass `</span><span style=\"color: #808000; text-decoration-color: #808000\">include_groups</span><span style=\"color: #808000; text-decoration-color: #808000\">=</span><span style=\"color: #808000; text-decoration-color: #808000; font-style: italic\">False</span><span style=\"color: #808000; text-decoration-color: #808000\">` to exclude the groupings or explicitly select the grouping columns after groupby to silence this warning.</span>\n",
       "</pre>\n"
      ],
      "text/plain": [
       "\u001b[1;33mC:\\Users\\Pavillon Plus\\AppData\\Local\\Temp\\ipykernel_15452\\\u001b[0m\u001b[1;33m1448036441.\u001b[0m\u001b[1;33mpy:\u001b[0m\u001b[1;33m45\u001b[0m\u001b[1;33m DeprecationWarning\u001b[0m\u001b[33m: DataFrameGroupBy.apply operated on the grouping columns. This behavior is deprecated, and in a future version of pandas the grouping columns will be excluded from the operation. Either pass `\u001b[0m\u001b[33minclude_groups\u001b[0m\u001b[33m=\u001b[0m\u001b[3;33mFalse\u001b[0m\u001b[33m` to exclude the groupings or explicitly select the grouping columns after groupby to silence this warning.\u001b[0m\n"
      ]
     },
     "metadata": {},
     "output_type": "display_data"
    },
    {
     "name": "stdout",
     "output_type": "stream",
     "text": [
      "Hourly aggregates saved to: hourly_aggregates\\hourly_2024-01-08.parquet\n",
      "Processing file: 2024-01-08.parquet\n",
      "                       Hour  avg_sell_price  min_sell_price  max_sell_price  \\\n",
      "0 2024-01-08 00:00:00+00:00       56.751250           22.76           89.47   \n",
      "1 2024-01-08 01:00:00+00:00       68.598421           34.64           99.35   \n",
      "2 2024-01-08 02:00:00+00:00       58.197407           22.44           95.79   \n",
      "3 2024-01-08 03:00:00+00:00       58.710588           21.06           99.23   \n",
      "4 2024-01-08 04:00:00+00:00       64.686667           37.33           96.35   \n",
      "\n",
      "   total_sell_volume  sell_vwap  avg_buy_price  min_buy_price  max_buy_price  \\\n",
      "0            67944.0  68.081028      60.612000          25.04          97.36   \n",
      "1            18283.0  68.047714      58.694737          24.36          96.30   \n",
      "2            27226.0  58.536544      54.844583          20.10          94.50   \n",
      "3            14972.0  59.999172      54.616923          23.79          95.47   \n",
      "4            16106.0  62.506688      58.569412          23.65          91.29   \n",
      "\n",
      "   total_buy_volume   buy_vwap  \n",
      "0           28384.0  59.477537  \n",
      "1           13817.0  62.536902  \n",
      "2           24010.0  54.779885  \n",
      "3           16318.0  50.479963  \n",
      "4           14826.0  59.706844  \n"
     ]
    },
    {
     "data": {
      "text/html": [
       "<pre style=\"white-space:pre;overflow-x:auto;line-height:normal;font-family:Menlo,'DejaVu Sans Mono',consolas,'Courier New',monospace\"><span style=\"color: #808000; text-decoration-color: #808000; font-weight: bold\">C:\\Users\\Pavillon Plus\\AppData\\Local\\Temp\\ipykernel_15452\\</span><span style=\"color: #808000; text-decoration-color: #808000; font-weight: bold\">1448036441.</span><span style=\"color: #808000; text-decoration-color: #808000; font-weight: bold\">py:</span><span style=\"color: #808000; text-decoration-color: #808000; font-weight: bold\">12</span><span style=\"color: #808000; text-decoration-color: #808000; font-weight: bold\"> FutureWarning</span><span style=\"color: #808000; text-decoration-color: #808000\">: </span><span style=\"color: #808000; text-decoration-color: #808000\">'H'</span><span style=\"color: #808000; text-decoration-color: #808000\"> is deprecated and will be removed in a future version, please use </span><span style=\"color: #808000; text-decoration-color: #808000\">'h'</span><span style=\"color: #808000; text-decoration-color: #808000\"> instead.</span>\n",
       "</pre>\n"
      ],
      "text/plain": [
       "\u001b[1;33mC:\\Users\\Pavillon Plus\\AppData\\Local\\Temp\\ipykernel_15452\\\u001b[0m\u001b[1;33m1448036441.\u001b[0m\u001b[1;33mpy:\u001b[0m\u001b[1;33m12\u001b[0m\u001b[1;33m FutureWarning\u001b[0m\u001b[33m: \u001b[0m\u001b[33m'H'\u001b[0m\u001b[33m is deprecated and will be removed in a future version, please use \u001b[0m\u001b[33m'h'\u001b[0m\u001b[33m instead.\u001b[0m\n"
      ]
     },
     "metadata": {},
     "output_type": "display_data"
    },
    {
     "data": {
      "text/html": [
       "<pre style=\"white-space:pre;overflow-x:auto;line-height:normal;font-family:Menlo,'DejaVu Sans Mono',consolas,'Courier New',monospace\"><span style=\"color: #808000; text-decoration-color: #808000; font-weight: bold\">C:\\Users\\Pavillon Plus\\AppData\\Local\\Temp\\ipykernel_15452\\</span><span style=\"color: #808000; text-decoration-color: #808000; font-weight: bold\">1448036441.</span><span style=\"color: #808000; text-decoration-color: #808000; font-weight: bold\">py:</span><span style=\"color: #808000; text-decoration-color: #808000; font-weight: bold\">30</span><span style=\"color: #808000; text-decoration-color: #808000; font-weight: bold\"> DeprecationWarning</span><span style=\"color: #808000; text-decoration-color: #808000\">: DataFrameGroupBy.apply operated on the grouping columns. This behavior is deprecated, and in a future version of pandas the grouping columns will be excluded from the operation. Either pass `</span><span style=\"color: #808000; text-decoration-color: #808000\">include_groups</span><span style=\"color: #808000; text-decoration-color: #808000\">=</span><span style=\"color: #808000; text-decoration-color: #808000; font-style: italic\">False</span><span style=\"color: #808000; text-decoration-color: #808000\">` to exclude the groupings or explicitly select the grouping columns after groupby to silence this warning.</span>\n",
       "</pre>\n"
      ],
      "text/plain": [
       "\u001b[1;33mC:\\Users\\Pavillon Plus\\AppData\\Local\\Temp\\ipykernel_15452\\\u001b[0m\u001b[1;33m1448036441.\u001b[0m\u001b[1;33mpy:\u001b[0m\u001b[1;33m30\u001b[0m\u001b[1;33m DeprecationWarning\u001b[0m\u001b[33m: DataFrameGroupBy.apply operated on the grouping columns. This behavior is deprecated, and in a future version of pandas the grouping columns will be excluded from the operation. Either pass `\u001b[0m\u001b[33minclude_groups\u001b[0m\u001b[33m=\u001b[0m\u001b[3;33mFalse\u001b[0m\u001b[33m` to exclude the groupings or explicitly select the grouping columns after groupby to silence this warning.\u001b[0m\n"
      ]
     },
     "metadata": {},
     "output_type": "display_data"
    },
    {
     "data": {
      "text/html": [
       "<pre style=\"white-space:pre;overflow-x:auto;line-height:normal;font-family:Menlo,'DejaVu Sans Mono',consolas,'Courier New',monospace\"><span style=\"color: #808000; text-decoration-color: #808000; font-weight: bold\">C:\\Users\\Pavillon Plus\\AppData\\Local\\Temp\\ipykernel_15452\\</span><span style=\"color: #808000; text-decoration-color: #808000; font-weight: bold\">1448036441.</span><span style=\"color: #808000; text-decoration-color: #808000; font-weight: bold\">py:</span><span style=\"color: #808000; text-decoration-color: #808000; font-weight: bold\">45</span><span style=\"color: #808000; text-decoration-color: #808000; font-weight: bold\"> DeprecationWarning</span><span style=\"color: #808000; text-decoration-color: #808000\">: DataFrameGroupBy.apply operated on the grouping columns. This behavior is deprecated, and in a future version of pandas the grouping columns will be excluded from the operation. Either pass `</span><span style=\"color: #808000; text-decoration-color: #808000\">include_groups</span><span style=\"color: #808000; text-decoration-color: #808000\">=</span><span style=\"color: #808000; text-decoration-color: #808000; font-style: italic\">False</span><span style=\"color: #808000; text-decoration-color: #808000\">` to exclude the groupings or explicitly select the grouping columns after groupby to silence this warning.</span>\n",
       "</pre>\n"
      ],
      "text/plain": [
       "\u001b[1;33mC:\\Users\\Pavillon Plus\\AppData\\Local\\Temp\\ipykernel_15452\\\u001b[0m\u001b[1;33m1448036441.\u001b[0m\u001b[1;33mpy:\u001b[0m\u001b[1;33m45\u001b[0m\u001b[1;33m DeprecationWarning\u001b[0m\u001b[33m: DataFrameGroupBy.apply operated on the grouping columns. This behavior is deprecated, and in a future version of pandas the grouping columns will be excluded from the operation. Either pass `\u001b[0m\u001b[33minclude_groups\u001b[0m\u001b[33m=\u001b[0m\u001b[3;33mFalse\u001b[0m\u001b[33m` to exclude the groupings or explicitly select the grouping columns after groupby to silence this warning.\u001b[0m\n"
      ]
     },
     "metadata": {},
     "output_type": "display_data"
    },
    {
     "name": "stdout",
     "output_type": "stream",
     "text": [
      "Hourly aggregates saved to: hourly_aggregates\\hourly_2024-01-09.parquet\n",
      "Processing file: 2024-01-09.parquet\n",
      "                       Hour  avg_sell_price  min_sell_price  max_sell_price  \\\n",
      "0 2024-01-09 00:00:00+00:00       64.398462           36.47           99.60   \n",
      "1 2024-01-09 01:00:00+00:00       52.974167           23.40           99.68   \n",
      "2 2024-01-09 02:00:00+00:00       64.462000           28.58           98.13   \n",
      "3 2024-01-09 03:00:00+00:00       54.376500           23.38           90.40   \n",
      "4 2024-01-09 04:00:00+00:00       64.108667           24.56           96.61   \n",
      "\n",
      "   total_sell_volume  sell_vwap  avg_buy_price  min_buy_price  max_buy_price  \\\n",
      "0            15903.0  67.666586      65.184762          20.84          95.24   \n",
      "1            10300.0  54.177372      56.247647          20.60          98.39   \n",
      "2            16169.0  73.376005      64.227059          20.69          96.12   \n",
      "3            57250.0  45.002935      65.241667          23.00          99.26   \n",
      "4            53648.0  64.242301      63.881176          21.44          97.83   \n",
      "\n",
      "   total_buy_volume   buy_vwap  \n",
      "0           20787.0  63.385326  \n",
      "1           18183.0  56.185148  \n",
      "2           40897.0  81.256349  \n",
      "3           98021.0  75.846531  \n",
      "4           16087.0  63.211741  \n"
     ]
    },
    {
     "data": {
      "text/html": [
       "<pre style=\"white-space:pre;overflow-x:auto;line-height:normal;font-family:Menlo,'DejaVu Sans Mono',consolas,'Courier New',monospace\"><span style=\"color: #808000; text-decoration-color: #808000; font-weight: bold\">C:\\Users\\Pavillon Plus\\AppData\\Local\\Temp\\ipykernel_15452\\</span><span style=\"color: #808000; text-decoration-color: #808000; font-weight: bold\">1448036441.</span><span style=\"color: #808000; text-decoration-color: #808000; font-weight: bold\">py:</span><span style=\"color: #808000; text-decoration-color: #808000; font-weight: bold\">12</span><span style=\"color: #808000; text-decoration-color: #808000; font-weight: bold\"> FutureWarning</span><span style=\"color: #808000; text-decoration-color: #808000\">: </span><span style=\"color: #808000; text-decoration-color: #808000\">'H'</span><span style=\"color: #808000; text-decoration-color: #808000\"> is deprecated and will be removed in a future version, please use </span><span style=\"color: #808000; text-decoration-color: #808000\">'h'</span><span style=\"color: #808000; text-decoration-color: #808000\"> instead.</span>\n",
       "</pre>\n"
      ],
      "text/plain": [
       "\u001b[1;33mC:\\Users\\Pavillon Plus\\AppData\\Local\\Temp\\ipykernel_15452\\\u001b[0m\u001b[1;33m1448036441.\u001b[0m\u001b[1;33mpy:\u001b[0m\u001b[1;33m12\u001b[0m\u001b[1;33m FutureWarning\u001b[0m\u001b[33m: \u001b[0m\u001b[33m'H'\u001b[0m\u001b[33m is deprecated and will be removed in a future version, please use \u001b[0m\u001b[33m'h'\u001b[0m\u001b[33m instead.\u001b[0m\n"
      ]
     },
     "metadata": {},
     "output_type": "display_data"
    },
    {
     "data": {
      "text/html": [
       "<pre style=\"white-space:pre;overflow-x:auto;line-height:normal;font-family:Menlo,'DejaVu Sans Mono',consolas,'Courier New',monospace\"><span style=\"color: #808000; text-decoration-color: #808000; font-weight: bold\">C:\\Users\\Pavillon Plus\\AppData\\Local\\Temp\\ipykernel_15452\\</span><span style=\"color: #808000; text-decoration-color: #808000; font-weight: bold\">1448036441.</span><span style=\"color: #808000; text-decoration-color: #808000; font-weight: bold\">py:</span><span style=\"color: #808000; text-decoration-color: #808000; font-weight: bold\">30</span><span style=\"color: #808000; text-decoration-color: #808000; font-weight: bold\"> DeprecationWarning</span><span style=\"color: #808000; text-decoration-color: #808000\">: DataFrameGroupBy.apply operated on the grouping columns. This behavior is deprecated, and in a future version of pandas the grouping columns will be excluded from the operation. Either pass `</span><span style=\"color: #808000; text-decoration-color: #808000\">include_groups</span><span style=\"color: #808000; text-decoration-color: #808000\">=</span><span style=\"color: #808000; text-decoration-color: #808000; font-style: italic\">False</span><span style=\"color: #808000; text-decoration-color: #808000\">` to exclude the groupings or explicitly select the grouping columns after groupby to silence this warning.</span>\n",
       "</pre>\n"
      ],
      "text/plain": [
       "\u001b[1;33mC:\\Users\\Pavillon Plus\\AppData\\Local\\Temp\\ipykernel_15452\\\u001b[0m\u001b[1;33m1448036441.\u001b[0m\u001b[1;33mpy:\u001b[0m\u001b[1;33m30\u001b[0m\u001b[1;33m DeprecationWarning\u001b[0m\u001b[33m: DataFrameGroupBy.apply operated on the grouping columns. This behavior is deprecated, and in a future version of pandas the grouping columns will be excluded from the operation. Either pass `\u001b[0m\u001b[33minclude_groups\u001b[0m\u001b[33m=\u001b[0m\u001b[3;33mFalse\u001b[0m\u001b[33m` to exclude the groupings or explicitly select the grouping columns after groupby to silence this warning.\u001b[0m\n"
      ]
     },
     "metadata": {},
     "output_type": "display_data"
    },
    {
     "data": {
      "text/html": [
       "<pre style=\"white-space:pre;overflow-x:auto;line-height:normal;font-family:Menlo,'DejaVu Sans Mono',consolas,'Courier New',monospace\"><span style=\"color: #808000; text-decoration-color: #808000; font-weight: bold\">C:\\Users\\Pavillon Plus\\AppData\\Local\\Temp\\ipykernel_15452\\</span><span style=\"color: #808000; text-decoration-color: #808000; font-weight: bold\">1448036441.</span><span style=\"color: #808000; text-decoration-color: #808000; font-weight: bold\">py:</span><span style=\"color: #808000; text-decoration-color: #808000; font-weight: bold\">45</span><span style=\"color: #808000; text-decoration-color: #808000; font-weight: bold\"> DeprecationWarning</span><span style=\"color: #808000; text-decoration-color: #808000\">: DataFrameGroupBy.apply operated on the grouping columns. This behavior is deprecated, and in a future version of pandas the grouping columns will be excluded from the operation. Either pass `</span><span style=\"color: #808000; text-decoration-color: #808000\">include_groups</span><span style=\"color: #808000; text-decoration-color: #808000\">=</span><span style=\"color: #808000; text-decoration-color: #808000; font-style: italic\">False</span><span style=\"color: #808000; text-decoration-color: #808000\">` to exclude the groupings or explicitly select the grouping columns after groupby to silence this warning.</span>\n",
       "</pre>\n"
      ],
      "text/plain": [
       "\u001b[1;33mC:\\Users\\Pavillon Plus\\AppData\\Local\\Temp\\ipykernel_15452\\\u001b[0m\u001b[1;33m1448036441.\u001b[0m\u001b[1;33mpy:\u001b[0m\u001b[1;33m45\u001b[0m\u001b[1;33m DeprecationWarning\u001b[0m\u001b[33m: DataFrameGroupBy.apply operated on the grouping columns. This behavior is deprecated, and in a future version of pandas the grouping columns will be excluded from the operation. Either pass `\u001b[0m\u001b[33minclude_groups\u001b[0m\u001b[33m=\u001b[0m\u001b[3;33mFalse\u001b[0m\u001b[33m` to exclude the groupings or explicitly select the grouping columns after groupby to silence this warning.\u001b[0m\n"
      ]
     },
     "metadata": {},
     "output_type": "display_data"
    },
    {
     "name": "stdout",
     "output_type": "stream",
     "text": [
      "Hourly aggregates saved to: hourly_aggregates\\hourly_2024-01-10.parquet\n",
      "Processing file: 2024-01-10.parquet\n",
      "                       Hour  avg_sell_price  min_sell_price  max_sell_price  \\\n",
      "0 2024-01-10 00:00:00+00:00       57.417895           26.47           88.14   \n",
      "1 2024-01-10 01:00:00+00:00       55.778235           21.60           95.65   \n",
      "2 2024-01-10 02:00:00+00:00       54.034000           23.31           98.89   \n",
      "3 2024-01-10 03:00:00+00:00       66.792000           22.89           93.29   \n",
      "4 2024-01-10 04:00:00+00:00       50.765238           22.18           95.61   \n",
      "\n",
      "   total_sell_volume  sell_vwap  avg_buy_price  min_buy_price  max_buy_price  \\\n",
      "0            40601.0  61.911058      70.217000          24.09          99.51   \n",
      "1            20723.0  52.806681      65.591765          23.06          96.90   \n",
      "2            16910.0  53.200862      54.353913          20.26          98.24   \n",
      "3            24697.0  70.069205      53.526000          21.00          97.17   \n",
      "4            81900.0  56.437461      58.880870          22.05          93.03   \n",
      "\n",
      "   total_buy_volume   buy_vwap  \n",
      "0           26122.0  68.499163  \n",
      "1           17025.0  68.720034  \n",
      "2           59130.0  77.760353  \n",
      "3           12830.0  55.380086  \n",
      "4           23163.0  60.581530  \n"
     ]
    },
    {
     "data": {
      "text/html": [
       "<pre style=\"white-space:pre;overflow-x:auto;line-height:normal;font-family:Menlo,'DejaVu Sans Mono',consolas,'Courier New',monospace\"><span style=\"color: #808000; text-decoration-color: #808000; font-weight: bold\">C:\\Users\\Pavillon Plus\\AppData\\Local\\Temp\\ipykernel_15452\\</span><span style=\"color: #808000; text-decoration-color: #808000; font-weight: bold\">1448036441.</span><span style=\"color: #808000; text-decoration-color: #808000; font-weight: bold\">py:</span><span style=\"color: #808000; text-decoration-color: #808000; font-weight: bold\">12</span><span style=\"color: #808000; text-decoration-color: #808000; font-weight: bold\"> FutureWarning</span><span style=\"color: #808000; text-decoration-color: #808000\">: </span><span style=\"color: #808000; text-decoration-color: #808000\">'H'</span><span style=\"color: #808000; text-decoration-color: #808000\"> is deprecated and will be removed in a future version, please use </span><span style=\"color: #808000; text-decoration-color: #808000\">'h'</span><span style=\"color: #808000; text-decoration-color: #808000\"> instead.</span>\n",
       "</pre>\n"
      ],
      "text/plain": [
       "\u001b[1;33mC:\\Users\\Pavillon Plus\\AppData\\Local\\Temp\\ipykernel_15452\\\u001b[0m\u001b[1;33m1448036441.\u001b[0m\u001b[1;33mpy:\u001b[0m\u001b[1;33m12\u001b[0m\u001b[1;33m FutureWarning\u001b[0m\u001b[33m: \u001b[0m\u001b[33m'H'\u001b[0m\u001b[33m is deprecated and will be removed in a future version, please use \u001b[0m\u001b[33m'h'\u001b[0m\u001b[33m instead.\u001b[0m\n"
      ]
     },
     "metadata": {},
     "output_type": "display_data"
    },
    {
     "data": {
      "text/html": [
       "<pre style=\"white-space:pre;overflow-x:auto;line-height:normal;font-family:Menlo,'DejaVu Sans Mono',consolas,'Courier New',monospace\"><span style=\"color: #808000; text-decoration-color: #808000; font-weight: bold\">C:\\Users\\Pavillon Plus\\AppData\\Local\\Temp\\ipykernel_15452\\</span><span style=\"color: #808000; text-decoration-color: #808000; font-weight: bold\">1448036441.</span><span style=\"color: #808000; text-decoration-color: #808000; font-weight: bold\">py:</span><span style=\"color: #808000; text-decoration-color: #808000; font-weight: bold\">30</span><span style=\"color: #808000; text-decoration-color: #808000; font-weight: bold\"> DeprecationWarning</span><span style=\"color: #808000; text-decoration-color: #808000\">: DataFrameGroupBy.apply operated on the grouping columns. This behavior is deprecated, and in a future version of pandas the grouping columns will be excluded from the operation. Either pass `</span><span style=\"color: #808000; text-decoration-color: #808000\">include_groups</span><span style=\"color: #808000; text-decoration-color: #808000\">=</span><span style=\"color: #808000; text-decoration-color: #808000; font-style: italic\">False</span><span style=\"color: #808000; text-decoration-color: #808000\">` to exclude the groupings or explicitly select the grouping columns after groupby to silence this warning.</span>\n",
       "</pre>\n"
      ],
      "text/plain": [
       "\u001b[1;33mC:\\Users\\Pavillon Plus\\AppData\\Local\\Temp\\ipykernel_15452\\\u001b[0m\u001b[1;33m1448036441.\u001b[0m\u001b[1;33mpy:\u001b[0m\u001b[1;33m30\u001b[0m\u001b[1;33m DeprecationWarning\u001b[0m\u001b[33m: DataFrameGroupBy.apply operated on the grouping columns. This behavior is deprecated, and in a future version of pandas the grouping columns will be excluded from the operation. Either pass `\u001b[0m\u001b[33minclude_groups\u001b[0m\u001b[33m=\u001b[0m\u001b[3;33mFalse\u001b[0m\u001b[33m` to exclude the groupings or explicitly select the grouping columns after groupby to silence this warning.\u001b[0m\n"
      ]
     },
     "metadata": {},
     "output_type": "display_data"
    },
    {
     "data": {
      "text/html": [
       "<pre style=\"white-space:pre;overflow-x:auto;line-height:normal;font-family:Menlo,'DejaVu Sans Mono',consolas,'Courier New',monospace\"><span style=\"color: #808000; text-decoration-color: #808000; font-weight: bold\">C:\\Users\\Pavillon Plus\\AppData\\Local\\Temp\\ipykernel_15452\\</span><span style=\"color: #808000; text-decoration-color: #808000; font-weight: bold\">1448036441.</span><span style=\"color: #808000; text-decoration-color: #808000; font-weight: bold\">py:</span><span style=\"color: #808000; text-decoration-color: #808000; font-weight: bold\">45</span><span style=\"color: #808000; text-decoration-color: #808000; font-weight: bold\"> DeprecationWarning</span><span style=\"color: #808000; text-decoration-color: #808000\">: DataFrameGroupBy.apply operated on the grouping columns. This behavior is deprecated, and in a future version of pandas the grouping columns will be excluded from the operation. Either pass `</span><span style=\"color: #808000; text-decoration-color: #808000\">include_groups</span><span style=\"color: #808000; text-decoration-color: #808000\">=</span><span style=\"color: #808000; text-decoration-color: #808000; font-style: italic\">False</span><span style=\"color: #808000; text-decoration-color: #808000\">` to exclude the groupings or explicitly select the grouping columns after groupby to silence this warning.</span>\n",
       "</pre>\n"
      ],
      "text/plain": [
       "\u001b[1;33mC:\\Users\\Pavillon Plus\\AppData\\Local\\Temp\\ipykernel_15452\\\u001b[0m\u001b[1;33m1448036441.\u001b[0m\u001b[1;33mpy:\u001b[0m\u001b[1;33m45\u001b[0m\u001b[1;33m DeprecationWarning\u001b[0m\u001b[33m: DataFrameGroupBy.apply operated on the grouping columns. This behavior is deprecated, and in a future version of pandas the grouping columns will be excluded from the operation. Either pass `\u001b[0m\u001b[33minclude_groups\u001b[0m\u001b[33m=\u001b[0m\u001b[3;33mFalse\u001b[0m\u001b[33m` to exclude the groupings or explicitly select the grouping columns after groupby to silence this warning.\u001b[0m\n"
      ]
     },
     "metadata": {},
     "output_type": "display_data"
    },
    {
     "name": "stdout",
     "output_type": "stream",
     "text": [
      "Hourly aggregates saved to: hourly_aggregates\\hourly_2024-01-11.parquet\n",
      "Processing file: 2024-01-11.parquet\n",
      "                       Hour  avg_sell_price  min_sell_price  max_sell_price  \\\n",
      "0 2024-01-11 00:00:00+00:00       57.613333           22.66           93.35   \n",
      "1 2024-01-11 01:00:00+00:00       63.482143           25.06           91.00   \n",
      "2 2024-01-11 02:00:00+00:00       67.635556           21.83           98.83   \n",
      "3 2024-01-11 03:00:00+00:00       63.550000           21.08           95.11   \n",
      "4 2024-01-11 04:00:00+00:00       58.156667           20.00           98.38   \n",
      "\n",
      "   total_sell_volume  sell_vwap  avg_buy_price  min_buy_price  max_buy_price  \\\n",
      "0            18527.0  59.061076      66.464643          22.58          95.76   \n",
      "1            15642.0  65.626842      63.950455          25.33          95.27   \n",
      "2            55761.0  77.637360      57.608750          22.24          94.80   \n",
      "3            60183.0  68.862212      65.884000          39.52          92.00   \n",
      "4            37361.0  64.592604      61.627647          20.54          97.09   \n",
      "\n",
      "   total_buy_volume   buy_vwap  \n",
      "0           30448.0  62.895100  \n",
      "1           60266.0  52.618159  \n",
      "2           46666.0  71.452979  \n",
      "3           23261.0  68.266991  \n",
      "4           17722.0  61.331148  \n"
     ]
    },
    {
     "data": {
      "text/html": [
       "<pre style=\"white-space:pre;overflow-x:auto;line-height:normal;font-family:Menlo,'DejaVu Sans Mono',consolas,'Courier New',monospace\"><span style=\"color: #808000; text-decoration-color: #808000; font-weight: bold\">C:\\Users\\Pavillon Plus\\AppData\\Local\\Temp\\ipykernel_15452\\</span><span style=\"color: #808000; text-decoration-color: #808000; font-weight: bold\">1448036441.</span><span style=\"color: #808000; text-decoration-color: #808000; font-weight: bold\">py:</span><span style=\"color: #808000; text-decoration-color: #808000; font-weight: bold\">12</span><span style=\"color: #808000; text-decoration-color: #808000; font-weight: bold\"> FutureWarning</span><span style=\"color: #808000; text-decoration-color: #808000\">: </span><span style=\"color: #808000; text-decoration-color: #808000\">'H'</span><span style=\"color: #808000; text-decoration-color: #808000\"> is deprecated and will be removed in a future version, please use </span><span style=\"color: #808000; text-decoration-color: #808000\">'h'</span><span style=\"color: #808000; text-decoration-color: #808000\"> instead.</span>\n",
       "</pre>\n"
      ],
      "text/plain": [
       "\u001b[1;33mC:\\Users\\Pavillon Plus\\AppData\\Local\\Temp\\ipykernel_15452\\\u001b[0m\u001b[1;33m1448036441.\u001b[0m\u001b[1;33mpy:\u001b[0m\u001b[1;33m12\u001b[0m\u001b[1;33m FutureWarning\u001b[0m\u001b[33m: \u001b[0m\u001b[33m'H'\u001b[0m\u001b[33m is deprecated and will be removed in a future version, please use \u001b[0m\u001b[33m'h'\u001b[0m\u001b[33m instead.\u001b[0m\n"
      ]
     },
     "metadata": {},
     "output_type": "display_data"
    },
    {
     "data": {
      "text/html": [
       "<pre style=\"white-space:pre;overflow-x:auto;line-height:normal;font-family:Menlo,'DejaVu Sans Mono',consolas,'Courier New',monospace\"><span style=\"color: #808000; text-decoration-color: #808000; font-weight: bold\">C:\\Users\\Pavillon Plus\\AppData\\Local\\Temp\\ipykernel_15452\\</span><span style=\"color: #808000; text-decoration-color: #808000; font-weight: bold\">1448036441.</span><span style=\"color: #808000; text-decoration-color: #808000; font-weight: bold\">py:</span><span style=\"color: #808000; text-decoration-color: #808000; font-weight: bold\">30</span><span style=\"color: #808000; text-decoration-color: #808000; font-weight: bold\"> DeprecationWarning</span><span style=\"color: #808000; text-decoration-color: #808000\">: DataFrameGroupBy.apply operated on the grouping columns. This behavior is deprecated, and in a future version of pandas the grouping columns will be excluded from the operation. Either pass `</span><span style=\"color: #808000; text-decoration-color: #808000\">include_groups</span><span style=\"color: #808000; text-decoration-color: #808000\">=</span><span style=\"color: #808000; text-decoration-color: #808000; font-style: italic\">False</span><span style=\"color: #808000; text-decoration-color: #808000\">` to exclude the groupings or explicitly select the grouping columns after groupby to silence this warning.</span>\n",
       "</pre>\n"
      ],
      "text/plain": [
       "\u001b[1;33mC:\\Users\\Pavillon Plus\\AppData\\Local\\Temp\\ipykernel_15452\\\u001b[0m\u001b[1;33m1448036441.\u001b[0m\u001b[1;33mpy:\u001b[0m\u001b[1;33m30\u001b[0m\u001b[1;33m DeprecationWarning\u001b[0m\u001b[33m: DataFrameGroupBy.apply operated on the grouping columns. This behavior is deprecated, and in a future version of pandas the grouping columns will be excluded from the operation. Either pass `\u001b[0m\u001b[33minclude_groups\u001b[0m\u001b[33m=\u001b[0m\u001b[3;33mFalse\u001b[0m\u001b[33m` to exclude the groupings or explicitly select the grouping columns after groupby to silence this warning.\u001b[0m\n"
      ]
     },
     "metadata": {},
     "output_type": "display_data"
    },
    {
     "data": {
      "text/html": [
       "<pre style=\"white-space:pre;overflow-x:auto;line-height:normal;font-family:Menlo,'DejaVu Sans Mono',consolas,'Courier New',monospace\"><span style=\"color: #808000; text-decoration-color: #808000; font-weight: bold\">C:\\Users\\Pavillon Plus\\AppData\\Local\\Temp\\ipykernel_15452\\</span><span style=\"color: #808000; text-decoration-color: #808000; font-weight: bold\">1448036441.</span><span style=\"color: #808000; text-decoration-color: #808000; font-weight: bold\">py:</span><span style=\"color: #808000; text-decoration-color: #808000; font-weight: bold\">45</span><span style=\"color: #808000; text-decoration-color: #808000; font-weight: bold\"> DeprecationWarning</span><span style=\"color: #808000; text-decoration-color: #808000\">: DataFrameGroupBy.apply operated on the grouping columns. This behavior is deprecated, and in a future version of pandas the grouping columns will be excluded from the operation. Either pass `</span><span style=\"color: #808000; text-decoration-color: #808000\">include_groups</span><span style=\"color: #808000; text-decoration-color: #808000\">=</span><span style=\"color: #808000; text-decoration-color: #808000; font-style: italic\">False</span><span style=\"color: #808000; text-decoration-color: #808000\">` to exclude the groupings or explicitly select the grouping columns after groupby to silence this warning.</span>\n",
       "</pre>\n"
      ],
      "text/plain": [
       "\u001b[1;33mC:\\Users\\Pavillon Plus\\AppData\\Local\\Temp\\ipykernel_15452\\\u001b[0m\u001b[1;33m1448036441.\u001b[0m\u001b[1;33mpy:\u001b[0m\u001b[1;33m45\u001b[0m\u001b[1;33m DeprecationWarning\u001b[0m\u001b[33m: DataFrameGroupBy.apply operated on the grouping columns. This behavior is deprecated, and in a future version of pandas the grouping columns will be excluded from the operation. Either pass `\u001b[0m\u001b[33minclude_groups\u001b[0m\u001b[33m=\u001b[0m\u001b[3;33mFalse\u001b[0m\u001b[33m` to exclude the groupings or explicitly select the grouping columns after groupby to silence this warning.\u001b[0m\n"
      ]
     },
     "metadata": {},
     "output_type": "display_data"
    },
    {
     "name": "stdout",
     "output_type": "stream",
     "text": [
      "Hourly aggregates saved to: hourly_aggregates\\hourly_2024-01-12.parquet\n",
      "Processing file: 2024-01-12.parquet\n",
      "                       Hour  avg_sell_price  min_sell_price  max_sell_price  \\\n",
      "0 2024-01-12 00:00:00+00:00       56.110000           22.94           96.47   \n",
      "1 2024-01-12 01:00:00+00:00       60.631000           21.92           97.42   \n",
      "2 2024-01-12 02:00:00+00:00       55.065263           20.06           85.41   \n",
      "3 2024-01-12 03:00:00+00:00       60.048462           21.13           95.00   \n",
      "4 2024-01-12 04:00:00+00:00       56.593158           20.94           94.00   \n",
      "\n",
      "   total_sell_volume  sell_vwap  avg_buy_price  min_buy_price  max_buy_price  \\\n",
      "0            20451.0  57.121350      64.657500          25.84          98.24   \n",
      "1            24247.0  59.665974      61.279091          21.54          95.47   \n",
      "2            16773.0  54.227417      58.926111          21.04          96.07   \n",
      "3            15396.0  63.750242      65.605000          39.32          99.67   \n",
      "4            18347.0  54.544395      53.580000          24.05          82.86   \n",
      "\n",
      "   total_buy_volume   buy_vwap  \n",
      "0           21442.0  65.335332  \n",
      "1           21802.0  59.292710  \n",
      "2           20796.0  54.548504  \n",
      "3           11571.0  67.522494  \n",
      "4           20299.0  54.270743  \n"
     ]
    },
    {
     "data": {
      "text/html": [
       "<pre style=\"white-space:pre;overflow-x:auto;line-height:normal;font-family:Menlo,'DejaVu Sans Mono',consolas,'Courier New',monospace\"><span style=\"color: #808000; text-decoration-color: #808000; font-weight: bold\">C:\\Users\\Pavillon Plus\\AppData\\Local\\Temp\\ipykernel_15452\\</span><span style=\"color: #808000; text-decoration-color: #808000; font-weight: bold\">1448036441.</span><span style=\"color: #808000; text-decoration-color: #808000; font-weight: bold\">py:</span><span style=\"color: #808000; text-decoration-color: #808000; font-weight: bold\">12</span><span style=\"color: #808000; text-decoration-color: #808000; font-weight: bold\"> FutureWarning</span><span style=\"color: #808000; text-decoration-color: #808000\">: </span><span style=\"color: #808000; text-decoration-color: #808000\">'H'</span><span style=\"color: #808000; text-decoration-color: #808000\"> is deprecated and will be removed in a future version, please use </span><span style=\"color: #808000; text-decoration-color: #808000\">'h'</span><span style=\"color: #808000; text-decoration-color: #808000\"> instead.</span>\n",
       "</pre>\n"
      ],
      "text/plain": [
       "\u001b[1;33mC:\\Users\\Pavillon Plus\\AppData\\Local\\Temp\\ipykernel_15452\\\u001b[0m\u001b[1;33m1448036441.\u001b[0m\u001b[1;33mpy:\u001b[0m\u001b[1;33m12\u001b[0m\u001b[1;33m FutureWarning\u001b[0m\u001b[33m: \u001b[0m\u001b[33m'H'\u001b[0m\u001b[33m is deprecated and will be removed in a future version, please use \u001b[0m\u001b[33m'h'\u001b[0m\u001b[33m instead.\u001b[0m\n"
      ]
     },
     "metadata": {},
     "output_type": "display_data"
    },
    {
     "data": {
      "text/html": [
       "<pre style=\"white-space:pre;overflow-x:auto;line-height:normal;font-family:Menlo,'DejaVu Sans Mono',consolas,'Courier New',monospace\"><span style=\"color: #808000; text-decoration-color: #808000; font-weight: bold\">C:\\Users\\Pavillon Plus\\AppData\\Local\\Temp\\ipykernel_15452\\</span><span style=\"color: #808000; text-decoration-color: #808000; font-weight: bold\">1448036441.</span><span style=\"color: #808000; text-decoration-color: #808000; font-weight: bold\">py:</span><span style=\"color: #808000; text-decoration-color: #808000; font-weight: bold\">30</span><span style=\"color: #808000; text-decoration-color: #808000; font-weight: bold\"> DeprecationWarning</span><span style=\"color: #808000; text-decoration-color: #808000\">: DataFrameGroupBy.apply operated on the grouping columns. This behavior is deprecated, and in a future version of pandas the grouping columns will be excluded from the operation. Either pass `</span><span style=\"color: #808000; text-decoration-color: #808000\">include_groups</span><span style=\"color: #808000; text-decoration-color: #808000\">=</span><span style=\"color: #808000; text-decoration-color: #808000; font-style: italic\">False</span><span style=\"color: #808000; text-decoration-color: #808000\">` to exclude the groupings or explicitly select the grouping columns after groupby to silence this warning.</span>\n",
       "</pre>\n"
      ],
      "text/plain": [
       "\u001b[1;33mC:\\Users\\Pavillon Plus\\AppData\\Local\\Temp\\ipykernel_15452\\\u001b[0m\u001b[1;33m1448036441.\u001b[0m\u001b[1;33mpy:\u001b[0m\u001b[1;33m30\u001b[0m\u001b[1;33m DeprecationWarning\u001b[0m\u001b[33m: DataFrameGroupBy.apply operated on the grouping columns. This behavior is deprecated, and in a future version of pandas the grouping columns will be excluded from the operation. Either pass `\u001b[0m\u001b[33minclude_groups\u001b[0m\u001b[33m=\u001b[0m\u001b[3;33mFalse\u001b[0m\u001b[33m` to exclude the groupings or explicitly select the grouping columns after groupby to silence this warning.\u001b[0m\n"
      ]
     },
     "metadata": {},
     "output_type": "display_data"
    },
    {
     "data": {
      "text/html": [
       "<pre style=\"white-space:pre;overflow-x:auto;line-height:normal;font-family:Menlo,'DejaVu Sans Mono',consolas,'Courier New',monospace\"><span style=\"color: #808000; text-decoration-color: #808000; font-weight: bold\">C:\\Users\\Pavillon Plus\\AppData\\Local\\Temp\\ipykernel_15452\\</span><span style=\"color: #808000; text-decoration-color: #808000; font-weight: bold\">1448036441.</span><span style=\"color: #808000; text-decoration-color: #808000; font-weight: bold\">py:</span><span style=\"color: #808000; text-decoration-color: #808000; font-weight: bold\">45</span><span style=\"color: #808000; text-decoration-color: #808000; font-weight: bold\"> DeprecationWarning</span><span style=\"color: #808000; text-decoration-color: #808000\">: DataFrameGroupBy.apply operated on the grouping columns. This behavior is deprecated, and in a future version of pandas the grouping columns will be excluded from the operation. Either pass `</span><span style=\"color: #808000; text-decoration-color: #808000\">include_groups</span><span style=\"color: #808000; text-decoration-color: #808000\">=</span><span style=\"color: #808000; text-decoration-color: #808000; font-style: italic\">False</span><span style=\"color: #808000; text-decoration-color: #808000\">` to exclude the groupings or explicitly select the grouping columns after groupby to silence this warning.</span>\n",
       "</pre>\n"
      ],
      "text/plain": [
       "\u001b[1;33mC:\\Users\\Pavillon Plus\\AppData\\Local\\Temp\\ipykernel_15452\\\u001b[0m\u001b[1;33m1448036441.\u001b[0m\u001b[1;33mpy:\u001b[0m\u001b[1;33m45\u001b[0m\u001b[1;33m DeprecationWarning\u001b[0m\u001b[33m: DataFrameGroupBy.apply operated on the grouping columns. This behavior is deprecated, and in a future version of pandas the grouping columns will be excluded from the operation. Either pass `\u001b[0m\u001b[33minclude_groups\u001b[0m\u001b[33m=\u001b[0m\u001b[3;33mFalse\u001b[0m\u001b[33m` to exclude the groupings or explicitly select the grouping columns after groupby to silence this warning.\u001b[0m\n"
      ]
     },
     "metadata": {},
     "output_type": "display_data"
    },
    {
     "name": "stdout",
     "output_type": "stream",
     "text": [
      "Hourly aggregates saved to: hourly_aggregates\\hourly_2024-01-13.parquet\n",
      "Processing file: 2024-01-13.parquet\n",
      "                       Hour  avg_sell_price  min_sell_price  max_sell_price  \\\n",
      "0 2024-01-13 00:00:00+00:00       49.598235           20.43           75.64   \n",
      "1 2024-01-13 01:00:00+00:00       56.245000           24.64           96.04   \n",
      "2 2024-01-13 02:00:00+00:00       58.451765           21.89           92.17   \n",
      "3 2024-01-13 03:00:00+00:00       56.656364           21.00           92.34   \n",
      "4 2024-01-13 04:00:00+00:00       61.207500           30.08           95.07   \n",
      "\n",
      "   total_sell_volume  sell_vwap  avg_buy_price  min_buy_price  max_buy_price  \\\n",
      "0            18371.0  51.277840      57.702778          23.87          99.31   \n",
      "1            12610.0  53.882646      56.403500          24.37          97.06   \n",
      "2            15456.0  56.613783      57.722727          22.04          98.64   \n",
      "3            23692.0  56.429391      62.013077          22.18          97.03   \n",
      "4            52159.0  62.878251      66.823333          21.68          99.69   \n",
      "\n",
      "   total_buy_volume   buy_vwap  \n",
      "0           16265.0  57.166152  \n",
      "1           20262.0  56.749317  \n",
      "2           15962.0  52.640814  \n",
      "3            8105.0  58.092294  \n",
      "4          119986.0  77.554219  \n"
     ]
    },
    {
     "data": {
      "text/html": [
       "<pre style=\"white-space:pre;overflow-x:auto;line-height:normal;font-family:Menlo,'DejaVu Sans Mono',consolas,'Courier New',monospace\"><span style=\"color: #808000; text-decoration-color: #808000; font-weight: bold\">C:\\Users\\Pavillon Plus\\AppData\\Local\\Temp\\ipykernel_15452\\</span><span style=\"color: #808000; text-decoration-color: #808000; font-weight: bold\">1448036441.</span><span style=\"color: #808000; text-decoration-color: #808000; font-weight: bold\">py:</span><span style=\"color: #808000; text-decoration-color: #808000; font-weight: bold\">12</span><span style=\"color: #808000; text-decoration-color: #808000; font-weight: bold\"> FutureWarning</span><span style=\"color: #808000; text-decoration-color: #808000\">: </span><span style=\"color: #808000; text-decoration-color: #808000\">'H'</span><span style=\"color: #808000; text-decoration-color: #808000\"> is deprecated and will be removed in a future version, please use </span><span style=\"color: #808000; text-decoration-color: #808000\">'h'</span><span style=\"color: #808000; text-decoration-color: #808000\"> instead.</span>\n",
       "</pre>\n"
      ],
      "text/plain": [
       "\u001b[1;33mC:\\Users\\Pavillon Plus\\AppData\\Local\\Temp\\ipykernel_15452\\\u001b[0m\u001b[1;33m1448036441.\u001b[0m\u001b[1;33mpy:\u001b[0m\u001b[1;33m12\u001b[0m\u001b[1;33m FutureWarning\u001b[0m\u001b[33m: \u001b[0m\u001b[33m'H'\u001b[0m\u001b[33m is deprecated and will be removed in a future version, please use \u001b[0m\u001b[33m'h'\u001b[0m\u001b[33m instead.\u001b[0m\n"
      ]
     },
     "metadata": {},
     "output_type": "display_data"
    },
    {
     "data": {
      "text/html": [
       "<pre style=\"white-space:pre;overflow-x:auto;line-height:normal;font-family:Menlo,'DejaVu Sans Mono',consolas,'Courier New',monospace\"><span style=\"color: #808000; text-decoration-color: #808000; font-weight: bold\">C:\\Users\\Pavillon Plus\\AppData\\Local\\Temp\\ipykernel_15452\\</span><span style=\"color: #808000; text-decoration-color: #808000; font-weight: bold\">1448036441.</span><span style=\"color: #808000; text-decoration-color: #808000; font-weight: bold\">py:</span><span style=\"color: #808000; text-decoration-color: #808000; font-weight: bold\">30</span><span style=\"color: #808000; text-decoration-color: #808000; font-weight: bold\"> DeprecationWarning</span><span style=\"color: #808000; text-decoration-color: #808000\">: DataFrameGroupBy.apply operated on the grouping columns. This behavior is deprecated, and in a future version of pandas the grouping columns will be excluded from the operation. Either pass `</span><span style=\"color: #808000; text-decoration-color: #808000\">include_groups</span><span style=\"color: #808000; text-decoration-color: #808000\">=</span><span style=\"color: #808000; text-decoration-color: #808000; font-style: italic\">False</span><span style=\"color: #808000; text-decoration-color: #808000\">` to exclude the groupings or explicitly select the grouping columns after groupby to silence this warning.</span>\n",
       "</pre>\n"
      ],
      "text/plain": [
       "\u001b[1;33mC:\\Users\\Pavillon Plus\\AppData\\Local\\Temp\\ipykernel_15452\\\u001b[0m\u001b[1;33m1448036441.\u001b[0m\u001b[1;33mpy:\u001b[0m\u001b[1;33m30\u001b[0m\u001b[1;33m DeprecationWarning\u001b[0m\u001b[33m: DataFrameGroupBy.apply operated on the grouping columns. This behavior is deprecated, and in a future version of pandas the grouping columns will be excluded from the operation. Either pass `\u001b[0m\u001b[33minclude_groups\u001b[0m\u001b[33m=\u001b[0m\u001b[3;33mFalse\u001b[0m\u001b[33m` to exclude the groupings or explicitly select the grouping columns after groupby to silence this warning.\u001b[0m\n"
      ]
     },
     "metadata": {},
     "output_type": "display_data"
    },
    {
     "data": {
      "text/html": [
       "<pre style=\"white-space:pre;overflow-x:auto;line-height:normal;font-family:Menlo,'DejaVu Sans Mono',consolas,'Courier New',monospace\"><span style=\"color: #808000; text-decoration-color: #808000; font-weight: bold\">C:\\Users\\Pavillon Plus\\AppData\\Local\\Temp\\ipykernel_15452\\</span><span style=\"color: #808000; text-decoration-color: #808000; font-weight: bold\">1448036441.</span><span style=\"color: #808000; text-decoration-color: #808000; font-weight: bold\">py:</span><span style=\"color: #808000; text-decoration-color: #808000; font-weight: bold\">45</span><span style=\"color: #808000; text-decoration-color: #808000; font-weight: bold\"> DeprecationWarning</span><span style=\"color: #808000; text-decoration-color: #808000\">: DataFrameGroupBy.apply operated on the grouping columns. This behavior is deprecated, and in a future version of pandas the grouping columns will be excluded from the operation. Either pass `</span><span style=\"color: #808000; text-decoration-color: #808000\">include_groups</span><span style=\"color: #808000; text-decoration-color: #808000\">=</span><span style=\"color: #808000; text-decoration-color: #808000; font-style: italic\">False</span><span style=\"color: #808000; text-decoration-color: #808000\">` to exclude the groupings or explicitly select the grouping columns after groupby to silence this warning.</span>\n",
       "</pre>\n"
      ],
      "text/plain": [
       "\u001b[1;33mC:\\Users\\Pavillon Plus\\AppData\\Local\\Temp\\ipykernel_15452\\\u001b[0m\u001b[1;33m1448036441.\u001b[0m\u001b[1;33mpy:\u001b[0m\u001b[1;33m45\u001b[0m\u001b[1;33m DeprecationWarning\u001b[0m\u001b[33m: DataFrameGroupBy.apply operated on the grouping columns. This behavior is deprecated, and in a future version of pandas the grouping columns will be excluded from the operation. Either pass `\u001b[0m\u001b[33minclude_groups\u001b[0m\u001b[33m=\u001b[0m\u001b[3;33mFalse\u001b[0m\u001b[33m` to exclude the groupings or explicitly select the grouping columns after groupby to silence this warning.\u001b[0m\n"
      ]
     },
     "metadata": {},
     "output_type": "display_data"
    },
    {
     "name": "stdout",
     "output_type": "stream",
     "text": [
      "Hourly aggregates saved to: hourly_aggregates\\hourly_2024-01-14.parquet\n",
      "Processing file: 2024-01-14.parquet\n",
      "                       Hour  avg_sell_price  min_sell_price  max_sell_price  \\\n",
      "0 2024-01-14 00:00:00+00:00       59.546471           22.42           97.78   \n",
      "1 2024-01-14 01:00:00+00:00       62.334706           26.59           99.27   \n",
      "2 2024-01-14 02:00:00+00:00       62.683077           21.61           99.83   \n",
      "3 2024-01-14 03:00:00+00:00       61.656667           20.85           97.55   \n",
      "4 2024-01-14 04:00:00+00:00       61.007407           25.82           97.66   \n",
      "\n",
      "   total_sell_volume  sell_vwap  avg_buy_price  min_buy_price  max_buy_price  \\\n",
      "0            15550.0  65.264430      74.872500          43.97          98.32   \n",
      "1            61701.0  69.869937      61.899474          25.33          95.89   \n",
      "2            15282.0  61.346438      52.646000          27.56          62.32   \n",
      "3            67650.0  58.187797      62.306786          20.07          99.23   \n",
      "4            29875.0  59.303491      57.714348          21.61          98.18   \n",
      "\n",
      "   total_buy_volume   buy_vwap  \n",
      "0           16860.0  69.710296  \n",
      "1           15900.0  66.942772  \n",
      "2           11786.0  54.414415  \n",
      "3           70931.0  57.231869  \n",
      "4           69759.0  45.860561  \n"
     ]
    },
    {
     "data": {
      "text/html": [
       "<pre style=\"white-space:pre;overflow-x:auto;line-height:normal;font-family:Menlo,'DejaVu Sans Mono',consolas,'Courier New',monospace\"><span style=\"color: #808000; text-decoration-color: #808000; font-weight: bold\">C:\\Users\\Pavillon Plus\\AppData\\Local\\Temp\\ipykernel_15452\\</span><span style=\"color: #808000; text-decoration-color: #808000; font-weight: bold\">1448036441.</span><span style=\"color: #808000; text-decoration-color: #808000; font-weight: bold\">py:</span><span style=\"color: #808000; text-decoration-color: #808000; font-weight: bold\">12</span><span style=\"color: #808000; text-decoration-color: #808000; font-weight: bold\"> FutureWarning</span><span style=\"color: #808000; text-decoration-color: #808000\">: </span><span style=\"color: #808000; text-decoration-color: #808000\">'H'</span><span style=\"color: #808000; text-decoration-color: #808000\"> is deprecated and will be removed in a future version, please use </span><span style=\"color: #808000; text-decoration-color: #808000\">'h'</span><span style=\"color: #808000; text-decoration-color: #808000\"> instead.</span>\n",
       "</pre>\n"
      ],
      "text/plain": [
       "\u001b[1;33mC:\\Users\\Pavillon Plus\\AppData\\Local\\Temp\\ipykernel_15452\\\u001b[0m\u001b[1;33m1448036441.\u001b[0m\u001b[1;33mpy:\u001b[0m\u001b[1;33m12\u001b[0m\u001b[1;33m FutureWarning\u001b[0m\u001b[33m: \u001b[0m\u001b[33m'H'\u001b[0m\u001b[33m is deprecated and will be removed in a future version, please use \u001b[0m\u001b[33m'h'\u001b[0m\u001b[33m instead.\u001b[0m\n"
      ]
     },
     "metadata": {},
     "output_type": "display_data"
    },
    {
     "data": {
      "text/html": [
       "<pre style=\"white-space:pre;overflow-x:auto;line-height:normal;font-family:Menlo,'DejaVu Sans Mono',consolas,'Courier New',monospace\"><span style=\"color: #808000; text-decoration-color: #808000; font-weight: bold\">C:\\Users\\Pavillon Plus\\AppData\\Local\\Temp\\ipykernel_15452\\</span><span style=\"color: #808000; text-decoration-color: #808000; font-weight: bold\">1448036441.</span><span style=\"color: #808000; text-decoration-color: #808000; font-weight: bold\">py:</span><span style=\"color: #808000; text-decoration-color: #808000; font-weight: bold\">30</span><span style=\"color: #808000; text-decoration-color: #808000; font-weight: bold\"> DeprecationWarning</span><span style=\"color: #808000; text-decoration-color: #808000\">: DataFrameGroupBy.apply operated on the grouping columns. This behavior is deprecated, and in a future version of pandas the grouping columns will be excluded from the operation. Either pass `</span><span style=\"color: #808000; text-decoration-color: #808000\">include_groups</span><span style=\"color: #808000; text-decoration-color: #808000\">=</span><span style=\"color: #808000; text-decoration-color: #808000; font-style: italic\">False</span><span style=\"color: #808000; text-decoration-color: #808000\">` to exclude the groupings or explicitly select the grouping columns after groupby to silence this warning.</span>\n",
       "</pre>\n"
      ],
      "text/plain": [
       "\u001b[1;33mC:\\Users\\Pavillon Plus\\AppData\\Local\\Temp\\ipykernel_15452\\\u001b[0m\u001b[1;33m1448036441.\u001b[0m\u001b[1;33mpy:\u001b[0m\u001b[1;33m30\u001b[0m\u001b[1;33m DeprecationWarning\u001b[0m\u001b[33m: DataFrameGroupBy.apply operated on the grouping columns. This behavior is deprecated, and in a future version of pandas the grouping columns will be excluded from the operation. Either pass `\u001b[0m\u001b[33minclude_groups\u001b[0m\u001b[33m=\u001b[0m\u001b[3;33mFalse\u001b[0m\u001b[33m` to exclude the groupings or explicitly select the grouping columns after groupby to silence this warning.\u001b[0m\n"
      ]
     },
     "metadata": {},
     "output_type": "display_data"
    },
    {
     "data": {
      "text/html": [
       "<pre style=\"white-space:pre;overflow-x:auto;line-height:normal;font-family:Menlo,'DejaVu Sans Mono',consolas,'Courier New',monospace\"><span style=\"color: #808000; text-decoration-color: #808000; font-weight: bold\">C:\\Users\\Pavillon Plus\\AppData\\Local\\Temp\\ipykernel_15452\\</span><span style=\"color: #808000; text-decoration-color: #808000; font-weight: bold\">1448036441.</span><span style=\"color: #808000; text-decoration-color: #808000; font-weight: bold\">py:</span><span style=\"color: #808000; text-decoration-color: #808000; font-weight: bold\">45</span><span style=\"color: #808000; text-decoration-color: #808000; font-weight: bold\"> DeprecationWarning</span><span style=\"color: #808000; text-decoration-color: #808000\">: DataFrameGroupBy.apply operated on the grouping columns. This behavior is deprecated, and in a future version of pandas the grouping columns will be excluded from the operation. Either pass `</span><span style=\"color: #808000; text-decoration-color: #808000\">include_groups</span><span style=\"color: #808000; text-decoration-color: #808000\">=</span><span style=\"color: #808000; text-decoration-color: #808000; font-style: italic\">False</span><span style=\"color: #808000; text-decoration-color: #808000\">` to exclude the groupings or explicitly select the grouping columns after groupby to silence this warning.</span>\n",
       "</pre>\n"
      ],
      "text/plain": [
       "\u001b[1;33mC:\\Users\\Pavillon Plus\\AppData\\Local\\Temp\\ipykernel_15452\\\u001b[0m\u001b[1;33m1448036441.\u001b[0m\u001b[1;33mpy:\u001b[0m\u001b[1;33m45\u001b[0m\u001b[1;33m DeprecationWarning\u001b[0m\u001b[33m: DataFrameGroupBy.apply operated on the grouping columns. This behavior is deprecated, and in a future version of pandas the grouping columns will be excluded from the operation. Either pass `\u001b[0m\u001b[33minclude_groups\u001b[0m\u001b[33m=\u001b[0m\u001b[3;33mFalse\u001b[0m\u001b[33m` to exclude the groupings or explicitly select the grouping columns after groupby to silence this warning.\u001b[0m\n"
      ]
     },
     "metadata": {},
     "output_type": "display_data"
    },
    {
     "name": "stdout",
     "output_type": "stream",
     "text": [
      "Hourly aggregates saved to: hourly_aggregates\\hourly_2024-01-15.parquet\n",
      "Processing file: 2024-01-15.parquet\n",
      "                       Hour  avg_sell_price  min_sell_price  max_sell_price  \\\n",
      "0 2024-01-15 00:00:00+00:00       54.412500           21.32           95.78   \n",
      "1 2024-01-15 01:00:00+00:00       66.391667           29.20           93.35   \n",
      "2 2024-01-15 02:00:00+00:00       69.233571           21.96           99.78   \n",
      "3 2024-01-15 03:00:00+00:00       53.341818           20.71           94.00   \n",
      "4 2024-01-15 04:00:00+00:00       52.164375           24.67           97.07   \n",
      "\n",
      "   total_sell_volume  sell_vwap  avg_buy_price  min_buy_price  max_buy_price  \\\n",
      "0            15583.0  59.345290      55.650370          20.49          96.32   \n",
      "1            12410.0  64.787224      61.411667          27.62          97.46   \n",
      "2            13231.0  75.879482      53.456087          23.62          95.38   \n",
      "3            23204.0  51.592848      63.334762          22.10          99.54   \n",
      "4            13262.0  49.909802      65.245882          22.44          99.07   \n",
      "\n",
      "   total_buy_volume   buy_vwap  \n",
      "0           26719.0  56.749430  \n",
      "1           56901.0  75.974644  \n",
      "2           24785.0  54.080341  \n",
      "3           48011.0  67.923572  \n",
      "4           19416.0  70.040353  \n"
     ]
    },
    {
     "data": {
      "text/html": [
       "<pre style=\"white-space:pre;overflow-x:auto;line-height:normal;font-family:Menlo,'DejaVu Sans Mono',consolas,'Courier New',monospace\"><span style=\"color: #808000; text-decoration-color: #808000; font-weight: bold\">C:\\Users\\Pavillon Plus\\AppData\\Local\\Temp\\ipykernel_15452\\</span><span style=\"color: #808000; text-decoration-color: #808000; font-weight: bold\">1448036441.</span><span style=\"color: #808000; text-decoration-color: #808000; font-weight: bold\">py:</span><span style=\"color: #808000; text-decoration-color: #808000; font-weight: bold\">12</span><span style=\"color: #808000; text-decoration-color: #808000; font-weight: bold\"> FutureWarning</span><span style=\"color: #808000; text-decoration-color: #808000\">: </span><span style=\"color: #808000; text-decoration-color: #808000\">'H'</span><span style=\"color: #808000; text-decoration-color: #808000\"> is deprecated and will be removed in a future version, please use </span><span style=\"color: #808000; text-decoration-color: #808000\">'h'</span><span style=\"color: #808000; text-decoration-color: #808000\"> instead.</span>\n",
       "</pre>\n"
      ],
      "text/plain": [
       "\u001b[1;33mC:\\Users\\Pavillon Plus\\AppData\\Local\\Temp\\ipykernel_15452\\\u001b[0m\u001b[1;33m1448036441.\u001b[0m\u001b[1;33mpy:\u001b[0m\u001b[1;33m12\u001b[0m\u001b[1;33m FutureWarning\u001b[0m\u001b[33m: \u001b[0m\u001b[33m'H'\u001b[0m\u001b[33m is deprecated and will be removed in a future version, please use \u001b[0m\u001b[33m'h'\u001b[0m\u001b[33m instead.\u001b[0m\n"
      ]
     },
     "metadata": {},
     "output_type": "display_data"
    },
    {
     "data": {
      "text/html": [
       "<pre style=\"white-space:pre;overflow-x:auto;line-height:normal;font-family:Menlo,'DejaVu Sans Mono',consolas,'Courier New',monospace\"><span style=\"color: #808000; text-decoration-color: #808000; font-weight: bold\">C:\\Users\\Pavillon Plus\\AppData\\Local\\Temp\\ipykernel_15452\\</span><span style=\"color: #808000; text-decoration-color: #808000; font-weight: bold\">1448036441.</span><span style=\"color: #808000; text-decoration-color: #808000; font-weight: bold\">py:</span><span style=\"color: #808000; text-decoration-color: #808000; font-weight: bold\">30</span><span style=\"color: #808000; text-decoration-color: #808000; font-weight: bold\"> DeprecationWarning</span><span style=\"color: #808000; text-decoration-color: #808000\">: DataFrameGroupBy.apply operated on the grouping columns. This behavior is deprecated, and in a future version of pandas the grouping columns will be excluded from the operation. Either pass `</span><span style=\"color: #808000; text-decoration-color: #808000\">include_groups</span><span style=\"color: #808000; text-decoration-color: #808000\">=</span><span style=\"color: #808000; text-decoration-color: #808000; font-style: italic\">False</span><span style=\"color: #808000; text-decoration-color: #808000\">` to exclude the groupings or explicitly select the grouping columns after groupby to silence this warning.</span>\n",
       "</pre>\n"
      ],
      "text/plain": [
       "\u001b[1;33mC:\\Users\\Pavillon Plus\\AppData\\Local\\Temp\\ipykernel_15452\\\u001b[0m\u001b[1;33m1448036441.\u001b[0m\u001b[1;33mpy:\u001b[0m\u001b[1;33m30\u001b[0m\u001b[1;33m DeprecationWarning\u001b[0m\u001b[33m: DataFrameGroupBy.apply operated on the grouping columns. This behavior is deprecated, and in a future version of pandas the grouping columns will be excluded from the operation. Either pass `\u001b[0m\u001b[33minclude_groups\u001b[0m\u001b[33m=\u001b[0m\u001b[3;33mFalse\u001b[0m\u001b[33m` to exclude the groupings or explicitly select the grouping columns after groupby to silence this warning.\u001b[0m\n"
      ]
     },
     "metadata": {},
     "output_type": "display_data"
    },
    {
     "data": {
      "text/html": [
       "<pre style=\"white-space:pre;overflow-x:auto;line-height:normal;font-family:Menlo,'DejaVu Sans Mono',consolas,'Courier New',monospace\"><span style=\"color: #808000; text-decoration-color: #808000; font-weight: bold\">C:\\Users\\Pavillon Plus\\AppData\\Local\\Temp\\ipykernel_15452\\</span><span style=\"color: #808000; text-decoration-color: #808000; font-weight: bold\">1448036441.</span><span style=\"color: #808000; text-decoration-color: #808000; font-weight: bold\">py:</span><span style=\"color: #808000; text-decoration-color: #808000; font-weight: bold\">45</span><span style=\"color: #808000; text-decoration-color: #808000; font-weight: bold\"> DeprecationWarning</span><span style=\"color: #808000; text-decoration-color: #808000\">: DataFrameGroupBy.apply operated on the grouping columns. This behavior is deprecated, and in a future version of pandas the grouping columns will be excluded from the operation. Either pass `</span><span style=\"color: #808000; text-decoration-color: #808000\">include_groups</span><span style=\"color: #808000; text-decoration-color: #808000\">=</span><span style=\"color: #808000; text-decoration-color: #808000; font-style: italic\">False</span><span style=\"color: #808000; text-decoration-color: #808000\">` to exclude the groupings or explicitly select the grouping columns after groupby to silence this warning.</span>\n",
       "</pre>\n"
      ],
      "text/plain": [
       "\u001b[1;33mC:\\Users\\Pavillon Plus\\AppData\\Local\\Temp\\ipykernel_15452\\\u001b[0m\u001b[1;33m1448036441.\u001b[0m\u001b[1;33mpy:\u001b[0m\u001b[1;33m45\u001b[0m\u001b[1;33m DeprecationWarning\u001b[0m\u001b[33m: DataFrameGroupBy.apply operated on the grouping columns. This behavior is deprecated, and in a future version of pandas the grouping columns will be excluded from the operation. Either pass `\u001b[0m\u001b[33minclude_groups\u001b[0m\u001b[33m=\u001b[0m\u001b[3;33mFalse\u001b[0m\u001b[33m` to exclude the groupings or explicitly select the grouping columns after groupby to silence this warning.\u001b[0m\n"
      ]
     },
     "metadata": {},
     "output_type": "display_data"
    },
    {
     "name": "stdout",
     "output_type": "stream",
     "text": [
      "Hourly aggregates saved to: hourly_aggregates\\hourly_2024-01-16.parquet\n",
      "Processing file: 2024-01-16.parquet\n",
      "                       Hour  avg_sell_price  min_sell_price  max_sell_price  \\\n",
      "0 2024-01-16 00:00:00+00:00       69.615385           31.60           98.05   \n",
      "1 2024-01-16 01:00:00+00:00       54.345714           21.77           95.40   \n",
      "2 2024-01-16 02:00:00+00:00       62.229412           20.95           95.85   \n",
      "3 2024-01-16 03:00:00+00:00       60.594545           23.47           97.60   \n",
      "4 2024-01-16 04:00:00+00:00       50.507273           24.08           99.56   \n",
      "\n",
      "   total_sell_volume  sell_vwap  avg_buy_price  min_buy_price  max_buy_price  \\\n",
      "0            27466.0  69.527956      55.385000          27.07          96.10   \n",
      "1            37054.0  47.031872      61.288889          20.42          98.68   \n",
      "2            14457.0  69.326175      53.284375          24.30          91.76   \n",
      "3            14976.0  58.649744      56.855000          22.05          99.32   \n",
      "4            14050.0  51.138569      63.901739          20.35          99.28   \n",
      "\n",
      "   total_buy_volume   buy_vwap  \n",
      "0           16326.0  52.745091  \n",
      "1           25234.0  61.088498  \n",
      "2           14528.0  56.183888  \n",
      "3           24697.0  55.848305  \n",
      "4           24181.0  61.822351  \n"
     ]
    },
    {
     "data": {
      "text/html": [
       "<pre style=\"white-space:pre;overflow-x:auto;line-height:normal;font-family:Menlo,'DejaVu Sans Mono',consolas,'Courier New',monospace\"><span style=\"color: #808000; text-decoration-color: #808000; font-weight: bold\">C:\\Users\\Pavillon Plus\\AppData\\Local\\Temp\\ipykernel_15452\\</span><span style=\"color: #808000; text-decoration-color: #808000; font-weight: bold\">1448036441.</span><span style=\"color: #808000; text-decoration-color: #808000; font-weight: bold\">py:</span><span style=\"color: #808000; text-decoration-color: #808000; font-weight: bold\">12</span><span style=\"color: #808000; text-decoration-color: #808000; font-weight: bold\"> FutureWarning</span><span style=\"color: #808000; text-decoration-color: #808000\">: </span><span style=\"color: #808000; text-decoration-color: #808000\">'H'</span><span style=\"color: #808000; text-decoration-color: #808000\"> is deprecated and will be removed in a future version, please use </span><span style=\"color: #808000; text-decoration-color: #808000\">'h'</span><span style=\"color: #808000; text-decoration-color: #808000\"> instead.</span>\n",
       "</pre>\n"
      ],
      "text/plain": [
       "\u001b[1;33mC:\\Users\\Pavillon Plus\\AppData\\Local\\Temp\\ipykernel_15452\\\u001b[0m\u001b[1;33m1448036441.\u001b[0m\u001b[1;33mpy:\u001b[0m\u001b[1;33m12\u001b[0m\u001b[1;33m FutureWarning\u001b[0m\u001b[33m: \u001b[0m\u001b[33m'H'\u001b[0m\u001b[33m is deprecated and will be removed in a future version, please use \u001b[0m\u001b[33m'h'\u001b[0m\u001b[33m instead.\u001b[0m\n"
      ]
     },
     "metadata": {},
     "output_type": "display_data"
    },
    {
     "data": {
      "text/html": [
       "<pre style=\"white-space:pre;overflow-x:auto;line-height:normal;font-family:Menlo,'DejaVu Sans Mono',consolas,'Courier New',monospace\"><span style=\"color: #808000; text-decoration-color: #808000; font-weight: bold\">C:\\Users\\Pavillon Plus\\AppData\\Local\\Temp\\ipykernel_15452\\</span><span style=\"color: #808000; text-decoration-color: #808000; font-weight: bold\">1448036441.</span><span style=\"color: #808000; text-decoration-color: #808000; font-weight: bold\">py:</span><span style=\"color: #808000; text-decoration-color: #808000; font-weight: bold\">30</span><span style=\"color: #808000; text-decoration-color: #808000; font-weight: bold\"> DeprecationWarning</span><span style=\"color: #808000; text-decoration-color: #808000\">: DataFrameGroupBy.apply operated on the grouping columns. This behavior is deprecated, and in a future version of pandas the grouping columns will be excluded from the operation. Either pass `</span><span style=\"color: #808000; text-decoration-color: #808000\">include_groups</span><span style=\"color: #808000; text-decoration-color: #808000\">=</span><span style=\"color: #808000; text-decoration-color: #808000; font-style: italic\">False</span><span style=\"color: #808000; text-decoration-color: #808000\">` to exclude the groupings or explicitly select the grouping columns after groupby to silence this warning.</span>\n",
       "</pre>\n"
      ],
      "text/plain": [
       "\u001b[1;33mC:\\Users\\Pavillon Plus\\AppData\\Local\\Temp\\ipykernel_15452\\\u001b[0m\u001b[1;33m1448036441.\u001b[0m\u001b[1;33mpy:\u001b[0m\u001b[1;33m30\u001b[0m\u001b[1;33m DeprecationWarning\u001b[0m\u001b[33m: DataFrameGroupBy.apply operated on the grouping columns. This behavior is deprecated, and in a future version of pandas the grouping columns will be excluded from the operation. Either pass `\u001b[0m\u001b[33minclude_groups\u001b[0m\u001b[33m=\u001b[0m\u001b[3;33mFalse\u001b[0m\u001b[33m` to exclude the groupings or explicitly select the grouping columns after groupby to silence this warning.\u001b[0m\n"
      ]
     },
     "metadata": {},
     "output_type": "display_data"
    },
    {
     "data": {
      "text/html": [
       "<pre style=\"white-space:pre;overflow-x:auto;line-height:normal;font-family:Menlo,'DejaVu Sans Mono',consolas,'Courier New',monospace\"><span style=\"color: #808000; text-decoration-color: #808000; font-weight: bold\">C:\\Users\\Pavillon Plus\\AppData\\Local\\Temp\\ipykernel_15452\\</span><span style=\"color: #808000; text-decoration-color: #808000; font-weight: bold\">1448036441.</span><span style=\"color: #808000; text-decoration-color: #808000; font-weight: bold\">py:</span><span style=\"color: #808000; text-decoration-color: #808000; font-weight: bold\">45</span><span style=\"color: #808000; text-decoration-color: #808000; font-weight: bold\"> DeprecationWarning</span><span style=\"color: #808000; text-decoration-color: #808000\">: DataFrameGroupBy.apply operated on the grouping columns. This behavior is deprecated, and in a future version of pandas the grouping columns will be excluded from the operation. Either pass `</span><span style=\"color: #808000; text-decoration-color: #808000\">include_groups</span><span style=\"color: #808000; text-decoration-color: #808000\">=</span><span style=\"color: #808000; text-decoration-color: #808000; font-style: italic\">False</span><span style=\"color: #808000; text-decoration-color: #808000\">` to exclude the groupings or explicitly select the grouping columns after groupby to silence this warning.</span>\n",
       "</pre>\n"
      ],
      "text/plain": [
       "\u001b[1;33mC:\\Users\\Pavillon Plus\\AppData\\Local\\Temp\\ipykernel_15452\\\u001b[0m\u001b[1;33m1448036441.\u001b[0m\u001b[1;33mpy:\u001b[0m\u001b[1;33m45\u001b[0m\u001b[1;33m DeprecationWarning\u001b[0m\u001b[33m: DataFrameGroupBy.apply operated on the grouping columns. This behavior is deprecated, and in a future version of pandas the grouping columns will be excluded from the operation. Either pass `\u001b[0m\u001b[33minclude_groups\u001b[0m\u001b[33m=\u001b[0m\u001b[3;33mFalse\u001b[0m\u001b[33m` to exclude the groupings or explicitly select the grouping columns after groupby to silence this warning.\u001b[0m\n"
      ]
     },
     "metadata": {},
     "output_type": "display_data"
    },
    {
     "name": "stdout",
     "output_type": "stream",
     "text": [
      "Hourly aggregates saved to: hourly_aggregates\\hourly_2024-01-17.parquet\n",
      "Processing file: 2024-01-17.parquet\n",
      "                       Hour  avg_sell_price  min_sell_price  max_sell_price  \\\n",
      "0 2024-01-17 00:00:00+00:00       49.155238           22.88           97.60   \n",
      "1 2024-01-17 01:00:00+00:00       61.466842           30.20           97.70   \n",
      "2 2024-01-17 02:00:00+00:00       68.461333           37.34           97.97   \n",
      "3 2024-01-17 03:00:00+00:00       67.258636           27.97           97.12   \n",
      "4 2024-01-17 04:00:00+00:00       61.602105           22.87           99.47   \n",
      "\n",
      "   total_sell_volume  sell_vwap  avg_buy_price  min_buy_price  max_buy_price  \\\n",
      "0            55201.0  30.941518      58.110833          21.28          99.26   \n",
      "1            18308.0  62.709872      57.087143          21.18          99.69   \n",
      "2            15818.0  68.825317      45.694545          25.19          95.65   \n",
      "3            20871.0  69.802721      65.895455          34.80          99.27   \n",
      "4            48424.0  67.679783      55.446538          20.53          99.19   \n",
      "\n",
      "   total_buy_volume   buy_vwap  \n",
      "0           57725.0  72.974062  \n",
      "1           22508.0  55.851538  \n",
      "2            7310.0  37.273343  \n",
      "3           11698.0  58.956581  \n",
      "4           28690.0  59.040566  \n"
     ]
    },
    {
     "data": {
      "text/html": [
       "<pre style=\"white-space:pre;overflow-x:auto;line-height:normal;font-family:Menlo,'DejaVu Sans Mono',consolas,'Courier New',monospace\"><span style=\"color: #808000; text-decoration-color: #808000; font-weight: bold\">C:\\Users\\Pavillon Plus\\AppData\\Local\\Temp\\ipykernel_15452\\</span><span style=\"color: #808000; text-decoration-color: #808000; font-weight: bold\">1448036441.</span><span style=\"color: #808000; text-decoration-color: #808000; font-weight: bold\">py:</span><span style=\"color: #808000; text-decoration-color: #808000; font-weight: bold\">12</span><span style=\"color: #808000; text-decoration-color: #808000; font-weight: bold\"> FutureWarning</span><span style=\"color: #808000; text-decoration-color: #808000\">: </span><span style=\"color: #808000; text-decoration-color: #808000\">'H'</span><span style=\"color: #808000; text-decoration-color: #808000\"> is deprecated and will be removed in a future version, please use </span><span style=\"color: #808000; text-decoration-color: #808000\">'h'</span><span style=\"color: #808000; text-decoration-color: #808000\"> instead.</span>\n",
       "</pre>\n"
      ],
      "text/plain": [
       "\u001b[1;33mC:\\Users\\Pavillon Plus\\AppData\\Local\\Temp\\ipykernel_15452\\\u001b[0m\u001b[1;33m1448036441.\u001b[0m\u001b[1;33mpy:\u001b[0m\u001b[1;33m12\u001b[0m\u001b[1;33m FutureWarning\u001b[0m\u001b[33m: \u001b[0m\u001b[33m'H'\u001b[0m\u001b[33m is deprecated and will be removed in a future version, please use \u001b[0m\u001b[33m'h'\u001b[0m\u001b[33m instead.\u001b[0m\n"
      ]
     },
     "metadata": {},
     "output_type": "display_data"
    },
    {
     "data": {
      "text/html": [
       "<pre style=\"white-space:pre;overflow-x:auto;line-height:normal;font-family:Menlo,'DejaVu Sans Mono',consolas,'Courier New',monospace\"><span style=\"color: #808000; text-decoration-color: #808000; font-weight: bold\">C:\\Users\\Pavillon Plus\\AppData\\Local\\Temp\\ipykernel_15452\\</span><span style=\"color: #808000; text-decoration-color: #808000; font-weight: bold\">1448036441.</span><span style=\"color: #808000; text-decoration-color: #808000; font-weight: bold\">py:</span><span style=\"color: #808000; text-decoration-color: #808000; font-weight: bold\">30</span><span style=\"color: #808000; text-decoration-color: #808000; font-weight: bold\"> DeprecationWarning</span><span style=\"color: #808000; text-decoration-color: #808000\">: DataFrameGroupBy.apply operated on the grouping columns. This behavior is deprecated, and in a future version of pandas the grouping columns will be excluded from the operation. Either pass `</span><span style=\"color: #808000; text-decoration-color: #808000\">include_groups</span><span style=\"color: #808000; text-decoration-color: #808000\">=</span><span style=\"color: #808000; text-decoration-color: #808000; font-style: italic\">False</span><span style=\"color: #808000; text-decoration-color: #808000\">` to exclude the groupings or explicitly select the grouping columns after groupby to silence this warning.</span>\n",
       "</pre>\n"
      ],
      "text/plain": [
       "\u001b[1;33mC:\\Users\\Pavillon Plus\\AppData\\Local\\Temp\\ipykernel_15452\\\u001b[0m\u001b[1;33m1448036441.\u001b[0m\u001b[1;33mpy:\u001b[0m\u001b[1;33m30\u001b[0m\u001b[1;33m DeprecationWarning\u001b[0m\u001b[33m: DataFrameGroupBy.apply operated on the grouping columns. This behavior is deprecated, and in a future version of pandas the grouping columns will be excluded from the operation. Either pass `\u001b[0m\u001b[33minclude_groups\u001b[0m\u001b[33m=\u001b[0m\u001b[3;33mFalse\u001b[0m\u001b[33m` to exclude the groupings or explicitly select the grouping columns after groupby to silence this warning.\u001b[0m\n"
      ]
     },
     "metadata": {},
     "output_type": "display_data"
    },
    {
     "data": {
      "text/html": [
       "<pre style=\"white-space:pre;overflow-x:auto;line-height:normal;font-family:Menlo,'DejaVu Sans Mono',consolas,'Courier New',monospace\"><span style=\"color: #808000; text-decoration-color: #808000; font-weight: bold\">C:\\Users\\Pavillon Plus\\AppData\\Local\\Temp\\ipykernel_15452\\</span><span style=\"color: #808000; text-decoration-color: #808000; font-weight: bold\">1448036441.</span><span style=\"color: #808000; text-decoration-color: #808000; font-weight: bold\">py:</span><span style=\"color: #808000; text-decoration-color: #808000; font-weight: bold\">45</span><span style=\"color: #808000; text-decoration-color: #808000; font-weight: bold\"> DeprecationWarning</span><span style=\"color: #808000; text-decoration-color: #808000\">: DataFrameGroupBy.apply operated on the grouping columns. This behavior is deprecated, and in a future version of pandas the grouping columns will be excluded from the operation. Either pass `</span><span style=\"color: #808000; text-decoration-color: #808000\">include_groups</span><span style=\"color: #808000; text-decoration-color: #808000\">=</span><span style=\"color: #808000; text-decoration-color: #808000; font-style: italic\">False</span><span style=\"color: #808000; text-decoration-color: #808000\">` to exclude the groupings or explicitly select the grouping columns after groupby to silence this warning.</span>\n",
       "</pre>\n"
      ],
      "text/plain": [
       "\u001b[1;33mC:\\Users\\Pavillon Plus\\AppData\\Local\\Temp\\ipykernel_15452\\\u001b[0m\u001b[1;33m1448036441.\u001b[0m\u001b[1;33mpy:\u001b[0m\u001b[1;33m45\u001b[0m\u001b[1;33m DeprecationWarning\u001b[0m\u001b[33m: DataFrameGroupBy.apply operated on the grouping columns. This behavior is deprecated, and in a future version of pandas the grouping columns will be excluded from the operation. Either pass `\u001b[0m\u001b[33minclude_groups\u001b[0m\u001b[33m=\u001b[0m\u001b[3;33mFalse\u001b[0m\u001b[33m` to exclude the groupings or explicitly select the grouping columns after groupby to silence this warning.\u001b[0m\n"
      ]
     },
     "metadata": {},
     "output_type": "display_data"
    },
    {
     "name": "stdout",
     "output_type": "stream",
     "text": [
      "Hourly aggregates saved to: hourly_aggregates\\hourly_2024-01-18.parquet\n",
      "Processing file: 2024-01-18.parquet\n",
      "                       Hour  avg_sell_price  min_sell_price  max_sell_price  \\\n",
      "0 2024-01-18 00:00:00+00:00       68.737391           21.15           99.79   \n",
      "1 2024-01-18 01:00:00+00:00       64.852500           30.06           93.94   \n",
      "2 2024-01-18 02:00:00+00:00       57.377273           20.28           92.48   \n",
      "3 2024-01-18 03:00:00+00:00       62.456190           32.43           93.45   \n",
      "4 2024-01-18 04:00:00+00:00       56.694286           28.00           87.28   \n",
      "\n",
      "   total_sell_volume  sell_vwap  avg_buy_price  min_buy_price  max_buy_price  \\\n",
      "0            63001.0  61.334445      53.369412          24.33          94.83   \n",
      "1            21567.0  67.057011      57.548966          24.32          97.95   \n",
      "2            24424.0  58.053386      56.527778          21.49          90.60   \n",
      "3            68155.0  47.473759      62.247000          20.76          95.00   \n",
      "4            12988.0  57.260207      64.792222          31.36          98.88   \n",
      "\n",
      "   total_buy_volume   buy_vwap  \n",
      "0           14568.0  60.577487  \n",
      "1           28900.0  57.084449  \n",
      "2           55364.0  37.786617  \n",
      "3           19042.0  60.368428  \n",
      "4           23413.0  66.632020  \n"
     ]
    },
    {
     "data": {
      "text/html": [
       "<pre style=\"white-space:pre;overflow-x:auto;line-height:normal;font-family:Menlo,'DejaVu Sans Mono',consolas,'Courier New',monospace\"><span style=\"color: #808000; text-decoration-color: #808000; font-weight: bold\">C:\\Users\\Pavillon Plus\\AppData\\Local\\Temp\\ipykernel_15452\\</span><span style=\"color: #808000; text-decoration-color: #808000; font-weight: bold\">1448036441.</span><span style=\"color: #808000; text-decoration-color: #808000; font-weight: bold\">py:</span><span style=\"color: #808000; text-decoration-color: #808000; font-weight: bold\">12</span><span style=\"color: #808000; text-decoration-color: #808000; font-weight: bold\"> FutureWarning</span><span style=\"color: #808000; text-decoration-color: #808000\">: </span><span style=\"color: #808000; text-decoration-color: #808000\">'H'</span><span style=\"color: #808000; text-decoration-color: #808000\"> is deprecated and will be removed in a future version, please use </span><span style=\"color: #808000; text-decoration-color: #808000\">'h'</span><span style=\"color: #808000; text-decoration-color: #808000\"> instead.</span>\n",
       "</pre>\n"
      ],
      "text/plain": [
       "\u001b[1;33mC:\\Users\\Pavillon Plus\\AppData\\Local\\Temp\\ipykernel_15452\\\u001b[0m\u001b[1;33m1448036441.\u001b[0m\u001b[1;33mpy:\u001b[0m\u001b[1;33m12\u001b[0m\u001b[1;33m FutureWarning\u001b[0m\u001b[33m: \u001b[0m\u001b[33m'H'\u001b[0m\u001b[33m is deprecated and will be removed in a future version, please use \u001b[0m\u001b[33m'h'\u001b[0m\u001b[33m instead.\u001b[0m\n"
      ]
     },
     "metadata": {},
     "output_type": "display_data"
    },
    {
     "data": {
      "text/html": [
       "<pre style=\"white-space:pre;overflow-x:auto;line-height:normal;font-family:Menlo,'DejaVu Sans Mono',consolas,'Courier New',monospace\"><span style=\"color: #808000; text-decoration-color: #808000; font-weight: bold\">C:\\Users\\Pavillon Plus\\AppData\\Local\\Temp\\ipykernel_15452\\</span><span style=\"color: #808000; text-decoration-color: #808000; font-weight: bold\">1448036441.</span><span style=\"color: #808000; text-decoration-color: #808000; font-weight: bold\">py:</span><span style=\"color: #808000; text-decoration-color: #808000; font-weight: bold\">30</span><span style=\"color: #808000; text-decoration-color: #808000; font-weight: bold\"> DeprecationWarning</span><span style=\"color: #808000; text-decoration-color: #808000\">: DataFrameGroupBy.apply operated on the grouping columns. This behavior is deprecated, and in a future version of pandas the grouping columns will be excluded from the operation. Either pass `</span><span style=\"color: #808000; text-decoration-color: #808000\">include_groups</span><span style=\"color: #808000; text-decoration-color: #808000\">=</span><span style=\"color: #808000; text-decoration-color: #808000; font-style: italic\">False</span><span style=\"color: #808000; text-decoration-color: #808000\">` to exclude the groupings or explicitly select the grouping columns after groupby to silence this warning.</span>\n",
       "</pre>\n"
      ],
      "text/plain": [
       "\u001b[1;33mC:\\Users\\Pavillon Plus\\AppData\\Local\\Temp\\ipykernel_15452\\\u001b[0m\u001b[1;33m1448036441.\u001b[0m\u001b[1;33mpy:\u001b[0m\u001b[1;33m30\u001b[0m\u001b[1;33m DeprecationWarning\u001b[0m\u001b[33m: DataFrameGroupBy.apply operated on the grouping columns. This behavior is deprecated, and in a future version of pandas the grouping columns will be excluded from the operation. Either pass `\u001b[0m\u001b[33minclude_groups\u001b[0m\u001b[33m=\u001b[0m\u001b[3;33mFalse\u001b[0m\u001b[33m` to exclude the groupings or explicitly select the grouping columns after groupby to silence this warning.\u001b[0m\n"
      ]
     },
     "metadata": {},
     "output_type": "display_data"
    },
    {
     "data": {
      "text/html": [
       "<pre style=\"white-space:pre;overflow-x:auto;line-height:normal;font-family:Menlo,'DejaVu Sans Mono',consolas,'Courier New',monospace\"><span style=\"color: #808000; text-decoration-color: #808000; font-weight: bold\">C:\\Users\\Pavillon Plus\\AppData\\Local\\Temp\\ipykernel_15452\\</span><span style=\"color: #808000; text-decoration-color: #808000; font-weight: bold\">1448036441.</span><span style=\"color: #808000; text-decoration-color: #808000; font-weight: bold\">py:</span><span style=\"color: #808000; text-decoration-color: #808000; font-weight: bold\">45</span><span style=\"color: #808000; text-decoration-color: #808000; font-weight: bold\"> DeprecationWarning</span><span style=\"color: #808000; text-decoration-color: #808000\">: DataFrameGroupBy.apply operated on the grouping columns. This behavior is deprecated, and in a future version of pandas the grouping columns will be excluded from the operation. Either pass `</span><span style=\"color: #808000; text-decoration-color: #808000\">include_groups</span><span style=\"color: #808000; text-decoration-color: #808000\">=</span><span style=\"color: #808000; text-decoration-color: #808000; font-style: italic\">False</span><span style=\"color: #808000; text-decoration-color: #808000\">` to exclude the groupings or explicitly select the grouping columns after groupby to silence this warning.</span>\n",
       "</pre>\n"
      ],
      "text/plain": [
       "\u001b[1;33mC:\\Users\\Pavillon Plus\\AppData\\Local\\Temp\\ipykernel_15452\\\u001b[0m\u001b[1;33m1448036441.\u001b[0m\u001b[1;33mpy:\u001b[0m\u001b[1;33m45\u001b[0m\u001b[1;33m DeprecationWarning\u001b[0m\u001b[33m: DataFrameGroupBy.apply operated on the grouping columns. This behavior is deprecated, and in a future version of pandas the grouping columns will be excluded from the operation. Either pass `\u001b[0m\u001b[33minclude_groups\u001b[0m\u001b[33m=\u001b[0m\u001b[3;33mFalse\u001b[0m\u001b[33m` to exclude the groupings or explicitly select the grouping columns after groupby to silence this warning.\u001b[0m\n"
      ]
     },
     "metadata": {},
     "output_type": "display_data"
    },
    {
     "name": "stdout",
     "output_type": "stream",
     "text": [
      "Hourly aggregates saved to: hourly_aggregates\\hourly_2024-01-19.parquet\n",
      "Processing file: 2024-01-19.parquet\n",
      "                       Hour  avg_sell_price  min_sell_price  max_sell_price  \\\n",
      "0 2024-01-19 00:00:00+00:00       62.510417           26.75           95.96   \n",
      "1 2024-01-19 01:00:00+00:00       59.422000           21.96           92.88   \n",
      "2 2024-01-19 02:00:00+00:00       67.187273           27.00           97.39   \n",
      "3 2024-01-19 03:00:00+00:00       62.079000           20.70           93.33   \n",
      "4 2024-01-19 04:00:00+00:00       59.311765           23.84           98.03   \n",
      "\n",
      "   total_sell_volume  sell_vwap  avg_buy_price  min_buy_price  max_buy_price  \\\n",
      "0            67267.0  70.649500      60.790000          22.23          96.64   \n",
      "1            22416.0  58.371923      71.471818          35.56          99.65   \n",
      "2            31069.0  75.057238      64.058148          21.73          98.91   \n",
      "3            22822.0  64.377338      60.595000          20.61          98.19   \n",
      "4            16391.0  62.276289      56.411333          20.26          95.67   \n",
      "\n",
      "   total_buy_volume   buy_vwap  \n",
      "0           20427.0  57.994523  \n",
      "1           11742.0  75.593293  \n",
      "2           32838.0  62.484877  \n",
      "3           24003.0  58.542661  \n",
      "4           15971.0  57.332441  \n"
     ]
    },
    {
     "data": {
      "text/html": [
       "<pre style=\"white-space:pre;overflow-x:auto;line-height:normal;font-family:Menlo,'DejaVu Sans Mono',consolas,'Courier New',monospace\"><span style=\"color: #808000; text-decoration-color: #808000; font-weight: bold\">C:\\Users\\Pavillon Plus\\AppData\\Local\\Temp\\ipykernel_15452\\</span><span style=\"color: #808000; text-decoration-color: #808000; font-weight: bold\">1448036441.</span><span style=\"color: #808000; text-decoration-color: #808000; font-weight: bold\">py:</span><span style=\"color: #808000; text-decoration-color: #808000; font-weight: bold\">12</span><span style=\"color: #808000; text-decoration-color: #808000; font-weight: bold\"> FutureWarning</span><span style=\"color: #808000; text-decoration-color: #808000\">: </span><span style=\"color: #808000; text-decoration-color: #808000\">'H'</span><span style=\"color: #808000; text-decoration-color: #808000\"> is deprecated and will be removed in a future version, please use </span><span style=\"color: #808000; text-decoration-color: #808000\">'h'</span><span style=\"color: #808000; text-decoration-color: #808000\"> instead.</span>\n",
       "</pre>\n"
      ],
      "text/plain": [
       "\u001b[1;33mC:\\Users\\Pavillon Plus\\AppData\\Local\\Temp\\ipykernel_15452\\\u001b[0m\u001b[1;33m1448036441.\u001b[0m\u001b[1;33mpy:\u001b[0m\u001b[1;33m12\u001b[0m\u001b[1;33m FutureWarning\u001b[0m\u001b[33m: \u001b[0m\u001b[33m'H'\u001b[0m\u001b[33m is deprecated and will be removed in a future version, please use \u001b[0m\u001b[33m'h'\u001b[0m\u001b[33m instead.\u001b[0m\n"
      ]
     },
     "metadata": {},
     "output_type": "display_data"
    },
    {
     "data": {
      "text/html": [
       "<pre style=\"white-space:pre;overflow-x:auto;line-height:normal;font-family:Menlo,'DejaVu Sans Mono',consolas,'Courier New',monospace\"><span style=\"color: #808000; text-decoration-color: #808000; font-weight: bold\">C:\\Users\\Pavillon Plus\\AppData\\Local\\Temp\\ipykernel_15452\\</span><span style=\"color: #808000; text-decoration-color: #808000; font-weight: bold\">1448036441.</span><span style=\"color: #808000; text-decoration-color: #808000; font-weight: bold\">py:</span><span style=\"color: #808000; text-decoration-color: #808000; font-weight: bold\">30</span><span style=\"color: #808000; text-decoration-color: #808000; font-weight: bold\"> DeprecationWarning</span><span style=\"color: #808000; text-decoration-color: #808000\">: DataFrameGroupBy.apply operated on the grouping columns. This behavior is deprecated, and in a future version of pandas the grouping columns will be excluded from the operation. Either pass `</span><span style=\"color: #808000; text-decoration-color: #808000\">include_groups</span><span style=\"color: #808000; text-decoration-color: #808000\">=</span><span style=\"color: #808000; text-decoration-color: #808000; font-style: italic\">False</span><span style=\"color: #808000; text-decoration-color: #808000\">` to exclude the groupings or explicitly select the grouping columns after groupby to silence this warning.</span>\n",
       "</pre>\n"
      ],
      "text/plain": [
       "\u001b[1;33mC:\\Users\\Pavillon Plus\\AppData\\Local\\Temp\\ipykernel_15452\\\u001b[0m\u001b[1;33m1448036441.\u001b[0m\u001b[1;33mpy:\u001b[0m\u001b[1;33m30\u001b[0m\u001b[1;33m DeprecationWarning\u001b[0m\u001b[33m: DataFrameGroupBy.apply operated on the grouping columns. This behavior is deprecated, and in a future version of pandas the grouping columns will be excluded from the operation. Either pass `\u001b[0m\u001b[33minclude_groups\u001b[0m\u001b[33m=\u001b[0m\u001b[3;33mFalse\u001b[0m\u001b[33m` to exclude the groupings or explicitly select the grouping columns after groupby to silence this warning.\u001b[0m\n"
      ]
     },
     "metadata": {},
     "output_type": "display_data"
    },
    {
     "data": {
      "text/html": [
       "<pre style=\"white-space:pre;overflow-x:auto;line-height:normal;font-family:Menlo,'DejaVu Sans Mono',consolas,'Courier New',monospace\"><span style=\"color: #808000; text-decoration-color: #808000; font-weight: bold\">C:\\Users\\Pavillon Plus\\AppData\\Local\\Temp\\ipykernel_15452\\</span><span style=\"color: #808000; text-decoration-color: #808000; font-weight: bold\">1448036441.</span><span style=\"color: #808000; text-decoration-color: #808000; font-weight: bold\">py:</span><span style=\"color: #808000; text-decoration-color: #808000; font-weight: bold\">45</span><span style=\"color: #808000; text-decoration-color: #808000; font-weight: bold\"> DeprecationWarning</span><span style=\"color: #808000; text-decoration-color: #808000\">: DataFrameGroupBy.apply operated on the grouping columns. This behavior is deprecated, and in a future version of pandas the grouping columns will be excluded from the operation. Either pass `</span><span style=\"color: #808000; text-decoration-color: #808000\">include_groups</span><span style=\"color: #808000; text-decoration-color: #808000\">=</span><span style=\"color: #808000; text-decoration-color: #808000; font-style: italic\">False</span><span style=\"color: #808000; text-decoration-color: #808000\">` to exclude the groupings or explicitly select the grouping columns after groupby to silence this warning.</span>\n",
       "</pre>\n"
      ],
      "text/plain": [
       "\u001b[1;33mC:\\Users\\Pavillon Plus\\AppData\\Local\\Temp\\ipykernel_15452\\\u001b[0m\u001b[1;33m1448036441.\u001b[0m\u001b[1;33mpy:\u001b[0m\u001b[1;33m45\u001b[0m\u001b[1;33m DeprecationWarning\u001b[0m\u001b[33m: DataFrameGroupBy.apply operated on the grouping columns. This behavior is deprecated, and in a future version of pandas the grouping columns will be excluded from the operation. Either pass `\u001b[0m\u001b[33minclude_groups\u001b[0m\u001b[33m=\u001b[0m\u001b[3;33mFalse\u001b[0m\u001b[33m` to exclude the groupings or explicitly select the grouping columns after groupby to silence this warning.\u001b[0m\n"
      ]
     },
     "metadata": {},
     "output_type": "display_data"
    },
    {
     "name": "stdout",
     "output_type": "stream",
     "text": [
      "Hourly aggregates saved to: hourly_aggregates\\hourly_2024-01-20.parquet\n",
      "Processing file: 2024-01-20.parquet\n",
      "                       Hour  avg_sell_price  min_sell_price  max_sell_price  \\\n",
      "0 2024-01-20 00:00:00+00:00       66.427273           31.45           99.46   \n",
      "1 2024-01-20 01:00:00+00:00       65.938214           23.82           98.28   \n",
      "2 2024-01-20 02:00:00+00:00       66.977000           22.30           97.29   \n",
      "3 2024-01-20 03:00:00+00:00       63.704667           21.94           99.64   \n",
      "4 2024-01-20 04:00:00+00:00       67.219048           20.92           99.52   \n",
      "\n",
      "   total_sell_volume  sell_vwap  avg_buy_price  min_buy_price  max_buy_price  \\\n",
      "0            24488.0  64.874357      54.895909          22.07          93.27   \n",
      "1            28193.0  69.079166      68.643333          26.39          97.85   \n",
      "2            21491.0  70.051926      71.290714          30.53          96.71   \n",
      "3            26376.0  62.627720      49.787692          21.72          95.30   \n",
      "4            59097.0  76.112063      58.861250          22.09          97.88   \n",
      "\n",
      "   total_buy_volume   buy_vwap  \n",
      "0           23612.0  52.341434  \n",
      "1           19096.0  70.318213  \n",
      "2           16861.0  67.134273  \n",
      "3           42294.0  43.134967  \n",
      "4           20846.0  60.105928  \n"
     ]
    },
    {
     "data": {
      "text/html": [
       "<pre style=\"white-space:pre;overflow-x:auto;line-height:normal;font-family:Menlo,'DejaVu Sans Mono',consolas,'Courier New',monospace\"><span style=\"color: #808000; text-decoration-color: #808000; font-weight: bold\">C:\\Users\\Pavillon Plus\\AppData\\Local\\Temp\\ipykernel_15452\\</span><span style=\"color: #808000; text-decoration-color: #808000; font-weight: bold\">1448036441.</span><span style=\"color: #808000; text-decoration-color: #808000; font-weight: bold\">py:</span><span style=\"color: #808000; text-decoration-color: #808000; font-weight: bold\">12</span><span style=\"color: #808000; text-decoration-color: #808000; font-weight: bold\"> FutureWarning</span><span style=\"color: #808000; text-decoration-color: #808000\">: </span><span style=\"color: #808000; text-decoration-color: #808000\">'H'</span><span style=\"color: #808000; text-decoration-color: #808000\"> is deprecated and will be removed in a future version, please use </span><span style=\"color: #808000; text-decoration-color: #808000\">'h'</span><span style=\"color: #808000; text-decoration-color: #808000\"> instead.</span>\n",
       "</pre>\n"
      ],
      "text/plain": [
       "\u001b[1;33mC:\\Users\\Pavillon Plus\\AppData\\Local\\Temp\\ipykernel_15452\\\u001b[0m\u001b[1;33m1448036441.\u001b[0m\u001b[1;33mpy:\u001b[0m\u001b[1;33m12\u001b[0m\u001b[1;33m FutureWarning\u001b[0m\u001b[33m: \u001b[0m\u001b[33m'H'\u001b[0m\u001b[33m is deprecated and will be removed in a future version, please use \u001b[0m\u001b[33m'h'\u001b[0m\u001b[33m instead.\u001b[0m\n"
      ]
     },
     "metadata": {},
     "output_type": "display_data"
    },
    {
     "data": {
      "text/html": [
       "<pre style=\"white-space:pre;overflow-x:auto;line-height:normal;font-family:Menlo,'DejaVu Sans Mono',consolas,'Courier New',monospace\"><span style=\"color: #808000; text-decoration-color: #808000; font-weight: bold\">C:\\Users\\Pavillon Plus\\AppData\\Local\\Temp\\ipykernel_15452\\</span><span style=\"color: #808000; text-decoration-color: #808000; font-weight: bold\">1448036441.</span><span style=\"color: #808000; text-decoration-color: #808000; font-weight: bold\">py:</span><span style=\"color: #808000; text-decoration-color: #808000; font-weight: bold\">30</span><span style=\"color: #808000; text-decoration-color: #808000; font-weight: bold\"> DeprecationWarning</span><span style=\"color: #808000; text-decoration-color: #808000\">: DataFrameGroupBy.apply operated on the grouping columns. This behavior is deprecated, and in a future version of pandas the grouping columns will be excluded from the operation. Either pass `</span><span style=\"color: #808000; text-decoration-color: #808000\">include_groups</span><span style=\"color: #808000; text-decoration-color: #808000\">=</span><span style=\"color: #808000; text-decoration-color: #808000; font-style: italic\">False</span><span style=\"color: #808000; text-decoration-color: #808000\">` to exclude the groupings or explicitly select the grouping columns after groupby to silence this warning.</span>\n",
       "</pre>\n"
      ],
      "text/plain": [
       "\u001b[1;33mC:\\Users\\Pavillon Plus\\AppData\\Local\\Temp\\ipykernel_15452\\\u001b[0m\u001b[1;33m1448036441.\u001b[0m\u001b[1;33mpy:\u001b[0m\u001b[1;33m30\u001b[0m\u001b[1;33m DeprecationWarning\u001b[0m\u001b[33m: DataFrameGroupBy.apply operated on the grouping columns. This behavior is deprecated, and in a future version of pandas the grouping columns will be excluded from the operation. Either pass `\u001b[0m\u001b[33minclude_groups\u001b[0m\u001b[33m=\u001b[0m\u001b[3;33mFalse\u001b[0m\u001b[33m` to exclude the groupings or explicitly select the grouping columns after groupby to silence this warning.\u001b[0m\n"
      ]
     },
     "metadata": {},
     "output_type": "display_data"
    },
    {
     "data": {
      "text/html": [
       "<pre style=\"white-space:pre;overflow-x:auto;line-height:normal;font-family:Menlo,'DejaVu Sans Mono',consolas,'Courier New',monospace\"><span style=\"color: #808000; text-decoration-color: #808000; font-weight: bold\">C:\\Users\\Pavillon Plus\\AppData\\Local\\Temp\\ipykernel_15452\\</span><span style=\"color: #808000; text-decoration-color: #808000; font-weight: bold\">1448036441.</span><span style=\"color: #808000; text-decoration-color: #808000; font-weight: bold\">py:</span><span style=\"color: #808000; text-decoration-color: #808000; font-weight: bold\">45</span><span style=\"color: #808000; text-decoration-color: #808000; font-weight: bold\"> DeprecationWarning</span><span style=\"color: #808000; text-decoration-color: #808000\">: DataFrameGroupBy.apply operated on the grouping columns. This behavior is deprecated, and in a future version of pandas the grouping columns will be excluded from the operation. Either pass `</span><span style=\"color: #808000; text-decoration-color: #808000\">include_groups</span><span style=\"color: #808000; text-decoration-color: #808000\">=</span><span style=\"color: #808000; text-decoration-color: #808000; font-style: italic\">False</span><span style=\"color: #808000; text-decoration-color: #808000\">` to exclude the groupings or explicitly select the grouping columns after groupby to silence this warning.</span>\n",
       "</pre>\n"
      ],
      "text/plain": [
       "\u001b[1;33mC:\\Users\\Pavillon Plus\\AppData\\Local\\Temp\\ipykernel_15452\\\u001b[0m\u001b[1;33m1448036441.\u001b[0m\u001b[1;33mpy:\u001b[0m\u001b[1;33m45\u001b[0m\u001b[1;33m DeprecationWarning\u001b[0m\u001b[33m: DataFrameGroupBy.apply operated on the grouping columns. This behavior is deprecated, and in a future version of pandas the grouping columns will be excluded from the operation. Either pass `\u001b[0m\u001b[33minclude_groups\u001b[0m\u001b[33m=\u001b[0m\u001b[3;33mFalse\u001b[0m\u001b[33m` to exclude the groupings or explicitly select the grouping columns after groupby to silence this warning.\u001b[0m\n"
      ]
     },
     "metadata": {},
     "output_type": "display_data"
    },
    {
     "name": "stdout",
     "output_type": "stream",
     "text": [
      "Hourly aggregates saved to: hourly_aggregates\\hourly_2024-01-21.parquet\n",
      "Processing file: 2024-01-21.parquet\n",
      "                       Hour  avg_sell_price  min_sell_price  max_sell_price  \\\n",
      "0 2024-01-21 00:00:00+00:00       54.736400           25.30           98.97   \n",
      "1 2024-01-21 01:00:00+00:00       60.279310           21.05           99.54   \n",
      "2 2024-01-21 02:00:00+00:00       57.744444           25.96           98.82   \n",
      "3 2024-01-21 03:00:00+00:00       63.009231           25.42           98.25   \n",
      "4 2024-01-21 04:00:00+00:00       50.297500           21.87           99.00   \n",
      "\n",
      "   total_sell_volume  sell_vwap  avg_buy_price  min_buy_price  max_buy_price  \\\n",
      "0            24822.0  53.134462      59.748889          23.30          97.78   \n",
      "1            41366.0  64.162591      61.815417          24.84          96.08   \n",
      "2            21110.0  54.713900      63.057200          23.88          97.52   \n",
      "3            31222.0  61.166393      62.576800          21.03          96.40   \n",
      "4            16884.0  55.492133      60.222105          23.82          99.45   \n",
      "\n",
      "   total_buy_volume   buy_vwap  \n",
      "0           16611.0  56.833623  \n",
      "1           22842.0  61.064162  \n",
      "2           23120.0  62.991257  \n",
      "3           28471.0  60.316227  \n",
      "4           19420.0  60.542056  \n"
     ]
    },
    {
     "data": {
      "text/html": [
       "<pre style=\"white-space:pre;overflow-x:auto;line-height:normal;font-family:Menlo,'DejaVu Sans Mono',consolas,'Courier New',monospace\"><span style=\"color: #808000; text-decoration-color: #808000; font-weight: bold\">C:\\Users\\Pavillon Plus\\AppData\\Local\\Temp\\ipykernel_15452\\</span><span style=\"color: #808000; text-decoration-color: #808000; font-weight: bold\">1448036441.</span><span style=\"color: #808000; text-decoration-color: #808000; font-weight: bold\">py:</span><span style=\"color: #808000; text-decoration-color: #808000; font-weight: bold\">12</span><span style=\"color: #808000; text-decoration-color: #808000; font-weight: bold\"> FutureWarning</span><span style=\"color: #808000; text-decoration-color: #808000\">: </span><span style=\"color: #808000; text-decoration-color: #808000\">'H'</span><span style=\"color: #808000; text-decoration-color: #808000\"> is deprecated and will be removed in a future version, please use </span><span style=\"color: #808000; text-decoration-color: #808000\">'h'</span><span style=\"color: #808000; text-decoration-color: #808000\"> instead.</span>\n",
       "</pre>\n"
      ],
      "text/plain": [
       "\u001b[1;33mC:\\Users\\Pavillon Plus\\AppData\\Local\\Temp\\ipykernel_15452\\\u001b[0m\u001b[1;33m1448036441.\u001b[0m\u001b[1;33mpy:\u001b[0m\u001b[1;33m12\u001b[0m\u001b[1;33m FutureWarning\u001b[0m\u001b[33m: \u001b[0m\u001b[33m'H'\u001b[0m\u001b[33m is deprecated and will be removed in a future version, please use \u001b[0m\u001b[33m'h'\u001b[0m\u001b[33m instead.\u001b[0m\n"
      ]
     },
     "metadata": {},
     "output_type": "display_data"
    },
    {
     "data": {
      "text/html": [
       "<pre style=\"white-space:pre;overflow-x:auto;line-height:normal;font-family:Menlo,'DejaVu Sans Mono',consolas,'Courier New',monospace\"><span style=\"color: #808000; text-decoration-color: #808000; font-weight: bold\">C:\\Users\\Pavillon Plus\\AppData\\Local\\Temp\\ipykernel_15452\\</span><span style=\"color: #808000; text-decoration-color: #808000; font-weight: bold\">1448036441.</span><span style=\"color: #808000; text-decoration-color: #808000; font-weight: bold\">py:</span><span style=\"color: #808000; text-decoration-color: #808000; font-weight: bold\">30</span><span style=\"color: #808000; text-decoration-color: #808000; font-weight: bold\"> DeprecationWarning</span><span style=\"color: #808000; text-decoration-color: #808000\">: DataFrameGroupBy.apply operated on the grouping columns. This behavior is deprecated, and in a future version of pandas the grouping columns will be excluded from the operation. Either pass `</span><span style=\"color: #808000; text-decoration-color: #808000\">include_groups</span><span style=\"color: #808000; text-decoration-color: #808000\">=</span><span style=\"color: #808000; text-decoration-color: #808000; font-style: italic\">False</span><span style=\"color: #808000; text-decoration-color: #808000\">` to exclude the groupings or explicitly select the grouping columns after groupby to silence this warning.</span>\n",
       "</pre>\n"
      ],
      "text/plain": [
       "\u001b[1;33mC:\\Users\\Pavillon Plus\\AppData\\Local\\Temp\\ipykernel_15452\\\u001b[0m\u001b[1;33m1448036441.\u001b[0m\u001b[1;33mpy:\u001b[0m\u001b[1;33m30\u001b[0m\u001b[1;33m DeprecationWarning\u001b[0m\u001b[33m: DataFrameGroupBy.apply operated on the grouping columns. This behavior is deprecated, and in a future version of pandas the grouping columns will be excluded from the operation. Either pass `\u001b[0m\u001b[33minclude_groups\u001b[0m\u001b[33m=\u001b[0m\u001b[3;33mFalse\u001b[0m\u001b[33m` to exclude the groupings or explicitly select the grouping columns after groupby to silence this warning.\u001b[0m\n"
      ]
     },
     "metadata": {},
     "output_type": "display_data"
    },
    {
     "data": {
      "text/html": [
       "<pre style=\"white-space:pre;overflow-x:auto;line-height:normal;font-family:Menlo,'DejaVu Sans Mono',consolas,'Courier New',monospace\"><span style=\"color: #808000; text-decoration-color: #808000; font-weight: bold\">C:\\Users\\Pavillon Plus\\AppData\\Local\\Temp\\ipykernel_15452\\</span><span style=\"color: #808000; text-decoration-color: #808000; font-weight: bold\">1448036441.</span><span style=\"color: #808000; text-decoration-color: #808000; font-weight: bold\">py:</span><span style=\"color: #808000; text-decoration-color: #808000; font-weight: bold\">45</span><span style=\"color: #808000; text-decoration-color: #808000; font-weight: bold\"> DeprecationWarning</span><span style=\"color: #808000; text-decoration-color: #808000\">: DataFrameGroupBy.apply operated on the grouping columns. This behavior is deprecated, and in a future version of pandas the grouping columns will be excluded from the operation. Either pass `</span><span style=\"color: #808000; text-decoration-color: #808000\">include_groups</span><span style=\"color: #808000; text-decoration-color: #808000\">=</span><span style=\"color: #808000; text-decoration-color: #808000; font-style: italic\">False</span><span style=\"color: #808000; text-decoration-color: #808000\">` to exclude the groupings or explicitly select the grouping columns after groupby to silence this warning.</span>\n",
       "</pre>\n"
      ],
      "text/plain": [
       "\u001b[1;33mC:\\Users\\Pavillon Plus\\AppData\\Local\\Temp\\ipykernel_15452\\\u001b[0m\u001b[1;33m1448036441.\u001b[0m\u001b[1;33mpy:\u001b[0m\u001b[1;33m45\u001b[0m\u001b[1;33m DeprecationWarning\u001b[0m\u001b[33m: DataFrameGroupBy.apply operated on the grouping columns. This behavior is deprecated, and in a future version of pandas the grouping columns will be excluded from the operation. Either pass `\u001b[0m\u001b[33minclude_groups\u001b[0m\u001b[33m=\u001b[0m\u001b[3;33mFalse\u001b[0m\u001b[33m` to exclude the groupings or explicitly select the grouping columns after groupby to silence this warning.\u001b[0m\n"
      ]
     },
     "metadata": {},
     "output_type": "display_data"
    },
    {
     "name": "stdout",
     "output_type": "stream",
     "text": [
      "Hourly aggregates saved to: hourly_aggregates\\hourly_2024-01-22.parquet\n",
      "Processing file: 2024-01-22.parquet\n",
      "                       Hour  avg_sell_price  min_sell_price  max_sell_price  \\\n",
      "0 2024-01-22 00:00:00+00:00       55.200769           24.88           93.50   \n",
      "1 2024-01-22 01:00:00+00:00       58.886111           21.30           98.56   \n",
      "2 2024-01-22 02:00:00+00:00       61.860000           24.14           97.33   \n",
      "3 2024-01-22 03:00:00+00:00       56.923103           25.57           99.92   \n",
      "4 2024-01-22 04:00:00+00:00       60.264706           20.57           99.76   \n",
      "\n",
      "   total_sell_volume  sell_vwap  avg_buy_price  min_buy_price  max_buy_price  \\\n",
      "0            17842.0  53.079398      57.690476          21.02          99.87   \n",
      "1            18212.0  60.960925      64.877742          21.25          98.41   \n",
      "2            23267.0  59.261873      57.699524          21.56          94.21   \n",
      "3            57044.0  54.467242      54.064444          20.86          99.39   \n",
      "4            19019.0  60.547309      55.236923          22.72          97.94   \n",
      "\n",
      "   total_buy_volume   buy_vwap  \n",
      "0           18345.0  63.648589  \n",
      "1           33247.0  67.569659  \n",
      "2           19242.0  59.176093  \n",
      "3           18598.0  59.592451  \n",
      "4           31952.0  57.493123  \n"
     ]
    },
    {
     "data": {
      "text/html": [
       "<pre style=\"white-space:pre;overflow-x:auto;line-height:normal;font-family:Menlo,'DejaVu Sans Mono',consolas,'Courier New',monospace\"><span style=\"color: #808000; text-decoration-color: #808000; font-weight: bold\">C:\\Users\\Pavillon Plus\\AppData\\Local\\Temp\\ipykernel_15452\\</span><span style=\"color: #808000; text-decoration-color: #808000; font-weight: bold\">1448036441.</span><span style=\"color: #808000; text-decoration-color: #808000; font-weight: bold\">py:</span><span style=\"color: #808000; text-decoration-color: #808000; font-weight: bold\">12</span><span style=\"color: #808000; text-decoration-color: #808000; font-weight: bold\"> FutureWarning</span><span style=\"color: #808000; text-decoration-color: #808000\">: </span><span style=\"color: #808000; text-decoration-color: #808000\">'H'</span><span style=\"color: #808000; text-decoration-color: #808000\"> is deprecated and will be removed in a future version, please use </span><span style=\"color: #808000; text-decoration-color: #808000\">'h'</span><span style=\"color: #808000; text-decoration-color: #808000\"> instead.</span>\n",
       "</pre>\n"
      ],
      "text/plain": [
       "\u001b[1;33mC:\\Users\\Pavillon Plus\\AppData\\Local\\Temp\\ipykernel_15452\\\u001b[0m\u001b[1;33m1448036441.\u001b[0m\u001b[1;33mpy:\u001b[0m\u001b[1;33m12\u001b[0m\u001b[1;33m FutureWarning\u001b[0m\u001b[33m: \u001b[0m\u001b[33m'H'\u001b[0m\u001b[33m is deprecated and will be removed in a future version, please use \u001b[0m\u001b[33m'h'\u001b[0m\u001b[33m instead.\u001b[0m\n"
      ]
     },
     "metadata": {},
     "output_type": "display_data"
    },
    {
     "data": {
      "text/html": [
       "<pre style=\"white-space:pre;overflow-x:auto;line-height:normal;font-family:Menlo,'DejaVu Sans Mono',consolas,'Courier New',monospace\"><span style=\"color: #808000; text-decoration-color: #808000; font-weight: bold\">C:\\Users\\Pavillon Plus\\AppData\\Local\\Temp\\ipykernel_15452\\</span><span style=\"color: #808000; text-decoration-color: #808000; font-weight: bold\">1448036441.</span><span style=\"color: #808000; text-decoration-color: #808000; font-weight: bold\">py:</span><span style=\"color: #808000; text-decoration-color: #808000; font-weight: bold\">30</span><span style=\"color: #808000; text-decoration-color: #808000; font-weight: bold\"> DeprecationWarning</span><span style=\"color: #808000; text-decoration-color: #808000\">: DataFrameGroupBy.apply operated on the grouping columns. This behavior is deprecated, and in a future version of pandas the grouping columns will be excluded from the operation. Either pass `</span><span style=\"color: #808000; text-decoration-color: #808000\">include_groups</span><span style=\"color: #808000; text-decoration-color: #808000\">=</span><span style=\"color: #808000; text-decoration-color: #808000; font-style: italic\">False</span><span style=\"color: #808000; text-decoration-color: #808000\">` to exclude the groupings or explicitly select the grouping columns after groupby to silence this warning.</span>\n",
       "</pre>\n"
      ],
      "text/plain": [
       "\u001b[1;33mC:\\Users\\Pavillon Plus\\AppData\\Local\\Temp\\ipykernel_15452\\\u001b[0m\u001b[1;33m1448036441.\u001b[0m\u001b[1;33mpy:\u001b[0m\u001b[1;33m30\u001b[0m\u001b[1;33m DeprecationWarning\u001b[0m\u001b[33m: DataFrameGroupBy.apply operated on the grouping columns. This behavior is deprecated, and in a future version of pandas the grouping columns will be excluded from the operation. Either pass `\u001b[0m\u001b[33minclude_groups\u001b[0m\u001b[33m=\u001b[0m\u001b[3;33mFalse\u001b[0m\u001b[33m` to exclude the groupings or explicitly select the grouping columns after groupby to silence this warning.\u001b[0m\n"
      ]
     },
     "metadata": {},
     "output_type": "display_data"
    },
    {
     "data": {
      "text/html": [
       "<pre style=\"white-space:pre;overflow-x:auto;line-height:normal;font-family:Menlo,'DejaVu Sans Mono',consolas,'Courier New',monospace\"><span style=\"color: #808000; text-decoration-color: #808000; font-weight: bold\">C:\\Users\\Pavillon Plus\\AppData\\Local\\Temp\\ipykernel_15452\\</span><span style=\"color: #808000; text-decoration-color: #808000; font-weight: bold\">1448036441.</span><span style=\"color: #808000; text-decoration-color: #808000; font-weight: bold\">py:</span><span style=\"color: #808000; text-decoration-color: #808000; font-weight: bold\">45</span><span style=\"color: #808000; text-decoration-color: #808000; font-weight: bold\"> DeprecationWarning</span><span style=\"color: #808000; text-decoration-color: #808000\">: DataFrameGroupBy.apply operated on the grouping columns. This behavior is deprecated, and in a future version of pandas the grouping columns will be excluded from the operation. Either pass `</span><span style=\"color: #808000; text-decoration-color: #808000\">include_groups</span><span style=\"color: #808000; text-decoration-color: #808000\">=</span><span style=\"color: #808000; text-decoration-color: #808000; font-style: italic\">False</span><span style=\"color: #808000; text-decoration-color: #808000\">` to exclude the groupings or explicitly select the grouping columns after groupby to silence this warning.</span>\n",
       "</pre>\n"
      ],
      "text/plain": [
       "\u001b[1;33mC:\\Users\\Pavillon Plus\\AppData\\Local\\Temp\\ipykernel_15452\\\u001b[0m\u001b[1;33m1448036441.\u001b[0m\u001b[1;33mpy:\u001b[0m\u001b[1;33m45\u001b[0m\u001b[1;33m DeprecationWarning\u001b[0m\u001b[33m: DataFrameGroupBy.apply operated on the grouping columns. This behavior is deprecated, and in a future version of pandas the grouping columns will be excluded from the operation. Either pass `\u001b[0m\u001b[33minclude_groups\u001b[0m\u001b[33m=\u001b[0m\u001b[3;33mFalse\u001b[0m\u001b[33m` to exclude the groupings or explicitly select the grouping columns after groupby to silence this warning.\u001b[0m\n"
      ]
     },
     "metadata": {},
     "output_type": "display_data"
    },
    {
     "name": "stdout",
     "output_type": "stream",
     "text": [
      "Hourly aggregates saved to: hourly_aggregates\\hourly_2024-01-23.parquet\n",
      "Processing file: 2024-01-23.parquet\n",
      "                       Hour  avg_sell_price  min_sell_price  max_sell_price  \\\n",
      "0 2024-01-23 00:00:00+00:00       66.362941           28.06           97.27   \n",
      "1 2024-01-23 01:00:00+00:00       57.399200           22.32           98.94   \n",
      "2 2024-01-23 02:00:00+00:00       56.743846           22.51           89.40   \n",
      "3 2024-01-23 03:00:00+00:00       60.383500           20.17           99.27   \n",
      "4 2024-01-23 04:00:00+00:00       61.184138           23.18           97.98   \n",
      "\n",
      "   total_sell_volume  sell_vwap  avg_buy_price  min_buy_price  max_buy_price  \\\n",
      "0            18838.0  66.541159      68.617273          32.01          99.95   \n",
      "1            29271.0  56.677368      59.567826          27.24          99.55   \n",
      "2            12918.0  56.585777      62.331176          21.85          99.82   \n",
      "3            21585.0  61.927767      50.703333          28.62          81.04   \n",
      "4            38619.0  59.906173      61.080000          27.11          96.34   \n",
      "\n",
      "   total_buy_volume   buy_vwap  \n",
      "0           11364.0  73.715194  \n",
      "1           20901.0  61.645838  \n",
      "2           19569.0  58.443752  \n",
      "3           18953.0  52.203814  \n",
      "4           25394.0  64.251374  \n"
     ]
    },
    {
     "data": {
      "text/html": [
       "<pre style=\"white-space:pre;overflow-x:auto;line-height:normal;font-family:Menlo,'DejaVu Sans Mono',consolas,'Courier New',monospace\"><span style=\"color: #808000; text-decoration-color: #808000; font-weight: bold\">C:\\Users\\Pavillon Plus\\AppData\\Local\\Temp\\ipykernel_15452\\</span><span style=\"color: #808000; text-decoration-color: #808000; font-weight: bold\">1448036441.</span><span style=\"color: #808000; text-decoration-color: #808000; font-weight: bold\">py:</span><span style=\"color: #808000; text-decoration-color: #808000; font-weight: bold\">12</span><span style=\"color: #808000; text-decoration-color: #808000; font-weight: bold\"> FutureWarning</span><span style=\"color: #808000; text-decoration-color: #808000\">: </span><span style=\"color: #808000; text-decoration-color: #808000\">'H'</span><span style=\"color: #808000; text-decoration-color: #808000\"> is deprecated and will be removed in a future version, please use </span><span style=\"color: #808000; text-decoration-color: #808000\">'h'</span><span style=\"color: #808000; text-decoration-color: #808000\"> instead.</span>\n",
       "</pre>\n"
      ],
      "text/plain": [
       "\u001b[1;33mC:\\Users\\Pavillon Plus\\AppData\\Local\\Temp\\ipykernel_15452\\\u001b[0m\u001b[1;33m1448036441.\u001b[0m\u001b[1;33mpy:\u001b[0m\u001b[1;33m12\u001b[0m\u001b[1;33m FutureWarning\u001b[0m\u001b[33m: \u001b[0m\u001b[33m'H'\u001b[0m\u001b[33m is deprecated and will be removed in a future version, please use \u001b[0m\u001b[33m'h'\u001b[0m\u001b[33m instead.\u001b[0m\n"
      ]
     },
     "metadata": {},
     "output_type": "display_data"
    },
    {
     "data": {
      "text/html": [
       "<pre style=\"white-space:pre;overflow-x:auto;line-height:normal;font-family:Menlo,'DejaVu Sans Mono',consolas,'Courier New',monospace\"><span style=\"color: #808000; text-decoration-color: #808000; font-weight: bold\">C:\\Users\\Pavillon Plus\\AppData\\Local\\Temp\\ipykernel_15452\\</span><span style=\"color: #808000; text-decoration-color: #808000; font-weight: bold\">1448036441.</span><span style=\"color: #808000; text-decoration-color: #808000; font-weight: bold\">py:</span><span style=\"color: #808000; text-decoration-color: #808000; font-weight: bold\">30</span><span style=\"color: #808000; text-decoration-color: #808000; font-weight: bold\"> DeprecationWarning</span><span style=\"color: #808000; text-decoration-color: #808000\">: DataFrameGroupBy.apply operated on the grouping columns. This behavior is deprecated, and in a future version of pandas the grouping columns will be excluded from the operation. Either pass `</span><span style=\"color: #808000; text-decoration-color: #808000\">include_groups</span><span style=\"color: #808000; text-decoration-color: #808000\">=</span><span style=\"color: #808000; text-decoration-color: #808000; font-style: italic\">False</span><span style=\"color: #808000; text-decoration-color: #808000\">` to exclude the groupings or explicitly select the grouping columns after groupby to silence this warning.</span>\n",
       "</pre>\n"
      ],
      "text/plain": [
       "\u001b[1;33mC:\\Users\\Pavillon Plus\\AppData\\Local\\Temp\\ipykernel_15452\\\u001b[0m\u001b[1;33m1448036441.\u001b[0m\u001b[1;33mpy:\u001b[0m\u001b[1;33m30\u001b[0m\u001b[1;33m DeprecationWarning\u001b[0m\u001b[33m: DataFrameGroupBy.apply operated on the grouping columns. This behavior is deprecated, and in a future version of pandas the grouping columns will be excluded from the operation. Either pass `\u001b[0m\u001b[33minclude_groups\u001b[0m\u001b[33m=\u001b[0m\u001b[3;33mFalse\u001b[0m\u001b[33m` to exclude the groupings or explicitly select the grouping columns after groupby to silence this warning.\u001b[0m\n"
      ]
     },
     "metadata": {},
     "output_type": "display_data"
    },
    {
     "data": {
      "text/html": [
       "<pre style=\"white-space:pre;overflow-x:auto;line-height:normal;font-family:Menlo,'DejaVu Sans Mono',consolas,'Courier New',monospace\"><span style=\"color: #808000; text-decoration-color: #808000; font-weight: bold\">C:\\Users\\Pavillon Plus\\AppData\\Local\\Temp\\ipykernel_15452\\</span><span style=\"color: #808000; text-decoration-color: #808000; font-weight: bold\">1448036441.</span><span style=\"color: #808000; text-decoration-color: #808000; font-weight: bold\">py:</span><span style=\"color: #808000; text-decoration-color: #808000; font-weight: bold\">45</span><span style=\"color: #808000; text-decoration-color: #808000; font-weight: bold\"> DeprecationWarning</span><span style=\"color: #808000; text-decoration-color: #808000\">: DataFrameGroupBy.apply operated on the grouping columns. This behavior is deprecated, and in a future version of pandas the grouping columns will be excluded from the operation. Either pass `</span><span style=\"color: #808000; text-decoration-color: #808000\">include_groups</span><span style=\"color: #808000; text-decoration-color: #808000\">=</span><span style=\"color: #808000; text-decoration-color: #808000; font-style: italic\">False</span><span style=\"color: #808000; text-decoration-color: #808000\">` to exclude the groupings or explicitly select the grouping columns after groupby to silence this warning.</span>\n",
       "</pre>\n"
      ],
      "text/plain": [
       "\u001b[1;33mC:\\Users\\Pavillon Plus\\AppData\\Local\\Temp\\ipykernel_15452\\\u001b[0m\u001b[1;33m1448036441.\u001b[0m\u001b[1;33mpy:\u001b[0m\u001b[1;33m45\u001b[0m\u001b[1;33m DeprecationWarning\u001b[0m\u001b[33m: DataFrameGroupBy.apply operated on the grouping columns. This behavior is deprecated, and in a future version of pandas the grouping columns will be excluded from the operation. Either pass `\u001b[0m\u001b[33minclude_groups\u001b[0m\u001b[33m=\u001b[0m\u001b[3;33mFalse\u001b[0m\u001b[33m` to exclude the groupings or explicitly select the grouping columns after groupby to silence this warning.\u001b[0m\n"
      ]
     },
     "metadata": {},
     "output_type": "display_data"
    },
    {
     "name": "stdout",
     "output_type": "stream",
     "text": [
      "Hourly aggregates saved to: hourly_aggregates\\hourly_2024-01-24.parquet\n",
      "Processing file: 2024-01-24.parquet\n",
      "                       Hour  avg_sell_price  min_sell_price  max_sell_price  \\\n",
      "0 2024-01-24 00:00:00+00:00       66.985882           24.30           98.79   \n",
      "1 2024-01-24 01:00:00+00:00       55.821875           23.58           87.03   \n",
      "2 2024-01-24 02:00:00+00:00       59.911739           24.00           92.86   \n",
      "3 2024-01-24 03:00:00+00:00       63.479375           26.89           93.47   \n",
      "4 2024-01-24 04:00:00+00:00       80.063077           43.63           97.32   \n",
      "\n",
      "   total_sell_volume  sell_vwap  avg_buy_price  min_buy_price  max_buy_price  \\\n",
      "0            22134.0  67.883701      70.276250          32.51          99.36   \n",
      "1            20704.0  54.513120      53.912105          25.88          97.55   \n",
      "2            24409.0  59.300592      62.712500          20.85          98.43   \n",
      "3            14029.0  61.149542      66.104737          23.12          96.97   \n",
      "4            51320.0  92.041586      58.630000          23.62          96.13   \n",
      "\n",
      "   total_buy_volume   buy_vwap  \n",
      "0           15582.0  64.588762  \n",
      "1           20200.0  53.136105  \n",
      "2           26600.0  65.126169  \n",
      "3           48660.0  75.995282  \n",
      "4           23977.0  62.461707  \n"
     ]
    },
    {
     "data": {
      "text/html": [
       "<pre style=\"white-space:pre;overflow-x:auto;line-height:normal;font-family:Menlo,'DejaVu Sans Mono',consolas,'Courier New',monospace\"><span style=\"color: #808000; text-decoration-color: #808000; font-weight: bold\">C:\\Users\\Pavillon Plus\\AppData\\Local\\Temp\\ipykernel_15452\\</span><span style=\"color: #808000; text-decoration-color: #808000; font-weight: bold\">1448036441.</span><span style=\"color: #808000; text-decoration-color: #808000; font-weight: bold\">py:</span><span style=\"color: #808000; text-decoration-color: #808000; font-weight: bold\">12</span><span style=\"color: #808000; text-decoration-color: #808000; font-weight: bold\"> FutureWarning</span><span style=\"color: #808000; text-decoration-color: #808000\">: </span><span style=\"color: #808000; text-decoration-color: #808000\">'H'</span><span style=\"color: #808000; text-decoration-color: #808000\"> is deprecated and will be removed in a future version, please use </span><span style=\"color: #808000; text-decoration-color: #808000\">'h'</span><span style=\"color: #808000; text-decoration-color: #808000\"> instead.</span>\n",
       "</pre>\n"
      ],
      "text/plain": [
       "\u001b[1;33mC:\\Users\\Pavillon Plus\\AppData\\Local\\Temp\\ipykernel_15452\\\u001b[0m\u001b[1;33m1448036441.\u001b[0m\u001b[1;33mpy:\u001b[0m\u001b[1;33m12\u001b[0m\u001b[1;33m FutureWarning\u001b[0m\u001b[33m: \u001b[0m\u001b[33m'H'\u001b[0m\u001b[33m is deprecated and will be removed in a future version, please use \u001b[0m\u001b[33m'h'\u001b[0m\u001b[33m instead.\u001b[0m\n"
      ]
     },
     "metadata": {},
     "output_type": "display_data"
    },
    {
     "data": {
      "text/html": [
       "<pre style=\"white-space:pre;overflow-x:auto;line-height:normal;font-family:Menlo,'DejaVu Sans Mono',consolas,'Courier New',monospace\"><span style=\"color: #808000; text-decoration-color: #808000; font-weight: bold\">C:\\Users\\Pavillon Plus\\AppData\\Local\\Temp\\ipykernel_15452\\</span><span style=\"color: #808000; text-decoration-color: #808000; font-weight: bold\">1448036441.</span><span style=\"color: #808000; text-decoration-color: #808000; font-weight: bold\">py:</span><span style=\"color: #808000; text-decoration-color: #808000; font-weight: bold\">30</span><span style=\"color: #808000; text-decoration-color: #808000; font-weight: bold\"> DeprecationWarning</span><span style=\"color: #808000; text-decoration-color: #808000\">: DataFrameGroupBy.apply operated on the grouping columns. This behavior is deprecated, and in a future version of pandas the grouping columns will be excluded from the operation. Either pass `</span><span style=\"color: #808000; text-decoration-color: #808000\">include_groups</span><span style=\"color: #808000; text-decoration-color: #808000\">=</span><span style=\"color: #808000; text-decoration-color: #808000; font-style: italic\">False</span><span style=\"color: #808000; text-decoration-color: #808000\">` to exclude the groupings or explicitly select the grouping columns after groupby to silence this warning.</span>\n",
       "</pre>\n"
      ],
      "text/plain": [
       "\u001b[1;33mC:\\Users\\Pavillon Plus\\AppData\\Local\\Temp\\ipykernel_15452\\\u001b[0m\u001b[1;33m1448036441.\u001b[0m\u001b[1;33mpy:\u001b[0m\u001b[1;33m30\u001b[0m\u001b[1;33m DeprecationWarning\u001b[0m\u001b[33m: DataFrameGroupBy.apply operated on the grouping columns. This behavior is deprecated, and in a future version of pandas the grouping columns will be excluded from the operation. Either pass `\u001b[0m\u001b[33minclude_groups\u001b[0m\u001b[33m=\u001b[0m\u001b[3;33mFalse\u001b[0m\u001b[33m` to exclude the groupings or explicitly select the grouping columns after groupby to silence this warning.\u001b[0m\n"
      ]
     },
     "metadata": {},
     "output_type": "display_data"
    },
    {
     "data": {
      "text/html": [
       "<pre style=\"white-space:pre;overflow-x:auto;line-height:normal;font-family:Menlo,'DejaVu Sans Mono',consolas,'Courier New',monospace\"><span style=\"color: #808000; text-decoration-color: #808000; font-weight: bold\">C:\\Users\\Pavillon Plus\\AppData\\Local\\Temp\\ipykernel_15452\\</span><span style=\"color: #808000; text-decoration-color: #808000; font-weight: bold\">1448036441.</span><span style=\"color: #808000; text-decoration-color: #808000; font-weight: bold\">py:</span><span style=\"color: #808000; text-decoration-color: #808000; font-weight: bold\">45</span><span style=\"color: #808000; text-decoration-color: #808000; font-weight: bold\"> DeprecationWarning</span><span style=\"color: #808000; text-decoration-color: #808000\">: DataFrameGroupBy.apply operated on the grouping columns. This behavior is deprecated, and in a future version of pandas the grouping columns will be excluded from the operation. Either pass `</span><span style=\"color: #808000; text-decoration-color: #808000\">include_groups</span><span style=\"color: #808000; text-decoration-color: #808000\">=</span><span style=\"color: #808000; text-decoration-color: #808000; font-style: italic\">False</span><span style=\"color: #808000; text-decoration-color: #808000\">` to exclude the groupings or explicitly select the grouping columns after groupby to silence this warning.</span>\n",
       "</pre>\n"
      ],
      "text/plain": [
       "\u001b[1;33mC:\\Users\\Pavillon Plus\\AppData\\Local\\Temp\\ipykernel_15452\\\u001b[0m\u001b[1;33m1448036441.\u001b[0m\u001b[1;33mpy:\u001b[0m\u001b[1;33m45\u001b[0m\u001b[1;33m DeprecationWarning\u001b[0m\u001b[33m: DataFrameGroupBy.apply operated on the grouping columns. This behavior is deprecated, and in a future version of pandas the grouping columns will be excluded from the operation. Either pass `\u001b[0m\u001b[33minclude_groups\u001b[0m\u001b[33m=\u001b[0m\u001b[3;33mFalse\u001b[0m\u001b[33m` to exclude the groupings or explicitly select the grouping columns after groupby to silence this warning.\u001b[0m\n"
      ]
     },
     "metadata": {},
     "output_type": "display_data"
    },
    {
     "name": "stdout",
     "output_type": "stream",
     "text": [
      "Hourly aggregates saved to: hourly_aggregates\\hourly_2024-01-25.parquet\n",
      "Processing file: 2024-01-25.parquet\n",
      "                       Hour  avg_sell_price  min_sell_price  max_sell_price  \\\n",
      "0 2024-01-25 00:00:00+00:00       62.370526           21.59           96.33   \n",
      "1 2024-01-25 01:00:00+00:00       43.106364           21.03           82.67   \n",
      "2 2024-01-25 02:00:00+00:00       56.962500           23.00           98.71   \n",
      "3 2024-01-25 03:00:00+00:00       56.796316           23.50           98.03   \n",
      "4 2024-01-25 04:00:00+00:00       60.112632           21.87           96.72   \n",
      "\n",
      "   total_sell_volume  sell_vwap  avg_buy_price  min_buy_price  max_buy_price  \\\n",
      "0            16450.0  57.259064      66.678125          34.38          99.78   \n",
      "1            12325.0  47.733283      57.257037          21.35          93.93   \n",
      "2            17085.0  49.170572      59.327222          23.35          92.78   \n",
      "3            22018.0  59.358389      48.553529          22.41          87.14   \n",
      "4            17741.0  61.041846      64.058571          22.49          96.94   \n",
      "\n",
      "   total_buy_volume   buy_vwap  \n",
      "0           16237.0  65.706663  \n",
      "1           27071.0  56.643145  \n",
      "2           20366.0  56.934824  \n",
      "3           17279.0  52.845011  \n",
      "4           19729.0  64.465184  \n"
     ]
    },
    {
     "data": {
      "text/html": [
       "<pre style=\"white-space:pre;overflow-x:auto;line-height:normal;font-family:Menlo,'DejaVu Sans Mono',consolas,'Courier New',monospace\"><span style=\"color: #808000; text-decoration-color: #808000; font-weight: bold\">C:\\Users\\Pavillon Plus\\AppData\\Local\\Temp\\ipykernel_15452\\</span><span style=\"color: #808000; text-decoration-color: #808000; font-weight: bold\">1448036441.</span><span style=\"color: #808000; text-decoration-color: #808000; font-weight: bold\">py:</span><span style=\"color: #808000; text-decoration-color: #808000; font-weight: bold\">12</span><span style=\"color: #808000; text-decoration-color: #808000; font-weight: bold\"> FutureWarning</span><span style=\"color: #808000; text-decoration-color: #808000\">: </span><span style=\"color: #808000; text-decoration-color: #808000\">'H'</span><span style=\"color: #808000; text-decoration-color: #808000\"> is deprecated and will be removed in a future version, please use </span><span style=\"color: #808000; text-decoration-color: #808000\">'h'</span><span style=\"color: #808000; text-decoration-color: #808000\"> instead.</span>\n",
       "</pre>\n"
      ],
      "text/plain": [
       "\u001b[1;33mC:\\Users\\Pavillon Plus\\AppData\\Local\\Temp\\ipykernel_15452\\\u001b[0m\u001b[1;33m1448036441.\u001b[0m\u001b[1;33mpy:\u001b[0m\u001b[1;33m12\u001b[0m\u001b[1;33m FutureWarning\u001b[0m\u001b[33m: \u001b[0m\u001b[33m'H'\u001b[0m\u001b[33m is deprecated and will be removed in a future version, please use \u001b[0m\u001b[33m'h'\u001b[0m\u001b[33m instead.\u001b[0m\n"
      ]
     },
     "metadata": {},
     "output_type": "display_data"
    },
    {
     "data": {
      "text/html": [
       "<pre style=\"white-space:pre;overflow-x:auto;line-height:normal;font-family:Menlo,'DejaVu Sans Mono',consolas,'Courier New',monospace\"><span style=\"color: #808000; text-decoration-color: #808000; font-weight: bold\">C:\\Users\\Pavillon Plus\\AppData\\Local\\Temp\\ipykernel_15452\\</span><span style=\"color: #808000; text-decoration-color: #808000; font-weight: bold\">1448036441.</span><span style=\"color: #808000; text-decoration-color: #808000; font-weight: bold\">py:</span><span style=\"color: #808000; text-decoration-color: #808000; font-weight: bold\">30</span><span style=\"color: #808000; text-decoration-color: #808000; font-weight: bold\"> DeprecationWarning</span><span style=\"color: #808000; text-decoration-color: #808000\">: DataFrameGroupBy.apply operated on the grouping columns. This behavior is deprecated, and in a future version of pandas the grouping columns will be excluded from the operation. Either pass `</span><span style=\"color: #808000; text-decoration-color: #808000\">include_groups</span><span style=\"color: #808000; text-decoration-color: #808000\">=</span><span style=\"color: #808000; text-decoration-color: #808000; font-style: italic\">False</span><span style=\"color: #808000; text-decoration-color: #808000\">` to exclude the groupings or explicitly select the grouping columns after groupby to silence this warning.</span>\n",
       "</pre>\n"
      ],
      "text/plain": [
       "\u001b[1;33mC:\\Users\\Pavillon Plus\\AppData\\Local\\Temp\\ipykernel_15452\\\u001b[0m\u001b[1;33m1448036441.\u001b[0m\u001b[1;33mpy:\u001b[0m\u001b[1;33m30\u001b[0m\u001b[1;33m DeprecationWarning\u001b[0m\u001b[33m: DataFrameGroupBy.apply operated on the grouping columns. This behavior is deprecated, and in a future version of pandas the grouping columns will be excluded from the operation. Either pass `\u001b[0m\u001b[33minclude_groups\u001b[0m\u001b[33m=\u001b[0m\u001b[3;33mFalse\u001b[0m\u001b[33m` to exclude the groupings or explicitly select the grouping columns after groupby to silence this warning.\u001b[0m\n"
      ]
     },
     "metadata": {},
     "output_type": "display_data"
    },
    {
     "data": {
      "text/html": [
       "<pre style=\"white-space:pre;overflow-x:auto;line-height:normal;font-family:Menlo,'DejaVu Sans Mono',consolas,'Courier New',monospace\"><span style=\"color: #808000; text-decoration-color: #808000; font-weight: bold\">C:\\Users\\Pavillon Plus\\AppData\\Local\\Temp\\ipykernel_15452\\</span><span style=\"color: #808000; text-decoration-color: #808000; font-weight: bold\">1448036441.</span><span style=\"color: #808000; text-decoration-color: #808000; font-weight: bold\">py:</span><span style=\"color: #808000; text-decoration-color: #808000; font-weight: bold\">45</span><span style=\"color: #808000; text-decoration-color: #808000; font-weight: bold\"> DeprecationWarning</span><span style=\"color: #808000; text-decoration-color: #808000\">: DataFrameGroupBy.apply operated on the grouping columns. This behavior is deprecated, and in a future version of pandas the grouping columns will be excluded from the operation. Either pass `</span><span style=\"color: #808000; text-decoration-color: #808000\">include_groups</span><span style=\"color: #808000; text-decoration-color: #808000\">=</span><span style=\"color: #808000; text-decoration-color: #808000; font-style: italic\">False</span><span style=\"color: #808000; text-decoration-color: #808000\">` to exclude the groupings or explicitly select the grouping columns after groupby to silence this warning.</span>\n",
       "</pre>\n"
      ],
      "text/plain": [
       "\u001b[1;33mC:\\Users\\Pavillon Plus\\AppData\\Local\\Temp\\ipykernel_15452\\\u001b[0m\u001b[1;33m1448036441.\u001b[0m\u001b[1;33mpy:\u001b[0m\u001b[1;33m45\u001b[0m\u001b[1;33m DeprecationWarning\u001b[0m\u001b[33m: DataFrameGroupBy.apply operated on the grouping columns. This behavior is deprecated, and in a future version of pandas the grouping columns will be excluded from the operation. Either pass `\u001b[0m\u001b[33minclude_groups\u001b[0m\u001b[33m=\u001b[0m\u001b[3;33mFalse\u001b[0m\u001b[33m` to exclude the groupings or explicitly select the grouping columns after groupby to silence this warning.\u001b[0m\n"
      ]
     },
     "metadata": {},
     "output_type": "display_data"
    },
    {
     "name": "stdout",
     "output_type": "stream",
     "text": [
      "Hourly aggregates saved to: hourly_aggregates\\hourly_2024-01-26.parquet\n",
      "Processing file: 2024-01-26.parquet\n",
      "                       Hour  avg_sell_price  min_sell_price  max_sell_price  \\\n",
      "0 2024-01-26 00:00:00+00:00       55.410000           26.02           98.44   \n",
      "1 2024-01-26 01:00:00+00:00       59.678421           26.54           94.42   \n",
      "2 2024-01-26 02:00:00+00:00       57.625455           21.55           93.10   \n",
      "3 2024-01-26 03:00:00+00:00       58.453333           21.16           98.43   \n",
      "4 2024-01-26 04:00:00+00:00       51.867368           21.42           85.83   \n",
      "\n",
      "   total_sell_volume  sell_vwap  avg_buy_price  min_buy_price  max_buy_price  \\\n",
      "0            17121.0  54.349106      57.628000          21.71          96.00   \n",
      "1            21109.0  62.382164      62.375833          21.76          97.29   \n",
      "2            25250.0  62.451118      64.673158          25.90          86.55   \n",
      "3            23707.0  56.644667      51.680476          20.16          89.43   \n",
      "4            23513.0  49.655599      55.822105          21.43          90.72   \n",
      "\n",
      "   total_buy_volume   buy_vwap  \n",
      "0           20410.0  54.876576  \n",
      "1           24310.0  64.303768  \n",
      "2           20118.0  66.439619  \n",
      "3           21964.0  51.270204  \n",
      "4           19648.0  51.478202  \n"
     ]
    },
    {
     "data": {
      "text/html": [
       "<pre style=\"white-space:pre;overflow-x:auto;line-height:normal;font-family:Menlo,'DejaVu Sans Mono',consolas,'Courier New',monospace\"><span style=\"color: #808000; text-decoration-color: #808000; font-weight: bold\">C:\\Users\\Pavillon Plus\\AppData\\Local\\Temp\\ipykernel_15452\\</span><span style=\"color: #808000; text-decoration-color: #808000; font-weight: bold\">1448036441.</span><span style=\"color: #808000; text-decoration-color: #808000; font-weight: bold\">py:</span><span style=\"color: #808000; text-decoration-color: #808000; font-weight: bold\">12</span><span style=\"color: #808000; text-decoration-color: #808000; font-weight: bold\"> FutureWarning</span><span style=\"color: #808000; text-decoration-color: #808000\">: </span><span style=\"color: #808000; text-decoration-color: #808000\">'H'</span><span style=\"color: #808000; text-decoration-color: #808000\"> is deprecated and will be removed in a future version, please use </span><span style=\"color: #808000; text-decoration-color: #808000\">'h'</span><span style=\"color: #808000; text-decoration-color: #808000\"> instead.</span>\n",
       "</pre>\n"
      ],
      "text/plain": [
       "\u001b[1;33mC:\\Users\\Pavillon Plus\\AppData\\Local\\Temp\\ipykernel_15452\\\u001b[0m\u001b[1;33m1448036441.\u001b[0m\u001b[1;33mpy:\u001b[0m\u001b[1;33m12\u001b[0m\u001b[1;33m FutureWarning\u001b[0m\u001b[33m: \u001b[0m\u001b[33m'H'\u001b[0m\u001b[33m is deprecated and will be removed in a future version, please use \u001b[0m\u001b[33m'h'\u001b[0m\u001b[33m instead.\u001b[0m\n"
      ]
     },
     "metadata": {},
     "output_type": "display_data"
    },
    {
     "data": {
      "text/html": [
       "<pre style=\"white-space:pre;overflow-x:auto;line-height:normal;font-family:Menlo,'DejaVu Sans Mono',consolas,'Courier New',monospace\"><span style=\"color: #808000; text-decoration-color: #808000; font-weight: bold\">C:\\Users\\Pavillon Plus\\AppData\\Local\\Temp\\ipykernel_15452\\</span><span style=\"color: #808000; text-decoration-color: #808000; font-weight: bold\">1448036441.</span><span style=\"color: #808000; text-decoration-color: #808000; font-weight: bold\">py:</span><span style=\"color: #808000; text-decoration-color: #808000; font-weight: bold\">30</span><span style=\"color: #808000; text-decoration-color: #808000; font-weight: bold\"> DeprecationWarning</span><span style=\"color: #808000; text-decoration-color: #808000\">: DataFrameGroupBy.apply operated on the grouping columns. This behavior is deprecated, and in a future version of pandas the grouping columns will be excluded from the operation. Either pass `</span><span style=\"color: #808000; text-decoration-color: #808000\">include_groups</span><span style=\"color: #808000; text-decoration-color: #808000\">=</span><span style=\"color: #808000; text-decoration-color: #808000; font-style: italic\">False</span><span style=\"color: #808000; text-decoration-color: #808000\">` to exclude the groupings or explicitly select the grouping columns after groupby to silence this warning.</span>\n",
       "</pre>\n"
      ],
      "text/plain": [
       "\u001b[1;33mC:\\Users\\Pavillon Plus\\AppData\\Local\\Temp\\ipykernel_15452\\\u001b[0m\u001b[1;33m1448036441.\u001b[0m\u001b[1;33mpy:\u001b[0m\u001b[1;33m30\u001b[0m\u001b[1;33m DeprecationWarning\u001b[0m\u001b[33m: DataFrameGroupBy.apply operated on the grouping columns. This behavior is deprecated, and in a future version of pandas the grouping columns will be excluded from the operation. Either pass `\u001b[0m\u001b[33minclude_groups\u001b[0m\u001b[33m=\u001b[0m\u001b[3;33mFalse\u001b[0m\u001b[33m` to exclude the groupings or explicitly select the grouping columns after groupby to silence this warning.\u001b[0m\n"
      ]
     },
     "metadata": {},
     "output_type": "display_data"
    },
    {
     "data": {
      "text/html": [
       "<pre style=\"white-space:pre;overflow-x:auto;line-height:normal;font-family:Menlo,'DejaVu Sans Mono',consolas,'Courier New',monospace\"><span style=\"color: #808000; text-decoration-color: #808000; font-weight: bold\">C:\\Users\\Pavillon Plus\\AppData\\Local\\Temp\\ipykernel_15452\\</span><span style=\"color: #808000; text-decoration-color: #808000; font-weight: bold\">1448036441.</span><span style=\"color: #808000; text-decoration-color: #808000; font-weight: bold\">py:</span><span style=\"color: #808000; text-decoration-color: #808000; font-weight: bold\">45</span><span style=\"color: #808000; text-decoration-color: #808000; font-weight: bold\"> DeprecationWarning</span><span style=\"color: #808000; text-decoration-color: #808000\">: DataFrameGroupBy.apply operated on the grouping columns. This behavior is deprecated, and in a future version of pandas the grouping columns will be excluded from the operation. Either pass `</span><span style=\"color: #808000; text-decoration-color: #808000\">include_groups</span><span style=\"color: #808000; text-decoration-color: #808000\">=</span><span style=\"color: #808000; text-decoration-color: #808000; font-style: italic\">False</span><span style=\"color: #808000; text-decoration-color: #808000\">` to exclude the groupings or explicitly select the grouping columns after groupby to silence this warning.</span>\n",
       "</pre>\n"
      ],
      "text/plain": [
       "\u001b[1;33mC:\\Users\\Pavillon Plus\\AppData\\Local\\Temp\\ipykernel_15452\\\u001b[0m\u001b[1;33m1448036441.\u001b[0m\u001b[1;33mpy:\u001b[0m\u001b[1;33m45\u001b[0m\u001b[1;33m DeprecationWarning\u001b[0m\u001b[33m: DataFrameGroupBy.apply operated on the grouping columns. This behavior is deprecated, and in a future version of pandas the grouping columns will be excluded from the operation. Either pass `\u001b[0m\u001b[33minclude_groups\u001b[0m\u001b[33m=\u001b[0m\u001b[3;33mFalse\u001b[0m\u001b[33m` to exclude the groupings or explicitly select the grouping columns after groupby to silence this warning.\u001b[0m\n"
      ]
     },
     "metadata": {},
     "output_type": "display_data"
    },
    {
     "name": "stdout",
     "output_type": "stream",
     "text": [
      "Hourly aggregates saved to: hourly_aggregates\\hourly_2024-01-27.parquet\n",
      "Processing file: 2024-01-27.parquet\n",
      "                       Hour  avg_sell_price  min_sell_price  max_sell_price  \\\n",
      "0 2024-01-27 00:00:00+00:00       65.914762           23.41           98.64   \n",
      "1 2024-01-27 01:00:00+00:00       56.719583           21.06           97.29   \n",
      "2 2024-01-27 02:00:00+00:00       68.775333           30.35           93.64   \n",
      "3 2024-01-27 03:00:00+00:00       61.695909           24.79           98.86   \n",
      "4 2024-01-27 04:00:00+00:00       71.589565           29.05           99.43   \n",
      "\n",
      "   total_sell_volume  sell_vwap  avg_buy_price  min_buy_price  max_buy_price  \\\n",
      "0            19469.0  69.136728      63.447778          20.41          97.45   \n",
      "1            24462.0  57.736195      56.098000          30.45          94.09   \n",
      "2            14919.0  63.484393      62.476667          21.69          99.56   \n",
      "3            24974.0  61.370649      68.890000          21.14          99.31   \n",
      "4            23922.0  71.737685      64.458750          21.59          98.62   \n",
      "\n",
      "   total_buy_volume   buy_vwap  \n",
      "0           19299.0  64.670356  \n",
      "1           22761.0  56.308130  \n",
      "2           60834.0  61.028702  \n",
      "3           17973.0  65.003599  \n",
      "4           17178.0  63.081732  \n"
     ]
    },
    {
     "data": {
      "text/html": [
       "<pre style=\"white-space:pre;overflow-x:auto;line-height:normal;font-family:Menlo,'DejaVu Sans Mono',consolas,'Courier New',monospace\"><span style=\"color: #808000; text-decoration-color: #808000; font-weight: bold\">C:\\Users\\Pavillon Plus\\AppData\\Local\\Temp\\ipykernel_15452\\</span><span style=\"color: #808000; text-decoration-color: #808000; font-weight: bold\">1448036441.</span><span style=\"color: #808000; text-decoration-color: #808000; font-weight: bold\">py:</span><span style=\"color: #808000; text-decoration-color: #808000; font-weight: bold\">12</span><span style=\"color: #808000; text-decoration-color: #808000; font-weight: bold\"> FutureWarning</span><span style=\"color: #808000; text-decoration-color: #808000\">: </span><span style=\"color: #808000; text-decoration-color: #808000\">'H'</span><span style=\"color: #808000; text-decoration-color: #808000\"> is deprecated and will be removed in a future version, please use </span><span style=\"color: #808000; text-decoration-color: #808000\">'h'</span><span style=\"color: #808000; text-decoration-color: #808000\"> instead.</span>\n",
       "</pre>\n"
      ],
      "text/plain": [
       "\u001b[1;33mC:\\Users\\Pavillon Plus\\AppData\\Local\\Temp\\ipykernel_15452\\\u001b[0m\u001b[1;33m1448036441.\u001b[0m\u001b[1;33mpy:\u001b[0m\u001b[1;33m12\u001b[0m\u001b[1;33m FutureWarning\u001b[0m\u001b[33m: \u001b[0m\u001b[33m'H'\u001b[0m\u001b[33m is deprecated and will be removed in a future version, please use \u001b[0m\u001b[33m'h'\u001b[0m\u001b[33m instead.\u001b[0m\n"
      ]
     },
     "metadata": {},
     "output_type": "display_data"
    },
    {
     "data": {
      "text/html": [
       "<pre style=\"white-space:pre;overflow-x:auto;line-height:normal;font-family:Menlo,'DejaVu Sans Mono',consolas,'Courier New',monospace\"><span style=\"color: #808000; text-decoration-color: #808000; font-weight: bold\">C:\\Users\\Pavillon Plus\\AppData\\Local\\Temp\\ipykernel_15452\\</span><span style=\"color: #808000; text-decoration-color: #808000; font-weight: bold\">1448036441.</span><span style=\"color: #808000; text-decoration-color: #808000; font-weight: bold\">py:</span><span style=\"color: #808000; text-decoration-color: #808000; font-weight: bold\">30</span><span style=\"color: #808000; text-decoration-color: #808000; font-weight: bold\"> DeprecationWarning</span><span style=\"color: #808000; text-decoration-color: #808000\">: DataFrameGroupBy.apply operated on the grouping columns. This behavior is deprecated, and in a future version of pandas the grouping columns will be excluded from the operation. Either pass `</span><span style=\"color: #808000; text-decoration-color: #808000\">include_groups</span><span style=\"color: #808000; text-decoration-color: #808000\">=</span><span style=\"color: #808000; text-decoration-color: #808000; font-style: italic\">False</span><span style=\"color: #808000; text-decoration-color: #808000\">` to exclude the groupings or explicitly select the grouping columns after groupby to silence this warning.</span>\n",
       "</pre>\n"
      ],
      "text/plain": [
       "\u001b[1;33mC:\\Users\\Pavillon Plus\\AppData\\Local\\Temp\\ipykernel_15452\\\u001b[0m\u001b[1;33m1448036441.\u001b[0m\u001b[1;33mpy:\u001b[0m\u001b[1;33m30\u001b[0m\u001b[1;33m DeprecationWarning\u001b[0m\u001b[33m: DataFrameGroupBy.apply operated on the grouping columns. This behavior is deprecated, and in a future version of pandas the grouping columns will be excluded from the operation. Either pass `\u001b[0m\u001b[33minclude_groups\u001b[0m\u001b[33m=\u001b[0m\u001b[3;33mFalse\u001b[0m\u001b[33m` to exclude the groupings or explicitly select the grouping columns after groupby to silence this warning.\u001b[0m\n"
      ]
     },
     "metadata": {},
     "output_type": "display_data"
    },
    {
     "data": {
      "text/html": [
       "<pre style=\"white-space:pre;overflow-x:auto;line-height:normal;font-family:Menlo,'DejaVu Sans Mono',consolas,'Courier New',monospace\"><span style=\"color: #808000; text-decoration-color: #808000; font-weight: bold\">C:\\Users\\Pavillon Plus\\AppData\\Local\\Temp\\ipykernel_15452\\</span><span style=\"color: #808000; text-decoration-color: #808000; font-weight: bold\">1448036441.</span><span style=\"color: #808000; text-decoration-color: #808000; font-weight: bold\">py:</span><span style=\"color: #808000; text-decoration-color: #808000; font-weight: bold\">45</span><span style=\"color: #808000; text-decoration-color: #808000; font-weight: bold\"> DeprecationWarning</span><span style=\"color: #808000; text-decoration-color: #808000\">: DataFrameGroupBy.apply operated on the grouping columns. This behavior is deprecated, and in a future version of pandas the grouping columns will be excluded from the operation. Either pass `</span><span style=\"color: #808000; text-decoration-color: #808000\">include_groups</span><span style=\"color: #808000; text-decoration-color: #808000\">=</span><span style=\"color: #808000; text-decoration-color: #808000; font-style: italic\">False</span><span style=\"color: #808000; text-decoration-color: #808000\">` to exclude the groupings or explicitly select the grouping columns after groupby to silence this warning.</span>\n",
       "</pre>\n"
      ],
      "text/plain": [
       "\u001b[1;33mC:\\Users\\Pavillon Plus\\AppData\\Local\\Temp\\ipykernel_15452\\\u001b[0m\u001b[1;33m1448036441.\u001b[0m\u001b[1;33mpy:\u001b[0m\u001b[1;33m45\u001b[0m\u001b[1;33m DeprecationWarning\u001b[0m\u001b[33m: DataFrameGroupBy.apply operated on the grouping columns. This behavior is deprecated, and in a future version of pandas the grouping columns will be excluded from the operation. Either pass `\u001b[0m\u001b[33minclude_groups\u001b[0m\u001b[33m=\u001b[0m\u001b[3;33mFalse\u001b[0m\u001b[33m` to exclude the groupings or explicitly select the grouping columns after groupby to silence this warning.\u001b[0m\n"
      ]
     },
     "metadata": {},
     "output_type": "display_data"
    },
    {
     "name": "stdout",
     "output_type": "stream",
     "text": [
      "Hourly aggregates saved to: hourly_aggregates\\hourly_2024-01-28.parquet\n",
      "Processing file: 2024-01-28.parquet\n",
      "                       Hour  avg_sell_price  min_sell_price  max_sell_price  \\\n",
      "0 2024-01-28 00:00:00+00:00       57.948696           24.55           98.73   \n",
      "1 2024-01-28 01:00:00+00:00       56.485000           23.81           87.84   \n",
      "2 2024-01-28 02:00:00+00:00       56.966250           20.55           98.30   \n",
      "3 2024-01-28 03:00:00+00:00       61.827500           27.15           82.55   \n",
      "4 2024-01-28 04:00:00+00:00       59.563846           24.00           99.90   \n",
      "\n",
      "   total_sell_volume  sell_vwap  avg_buy_price  min_buy_price  max_buy_price  \\\n",
      "0            24957.0  54.649208      53.937647          20.53          97.68   \n",
      "1            60011.0  55.620296      60.737200          20.86          96.23   \n",
      "2            20217.0  56.749942      54.778636          21.47          95.97   \n",
      "3            13588.0  60.924270      63.580476          31.98          92.75   \n",
      "4            15098.0  57.307520      62.005333          28.90          92.50   \n",
      "\n",
      "   total_buy_volume   buy_vwap  \n",
      "0           30719.0  52.220688  \n",
      "1           24757.0  60.314463  \n",
      "2           19061.0  51.968455  \n",
      "3           25042.0  63.483586  \n",
      "4           18443.0  63.298235  \n"
     ]
    },
    {
     "data": {
      "text/html": [
       "<pre style=\"white-space:pre;overflow-x:auto;line-height:normal;font-family:Menlo,'DejaVu Sans Mono',consolas,'Courier New',monospace\"><span style=\"color: #808000; text-decoration-color: #808000; font-weight: bold\">C:\\Users\\Pavillon Plus\\AppData\\Local\\Temp\\ipykernel_15452\\</span><span style=\"color: #808000; text-decoration-color: #808000; font-weight: bold\">1448036441.</span><span style=\"color: #808000; text-decoration-color: #808000; font-weight: bold\">py:</span><span style=\"color: #808000; text-decoration-color: #808000; font-weight: bold\">12</span><span style=\"color: #808000; text-decoration-color: #808000; font-weight: bold\"> FutureWarning</span><span style=\"color: #808000; text-decoration-color: #808000\">: </span><span style=\"color: #808000; text-decoration-color: #808000\">'H'</span><span style=\"color: #808000; text-decoration-color: #808000\"> is deprecated and will be removed in a future version, please use </span><span style=\"color: #808000; text-decoration-color: #808000\">'h'</span><span style=\"color: #808000; text-decoration-color: #808000\"> instead.</span>\n",
       "</pre>\n"
      ],
      "text/plain": [
       "\u001b[1;33mC:\\Users\\Pavillon Plus\\AppData\\Local\\Temp\\ipykernel_15452\\\u001b[0m\u001b[1;33m1448036441.\u001b[0m\u001b[1;33mpy:\u001b[0m\u001b[1;33m12\u001b[0m\u001b[1;33m FutureWarning\u001b[0m\u001b[33m: \u001b[0m\u001b[33m'H'\u001b[0m\u001b[33m is deprecated and will be removed in a future version, please use \u001b[0m\u001b[33m'h'\u001b[0m\u001b[33m instead.\u001b[0m\n"
      ]
     },
     "metadata": {},
     "output_type": "display_data"
    },
    {
     "data": {
      "text/html": [
       "<pre style=\"white-space:pre;overflow-x:auto;line-height:normal;font-family:Menlo,'DejaVu Sans Mono',consolas,'Courier New',monospace\"><span style=\"color: #808000; text-decoration-color: #808000; font-weight: bold\">C:\\Users\\Pavillon Plus\\AppData\\Local\\Temp\\ipykernel_15452\\</span><span style=\"color: #808000; text-decoration-color: #808000; font-weight: bold\">1448036441.</span><span style=\"color: #808000; text-decoration-color: #808000; font-weight: bold\">py:</span><span style=\"color: #808000; text-decoration-color: #808000; font-weight: bold\">30</span><span style=\"color: #808000; text-decoration-color: #808000; font-weight: bold\"> DeprecationWarning</span><span style=\"color: #808000; text-decoration-color: #808000\">: DataFrameGroupBy.apply operated on the grouping columns. This behavior is deprecated, and in a future version of pandas the grouping columns will be excluded from the operation. Either pass `</span><span style=\"color: #808000; text-decoration-color: #808000\">include_groups</span><span style=\"color: #808000; text-decoration-color: #808000\">=</span><span style=\"color: #808000; text-decoration-color: #808000; font-style: italic\">False</span><span style=\"color: #808000; text-decoration-color: #808000\">` to exclude the groupings or explicitly select the grouping columns after groupby to silence this warning.</span>\n",
       "</pre>\n"
      ],
      "text/plain": [
       "\u001b[1;33mC:\\Users\\Pavillon Plus\\AppData\\Local\\Temp\\ipykernel_15452\\\u001b[0m\u001b[1;33m1448036441.\u001b[0m\u001b[1;33mpy:\u001b[0m\u001b[1;33m30\u001b[0m\u001b[1;33m DeprecationWarning\u001b[0m\u001b[33m: DataFrameGroupBy.apply operated on the grouping columns. This behavior is deprecated, and in a future version of pandas the grouping columns will be excluded from the operation. Either pass `\u001b[0m\u001b[33minclude_groups\u001b[0m\u001b[33m=\u001b[0m\u001b[3;33mFalse\u001b[0m\u001b[33m` to exclude the groupings or explicitly select the grouping columns after groupby to silence this warning.\u001b[0m\n"
      ]
     },
     "metadata": {},
     "output_type": "display_data"
    },
    {
     "data": {
      "text/html": [
       "<pre style=\"white-space:pre;overflow-x:auto;line-height:normal;font-family:Menlo,'DejaVu Sans Mono',consolas,'Courier New',monospace\"><span style=\"color: #808000; text-decoration-color: #808000; font-weight: bold\">C:\\Users\\Pavillon Plus\\AppData\\Local\\Temp\\ipykernel_15452\\</span><span style=\"color: #808000; text-decoration-color: #808000; font-weight: bold\">1448036441.</span><span style=\"color: #808000; text-decoration-color: #808000; font-weight: bold\">py:</span><span style=\"color: #808000; text-decoration-color: #808000; font-weight: bold\">45</span><span style=\"color: #808000; text-decoration-color: #808000; font-weight: bold\"> DeprecationWarning</span><span style=\"color: #808000; text-decoration-color: #808000\">: DataFrameGroupBy.apply operated on the grouping columns. This behavior is deprecated, and in a future version of pandas the grouping columns will be excluded from the operation. Either pass `</span><span style=\"color: #808000; text-decoration-color: #808000\">include_groups</span><span style=\"color: #808000; text-decoration-color: #808000\">=</span><span style=\"color: #808000; text-decoration-color: #808000; font-style: italic\">False</span><span style=\"color: #808000; text-decoration-color: #808000\">` to exclude the groupings or explicitly select the grouping columns after groupby to silence this warning.</span>\n",
       "</pre>\n"
      ],
      "text/plain": [
       "\u001b[1;33mC:\\Users\\Pavillon Plus\\AppData\\Local\\Temp\\ipykernel_15452\\\u001b[0m\u001b[1;33m1448036441.\u001b[0m\u001b[1;33mpy:\u001b[0m\u001b[1;33m45\u001b[0m\u001b[1;33m DeprecationWarning\u001b[0m\u001b[33m: DataFrameGroupBy.apply operated on the grouping columns. This behavior is deprecated, and in a future version of pandas the grouping columns will be excluded from the operation. Either pass `\u001b[0m\u001b[33minclude_groups\u001b[0m\u001b[33m=\u001b[0m\u001b[3;33mFalse\u001b[0m\u001b[33m` to exclude the groupings or explicitly select the grouping columns after groupby to silence this warning.\u001b[0m\n"
      ]
     },
     "metadata": {},
     "output_type": "display_data"
    },
    {
     "name": "stdout",
     "output_type": "stream",
     "text": [
      "Hourly aggregates saved to: hourly_aggregates\\hourly_2024-01-29.parquet\n",
      "Processing file: 2024-01-29.parquet\n",
      "                       Hour  avg_sell_price  min_sell_price  max_sell_price  \\\n",
      "0 2024-01-29 00:00:00+00:00       62.836818           25.16           99.79   \n",
      "1 2024-01-29 01:00:00+00:00       64.271481           20.00           99.64   \n",
      "2 2024-01-29 02:00:00+00:00       59.818889           24.94           94.29   \n",
      "3 2024-01-29 03:00:00+00:00       63.601905           22.74           92.57   \n",
      "4 2024-01-29 04:00:00+00:00       66.024545           25.07           94.60   \n",
      "\n",
      "   total_sell_volume  sell_vwap  avg_buy_price  min_buy_price  max_buy_price  \\\n",
      "0            24469.0  63.225760      63.640588          25.00          97.34   \n",
      "1            66097.0  74.297746      59.876842          23.05          94.84   \n",
      "2            16405.0  60.865689      57.851304          22.45          99.41   \n",
      "3            23121.0  65.341115      61.939545          27.08          98.22   \n",
      "4            11255.0  62.869317      65.664074          25.56          96.85   \n",
      "\n",
      "   total_buy_volume   buy_vwap  \n",
      "0           60054.0  86.359338  \n",
      "1           24876.0  59.037975  \n",
      "2           44921.0  49.777277  \n",
      "3           18449.0  58.593889  \n",
      "4           25504.0  69.877779  \n"
     ]
    },
    {
     "data": {
      "text/html": [
       "<pre style=\"white-space:pre;overflow-x:auto;line-height:normal;font-family:Menlo,'DejaVu Sans Mono',consolas,'Courier New',monospace\"><span style=\"color: #808000; text-decoration-color: #808000; font-weight: bold\">C:\\Users\\Pavillon Plus\\AppData\\Local\\Temp\\ipykernel_15452\\</span><span style=\"color: #808000; text-decoration-color: #808000; font-weight: bold\">1448036441.</span><span style=\"color: #808000; text-decoration-color: #808000; font-weight: bold\">py:</span><span style=\"color: #808000; text-decoration-color: #808000; font-weight: bold\">12</span><span style=\"color: #808000; text-decoration-color: #808000; font-weight: bold\"> FutureWarning</span><span style=\"color: #808000; text-decoration-color: #808000\">: </span><span style=\"color: #808000; text-decoration-color: #808000\">'H'</span><span style=\"color: #808000; text-decoration-color: #808000\"> is deprecated and will be removed in a future version, please use </span><span style=\"color: #808000; text-decoration-color: #808000\">'h'</span><span style=\"color: #808000; text-decoration-color: #808000\"> instead.</span>\n",
       "</pre>\n"
      ],
      "text/plain": [
       "\u001b[1;33mC:\\Users\\Pavillon Plus\\AppData\\Local\\Temp\\ipykernel_15452\\\u001b[0m\u001b[1;33m1448036441.\u001b[0m\u001b[1;33mpy:\u001b[0m\u001b[1;33m12\u001b[0m\u001b[1;33m FutureWarning\u001b[0m\u001b[33m: \u001b[0m\u001b[33m'H'\u001b[0m\u001b[33m is deprecated and will be removed in a future version, please use \u001b[0m\u001b[33m'h'\u001b[0m\u001b[33m instead.\u001b[0m\n"
      ]
     },
     "metadata": {},
     "output_type": "display_data"
    },
    {
     "data": {
      "text/html": [
       "<pre style=\"white-space:pre;overflow-x:auto;line-height:normal;font-family:Menlo,'DejaVu Sans Mono',consolas,'Courier New',monospace\"><span style=\"color: #808000; text-decoration-color: #808000; font-weight: bold\">C:\\Users\\Pavillon Plus\\AppData\\Local\\Temp\\ipykernel_15452\\</span><span style=\"color: #808000; text-decoration-color: #808000; font-weight: bold\">1448036441.</span><span style=\"color: #808000; text-decoration-color: #808000; font-weight: bold\">py:</span><span style=\"color: #808000; text-decoration-color: #808000; font-weight: bold\">30</span><span style=\"color: #808000; text-decoration-color: #808000; font-weight: bold\"> DeprecationWarning</span><span style=\"color: #808000; text-decoration-color: #808000\">: DataFrameGroupBy.apply operated on the grouping columns. This behavior is deprecated, and in a future version of pandas the grouping columns will be excluded from the operation. Either pass `</span><span style=\"color: #808000; text-decoration-color: #808000\">include_groups</span><span style=\"color: #808000; text-decoration-color: #808000\">=</span><span style=\"color: #808000; text-decoration-color: #808000; font-style: italic\">False</span><span style=\"color: #808000; text-decoration-color: #808000\">` to exclude the groupings or explicitly select the grouping columns after groupby to silence this warning.</span>\n",
       "</pre>\n"
      ],
      "text/plain": [
       "\u001b[1;33mC:\\Users\\Pavillon Plus\\AppData\\Local\\Temp\\ipykernel_15452\\\u001b[0m\u001b[1;33m1448036441.\u001b[0m\u001b[1;33mpy:\u001b[0m\u001b[1;33m30\u001b[0m\u001b[1;33m DeprecationWarning\u001b[0m\u001b[33m: DataFrameGroupBy.apply operated on the grouping columns. This behavior is deprecated, and in a future version of pandas the grouping columns will be excluded from the operation. Either pass `\u001b[0m\u001b[33minclude_groups\u001b[0m\u001b[33m=\u001b[0m\u001b[3;33mFalse\u001b[0m\u001b[33m` to exclude the groupings or explicitly select the grouping columns after groupby to silence this warning.\u001b[0m\n"
      ]
     },
     "metadata": {},
     "output_type": "display_data"
    },
    {
     "data": {
      "text/html": [
       "<pre style=\"white-space:pre;overflow-x:auto;line-height:normal;font-family:Menlo,'DejaVu Sans Mono',consolas,'Courier New',monospace\"><span style=\"color: #808000; text-decoration-color: #808000; font-weight: bold\">C:\\Users\\Pavillon Plus\\AppData\\Local\\Temp\\ipykernel_15452\\</span><span style=\"color: #808000; text-decoration-color: #808000; font-weight: bold\">1448036441.</span><span style=\"color: #808000; text-decoration-color: #808000; font-weight: bold\">py:</span><span style=\"color: #808000; text-decoration-color: #808000; font-weight: bold\">45</span><span style=\"color: #808000; text-decoration-color: #808000; font-weight: bold\"> DeprecationWarning</span><span style=\"color: #808000; text-decoration-color: #808000\">: DataFrameGroupBy.apply operated on the grouping columns. This behavior is deprecated, and in a future version of pandas the grouping columns will be excluded from the operation. Either pass `</span><span style=\"color: #808000; text-decoration-color: #808000\">include_groups</span><span style=\"color: #808000; text-decoration-color: #808000\">=</span><span style=\"color: #808000; text-decoration-color: #808000; font-style: italic\">False</span><span style=\"color: #808000; text-decoration-color: #808000\">` to exclude the groupings or explicitly select the grouping columns after groupby to silence this warning.</span>\n",
       "</pre>\n"
      ],
      "text/plain": [
       "\u001b[1;33mC:\\Users\\Pavillon Plus\\AppData\\Local\\Temp\\ipykernel_15452\\\u001b[0m\u001b[1;33m1448036441.\u001b[0m\u001b[1;33mpy:\u001b[0m\u001b[1;33m45\u001b[0m\u001b[1;33m DeprecationWarning\u001b[0m\u001b[33m: DataFrameGroupBy.apply operated on the grouping columns. This behavior is deprecated, and in a future version of pandas the grouping columns will be excluded from the operation. Either pass `\u001b[0m\u001b[33minclude_groups\u001b[0m\u001b[33m=\u001b[0m\u001b[3;33mFalse\u001b[0m\u001b[33m` to exclude the groupings or explicitly select the grouping columns after groupby to silence this warning.\u001b[0m\n"
      ]
     },
     "metadata": {},
     "output_type": "display_data"
    },
    {
     "name": "stdout",
     "output_type": "stream",
     "text": [
      "Hourly aggregates saved to: hourly_aggregates\\hourly_2024-01-30.parquet\n",
      "Processing file: 2024-01-30.parquet\n",
      "                       Hour  avg_sell_price  min_sell_price  max_sell_price  \\\n",
      "0 2024-01-30 00:00:00+00:00       60.933529           31.04           99.74   \n",
      "1 2024-01-30 01:00:00+00:00       66.929167           27.54           98.86   \n",
      "2 2024-01-30 02:00:00+00:00       54.378235           21.26           81.66   \n",
      "3 2024-01-30 03:00:00+00:00       59.243750           26.31           95.09   \n",
      "4 2024-01-30 04:00:00+00:00       59.864583           24.05           99.00   \n",
      "\n",
      "   total_sell_volume  sell_vwap  avg_buy_price  min_buy_price  max_buy_price  \\\n",
      "0            15462.0  60.442972      57.928667          24.55          99.96   \n",
      "1            51975.0  75.729647      56.001765          22.01          96.08   \n",
      "2            52027.0  40.135401      61.159333          26.55          96.70   \n",
      "3             6784.0  61.311904      50.104667          22.11          90.72   \n",
      "4            61455.0  58.881723      64.651364          37.91          99.40   \n",
      "\n",
      "   total_buy_volume   buy_vwap  \n",
      "0           12722.0  58.615540  \n",
      "1           19261.0  58.792599  \n",
      "2           74896.0  45.945761  \n",
      "3           15868.0  47.622837  \n",
      "4           24690.0  63.609145  \n"
     ]
    },
    {
     "data": {
      "text/html": [
       "<pre style=\"white-space:pre;overflow-x:auto;line-height:normal;font-family:Menlo,'DejaVu Sans Mono',consolas,'Courier New',monospace\"><span style=\"color: #808000; text-decoration-color: #808000; font-weight: bold\">C:\\Users\\Pavillon Plus\\AppData\\Local\\Temp\\ipykernel_15452\\</span><span style=\"color: #808000; text-decoration-color: #808000; font-weight: bold\">1448036441.</span><span style=\"color: #808000; text-decoration-color: #808000; font-weight: bold\">py:</span><span style=\"color: #808000; text-decoration-color: #808000; font-weight: bold\">12</span><span style=\"color: #808000; text-decoration-color: #808000; font-weight: bold\"> FutureWarning</span><span style=\"color: #808000; text-decoration-color: #808000\">: </span><span style=\"color: #808000; text-decoration-color: #808000\">'H'</span><span style=\"color: #808000; text-decoration-color: #808000\"> is deprecated and will be removed in a future version, please use </span><span style=\"color: #808000; text-decoration-color: #808000\">'h'</span><span style=\"color: #808000; text-decoration-color: #808000\"> instead.</span>\n",
       "</pre>\n"
      ],
      "text/plain": [
       "\u001b[1;33mC:\\Users\\Pavillon Plus\\AppData\\Local\\Temp\\ipykernel_15452\\\u001b[0m\u001b[1;33m1448036441.\u001b[0m\u001b[1;33mpy:\u001b[0m\u001b[1;33m12\u001b[0m\u001b[1;33m FutureWarning\u001b[0m\u001b[33m: \u001b[0m\u001b[33m'H'\u001b[0m\u001b[33m is deprecated and will be removed in a future version, please use \u001b[0m\u001b[33m'h'\u001b[0m\u001b[33m instead.\u001b[0m\n"
      ]
     },
     "metadata": {},
     "output_type": "display_data"
    },
    {
     "data": {
      "text/html": [
       "<pre style=\"white-space:pre;overflow-x:auto;line-height:normal;font-family:Menlo,'DejaVu Sans Mono',consolas,'Courier New',monospace\"><span style=\"color: #808000; text-decoration-color: #808000; font-weight: bold\">C:\\Users\\Pavillon Plus\\AppData\\Local\\Temp\\ipykernel_15452\\</span><span style=\"color: #808000; text-decoration-color: #808000; font-weight: bold\">1448036441.</span><span style=\"color: #808000; text-decoration-color: #808000; font-weight: bold\">py:</span><span style=\"color: #808000; text-decoration-color: #808000; font-weight: bold\">30</span><span style=\"color: #808000; text-decoration-color: #808000; font-weight: bold\"> DeprecationWarning</span><span style=\"color: #808000; text-decoration-color: #808000\">: DataFrameGroupBy.apply operated on the grouping columns. This behavior is deprecated, and in a future version of pandas the grouping columns will be excluded from the operation. Either pass `</span><span style=\"color: #808000; text-decoration-color: #808000\">include_groups</span><span style=\"color: #808000; text-decoration-color: #808000\">=</span><span style=\"color: #808000; text-decoration-color: #808000; font-style: italic\">False</span><span style=\"color: #808000; text-decoration-color: #808000\">` to exclude the groupings or explicitly select the grouping columns after groupby to silence this warning.</span>\n",
       "</pre>\n"
      ],
      "text/plain": [
       "\u001b[1;33mC:\\Users\\Pavillon Plus\\AppData\\Local\\Temp\\ipykernel_15452\\\u001b[0m\u001b[1;33m1448036441.\u001b[0m\u001b[1;33mpy:\u001b[0m\u001b[1;33m30\u001b[0m\u001b[1;33m DeprecationWarning\u001b[0m\u001b[33m: DataFrameGroupBy.apply operated on the grouping columns. This behavior is deprecated, and in a future version of pandas the grouping columns will be excluded from the operation. Either pass `\u001b[0m\u001b[33minclude_groups\u001b[0m\u001b[33m=\u001b[0m\u001b[3;33mFalse\u001b[0m\u001b[33m` to exclude the groupings or explicitly select the grouping columns after groupby to silence this warning.\u001b[0m\n"
      ]
     },
     "metadata": {},
     "output_type": "display_data"
    },
    {
     "data": {
      "text/html": [
       "<pre style=\"white-space:pre;overflow-x:auto;line-height:normal;font-family:Menlo,'DejaVu Sans Mono',consolas,'Courier New',monospace\"><span style=\"color: #808000; text-decoration-color: #808000; font-weight: bold\">C:\\Users\\Pavillon Plus\\AppData\\Local\\Temp\\ipykernel_15452\\</span><span style=\"color: #808000; text-decoration-color: #808000; font-weight: bold\">1448036441.</span><span style=\"color: #808000; text-decoration-color: #808000; font-weight: bold\">py:</span><span style=\"color: #808000; text-decoration-color: #808000; font-weight: bold\">45</span><span style=\"color: #808000; text-decoration-color: #808000; font-weight: bold\"> DeprecationWarning</span><span style=\"color: #808000; text-decoration-color: #808000\">: DataFrameGroupBy.apply operated on the grouping columns. This behavior is deprecated, and in a future version of pandas the grouping columns will be excluded from the operation. Either pass `</span><span style=\"color: #808000; text-decoration-color: #808000\">include_groups</span><span style=\"color: #808000; text-decoration-color: #808000\">=</span><span style=\"color: #808000; text-decoration-color: #808000; font-style: italic\">False</span><span style=\"color: #808000; text-decoration-color: #808000\">` to exclude the groupings or explicitly select the grouping columns after groupby to silence this warning.</span>\n",
       "</pre>\n"
      ],
      "text/plain": [
       "\u001b[1;33mC:\\Users\\Pavillon Plus\\AppData\\Local\\Temp\\ipykernel_15452\\\u001b[0m\u001b[1;33m1448036441.\u001b[0m\u001b[1;33mpy:\u001b[0m\u001b[1;33m45\u001b[0m\u001b[1;33m DeprecationWarning\u001b[0m\u001b[33m: DataFrameGroupBy.apply operated on the grouping columns. This behavior is deprecated, and in a future version of pandas the grouping columns will be excluded from the operation. Either pass `\u001b[0m\u001b[33minclude_groups\u001b[0m\u001b[33m=\u001b[0m\u001b[3;33mFalse\u001b[0m\u001b[33m` to exclude the groupings or explicitly select the grouping columns after groupby to silence this warning.\u001b[0m\n"
      ]
     },
     "metadata": {},
     "output_type": "display_data"
    },
    {
     "name": "stdout",
     "output_type": "stream",
     "text": [
      "Hourly aggregates saved to: hourly_aggregates\\hourly_2024-01-31.parquet\n",
      "Processing file: 2024-01-31.parquet\n",
      "                       Hour  avg_sell_price  min_sell_price  max_sell_price  \\\n",
      "0 2024-01-31 00:00:00+00:00       64.907143           20.51           99.86   \n",
      "1 2024-01-31 01:00:00+00:00       65.376316           26.14           94.70   \n",
      "2 2024-01-31 02:00:00+00:00       60.721667           25.33           85.97   \n",
      "3 2024-01-31 03:00:00+00:00       66.820000           21.68           96.78   \n",
      "4 2024-01-31 04:00:00+00:00       66.624118           35.78           99.62   \n",
      "\n",
      "   total_sell_volume  sell_vwap  avg_buy_price  min_buy_price  max_buy_price  \\\n",
      "0            22429.0  64.164903      59.203571          21.00          96.93   \n",
      "1            17816.0  59.957266      54.194762          20.23          95.06   \n",
      "2            13145.0  62.322875      51.763636          21.40          92.11   \n",
      "3            26481.0  71.409197      56.587857          29.42          92.76   \n",
      "4            20423.0  65.637645      55.185500          23.78          94.37   \n",
      "\n",
      "   total_buy_volume   buy_vwap  \n",
      "0           13389.0  65.001650  \n",
      "1           22994.0  51.368637  \n",
      "2           22490.0  53.518815  \n",
      "3           15225.0  57.707615  \n",
      "4           23080.0  53.065470  \n"
     ]
    },
    {
     "data": {
      "text/html": [
       "<pre style=\"white-space:pre;overflow-x:auto;line-height:normal;font-family:Menlo,'DejaVu Sans Mono',consolas,'Courier New',monospace\"><span style=\"color: #808000; text-decoration-color: #808000; font-weight: bold\">C:\\Users\\Pavillon Plus\\AppData\\Local\\Temp\\ipykernel_15452\\</span><span style=\"color: #808000; text-decoration-color: #808000; font-weight: bold\">1448036441.</span><span style=\"color: #808000; text-decoration-color: #808000; font-weight: bold\">py:</span><span style=\"color: #808000; text-decoration-color: #808000; font-weight: bold\">12</span><span style=\"color: #808000; text-decoration-color: #808000; font-weight: bold\"> FutureWarning</span><span style=\"color: #808000; text-decoration-color: #808000\">: </span><span style=\"color: #808000; text-decoration-color: #808000\">'H'</span><span style=\"color: #808000; text-decoration-color: #808000\"> is deprecated and will be removed in a future version, please use </span><span style=\"color: #808000; text-decoration-color: #808000\">'h'</span><span style=\"color: #808000; text-decoration-color: #808000\"> instead.</span>\n",
       "</pre>\n"
      ],
      "text/plain": [
       "\u001b[1;33mC:\\Users\\Pavillon Plus\\AppData\\Local\\Temp\\ipykernel_15452\\\u001b[0m\u001b[1;33m1448036441.\u001b[0m\u001b[1;33mpy:\u001b[0m\u001b[1;33m12\u001b[0m\u001b[1;33m FutureWarning\u001b[0m\u001b[33m: \u001b[0m\u001b[33m'H'\u001b[0m\u001b[33m is deprecated and will be removed in a future version, please use \u001b[0m\u001b[33m'h'\u001b[0m\u001b[33m instead.\u001b[0m\n"
      ]
     },
     "metadata": {},
     "output_type": "display_data"
    },
    {
     "data": {
      "text/html": [
       "<pre style=\"white-space:pre;overflow-x:auto;line-height:normal;font-family:Menlo,'DejaVu Sans Mono',consolas,'Courier New',monospace\"><span style=\"color: #808000; text-decoration-color: #808000; font-weight: bold\">C:\\Users\\Pavillon Plus\\AppData\\Local\\Temp\\ipykernel_15452\\</span><span style=\"color: #808000; text-decoration-color: #808000; font-weight: bold\">1448036441.</span><span style=\"color: #808000; text-decoration-color: #808000; font-weight: bold\">py:</span><span style=\"color: #808000; text-decoration-color: #808000; font-weight: bold\">30</span><span style=\"color: #808000; text-decoration-color: #808000; font-weight: bold\"> DeprecationWarning</span><span style=\"color: #808000; text-decoration-color: #808000\">: DataFrameGroupBy.apply operated on the grouping columns. This behavior is deprecated, and in a future version of pandas the grouping columns will be excluded from the operation. Either pass `</span><span style=\"color: #808000; text-decoration-color: #808000\">include_groups</span><span style=\"color: #808000; text-decoration-color: #808000\">=</span><span style=\"color: #808000; text-decoration-color: #808000; font-style: italic\">False</span><span style=\"color: #808000; text-decoration-color: #808000\">` to exclude the groupings or explicitly select the grouping columns after groupby to silence this warning.</span>\n",
       "</pre>\n"
      ],
      "text/plain": [
       "\u001b[1;33mC:\\Users\\Pavillon Plus\\AppData\\Local\\Temp\\ipykernel_15452\\\u001b[0m\u001b[1;33m1448036441.\u001b[0m\u001b[1;33mpy:\u001b[0m\u001b[1;33m30\u001b[0m\u001b[1;33m DeprecationWarning\u001b[0m\u001b[33m: DataFrameGroupBy.apply operated on the grouping columns. This behavior is deprecated, and in a future version of pandas the grouping columns will be excluded from the operation. Either pass `\u001b[0m\u001b[33minclude_groups\u001b[0m\u001b[33m=\u001b[0m\u001b[3;33mFalse\u001b[0m\u001b[33m` to exclude the groupings or explicitly select the grouping columns after groupby to silence this warning.\u001b[0m\n"
      ]
     },
     "metadata": {},
     "output_type": "display_data"
    },
    {
     "data": {
      "text/html": [
       "<pre style=\"white-space:pre;overflow-x:auto;line-height:normal;font-family:Menlo,'DejaVu Sans Mono',consolas,'Courier New',monospace\"><span style=\"color: #808000; text-decoration-color: #808000; font-weight: bold\">C:\\Users\\Pavillon Plus\\AppData\\Local\\Temp\\ipykernel_15452\\</span><span style=\"color: #808000; text-decoration-color: #808000; font-weight: bold\">1448036441.</span><span style=\"color: #808000; text-decoration-color: #808000; font-weight: bold\">py:</span><span style=\"color: #808000; text-decoration-color: #808000; font-weight: bold\">45</span><span style=\"color: #808000; text-decoration-color: #808000; font-weight: bold\"> DeprecationWarning</span><span style=\"color: #808000; text-decoration-color: #808000\">: DataFrameGroupBy.apply operated on the grouping columns. This behavior is deprecated, and in a future version of pandas the grouping columns will be excluded from the operation. Either pass `</span><span style=\"color: #808000; text-decoration-color: #808000\">include_groups</span><span style=\"color: #808000; text-decoration-color: #808000\">=</span><span style=\"color: #808000; text-decoration-color: #808000; font-style: italic\">False</span><span style=\"color: #808000; text-decoration-color: #808000\">` to exclude the groupings or explicitly select the grouping columns after groupby to silence this warning.</span>\n",
       "</pre>\n"
      ],
      "text/plain": [
       "\u001b[1;33mC:\\Users\\Pavillon Plus\\AppData\\Local\\Temp\\ipykernel_15452\\\u001b[0m\u001b[1;33m1448036441.\u001b[0m\u001b[1;33mpy:\u001b[0m\u001b[1;33m45\u001b[0m\u001b[1;33m DeprecationWarning\u001b[0m\u001b[33m: DataFrameGroupBy.apply operated on the grouping columns. This behavior is deprecated, and in a future version of pandas the grouping columns will be excluded from the operation. Either pass `\u001b[0m\u001b[33minclude_groups\u001b[0m\u001b[33m=\u001b[0m\u001b[3;33mFalse\u001b[0m\u001b[33m` to exclude the groupings or explicitly select the grouping columns after groupby to silence this warning.\u001b[0m\n"
      ]
     },
     "metadata": {},
     "output_type": "display_data"
    },
    {
     "name": "stdout",
     "output_type": "stream",
     "text": [
      "Hourly aggregates saved to: hourly_aggregates\\hourly_processed_data_2023-12-31.parquet\n",
      "Processing file: processed_data_2023-12-31.parquet\n",
      "                       Hour  avg_sell_price  min_sell_price  max_sell_price  \\\n",
      "0 2023-12-31 23:00:00+00:00       57.111667           27.25           79.99   \n",
      "\n",
      "   total_sell_volume  sell_vwap  avg_buy_price  min_buy_price  max_buy_price  \\\n",
      "0             7229.0  56.884384         64.625          23.57           91.0   \n",
      "\n",
      "   total_buy_volume   buy_vwap  \n",
      "0            3322.0  58.305774  \n"
     ]
    },
    {
     "data": {
      "text/html": [
       "<pre style=\"white-space:pre;overflow-x:auto;line-height:normal;font-family:Menlo,'DejaVu Sans Mono',consolas,'Courier New',monospace\"><span style=\"color: #808000; text-decoration-color: #808000; font-weight: bold\">C:\\Users\\Pavillon Plus\\AppData\\Local\\Temp\\ipykernel_15452\\</span><span style=\"color: #808000; text-decoration-color: #808000; font-weight: bold\">1448036441.</span><span style=\"color: #808000; text-decoration-color: #808000; font-weight: bold\">py:</span><span style=\"color: #808000; text-decoration-color: #808000; font-weight: bold\">12</span><span style=\"color: #808000; text-decoration-color: #808000; font-weight: bold\"> FutureWarning</span><span style=\"color: #808000; text-decoration-color: #808000\">: </span><span style=\"color: #808000; text-decoration-color: #808000\">'H'</span><span style=\"color: #808000; text-decoration-color: #808000\"> is deprecated and will be removed in a future version, please use </span><span style=\"color: #808000; text-decoration-color: #808000\">'h'</span><span style=\"color: #808000; text-decoration-color: #808000\"> instead.</span>\n",
       "</pre>\n"
      ],
      "text/plain": [
       "\u001b[1;33mC:\\Users\\Pavillon Plus\\AppData\\Local\\Temp\\ipykernel_15452\\\u001b[0m\u001b[1;33m1448036441.\u001b[0m\u001b[1;33mpy:\u001b[0m\u001b[1;33m12\u001b[0m\u001b[1;33m FutureWarning\u001b[0m\u001b[33m: \u001b[0m\u001b[33m'H'\u001b[0m\u001b[33m is deprecated and will be removed in a future version, please use \u001b[0m\u001b[33m'h'\u001b[0m\u001b[33m instead.\u001b[0m\n"
      ]
     },
     "metadata": {},
     "output_type": "display_data"
    },
    {
     "data": {
      "text/html": [
       "<pre style=\"white-space:pre;overflow-x:auto;line-height:normal;font-family:Menlo,'DejaVu Sans Mono',consolas,'Courier New',monospace\"><span style=\"color: #808000; text-decoration-color: #808000; font-weight: bold\">C:\\Users\\Pavillon Plus\\AppData\\Local\\Temp\\ipykernel_15452\\</span><span style=\"color: #808000; text-decoration-color: #808000; font-weight: bold\">1448036441.</span><span style=\"color: #808000; text-decoration-color: #808000; font-weight: bold\">py:</span><span style=\"color: #808000; text-decoration-color: #808000; font-weight: bold\">30</span><span style=\"color: #808000; text-decoration-color: #808000; font-weight: bold\"> DeprecationWarning</span><span style=\"color: #808000; text-decoration-color: #808000\">: DataFrameGroupBy.apply operated on the grouping columns. This behavior is deprecated, and in a future version of pandas the grouping columns will be excluded from the operation. Either pass `</span><span style=\"color: #808000; text-decoration-color: #808000\">include_groups</span><span style=\"color: #808000; text-decoration-color: #808000\">=</span><span style=\"color: #808000; text-decoration-color: #808000; font-style: italic\">False</span><span style=\"color: #808000; text-decoration-color: #808000\">` to exclude the groupings or explicitly select the grouping columns after groupby to silence this warning.</span>\n",
       "</pre>\n"
      ],
      "text/plain": [
       "\u001b[1;33mC:\\Users\\Pavillon Plus\\AppData\\Local\\Temp\\ipykernel_15452\\\u001b[0m\u001b[1;33m1448036441.\u001b[0m\u001b[1;33mpy:\u001b[0m\u001b[1;33m30\u001b[0m\u001b[1;33m DeprecationWarning\u001b[0m\u001b[33m: DataFrameGroupBy.apply operated on the grouping columns. This behavior is deprecated, and in a future version of pandas the grouping columns will be excluded from the operation. Either pass `\u001b[0m\u001b[33minclude_groups\u001b[0m\u001b[33m=\u001b[0m\u001b[3;33mFalse\u001b[0m\u001b[33m` to exclude the groupings or explicitly select the grouping columns after groupby to silence this warning.\u001b[0m\n"
      ]
     },
     "metadata": {},
     "output_type": "display_data"
    },
    {
     "data": {
      "text/html": [
       "<pre style=\"white-space:pre;overflow-x:auto;line-height:normal;font-family:Menlo,'DejaVu Sans Mono',consolas,'Courier New',monospace\"><span style=\"color: #808000; text-decoration-color: #808000; font-weight: bold\">C:\\Users\\Pavillon Plus\\AppData\\Local\\Temp\\ipykernel_15452\\</span><span style=\"color: #808000; text-decoration-color: #808000; font-weight: bold\">1448036441.</span><span style=\"color: #808000; text-decoration-color: #808000; font-weight: bold\">py:</span><span style=\"color: #808000; text-decoration-color: #808000; font-weight: bold\">45</span><span style=\"color: #808000; text-decoration-color: #808000; font-weight: bold\"> DeprecationWarning</span><span style=\"color: #808000; text-decoration-color: #808000\">: DataFrameGroupBy.apply operated on the grouping columns. This behavior is deprecated, and in a future version of pandas the grouping columns will be excluded from the operation. Either pass `</span><span style=\"color: #808000; text-decoration-color: #808000\">include_groups</span><span style=\"color: #808000; text-decoration-color: #808000\">=</span><span style=\"color: #808000; text-decoration-color: #808000; font-style: italic\">False</span><span style=\"color: #808000; text-decoration-color: #808000\">` to exclude the groupings or explicitly select the grouping columns after groupby to silence this warning.</span>\n",
       "</pre>\n"
      ],
      "text/plain": [
       "\u001b[1;33mC:\\Users\\Pavillon Plus\\AppData\\Local\\Temp\\ipykernel_15452\\\u001b[0m\u001b[1;33m1448036441.\u001b[0m\u001b[1;33mpy:\u001b[0m\u001b[1;33m45\u001b[0m\u001b[1;33m DeprecationWarning\u001b[0m\u001b[33m: DataFrameGroupBy.apply operated on the grouping columns. This behavior is deprecated, and in a future version of pandas the grouping columns will be excluded from the operation. Either pass `\u001b[0m\u001b[33minclude_groups\u001b[0m\u001b[33m=\u001b[0m\u001b[3;33mFalse\u001b[0m\u001b[33m` to exclude the groupings or explicitly select the grouping columns after groupby to silence this warning.\u001b[0m\n"
      ]
     },
     "metadata": {},
     "output_type": "display_data"
    },
    {
     "name": "stdout",
     "output_type": "stream",
     "text": [
      "Hourly aggregates saved to: hourly_aggregates\\hourly_processed_data_2024-01-01.parquet\n",
      "Processing file: processed_data_2024-01-01.parquet\n",
      "                       Hour  avg_sell_price  min_sell_price  max_sell_price  \\\n",
      "0 2024-01-01 00:00:00+00:00       69.057647           32.77           93.75   \n",
      "1 2024-01-01 01:00:00+00:00       62.038095           24.10           96.01   \n",
      "2 2024-01-01 02:00:00+00:00       59.015455           22.66           99.07   \n",
      "3 2024-01-01 03:00:00+00:00       61.728750           20.22           95.15   \n",
      "4 2024-01-01 04:00:00+00:00       63.376111           21.35           99.79   \n",
      "\n",
      "   total_sell_volume  sell_vwap  avg_buy_price  min_buy_price  max_buy_price  \\\n",
      "0            18048.0  71.424473      64.256667          28.11          92.32   \n",
      "1            25560.0  63.422583      63.526364          20.87          99.26   \n",
      "2            47456.0  81.701268      57.799474          22.69          95.68   \n",
      "3            49609.0  84.670176      59.478889          24.95          99.26   \n",
      "4            18588.0  57.680352      68.102222          38.41          96.01   \n",
      "\n",
      "   total_buy_volume   buy_vwap  \n",
      "0           83478.0  71.786155  \n",
      "1           23443.0  64.431116  \n",
      "2           18509.0  56.772886  \n",
      "3           66018.0  74.967419  \n",
      "4           42404.0  55.834881  \n"
     ]
    },
    {
     "data": {
      "text/html": [
       "<pre style=\"white-space:pre;overflow-x:auto;line-height:normal;font-family:Menlo,'DejaVu Sans Mono',consolas,'Courier New',monospace\"><span style=\"color: #808000; text-decoration-color: #808000; font-weight: bold\">C:\\Users\\Pavillon Plus\\AppData\\Local\\Temp\\ipykernel_15452\\</span><span style=\"color: #808000; text-decoration-color: #808000; font-weight: bold\">1448036441.</span><span style=\"color: #808000; text-decoration-color: #808000; font-weight: bold\">py:</span><span style=\"color: #808000; text-decoration-color: #808000; font-weight: bold\">12</span><span style=\"color: #808000; text-decoration-color: #808000; font-weight: bold\"> FutureWarning</span><span style=\"color: #808000; text-decoration-color: #808000\">: </span><span style=\"color: #808000; text-decoration-color: #808000\">'H'</span><span style=\"color: #808000; text-decoration-color: #808000\"> is deprecated and will be removed in a future version, please use </span><span style=\"color: #808000; text-decoration-color: #808000\">'h'</span><span style=\"color: #808000; text-decoration-color: #808000\"> instead.</span>\n",
       "</pre>\n"
      ],
      "text/plain": [
       "\u001b[1;33mC:\\Users\\Pavillon Plus\\AppData\\Local\\Temp\\ipykernel_15452\\\u001b[0m\u001b[1;33m1448036441.\u001b[0m\u001b[1;33mpy:\u001b[0m\u001b[1;33m12\u001b[0m\u001b[1;33m FutureWarning\u001b[0m\u001b[33m: \u001b[0m\u001b[33m'H'\u001b[0m\u001b[33m is deprecated and will be removed in a future version, please use \u001b[0m\u001b[33m'h'\u001b[0m\u001b[33m instead.\u001b[0m\n"
      ]
     },
     "metadata": {},
     "output_type": "display_data"
    },
    {
     "data": {
      "text/html": [
       "<pre style=\"white-space:pre;overflow-x:auto;line-height:normal;font-family:Menlo,'DejaVu Sans Mono',consolas,'Courier New',monospace\"><span style=\"color: #808000; text-decoration-color: #808000; font-weight: bold\">C:\\Users\\Pavillon Plus\\AppData\\Local\\Temp\\ipykernel_15452\\</span><span style=\"color: #808000; text-decoration-color: #808000; font-weight: bold\">1448036441.</span><span style=\"color: #808000; text-decoration-color: #808000; font-weight: bold\">py:</span><span style=\"color: #808000; text-decoration-color: #808000; font-weight: bold\">30</span><span style=\"color: #808000; text-decoration-color: #808000; font-weight: bold\"> DeprecationWarning</span><span style=\"color: #808000; text-decoration-color: #808000\">: DataFrameGroupBy.apply operated on the grouping columns. This behavior is deprecated, and in a future version of pandas the grouping columns will be excluded from the operation. Either pass `</span><span style=\"color: #808000; text-decoration-color: #808000\">include_groups</span><span style=\"color: #808000; text-decoration-color: #808000\">=</span><span style=\"color: #808000; text-decoration-color: #808000; font-style: italic\">False</span><span style=\"color: #808000; text-decoration-color: #808000\">` to exclude the groupings or explicitly select the grouping columns after groupby to silence this warning.</span>\n",
       "</pre>\n"
      ],
      "text/plain": [
       "\u001b[1;33mC:\\Users\\Pavillon Plus\\AppData\\Local\\Temp\\ipykernel_15452\\\u001b[0m\u001b[1;33m1448036441.\u001b[0m\u001b[1;33mpy:\u001b[0m\u001b[1;33m30\u001b[0m\u001b[1;33m DeprecationWarning\u001b[0m\u001b[33m: DataFrameGroupBy.apply operated on the grouping columns. This behavior is deprecated, and in a future version of pandas the grouping columns will be excluded from the operation. Either pass `\u001b[0m\u001b[33minclude_groups\u001b[0m\u001b[33m=\u001b[0m\u001b[3;33mFalse\u001b[0m\u001b[33m` to exclude the groupings or explicitly select the grouping columns after groupby to silence this warning.\u001b[0m\n"
      ]
     },
     "metadata": {},
     "output_type": "display_data"
    },
    {
     "data": {
      "text/html": [
       "<pre style=\"white-space:pre;overflow-x:auto;line-height:normal;font-family:Menlo,'DejaVu Sans Mono',consolas,'Courier New',monospace\"><span style=\"color: #808000; text-decoration-color: #808000; font-weight: bold\">C:\\Users\\Pavillon Plus\\AppData\\Local\\Temp\\ipykernel_15452\\</span><span style=\"color: #808000; text-decoration-color: #808000; font-weight: bold\">1448036441.</span><span style=\"color: #808000; text-decoration-color: #808000; font-weight: bold\">py:</span><span style=\"color: #808000; text-decoration-color: #808000; font-weight: bold\">45</span><span style=\"color: #808000; text-decoration-color: #808000; font-weight: bold\"> DeprecationWarning</span><span style=\"color: #808000; text-decoration-color: #808000\">: DataFrameGroupBy.apply operated on the grouping columns. This behavior is deprecated, and in a future version of pandas the grouping columns will be excluded from the operation. Either pass `</span><span style=\"color: #808000; text-decoration-color: #808000\">include_groups</span><span style=\"color: #808000; text-decoration-color: #808000\">=</span><span style=\"color: #808000; text-decoration-color: #808000; font-style: italic\">False</span><span style=\"color: #808000; text-decoration-color: #808000\">` to exclude the groupings or explicitly select the grouping columns after groupby to silence this warning.</span>\n",
       "</pre>\n"
      ],
      "text/plain": [
       "\u001b[1;33mC:\\Users\\Pavillon Plus\\AppData\\Local\\Temp\\ipykernel_15452\\\u001b[0m\u001b[1;33m1448036441.\u001b[0m\u001b[1;33mpy:\u001b[0m\u001b[1;33m45\u001b[0m\u001b[1;33m DeprecationWarning\u001b[0m\u001b[33m: DataFrameGroupBy.apply operated on the grouping columns. This behavior is deprecated, and in a future version of pandas the grouping columns will be excluded from the operation. Either pass `\u001b[0m\u001b[33minclude_groups\u001b[0m\u001b[33m=\u001b[0m\u001b[3;33mFalse\u001b[0m\u001b[33m` to exclude the groupings or explicitly select the grouping columns after groupby to silence this warning.\u001b[0m\n"
      ]
     },
     "metadata": {},
     "output_type": "display_data"
    },
    {
     "name": "stdout",
     "output_type": "stream",
     "text": [
      "Hourly aggregates saved to: hourly_aggregates\\hourly_processed_data_2024-01-02.parquet\n",
      "Processing file: processed_data_2024-01-02.parquet\n",
      "                       Hour  avg_sell_price  min_sell_price  max_sell_price  \\\n",
      "0 2024-01-02 00:00:00+00:00       63.443200           23.09           99.82   \n",
      "1 2024-01-02 01:00:00+00:00       57.076667           31.22           97.56   \n",
      "2 2024-01-02 02:00:00+00:00       65.724615           30.62           91.31   \n",
      "3 2024-01-02 03:00:00+00:00       55.933158           20.68           99.92   \n",
      "4 2024-01-02 04:00:00+00:00       52.630417           20.24           97.61   \n",
      "\n",
      "   total_sell_volume  sell_vwap  avg_buy_price  min_buy_price  max_buy_price  \\\n",
      "0            22510.0  63.063174      63.840909          23.55          97.68   \n",
      "1            56920.0  51.827821      57.975909          20.71          96.85   \n",
      "2            11689.0  72.556183      60.459500          21.39          94.50   \n",
      "3            25414.0  55.888114      64.162609          27.67          99.58   \n",
      "4            55954.0  39.255789      59.386923          20.81          94.05   \n",
      "\n",
      "   total_buy_volume   buy_vwap  \n",
      "0           24654.0  63.755204  \n",
      "1           19241.0  58.158416  \n",
      "2           19785.0  64.090678  \n",
      "3           20274.0  61.713070  \n",
      "4           15364.0  56.891564  \n"
     ]
    },
    {
     "data": {
      "text/html": [
       "<pre style=\"white-space:pre;overflow-x:auto;line-height:normal;font-family:Menlo,'DejaVu Sans Mono',consolas,'Courier New',monospace\"><span style=\"color: #808000; text-decoration-color: #808000; font-weight: bold\">C:\\Users\\Pavillon Plus\\AppData\\Local\\Temp\\ipykernel_15452\\</span><span style=\"color: #808000; text-decoration-color: #808000; font-weight: bold\">1448036441.</span><span style=\"color: #808000; text-decoration-color: #808000; font-weight: bold\">py:</span><span style=\"color: #808000; text-decoration-color: #808000; font-weight: bold\">12</span><span style=\"color: #808000; text-decoration-color: #808000; font-weight: bold\"> FutureWarning</span><span style=\"color: #808000; text-decoration-color: #808000\">: </span><span style=\"color: #808000; text-decoration-color: #808000\">'H'</span><span style=\"color: #808000; text-decoration-color: #808000\"> is deprecated and will be removed in a future version, please use </span><span style=\"color: #808000; text-decoration-color: #808000\">'h'</span><span style=\"color: #808000; text-decoration-color: #808000\"> instead.</span>\n",
       "</pre>\n"
      ],
      "text/plain": [
       "\u001b[1;33mC:\\Users\\Pavillon Plus\\AppData\\Local\\Temp\\ipykernel_15452\\\u001b[0m\u001b[1;33m1448036441.\u001b[0m\u001b[1;33mpy:\u001b[0m\u001b[1;33m12\u001b[0m\u001b[1;33m FutureWarning\u001b[0m\u001b[33m: \u001b[0m\u001b[33m'H'\u001b[0m\u001b[33m is deprecated and will be removed in a future version, please use \u001b[0m\u001b[33m'h'\u001b[0m\u001b[33m instead.\u001b[0m\n"
      ]
     },
     "metadata": {},
     "output_type": "display_data"
    },
    {
     "data": {
      "text/html": [
       "<pre style=\"white-space:pre;overflow-x:auto;line-height:normal;font-family:Menlo,'DejaVu Sans Mono',consolas,'Courier New',monospace\"><span style=\"color: #808000; text-decoration-color: #808000; font-weight: bold\">C:\\Users\\Pavillon Plus\\AppData\\Local\\Temp\\ipykernel_15452\\</span><span style=\"color: #808000; text-decoration-color: #808000; font-weight: bold\">1448036441.</span><span style=\"color: #808000; text-decoration-color: #808000; font-weight: bold\">py:</span><span style=\"color: #808000; text-decoration-color: #808000; font-weight: bold\">30</span><span style=\"color: #808000; text-decoration-color: #808000; font-weight: bold\"> DeprecationWarning</span><span style=\"color: #808000; text-decoration-color: #808000\">: DataFrameGroupBy.apply operated on the grouping columns. This behavior is deprecated, and in a future version of pandas the grouping columns will be excluded from the operation. Either pass `</span><span style=\"color: #808000; text-decoration-color: #808000\">include_groups</span><span style=\"color: #808000; text-decoration-color: #808000\">=</span><span style=\"color: #808000; text-decoration-color: #808000; font-style: italic\">False</span><span style=\"color: #808000; text-decoration-color: #808000\">` to exclude the groupings or explicitly select the grouping columns after groupby to silence this warning.</span>\n",
       "</pre>\n"
      ],
      "text/plain": [
       "\u001b[1;33mC:\\Users\\Pavillon Plus\\AppData\\Local\\Temp\\ipykernel_15452\\\u001b[0m\u001b[1;33m1448036441.\u001b[0m\u001b[1;33mpy:\u001b[0m\u001b[1;33m30\u001b[0m\u001b[1;33m DeprecationWarning\u001b[0m\u001b[33m: DataFrameGroupBy.apply operated on the grouping columns. This behavior is deprecated, and in a future version of pandas the grouping columns will be excluded from the operation. Either pass `\u001b[0m\u001b[33minclude_groups\u001b[0m\u001b[33m=\u001b[0m\u001b[3;33mFalse\u001b[0m\u001b[33m` to exclude the groupings or explicitly select the grouping columns after groupby to silence this warning.\u001b[0m\n"
      ]
     },
     "metadata": {},
     "output_type": "display_data"
    },
    {
     "data": {
      "text/html": [
       "<pre style=\"white-space:pre;overflow-x:auto;line-height:normal;font-family:Menlo,'DejaVu Sans Mono',consolas,'Courier New',monospace\"><span style=\"color: #808000; text-decoration-color: #808000; font-weight: bold\">C:\\Users\\Pavillon Plus\\AppData\\Local\\Temp\\ipykernel_15452\\</span><span style=\"color: #808000; text-decoration-color: #808000; font-weight: bold\">1448036441.</span><span style=\"color: #808000; text-decoration-color: #808000; font-weight: bold\">py:</span><span style=\"color: #808000; text-decoration-color: #808000; font-weight: bold\">45</span><span style=\"color: #808000; text-decoration-color: #808000; font-weight: bold\"> DeprecationWarning</span><span style=\"color: #808000; text-decoration-color: #808000\">: DataFrameGroupBy.apply operated on the grouping columns. This behavior is deprecated, and in a future version of pandas the grouping columns will be excluded from the operation. Either pass `</span><span style=\"color: #808000; text-decoration-color: #808000\">include_groups</span><span style=\"color: #808000; text-decoration-color: #808000\">=</span><span style=\"color: #808000; text-decoration-color: #808000; font-style: italic\">False</span><span style=\"color: #808000; text-decoration-color: #808000\">` to exclude the groupings or explicitly select the grouping columns after groupby to silence this warning.</span>\n",
       "</pre>\n"
      ],
      "text/plain": [
       "\u001b[1;33mC:\\Users\\Pavillon Plus\\AppData\\Local\\Temp\\ipykernel_15452\\\u001b[0m\u001b[1;33m1448036441.\u001b[0m\u001b[1;33mpy:\u001b[0m\u001b[1;33m45\u001b[0m\u001b[1;33m DeprecationWarning\u001b[0m\u001b[33m: DataFrameGroupBy.apply operated on the grouping columns. This behavior is deprecated, and in a future version of pandas the grouping columns will be excluded from the operation. Either pass `\u001b[0m\u001b[33minclude_groups\u001b[0m\u001b[33m=\u001b[0m\u001b[3;33mFalse\u001b[0m\u001b[33m` to exclude the groupings or explicitly select the grouping columns after groupby to silence this warning.\u001b[0m\n"
      ]
     },
     "metadata": {},
     "output_type": "display_data"
    },
    {
     "name": "stdout",
     "output_type": "stream",
     "text": [
      "Hourly aggregates saved to: hourly_aggregates\\hourly_processed_data_2024-01-03.parquet\n",
      "Processing file: processed_data_2024-01-03.parquet\n",
      "                       Hour  avg_sell_price  min_sell_price  max_sell_price  \\\n",
      "0 2024-01-03 00:00:00+00:00       66.317692           24.00           99.70   \n",
      "1 2024-01-03 01:00:00+00:00       68.729032           20.76           98.66   \n",
      "2 2024-01-03 02:00:00+00:00       56.973750           22.24           91.62   \n",
      "3 2024-01-03 03:00:00+00:00       55.858000           21.93           96.81   \n",
      "4 2024-01-03 04:00:00+00:00       60.244211           22.04           93.54   \n",
      "\n",
      "   total_sell_volume  sell_vwap  avg_buy_price  min_buy_price  max_buy_price  \\\n",
      "0            17661.0  64.513862      58.806842          22.05          91.54   \n",
      "1            29352.0  72.843014      59.277059          22.45          83.67   \n",
      "2            43251.0  47.328851      55.117586          20.14          98.52   \n",
      "3            30845.0  55.164277      58.690645          20.16          95.11   \n",
      "4            24502.0  59.653541      59.090556          23.97          91.36   \n",
      "\n",
      "   total_buy_volume   buy_vwap  \n",
      "0           21512.0  59.101925  \n",
      "1           16696.0  67.906360  \n",
      "2           32308.0  54.178771  \n",
      "3           31384.0  59.780591  \n",
      "4          130994.0  68.239574  \n"
     ]
    },
    {
     "data": {
      "text/html": [
       "<pre style=\"white-space:pre;overflow-x:auto;line-height:normal;font-family:Menlo,'DejaVu Sans Mono',consolas,'Courier New',monospace\"><span style=\"color: #808000; text-decoration-color: #808000; font-weight: bold\">C:\\Users\\Pavillon Plus\\AppData\\Local\\Temp\\ipykernel_15452\\</span><span style=\"color: #808000; text-decoration-color: #808000; font-weight: bold\">1448036441.</span><span style=\"color: #808000; text-decoration-color: #808000; font-weight: bold\">py:</span><span style=\"color: #808000; text-decoration-color: #808000; font-weight: bold\">12</span><span style=\"color: #808000; text-decoration-color: #808000; font-weight: bold\"> FutureWarning</span><span style=\"color: #808000; text-decoration-color: #808000\">: </span><span style=\"color: #808000; text-decoration-color: #808000\">'H'</span><span style=\"color: #808000; text-decoration-color: #808000\"> is deprecated and will be removed in a future version, please use </span><span style=\"color: #808000; text-decoration-color: #808000\">'h'</span><span style=\"color: #808000; text-decoration-color: #808000\"> instead.</span>\n",
       "</pre>\n"
      ],
      "text/plain": [
       "\u001b[1;33mC:\\Users\\Pavillon Plus\\AppData\\Local\\Temp\\ipykernel_15452\\\u001b[0m\u001b[1;33m1448036441.\u001b[0m\u001b[1;33mpy:\u001b[0m\u001b[1;33m12\u001b[0m\u001b[1;33m FutureWarning\u001b[0m\u001b[33m: \u001b[0m\u001b[33m'H'\u001b[0m\u001b[33m is deprecated and will be removed in a future version, please use \u001b[0m\u001b[33m'h'\u001b[0m\u001b[33m instead.\u001b[0m\n"
      ]
     },
     "metadata": {},
     "output_type": "display_data"
    },
    {
     "data": {
      "text/html": [
       "<pre style=\"white-space:pre;overflow-x:auto;line-height:normal;font-family:Menlo,'DejaVu Sans Mono',consolas,'Courier New',monospace\"><span style=\"color: #808000; text-decoration-color: #808000; font-weight: bold\">C:\\Users\\Pavillon Plus\\AppData\\Local\\Temp\\ipykernel_15452\\</span><span style=\"color: #808000; text-decoration-color: #808000; font-weight: bold\">1448036441.</span><span style=\"color: #808000; text-decoration-color: #808000; font-weight: bold\">py:</span><span style=\"color: #808000; text-decoration-color: #808000; font-weight: bold\">30</span><span style=\"color: #808000; text-decoration-color: #808000; font-weight: bold\"> DeprecationWarning</span><span style=\"color: #808000; text-decoration-color: #808000\">: DataFrameGroupBy.apply operated on the grouping columns. This behavior is deprecated, and in a future version of pandas the grouping columns will be excluded from the operation. Either pass `</span><span style=\"color: #808000; text-decoration-color: #808000\">include_groups</span><span style=\"color: #808000; text-decoration-color: #808000\">=</span><span style=\"color: #808000; text-decoration-color: #808000; font-style: italic\">False</span><span style=\"color: #808000; text-decoration-color: #808000\">` to exclude the groupings or explicitly select the grouping columns after groupby to silence this warning.</span>\n",
       "</pre>\n"
      ],
      "text/plain": [
       "\u001b[1;33mC:\\Users\\Pavillon Plus\\AppData\\Local\\Temp\\ipykernel_15452\\\u001b[0m\u001b[1;33m1448036441.\u001b[0m\u001b[1;33mpy:\u001b[0m\u001b[1;33m30\u001b[0m\u001b[1;33m DeprecationWarning\u001b[0m\u001b[33m: DataFrameGroupBy.apply operated on the grouping columns. This behavior is deprecated, and in a future version of pandas the grouping columns will be excluded from the operation. Either pass `\u001b[0m\u001b[33minclude_groups\u001b[0m\u001b[33m=\u001b[0m\u001b[3;33mFalse\u001b[0m\u001b[33m` to exclude the groupings or explicitly select the grouping columns after groupby to silence this warning.\u001b[0m\n"
      ]
     },
     "metadata": {},
     "output_type": "display_data"
    },
    {
     "data": {
      "text/html": [
       "<pre style=\"white-space:pre;overflow-x:auto;line-height:normal;font-family:Menlo,'DejaVu Sans Mono',consolas,'Courier New',monospace\"><span style=\"color: #808000; text-decoration-color: #808000; font-weight: bold\">C:\\Users\\Pavillon Plus\\AppData\\Local\\Temp\\ipykernel_15452\\</span><span style=\"color: #808000; text-decoration-color: #808000; font-weight: bold\">1448036441.</span><span style=\"color: #808000; text-decoration-color: #808000; font-weight: bold\">py:</span><span style=\"color: #808000; text-decoration-color: #808000; font-weight: bold\">45</span><span style=\"color: #808000; text-decoration-color: #808000; font-weight: bold\"> DeprecationWarning</span><span style=\"color: #808000; text-decoration-color: #808000\">: DataFrameGroupBy.apply operated on the grouping columns. This behavior is deprecated, and in a future version of pandas the grouping columns will be excluded from the operation. Either pass `</span><span style=\"color: #808000; text-decoration-color: #808000\">include_groups</span><span style=\"color: #808000; text-decoration-color: #808000\">=</span><span style=\"color: #808000; text-decoration-color: #808000; font-style: italic\">False</span><span style=\"color: #808000; text-decoration-color: #808000\">` to exclude the groupings or explicitly select the grouping columns after groupby to silence this warning.</span>\n",
       "</pre>\n"
      ],
      "text/plain": [
       "\u001b[1;33mC:\\Users\\Pavillon Plus\\AppData\\Local\\Temp\\ipykernel_15452\\\u001b[0m\u001b[1;33m1448036441.\u001b[0m\u001b[1;33mpy:\u001b[0m\u001b[1;33m45\u001b[0m\u001b[1;33m DeprecationWarning\u001b[0m\u001b[33m: DataFrameGroupBy.apply operated on the grouping columns. This behavior is deprecated, and in a future version of pandas the grouping columns will be excluded from the operation. Either pass `\u001b[0m\u001b[33minclude_groups\u001b[0m\u001b[33m=\u001b[0m\u001b[3;33mFalse\u001b[0m\u001b[33m` to exclude the groupings or explicitly select the grouping columns after groupby to silence this warning.\u001b[0m\n"
      ]
     },
     "metadata": {},
     "output_type": "display_data"
    },
    {
     "name": "stdout",
     "output_type": "stream",
     "text": [
      "Hourly aggregates saved to: hourly_aggregates\\hourly_processed_data_2024-01-04.parquet\n",
      "Processing file: processed_data_2024-01-04.parquet\n",
      "                       Hour  avg_sell_price  min_sell_price  max_sell_price  \\\n",
      "0 2024-01-04 00:00:00+00:00       54.986364           21.06           93.56   \n",
      "1 2024-01-04 01:00:00+00:00       70.338571           46.53           92.55   \n",
      "2 2024-01-04 02:00:00+00:00       60.078824           22.13           96.15   \n",
      "3 2024-01-04 03:00:00+00:00       62.548824           22.21           99.30   \n",
      "4 2024-01-04 04:00:00+00:00       65.601538           28.18           99.81   \n",
      "\n",
      "   total_sell_volume  sell_vwap  avg_buy_price  min_buy_price  max_buy_price  \\\n",
      "0            19224.0  57.360803      53.650000          22.49          91.62   \n",
      "1            14102.0  66.918963      57.463500          24.25          90.73   \n",
      "2            18746.0  67.245444      62.602857          20.72          93.20   \n",
      "3            16640.0  57.420165      61.874667          25.74          85.53   \n",
      "4            28665.0  65.952093      55.724348          23.90          99.33   \n",
      "\n",
      "   total_buy_volume   buy_vwap  \n",
      "0           16569.0  50.412385  \n",
      "1           23529.0  58.375217  \n",
      "2           15264.0  60.454695  \n",
      "3           35285.0  62.371761  \n",
      "4           20136.0  55.656652  \n"
     ]
    },
    {
     "data": {
      "text/html": [
       "<pre style=\"white-space:pre;overflow-x:auto;line-height:normal;font-family:Menlo,'DejaVu Sans Mono',consolas,'Courier New',monospace\"><span style=\"color: #808000; text-decoration-color: #808000; font-weight: bold\">C:\\Users\\Pavillon Plus\\AppData\\Local\\Temp\\ipykernel_15452\\</span><span style=\"color: #808000; text-decoration-color: #808000; font-weight: bold\">1448036441.</span><span style=\"color: #808000; text-decoration-color: #808000; font-weight: bold\">py:</span><span style=\"color: #808000; text-decoration-color: #808000; font-weight: bold\">12</span><span style=\"color: #808000; text-decoration-color: #808000; font-weight: bold\"> FutureWarning</span><span style=\"color: #808000; text-decoration-color: #808000\">: </span><span style=\"color: #808000; text-decoration-color: #808000\">'H'</span><span style=\"color: #808000; text-decoration-color: #808000\"> is deprecated and will be removed in a future version, please use </span><span style=\"color: #808000; text-decoration-color: #808000\">'h'</span><span style=\"color: #808000; text-decoration-color: #808000\"> instead.</span>\n",
       "</pre>\n"
      ],
      "text/plain": [
       "\u001b[1;33mC:\\Users\\Pavillon Plus\\AppData\\Local\\Temp\\ipykernel_15452\\\u001b[0m\u001b[1;33m1448036441.\u001b[0m\u001b[1;33mpy:\u001b[0m\u001b[1;33m12\u001b[0m\u001b[1;33m FutureWarning\u001b[0m\u001b[33m: \u001b[0m\u001b[33m'H'\u001b[0m\u001b[33m is deprecated and will be removed in a future version, please use \u001b[0m\u001b[33m'h'\u001b[0m\u001b[33m instead.\u001b[0m\n"
      ]
     },
     "metadata": {},
     "output_type": "display_data"
    },
    {
     "data": {
      "text/html": [
       "<pre style=\"white-space:pre;overflow-x:auto;line-height:normal;font-family:Menlo,'DejaVu Sans Mono',consolas,'Courier New',monospace\"><span style=\"color: #808000; text-decoration-color: #808000; font-weight: bold\">C:\\Users\\Pavillon Plus\\AppData\\Local\\Temp\\ipykernel_15452\\</span><span style=\"color: #808000; text-decoration-color: #808000; font-weight: bold\">1448036441.</span><span style=\"color: #808000; text-decoration-color: #808000; font-weight: bold\">py:</span><span style=\"color: #808000; text-decoration-color: #808000; font-weight: bold\">30</span><span style=\"color: #808000; text-decoration-color: #808000; font-weight: bold\"> DeprecationWarning</span><span style=\"color: #808000; text-decoration-color: #808000\">: DataFrameGroupBy.apply operated on the grouping columns. This behavior is deprecated, and in a future version of pandas the grouping columns will be excluded from the operation. Either pass `</span><span style=\"color: #808000; text-decoration-color: #808000\">include_groups</span><span style=\"color: #808000; text-decoration-color: #808000\">=</span><span style=\"color: #808000; text-decoration-color: #808000; font-style: italic\">False</span><span style=\"color: #808000; text-decoration-color: #808000\">` to exclude the groupings or explicitly select the grouping columns after groupby to silence this warning.</span>\n",
       "</pre>\n"
      ],
      "text/plain": [
       "\u001b[1;33mC:\\Users\\Pavillon Plus\\AppData\\Local\\Temp\\ipykernel_15452\\\u001b[0m\u001b[1;33m1448036441.\u001b[0m\u001b[1;33mpy:\u001b[0m\u001b[1;33m30\u001b[0m\u001b[1;33m DeprecationWarning\u001b[0m\u001b[33m: DataFrameGroupBy.apply operated on the grouping columns. This behavior is deprecated, and in a future version of pandas the grouping columns will be excluded from the operation. Either pass `\u001b[0m\u001b[33minclude_groups\u001b[0m\u001b[33m=\u001b[0m\u001b[3;33mFalse\u001b[0m\u001b[33m` to exclude the groupings or explicitly select the grouping columns after groupby to silence this warning.\u001b[0m\n"
      ]
     },
     "metadata": {},
     "output_type": "display_data"
    },
    {
     "data": {
      "text/html": [
       "<pre style=\"white-space:pre;overflow-x:auto;line-height:normal;font-family:Menlo,'DejaVu Sans Mono',consolas,'Courier New',monospace\"><span style=\"color: #808000; text-decoration-color: #808000; font-weight: bold\">C:\\Users\\Pavillon Plus\\AppData\\Local\\Temp\\ipykernel_15452\\</span><span style=\"color: #808000; text-decoration-color: #808000; font-weight: bold\">1448036441.</span><span style=\"color: #808000; text-decoration-color: #808000; font-weight: bold\">py:</span><span style=\"color: #808000; text-decoration-color: #808000; font-weight: bold\">45</span><span style=\"color: #808000; text-decoration-color: #808000; font-weight: bold\"> DeprecationWarning</span><span style=\"color: #808000; text-decoration-color: #808000\">: DataFrameGroupBy.apply operated on the grouping columns. This behavior is deprecated, and in a future version of pandas the grouping columns will be excluded from the operation. Either pass `</span><span style=\"color: #808000; text-decoration-color: #808000\">include_groups</span><span style=\"color: #808000; text-decoration-color: #808000\">=</span><span style=\"color: #808000; text-decoration-color: #808000; font-style: italic\">False</span><span style=\"color: #808000; text-decoration-color: #808000\">` to exclude the groupings or explicitly select the grouping columns after groupby to silence this warning.</span>\n",
       "</pre>\n"
      ],
      "text/plain": [
       "\u001b[1;33mC:\\Users\\Pavillon Plus\\AppData\\Local\\Temp\\ipykernel_15452\\\u001b[0m\u001b[1;33m1448036441.\u001b[0m\u001b[1;33mpy:\u001b[0m\u001b[1;33m45\u001b[0m\u001b[1;33m DeprecationWarning\u001b[0m\u001b[33m: DataFrameGroupBy.apply operated on the grouping columns. This behavior is deprecated, and in a future version of pandas the grouping columns will be excluded from the operation. Either pass `\u001b[0m\u001b[33minclude_groups\u001b[0m\u001b[33m=\u001b[0m\u001b[3;33mFalse\u001b[0m\u001b[33m` to exclude the groupings or explicitly select the grouping columns after groupby to silence this warning.\u001b[0m\n"
      ]
     },
     "metadata": {},
     "output_type": "display_data"
    },
    {
     "name": "stdout",
     "output_type": "stream",
     "text": [
      "Hourly aggregates saved to: hourly_aggregates\\hourly_processed_data_2024-01-05.parquet\n",
      "Processing file: processed_data_2024-01-05.parquet\n",
      "                       Hour  avg_sell_price  min_sell_price  max_sell_price  \\\n",
      "0 2024-01-05 00:00:00+00:00       60.527727           21.08           98.41   \n",
      "1 2024-01-05 01:00:00+00:00       58.224762           24.12           96.14   \n",
      "2 2024-01-05 02:00:00+00:00       59.415500           20.17           96.02   \n",
      "3 2024-01-05 03:00:00+00:00       50.882778           20.01           90.01   \n",
      "4 2024-01-05 04:00:00+00:00       71.180769           30.00           96.32   \n",
      "\n",
      "   total_sell_volume  sell_vwap  avg_buy_price  min_buy_price  max_buy_price  \\\n",
      "0            22272.0  60.434911      56.890833          26.34          96.73   \n",
      "1            23815.0  58.951072      64.675500          26.87          97.63   \n",
      "2            20593.0  61.434446      63.637826          24.47          95.78   \n",
      "3            13164.0  51.682662      57.427143          22.84          97.22   \n",
      "4            15021.0  67.311409      57.226364          27.54          92.66   \n",
      "\n",
      "   total_buy_volume   buy_vwap  \n",
      "0           27484.0  55.054538  \n",
      "1           17247.0  61.663403  \n",
      "2           18325.0  64.279668  \n",
      "3           21328.0  57.355661  \n",
      "4           23582.0  55.808716  \n"
     ]
    },
    {
     "data": {
      "text/html": [
       "<pre style=\"white-space:pre;overflow-x:auto;line-height:normal;font-family:Menlo,'DejaVu Sans Mono',consolas,'Courier New',monospace\"><span style=\"color: #808000; text-decoration-color: #808000; font-weight: bold\">C:\\Users\\Pavillon Plus\\AppData\\Local\\Temp\\ipykernel_15452\\</span><span style=\"color: #808000; text-decoration-color: #808000; font-weight: bold\">1448036441.</span><span style=\"color: #808000; text-decoration-color: #808000; font-weight: bold\">py:</span><span style=\"color: #808000; text-decoration-color: #808000; font-weight: bold\">12</span><span style=\"color: #808000; text-decoration-color: #808000; font-weight: bold\"> FutureWarning</span><span style=\"color: #808000; text-decoration-color: #808000\">: </span><span style=\"color: #808000; text-decoration-color: #808000\">'H'</span><span style=\"color: #808000; text-decoration-color: #808000\"> is deprecated and will be removed in a future version, please use </span><span style=\"color: #808000; text-decoration-color: #808000\">'h'</span><span style=\"color: #808000; text-decoration-color: #808000\"> instead.</span>\n",
       "</pre>\n"
      ],
      "text/plain": [
       "\u001b[1;33mC:\\Users\\Pavillon Plus\\AppData\\Local\\Temp\\ipykernel_15452\\\u001b[0m\u001b[1;33m1448036441.\u001b[0m\u001b[1;33mpy:\u001b[0m\u001b[1;33m12\u001b[0m\u001b[1;33m FutureWarning\u001b[0m\u001b[33m: \u001b[0m\u001b[33m'H'\u001b[0m\u001b[33m is deprecated and will be removed in a future version, please use \u001b[0m\u001b[33m'h'\u001b[0m\u001b[33m instead.\u001b[0m\n"
      ]
     },
     "metadata": {},
     "output_type": "display_data"
    },
    {
     "data": {
      "text/html": [
       "<pre style=\"white-space:pre;overflow-x:auto;line-height:normal;font-family:Menlo,'DejaVu Sans Mono',consolas,'Courier New',monospace\"><span style=\"color: #808000; text-decoration-color: #808000; font-weight: bold\">C:\\Users\\Pavillon Plus\\AppData\\Local\\Temp\\ipykernel_15452\\</span><span style=\"color: #808000; text-decoration-color: #808000; font-weight: bold\">1448036441.</span><span style=\"color: #808000; text-decoration-color: #808000; font-weight: bold\">py:</span><span style=\"color: #808000; text-decoration-color: #808000; font-weight: bold\">30</span><span style=\"color: #808000; text-decoration-color: #808000; font-weight: bold\"> DeprecationWarning</span><span style=\"color: #808000; text-decoration-color: #808000\">: DataFrameGroupBy.apply operated on the grouping columns. This behavior is deprecated, and in a future version of pandas the grouping columns will be excluded from the operation. Either pass `</span><span style=\"color: #808000; text-decoration-color: #808000\">include_groups</span><span style=\"color: #808000; text-decoration-color: #808000\">=</span><span style=\"color: #808000; text-decoration-color: #808000; font-style: italic\">False</span><span style=\"color: #808000; text-decoration-color: #808000\">` to exclude the groupings or explicitly select the grouping columns after groupby to silence this warning.</span>\n",
       "</pre>\n"
      ],
      "text/plain": [
       "\u001b[1;33mC:\\Users\\Pavillon Plus\\AppData\\Local\\Temp\\ipykernel_15452\\\u001b[0m\u001b[1;33m1448036441.\u001b[0m\u001b[1;33mpy:\u001b[0m\u001b[1;33m30\u001b[0m\u001b[1;33m DeprecationWarning\u001b[0m\u001b[33m: DataFrameGroupBy.apply operated on the grouping columns. This behavior is deprecated, and in a future version of pandas the grouping columns will be excluded from the operation. Either pass `\u001b[0m\u001b[33minclude_groups\u001b[0m\u001b[33m=\u001b[0m\u001b[3;33mFalse\u001b[0m\u001b[33m` to exclude the groupings or explicitly select the grouping columns after groupby to silence this warning.\u001b[0m\n"
      ]
     },
     "metadata": {},
     "output_type": "display_data"
    },
    {
     "data": {
      "text/html": [
       "<pre style=\"white-space:pre;overflow-x:auto;line-height:normal;font-family:Menlo,'DejaVu Sans Mono',consolas,'Courier New',monospace\"><span style=\"color: #808000; text-decoration-color: #808000; font-weight: bold\">C:\\Users\\Pavillon Plus\\AppData\\Local\\Temp\\ipykernel_15452\\</span><span style=\"color: #808000; text-decoration-color: #808000; font-weight: bold\">1448036441.</span><span style=\"color: #808000; text-decoration-color: #808000; font-weight: bold\">py:</span><span style=\"color: #808000; text-decoration-color: #808000; font-weight: bold\">45</span><span style=\"color: #808000; text-decoration-color: #808000; font-weight: bold\"> DeprecationWarning</span><span style=\"color: #808000; text-decoration-color: #808000\">: DataFrameGroupBy.apply operated on the grouping columns. This behavior is deprecated, and in a future version of pandas the grouping columns will be excluded from the operation. Either pass `</span><span style=\"color: #808000; text-decoration-color: #808000\">include_groups</span><span style=\"color: #808000; text-decoration-color: #808000\">=</span><span style=\"color: #808000; text-decoration-color: #808000; font-style: italic\">False</span><span style=\"color: #808000; text-decoration-color: #808000\">` to exclude the groupings or explicitly select the grouping columns after groupby to silence this warning.</span>\n",
       "</pre>\n"
      ],
      "text/plain": [
       "\u001b[1;33mC:\\Users\\Pavillon Plus\\AppData\\Local\\Temp\\ipykernel_15452\\\u001b[0m\u001b[1;33m1448036441.\u001b[0m\u001b[1;33mpy:\u001b[0m\u001b[1;33m45\u001b[0m\u001b[1;33m DeprecationWarning\u001b[0m\u001b[33m: DataFrameGroupBy.apply operated on the grouping columns. This behavior is deprecated, and in a future version of pandas the grouping columns will be excluded from the operation. Either pass `\u001b[0m\u001b[33minclude_groups\u001b[0m\u001b[33m=\u001b[0m\u001b[3;33mFalse\u001b[0m\u001b[33m` to exclude the groupings or explicitly select the grouping columns after groupby to silence this warning.\u001b[0m\n"
      ]
     },
     "metadata": {},
     "output_type": "display_data"
    },
    {
     "name": "stdout",
     "output_type": "stream",
     "text": [
      "Hourly aggregates saved to: hourly_aggregates\\hourly_processed_data_2024-01-06.parquet\n",
      "Processing file: processed_data_2024-01-06.parquet\n",
      "                       Hour  avg_sell_price  min_sell_price  max_sell_price  \\\n",
      "0 2024-01-06 00:00:00+00:00       52.416667           21.33           92.87   \n",
      "1 2024-01-06 01:00:00+00:00       53.900741           21.00           99.47   \n",
      "2 2024-01-06 02:00:00+00:00       60.801500           24.00           94.93   \n",
      "3 2024-01-06 03:00:00+00:00       59.537857           21.00           96.74   \n",
      "4 2024-01-06 04:00:00+00:00       61.846667           27.56           99.76   \n",
      "\n",
      "   total_sell_volume  sell_vwap  avg_buy_price  min_buy_price  max_buy_price  \\\n",
      "0            15197.0  50.429202      66.128462          34.77          97.82   \n",
      "1            23897.0  53.544906      58.485000          20.00          89.34   \n",
      "2            15248.0  57.446403      55.485882          24.55          99.63   \n",
      "3            14083.0  54.954852      56.387500          20.01          93.97   \n",
      "4            27971.0  65.905584      64.454615          21.26          99.24   \n",
      "\n",
      "   total_buy_volume   buy_vwap  \n",
      "0           16028.0  66.096054  \n",
      "1           12957.0  53.303216  \n",
      "2           16274.0  50.909802  \n",
      "3           16584.0  59.363607  \n",
      "4           28629.0  66.129812  \n"
     ]
    },
    {
     "data": {
      "text/html": [
       "<pre style=\"white-space:pre;overflow-x:auto;line-height:normal;font-family:Menlo,'DejaVu Sans Mono',consolas,'Courier New',monospace\"><span style=\"color: #808000; text-decoration-color: #808000; font-weight: bold\">C:\\Users\\Pavillon Plus\\AppData\\Local\\Temp\\ipykernel_15452\\</span><span style=\"color: #808000; text-decoration-color: #808000; font-weight: bold\">1448036441.</span><span style=\"color: #808000; text-decoration-color: #808000; font-weight: bold\">py:</span><span style=\"color: #808000; text-decoration-color: #808000; font-weight: bold\">12</span><span style=\"color: #808000; text-decoration-color: #808000; font-weight: bold\"> FutureWarning</span><span style=\"color: #808000; text-decoration-color: #808000\">: </span><span style=\"color: #808000; text-decoration-color: #808000\">'H'</span><span style=\"color: #808000; text-decoration-color: #808000\"> is deprecated and will be removed in a future version, please use </span><span style=\"color: #808000; text-decoration-color: #808000\">'h'</span><span style=\"color: #808000; text-decoration-color: #808000\"> instead.</span>\n",
       "</pre>\n"
      ],
      "text/plain": [
       "\u001b[1;33mC:\\Users\\Pavillon Plus\\AppData\\Local\\Temp\\ipykernel_15452\\\u001b[0m\u001b[1;33m1448036441.\u001b[0m\u001b[1;33mpy:\u001b[0m\u001b[1;33m12\u001b[0m\u001b[1;33m FutureWarning\u001b[0m\u001b[33m: \u001b[0m\u001b[33m'H'\u001b[0m\u001b[33m is deprecated and will be removed in a future version, please use \u001b[0m\u001b[33m'h'\u001b[0m\u001b[33m instead.\u001b[0m\n"
      ]
     },
     "metadata": {},
     "output_type": "display_data"
    },
    {
     "data": {
      "text/html": [
       "<pre style=\"white-space:pre;overflow-x:auto;line-height:normal;font-family:Menlo,'DejaVu Sans Mono',consolas,'Courier New',monospace\"><span style=\"color: #808000; text-decoration-color: #808000; font-weight: bold\">C:\\Users\\Pavillon Plus\\AppData\\Local\\Temp\\ipykernel_15452\\</span><span style=\"color: #808000; text-decoration-color: #808000; font-weight: bold\">1448036441.</span><span style=\"color: #808000; text-decoration-color: #808000; font-weight: bold\">py:</span><span style=\"color: #808000; text-decoration-color: #808000; font-weight: bold\">30</span><span style=\"color: #808000; text-decoration-color: #808000; font-weight: bold\"> DeprecationWarning</span><span style=\"color: #808000; text-decoration-color: #808000\">: DataFrameGroupBy.apply operated on the grouping columns. This behavior is deprecated, and in a future version of pandas the grouping columns will be excluded from the operation. Either pass `</span><span style=\"color: #808000; text-decoration-color: #808000\">include_groups</span><span style=\"color: #808000; text-decoration-color: #808000\">=</span><span style=\"color: #808000; text-decoration-color: #808000; font-style: italic\">False</span><span style=\"color: #808000; text-decoration-color: #808000\">` to exclude the groupings or explicitly select the grouping columns after groupby to silence this warning.</span>\n",
       "</pre>\n"
      ],
      "text/plain": [
       "\u001b[1;33mC:\\Users\\Pavillon Plus\\AppData\\Local\\Temp\\ipykernel_15452\\\u001b[0m\u001b[1;33m1448036441.\u001b[0m\u001b[1;33mpy:\u001b[0m\u001b[1;33m30\u001b[0m\u001b[1;33m DeprecationWarning\u001b[0m\u001b[33m: DataFrameGroupBy.apply operated on the grouping columns. This behavior is deprecated, and in a future version of pandas the grouping columns will be excluded from the operation. Either pass `\u001b[0m\u001b[33minclude_groups\u001b[0m\u001b[33m=\u001b[0m\u001b[3;33mFalse\u001b[0m\u001b[33m` to exclude the groupings or explicitly select the grouping columns after groupby to silence this warning.\u001b[0m\n"
      ]
     },
     "metadata": {},
     "output_type": "display_data"
    },
    {
     "data": {
      "text/html": [
       "<pre style=\"white-space:pre;overflow-x:auto;line-height:normal;font-family:Menlo,'DejaVu Sans Mono',consolas,'Courier New',monospace\"><span style=\"color: #808000; text-decoration-color: #808000; font-weight: bold\">C:\\Users\\Pavillon Plus\\AppData\\Local\\Temp\\ipykernel_15452\\</span><span style=\"color: #808000; text-decoration-color: #808000; font-weight: bold\">1448036441.</span><span style=\"color: #808000; text-decoration-color: #808000; font-weight: bold\">py:</span><span style=\"color: #808000; text-decoration-color: #808000; font-weight: bold\">45</span><span style=\"color: #808000; text-decoration-color: #808000; font-weight: bold\"> DeprecationWarning</span><span style=\"color: #808000; text-decoration-color: #808000\">: DataFrameGroupBy.apply operated on the grouping columns. This behavior is deprecated, and in a future version of pandas the grouping columns will be excluded from the operation. Either pass `</span><span style=\"color: #808000; text-decoration-color: #808000\">include_groups</span><span style=\"color: #808000; text-decoration-color: #808000\">=</span><span style=\"color: #808000; text-decoration-color: #808000; font-style: italic\">False</span><span style=\"color: #808000; text-decoration-color: #808000\">` to exclude the groupings or explicitly select the grouping columns after groupby to silence this warning.</span>\n",
       "</pre>\n"
      ],
      "text/plain": [
       "\u001b[1;33mC:\\Users\\Pavillon Plus\\AppData\\Local\\Temp\\ipykernel_15452\\\u001b[0m\u001b[1;33m1448036441.\u001b[0m\u001b[1;33mpy:\u001b[0m\u001b[1;33m45\u001b[0m\u001b[1;33m DeprecationWarning\u001b[0m\u001b[33m: DataFrameGroupBy.apply operated on the grouping columns. This behavior is deprecated, and in a future version of pandas the grouping columns will be excluded from the operation. Either pass `\u001b[0m\u001b[33minclude_groups\u001b[0m\u001b[33m=\u001b[0m\u001b[3;33mFalse\u001b[0m\u001b[33m` to exclude the groupings or explicitly select the grouping columns after groupby to silence this warning.\u001b[0m\n"
      ]
     },
     "metadata": {},
     "output_type": "display_data"
    },
    {
     "name": "stdout",
     "output_type": "stream",
     "text": [
      "Hourly aggregates saved to: hourly_aggregates\\hourly_processed_data_2024-01-07.parquet\n",
      "Processing file: processed_data_2024-01-07.parquet\n",
      "                       Hour  avg_sell_price  min_sell_price  max_sell_price  \\\n",
      "0 2024-01-07 00:00:00+00:00       59.319375           23.62           98.69   \n",
      "1 2024-01-07 01:00:00+00:00       54.655294           22.97           96.68   \n",
      "2 2024-01-07 02:00:00+00:00       63.642424           22.49           95.90   \n",
      "3 2024-01-07 03:00:00+00:00       62.381739           29.41           93.42   \n",
      "4 2024-01-07 04:00:00+00:00       69.622308           41.46           93.87   \n",
      "\n",
      "   total_sell_volume  sell_vwap  avg_buy_price  min_buy_price  max_buy_price  \\\n",
      "0            17442.0  56.733802      66.738421          21.21          91.65   \n",
      "1            17527.0  57.718259      53.604762          21.65          95.64   \n",
      "2            33274.0  63.011520      66.502308          29.29          94.66   \n",
      "3            26259.0  61.626055      59.624706          22.23          89.75   \n",
      "4             9094.0  60.292342      61.398636          22.91          99.98   \n",
      "\n",
      "   total_buy_volume   buy_vwap  \n",
      "0           18195.0  66.500597  \n",
      "1           23626.0  52.065838  \n",
      "2           24366.0  61.163314  \n",
      "3           15013.0  59.359543  \n",
      "4           23639.0  61.854148  \n"
     ]
    },
    {
     "data": {
      "text/html": [
       "<pre style=\"white-space:pre;overflow-x:auto;line-height:normal;font-family:Menlo,'DejaVu Sans Mono',consolas,'Courier New',monospace\"><span style=\"color: #808000; text-decoration-color: #808000; font-weight: bold\">C:\\Users\\Pavillon Plus\\AppData\\Local\\Temp\\ipykernel_15452\\</span><span style=\"color: #808000; text-decoration-color: #808000; font-weight: bold\">1448036441.</span><span style=\"color: #808000; text-decoration-color: #808000; font-weight: bold\">py:</span><span style=\"color: #808000; text-decoration-color: #808000; font-weight: bold\">12</span><span style=\"color: #808000; text-decoration-color: #808000; font-weight: bold\"> FutureWarning</span><span style=\"color: #808000; text-decoration-color: #808000\">: </span><span style=\"color: #808000; text-decoration-color: #808000\">'H'</span><span style=\"color: #808000; text-decoration-color: #808000\"> is deprecated and will be removed in a future version, please use </span><span style=\"color: #808000; text-decoration-color: #808000\">'h'</span><span style=\"color: #808000; text-decoration-color: #808000\"> instead.</span>\n",
       "</pre>\n"
      ],
      "text/plain": [
       "\u001b[1;33mC:\\Users\\Pavillon Plus\\AppData\\Local\\Temp\\ipykernel_15452\\\u001b[0m\u001b[1;33m1448036441.\u001b[0m\u001b[1;33mpy:\u001b[0m\u001b[1;33m12\u001b[0m\u001b[1;33m FutureWarning\u001b[0m\u001b[33m: \u001b[0m\u001b[33m'H'\u001b[0m\u001b[33m is deprecated and will be removed in a future version, please use \u001b[0m\u001b[33m'h'\u001b[0m\u001b[33m instead.\u001b[0m\n"
      ]
     },
     "metadata": {},
     "output_type": "display_data"
    },
    {
     "data": {
      "text/html": [
       "<pre style=\"white-space:pre;overflow-x:auto;line-height:normal;font-family:Menlo,'DejaVu Sans Mono',consolas,'Courier New',monospace\"><span style=\"color: #808000; text-decoration-color: #808000; font-weight: bold\">C:\\Users\\Pavillon Plus\\AppData\\Local\\Temp\\ipykernel_15452\\</span><span style=\"color: #808000; text-decoration-color: #808000; font-weight: bold\">1448036441.</span><span style=\"color: #808000; text-decoration-color: #808000; font-weight: bold\">py:</span><span style=\"color: #808000; text-decoration-color: #808000; font-weight: bold\">30</span><span style=\"color: #808000; text-decoration-color: #808000; font-weight: bold\"> DeprecationWarning</span><span style=\"color: #808000; text-decoration-color: #808000\">: DataFrameGroupBy.apply operated on the grouping columns. This behavior is deprecated, and in a future version of pandas the grouping columns will be excluded from the operation. Either pass `</span><span style=\"color: #808000; text-decoration-color: #808000\">include_groups</span><span style=\"color: #808000; text-decoration-color: #808000\">=</span><span style=\"color: #808000; text-decoration-color: #808000; font-style: italic\">False</span><span style=\"color: #808000; text-decoration-color: #808000\">` to exclude the groupings or explicitly select the grouping columns after groupby to silence this warning.</span>\n",
       "</pre>\n"
      ],
      "text/plain": [
       "\u001b[1;33mC:\\Users\\Pavillon Plus\\AppData\\Local\\Temp\\ipykernel_15452\\\u001b[0m\u001b[1;33m1448036441.\u001b[0m\u001b[1;33mpy:\u001b[0m\u001b[1;33m30\u001b[0m\u001b[1;33m DeprecationWarning\u001b[0m\u001b[33m: DataFrameGroupBy.apply operated on the grouping columns. This behavior is deprecated, and in a future version of pandas the grouping columns will be excluded from the operation. Either pass `\u001b[0m\u001b[33minclude_groups\u001b[0m\u001b[33m=\u001b[0m\u001b[3;33mFalse\u001b[0m\u001b[33m` to exclude the groupings or explicitly select the grouping columns after groupby to silence this warning.\u001b[0m\n"
      ]
     },
     "metadata": {},
     "output_type": "display_data"
    },
    {
     "data": {
      "text/html": [
       "<pre style=\"white-space:pre;overflow-x:auto;line-height:normal;font-family:Menlo,'DejaVu Sans Mono',consolas,'Courier New',monospace\"><span style=\"color: #808000; text-decoration-color: #808000; font-weight: bold\">C:\\Users\\Pavillon Plus\\AppData\\Local\\Temp\\ipykernel_15452\\</span><span style=\"color: #808000; text-decoration-color: #808000; font-weight: bold\">1448036441.</span><span style=\"color: #808000; text-decoration-color: #808000; font-weight: bold\">py:</span><span style=\"color: #808000; text-decoration-color: #808000; font-weight: bold\">45</span><span style=\"color: #808000; text-decoration-color: #808000; font-weight: bold\"> DeprecationWarning</span><span style=\"color: #808000; text-decoration-color: #808000\">: DataFrameGroupBy.apply operated on the grouping columns. This behavior is deprecated, and in a future version of pandas the grouping columns will be excluded from the operation. Either pass `</span><span style=\"color: #808000; text-decoration-color: #808000\">include_groups</span><span style=\"color: #808000; text-decoration-color: #808000\">=</span><span style=\"color: #808000; text-decoration-color: #808000; font-style: italic\">False</span><span style=\"color: #808000; text-decoration-color: #808000\">` to exclude the groupings or explicitly select the grouping columns after groupby to silence this warning.</span>\n",
       "</pre>\n"
      ],
      "text/plain": [
       "\u001b[1;33mC:\\Users\\Pavillon Plus\\AppData\\Local\\Temp\\ipykernel_15452\\\u001b[0m\u001b[1;33m1448036441.\u001b[0m\u001b[1;33mpy:\u001b[0m\u001b[1;33m45\u001b[0m\u001b[1;33m DeprecationWarning\u001b[0m\u001b[33m: DataFrameGroupBy.apply operated on the grouping columns. This behavior is deprecated, and in a future version of pandas the grouping columns will be excluded from the operation. Either pass `\u001b[0m\u001b[33minclude_groups\u001b[0m\u001b[33m=\u001b[0m\u001b[3;33mFalse\u001b[0m\u001b[33m` to exclude the groupings or explicitly select the grouping columns after groupby to silence this warning.\u001b[0m\n"
      ]
     },
     "metadata": {},
     "output_type": "display_data"
    },
    {
     "name": "stdout",
     "output_type": "stream",
     "text": [
      "Hourly aggregates saved to: hourly_aggregates\\hourly_processed_data_2024-01-08.parquet\n",
      "Processing file: processed_data_2024-01-08.parquet\n",
      "                       Hour  avg_sell_price  min_sell_price  max_sell_price  \\\n",
      "0 2024-01-08 00:00:00+00:00       56.751250           22.76           89.47   \n",
      "1 2024-01-08 01:00:00+00:00       68.598421           34.64           99.35   \n",
      "2 2024-01-08 02:00:00+00:00       58.197407           22.44           95.79   \n",
      "3 2024-01-08 03:00:00+00:00       58.710588           21.06           99.23   \n",
      "4 2024-01-08 04:00:00+00:00       64.686667           37.33           96.35   \n",
      "\n",
      "   total_sell_volume  sell_vwap  avg_buy_price  min_buy_price  max_buy_price  \\\n",
      "0            67944.0  68.081028      60.612000          25.04          97.36   \n",
      "1            18283.0  68.047714      58.694737          24.36          96.30   \n",
      "2            27226.0  58.536544      54.844583          20.10          94.50   \n",
      "3            14972.0  59.999172      54.616923          23.79          95.47   \n",
      "4            16106.0  62.506688      58.569412          23.65          91.29   \n",
      "\n",
      "   total_buy_volume   buy_vwap  \n",
      "0           28384.0  59.477537  \n",
      "1           13817.0  62.536902  \n",
      "2           24010.0  54.779885  \n",
      "3           16318.0  50.479963  \n",
      "4           14826.0  59.706844  \n"
     ]
    },
    {
     "data": {
      "text/html": [
       "<pre style=\"white-space:pre;overflow-x:auto;line-height:normal;font-family:Menlo,'DejaVu Sans Mono',consolas,'Courier New',monospace\"><span style=\"color: #808000; text-decoration-color: #808000; font-weight: bold\">C:\\Users\\Pavillon Plus\\AppData\\Local\\Temp\\ipykernel_15452\\</span><span style=\"color: #808000; text-decoration-color: #808000; font-weight: bold\">1448036441.</span><span style=\"color: #808000; text-decoration-color: #808000; font-weight: bold\">py:</span><span style=\"color: #808000; text-decoration-color: #808000; font-weight: bold\">12</span><span style=\"color: #808000; text-decoration-color: #808000; font-weight: bold\"> FutureWarning</span><span style=\"color: #808000; text-decoration-color: #808000\">: </span><span style=\"color: #808000; text-decoration-color: #808000\">'H'</span><span style=\"color: #808000; text-decoration-color: #808000\"> is deprecated and will be removed in a future version, please use </span><span style=\"color: #808000; text-decoration-color: #808000\">'h'</span><span style=\"color: #808000; text-decoration-color: #808000\"> instead.</span>\n",
       "</pre>\n"
      ],
      "text/plain": [
       "\u001b[1;33mC:\\Users\\Pavillon Plus\\AppData\\Local\\Temp\\ipykernel_15452\\\u001b[0m\u001b[1;33m1448036441.\u001b[0m\u001b[1;33mpy:\u001b[0m\u001b[1;33m12\u001b[0m\u001b[1;33m FutureWarning\u001b[0m\u001b[33m: \u001b[0m\u001b[33m'H'\u001b[0m\u001b[33m is deprecated and will be removed in a future version, please use \u001b[0m\u001b[33m'h'\u001b[0m\u001b[33m instead.\u001b[0m\n"
      ]
     },
     "metadata": {},
     "output_type": "display_data"
    },
    {
     "data": {
      "text/html": [
       "<pre style=\"white-space:pre;overflow-x:auto;line-height:normal;font-family:Menlo,'DejaVu Sans Mono',consolas,'Courier New',monospace\"><span style=\"color: #808000; text-decoration-color: #808000; font-weight: bold\">C:\\Users\\Pavillon Plus\\AppData\\Local\\Temp\\ipykernel_15452\\</span><span style=\"color: #808000; text-decoration-color: #808000; font-weight: bold\">1448036441.</span><span style=\"color: #808000; text-decoration-color: #808000; font-weight: bold\">py:</span><span style=\"color: #808000; text-decoration-color: #808000; font-weight: bold\">30</span><span style=\"color: #808000; text-decoration-color: #808000; font-weight: bold\"> DeprecationWarning</span><span style=\"color: #808000; text-decoration-color: #808000\">: DataFrameGroupBy.apply operated on the grouping columns. This behavior is deprecated, and in a future version of pandas the grouping columns will be excluded from the operation. Either pass `</span><span style=\"color: #808000; text-decoration-color: #808000\">include_groups</span><span style=\"color: #808000; text-decoration-color: #808000\">=</span><span style=\"color: #808000; text-decoration-color: #808000; font-style: italic\">False</span><span style=\"color: #808000; text-decoration-color: #808000\">` to exclude the groupings or explicitly select the grouping columns after groupby to silence this warning.</span>\n",
       "</pre>\n"
      ],
      "text/plain": [
       "\u001b[1;33mC:\\Users\\Pavillon Plus\\AppData\\Local\\Temp\\ipykernel_15452\\\u001b[0m\u001b[1;33m1448036441.\u001b[0m\u001b[1;33mpy:\u001b[0m\u001b[1;33m30\u001b[0m\u001b[1;33m DeprecationWarning\u001b[0m\u001b[33m: DataFrameGroupBy.apply operated on the grouping columns. This behavior is deprecated, and in a future version of pandas the grouping columns will be excluded from the operation. Either pass `\u001b[0m\u001b[33minclude_groups\u001b[0m\u001b[33m=\u001b[0m\u001b[3;33mFalse\u001b[0m\u001b[33m` to exclude the groupings or explicitly select the grouping columns after groupby to silence this warning.\u001b[0m\n"
      ]
     },
     "metadata": {},
     "output_type": "display_data"
    },
    {
     "data": {
      "text/html": [
       "<pre style=\"white-space:pre;overflow-x:auto;line-height:normal;font-family:Menlo,'DejaVu Sans Mono',consolas,'Courier New',monospace\"><span style=\"color: #808000; text-decoration-color: #808000; font-weight: bold\">C:\\Users\\Pavillon Plus\\AppData\\Local\\Temp\\ipykernel_15452\\</span><span style=\"color: #808000; text-decoration-color: #808000; font-weight: bold\">1448036441.</span><span style=\"color: #808000; text-decoration-color: #808000; font-weight: bold\">py:</span><span style=\"color: #808000; text-decoration-color: #808000; font-weight: bold\">45</span><span style=\"color: #808000; text-decoration-color: #808000; font-weight: bold\"> DeprecationWarning</span><span style=\"color: #808000; text-decoration-color: #808000\">: DataFrameGroupBy.apply operated on the grouping columns. This behavior is deprecated, and in a future version of pandas the grouping columns will be excluded from the operation. Either pass `</span><span style=\"color: #808000; text-decoration-color: #808000\">include_groups</span><span style=\"color: #808000; text-decoration-color: #808000\">=</span><span style=\"color: #808000; text-decoration-color: #808000; font-style: italic\">False</span><span style=\"color: #808000; text-decoration-color: #808000\">` to exclude the groupings or explicitly select the grouping columns after groupby to silence this warning.</span>\n",
       "</pre>\n"
      ],
      "text/plain": [
       "\u001b[1;33mC:\\Users\\Pavillon Plus\\AppData\\Local\\Temp\\ipykernel_15452\\\u001b[0m\u001b[1;33m1448036441.\u001b[0m\u001b[1;33mpy:\u001b[0m\u001b[1;33m45\u001b[0m\u001b[1;33m DeprecationWarning\u001b[0m\u001b[33m: DataFrameGroupBy.apply operated on the grouping columns. This behavior is deprecated, and in a future version of pandas the grouping columns will be excluded from the operation. Either pass `\u001b[0m\u001b[33minclude_groups\u001b[0m\u001b[33m=\u001b[0m\u001b[3;33mFalse\u001b[0m\u001b[33m` to exclude the groupings or explicitly select the grouping columns after groupby to silence this warning.\u001b[0m\n"
      ]
     },
     "metadata": {},
     "output_type": "display_data"
    },
    {
     "name": "stdout",
     "output_type": "stream",
     "text": [
      "Hourly aggregates saved to: hourly_aggregates\\hourly_processed_data_2024-01-09.parquet\n",
      "Processing file: processed_data_2024-01-09.parquet\n",
      "                       Hour  avg_sell_price  min_sell_price  max_sell_price  \\\n",
      "0 2024-01-09 00:00:00+00:00       64.398462           36.47           99.60   \n",
      "1 2024-01-09 01:00:00+00:00       52.974167           23.40           99.68   \n",
      "2 2024-01-09 02:00:00+00:00       64.462000           28.58           98.13   \n",
      "3 2024-01-09 03:00:00+00:00       54.376500           23.38           90.40   \n",
      "4 2024-01-09 04:00:00+00:00       64.108667           24.56           96.61   \n",
      "\n",
      "   total_sell_volume  sell_vwap  avg_buy_price  min_buy_price  max_buy_price  \\\n",
      "0            15903.0  67.666586      65.184762          20.84          95.24   \n",
      "1            10300.0  54.177372      56.247647          20.60          98.39   \n",
      "2            16169.0  73.376005      64.227059          20.69          96.12   \n",
      "3            57250.0  45.002935      65.241667          23.00          99.26   \n",
      "4            53648.0  64.242301      63.881176          21.44          97.83   \n",
      "\n",
      "   total_buy_volume   buy_vwap  \n",
      "0           20787.0  63.385326  \n",
      "1           18183.0  56.185148  \n",
      "2           40897.0  81.256349  \n",
      "3           98021.0  75.846531  \n",
      "4           16087.0  63.211741  \n"
     ]
    },
    {
     "data": {
      "text/html": [
       "<pre style=\"white-space:pre;overflow-x:auto;line-height:normal;font-family:Menlo,'DejaVu Sans Mono',consolas,'Courier New',monospace\"><span style=\"color: #808000; text-decoration-color: #808000; font-weight: bold\">C:\\Users\\Pavillon Plus\\AppData\\Local\\Temp\\ipykernel_15452\\</span><span style=\"color: #808000; text-decoration-color: #808000; font-weight: bold\">1448036441.</span><span style=\"color: #808000; text-decoration-color: #808000; font-weight: bold\">py:</span><span style=\"color: #808000; text-decoration-color: #808000; font-weight: bold\">12</span><span style=\"color: #808000; text-decoration-color: #808000; font-weight: bold\"> FutureWarning</span><span style=\"color: #808000; text-decoration-color: #808000\">: </span><span style=\"color: #808000; text-decoration-color: #808000\">'H'</span><span style=\"color: #808000; text-decoration-color: #808000\"> is deprecated and will be removed in a future version, please use </span><span style=\"color: #808000; text-decoration-color: #808000\">'h'</span><span style=\"color: #808000; text-decoration-color: #808000\"> instead.</span>\n",
       "</pre>\n"
      ],
      "text/plain": [
       "\u001b[1;33mC:\\Users\\Pavillon Plus\\AppData\\Local\\Temp\\ipykernel_15452\\\u001b[0m\u001b[1;33m1448036441.\u001b[0m\u001b[1;33mpy:\u001b[0m\u001b[1;33m12\u001b[0m\u001b[1;33m FutureWarning\u001b[0m\u001b[33m: \u001b[0m\u001b[33m'H'\u001b[0m\u001b[33m is deprecated and will be removed in a future version, please use \u001b[0m\u001b[33m'h'\u001b[0m\u001b[33m instead.\u001b[0m\n"
      ]
     },
     "metadata": {},
     "output_type": "display_data"
    },
    {
     "data": {
      "text/html": [
       "<pre style=\"white-space:pre;overflow-x:auto;line-height:normal;font-family:Menlo,'DejaVu Sans Mono',consolas,'Courier New',monospace\"><span style=\"color: #808000; text-decoration-color: #808000; font-weight: bold\">C:\\Users\\Pavillon Plus\\AppData\\Local\\Temp\\ipykernel_15452\\</span><span style=\"color: #808000; text-decoration-color: #808000; font-weight: bold\">1448036441.</span><span style=\"color: #808000; text-decoration-color: #808000; font-weight: bold\">py:</span><span style=\"color: #808000; text-decoration-color: #808000; font-weight: bold\">30</span><span style=\"color: #808000; text-decoration-color: #808000; font-weight: bold\"> DeprecationWarning</span><span style=\"color: #808000; text-decoration-color: #808000\">: DataFrameGroupBy.apply operated on the grouping columns. This behavior is deprecated, and in a future version of pandas the grouping columns will be excluded from the operation. Either pass `</span><span style=\"color: #808000; text-decoration-color: #808000\">include_groups</span><span style=\"color: #808000; text-decoration-color: #808000\">=</span><span style=\"color: #808000; text-decoration-color: #808000; font-style: italic\">False</span><span style=\"color: #808000; text-decoration-color: #808000\">` to exclude the groupings or explicitly select the grouping columns after groupby to silence this warning.</span>\n",
       "</pre>\n"
      ],
      "text/plain": [
       "\u001b[1;33mC:\\Users\\Pavillon Plus\\AppData\\Local\\Temp\\ipykernel_15452\\\u001b[0m\u001b[1;33m1448036441.\u001b[0m\u001b[1;33mpy:\u001b[0m\u001b[1;33m30\u001b[0m\u001b[1;33m DeprecationWarning\u001b[0m\u001b[33m: DataFrameGroupBy.apply operated on the grouping columns. This behavior is deprecated, and in a future version of pandas the grouping columns will be excluded from the operation. Either pass `\u001b[0m\u001b[33minclude_groups\u001b[0m\u001b[33m=\u001b[0m\u001b[3;33mFalse\u001b[0m\u001b[33m` to exclude the groupings or explicitly select the grouping columns after groupby to silence this warning.\u001b[0m\n"
      ]
     },
     "metadata": {},
     "output_type": "display_data"
    },
    {
     "data": {
      "text/html": [
       "<pre style=\"white-space:pre;overflow-x:auto;line-height:normal;font-family:Menlo,'DejaVu Sans Mono',consolas,'Courier New',monospace\"><span style=\"color: #808000; text-decoration-color: #808000; font-weight: bold\">C:\\Users\\Pavillon Plus\\AppData\\Local\\Temp\\ipykernel_15452\\</span><span style=\"color: #808000; text-decoration-color: #808000; font-weight: bold\">1448036441.</span><span style=\"color: #808000; text-decoration-color: #808000; font-weight: bold\">py:</span><span style=\"color: #808000; text-decoration-color: #808000; font-weight: bold\">45</span><span style=\"color: #808000; text-decoration-color: #808000; font-weight: bold\"> DeprecationWarning</span><span style=\"color: #808000; text-decoration-color: #808000\">: DataFrameGroupBy.apply operated on the grouping columns. This behavior is deprecated, and in a future version of pandas the grouping columns will be excluded from the operation. Either pass `</span><span style=\"color: #808000; text-decoration-color: #808000\">include_groups</span><span style=\"color: #808000; text-decoration-color: #808000\">=</span><span style=\"color: #808000; text-decoration-color: #808000; font-style: italic\">False</span><span style=\"color: #808000; text-decoration-color: #808000\">` to exclude the groupings or explicitly select the grouping columns after groupby to silence this warning.</span>\n",
       "</pre>\n"
      ],
      "text/plain": [
       "\u001b[1;33mC:\\Users\\Pavillon Plus\\AppData\\Local\\Temp\\ipykernel_15452\\\u001b[0m\u001b[1;33m1448036441.\u001b[0m\u001b[1;33mpy:\u001b[0m\u001b[1;33m45\u001b[0m\u001b[1;33m DeprecationWarning\u001b[0m\u001b[33m: DataFrameGroupBy.apply operated on the grouping columns. This behavior is deprecated, and in a future version of pandas the grouping columns will be excluded from the operation. Either pass `\u001b[0m\u001b[33minclude_groups\u001b[0m\u001b[33m=\u001b[0m\u001b[3;33mFalse\u001b[0m\u001b[33m` to exclude the groupings or explicitly select the grouping columns after groupby to silence this warning.\u001b[0m\n"
      ]
     },
     "metadata": {},
     "output_type": "display_data"
    },
    {
     "name": "stdout",
     "output_type": "stream",
     "text": [
      "Hourly aggregates saved to: hourly_aggregates\\hourly_processed_data_2024-01-10.parquet\n",
      "Processing file: processed_data_2024-01-10.parquet\n",
      "                       Hour  avg_sell_price  min_sell_price  max_sell_price  \\\n",
      "0 2024-01-10 00:00:00+00:00       57.417895           26.47           88.14   \n",
      "1 2024-01-10 01:00:00+00:00       55.778235           21.60           95.65   \n",
      "2 2024-01-10 02:00:00+00:00       54.034000           23.31           98.89   \n",
      "3 2024-01-10 03:00:00+00:00       66.792000           22.89           93.29   \n",
      "4 2024-01-10 04:00:00+00:00       50.765238           22.18           95.61   \n",
      "\n",
      "   total_sell_volume  sell_vwap  avg_buy_price  min_buy_price  max_buy_price  \\\n",
      "0            40601.0  61.911058      70.217000          24.09          99.51   \n",
      "1            20723.0  52.806681      65.591765          23.06          96.90   \n",
      "2            16910.0  53.200862      54.353913          20.26          98.24   \n",
      "3            24697.0  70.069205      53.526000          21.00          97.17   \n",
      "4            81900.0  56.437461      58.880870          22.05          93.03   \n",
      "\n",
      "   total_buy_volume   buy_vwap  \n",
      "0           26122.0  68.499163  \n",
      "1           17025.0  68.720034  \n",
      "2           59130.0  77.760353  \n",
      "3           12830.0  55.380086  \n",
      "4           23163.0  60.581530  \n"
     ]
    },
    {
     "data": {
      "text/html": [
       "<pre style=\"white-space:pre;overflow-x:auto;line-height:normal;font-family:Menlo,'DejaVu Sans Mono',consolas,'Courier New',monospace\"><span style=\"color: #808000; text-decoration-color: #808000; font-weight: bold\">C:\\Users\\Pavillon Plus\\AppData\\Local\\Temp\\ipykernel_15452\\</span><span style=\"color: #808000; text-decoration-color: #808000; font-weight: bold\">1448036441.</span><span style=\"color: #808000; text-decoration-color: #808000; font-weight: bold\">py:</span><span style=\"color: #808000; text-decoration-color: #808000; font-weight: bold\">12</span><span style=\"color: #808000; text-decoration-color: #808000; font-weight: bold\"> FutureWarning</span><span style=\"color: #808000; text-decoration-color: #808000\">: </span><span style=\"color: #808000; text-decoration-color: #808000\">'H'</span><span style=\"color: #808000; text-decoration-color: #808000\"> is deprecated and will be removed in a future version, please use </span><span style=\"color: #808000; text-decoration-color: #808000\">'h'</span><span style=\"color: #808000; text-decoration-color: #808000\"> instead.</span>\n",
       "</pre>\n"
      ],
      "text/plain": [
       "\u001b[1;33mC:\\Users\\Pavillon Plus\\AppData\\Local\\Temp\\ipykernel_15452\\\u001b[0m\u001b[1;33m1448036441.\u001b[0m\u001b[1;33mpy:\u001b[0m\u001b[1;33m12\u001b[0m\u001b[1;33m FutureWarning\u001b[0m\u001b[33m: \u001b[0m\u001b[33m'H'\u001b[0m\u001b[33m is deprecated and will be removed in a future version, please use \u001b[0m\u001b[33m'h'\u001b[0m\u001b[33m instead.\u001b[0m\n"
      ]
     },
     "metadata": {},
     "output_type": "display_data"
    },
    {
     "data": {
      "text/html": [
       "<pre style=\"white-space:pre;overflow-x:auto;line-height:normal;font-family:Menlo,'DejaVu Sans Mono',consolas,'Courier New',monospace\"><span style=\"color: #808000; text-decoration-color: #808000; font-weight: bold\">C:\\Users\\Pavillon Plus\\AppData\\Local\\Temp\\ipykernel_15452\\</span><span style=\"color: #808000; text-decoration-color: #808000; font-weight: bold\">1448036441.</span><span style=\"color: #808000; text-decoration-color: #808000; font-weight: bold\">py:</span><span style=\"color: #808000; text-decoration-color: #808000; font-weight: bold\">30</span><span style=\"color: #808000; text-decoration-color: #808000; font-weight: bold\"> DeprecationWarning</span><span style=\"color: #808000; text-decoration-color: #808000\">: DataFrameGroupBy.apply operated on the grouping columns. This behavior is deprecated, and in a future version of pandas the grouping columns will be excluded from the operation. Either pass `</span><span style=\"color: #808000; text-decoration-color: #808000\">include_groups</span><span style=\"color: #808000; text-decoration-color: #808000\">=</span><span style=\"color: #808000; text-decoration-color: #808000; font-style: italic\">False</span><span style=\"color: #808000; text-decoration-color: #808000\">` to exclude the groupings or explicitly select the grouping columns after groupby to silence this warning.</span>\n",
       "</pre>\n"
      ],
      "text/plain": [
       "\u001b[1;33mC:\\Users\\Pavillon Plus\\AppData\\Local\\Temp\\ipykernel_15452\\\u001b[0m\u001b[1;33m1448036441.\u001b[0m\u001b[1;33mpy:\u001b[0m\u001b[1;33m30\u001b[0m\u001b[1;33m DeprecationWarning\u001b[0m\u001b[33m: DataFrameGroupBy.apply operated on the grouping columns. This behavior is deprecated, and in a future version of pandas the grouping columns will be excluded from the operation. Either pass `\u001b[0m\u001b[33minclude_groups\u001b[0m\u001b[33m=\u001b[0m\u001b[3;33mFalse\u001b[0m\u001b[33m` to exclude the groupings or explicitly select the grouping columns after groupby to silence this warning.\u001b[0m\n"
      ]
     },
     "metadata": {},
     "output_type": "display_data"
    },
    {
     "data": {
      "text/html": [
       "<pre style=\"white-space:pre;overflow-x:auto;line-height:normal;font-family:Menlo,'DejaVu Sans Mono',consolas,'Courier New',monospace\"><span style=\"color: #808000; text-decoration-color: #808000; font-weight: bold\">C:\\Users\\Pavillon Plus\\AppData\\Local\\Temp\\ipykernel_15452\\</span><span style=\"color: #808000; text-decoration-color: #808000; font-weight: bold\">1448036441.</span><span style=\"color: #808000; text-decoration-color: #808000; font-weight: bold\">py:</span><span style=\"color: #808000; text-decoration-color: #808000; font-weight: bold\">45</span><span style=\"color: #808000; text-decoration-color: #808000; font-weight: bold\"> DeprecationWarning</span><span style=\"color: #808000; text-decoration-color: #808000\">: DataFrameGroupBy.apply operated on the grouping columns. This behavior is deprecated, and in a future version of pandas the grouping columns will be excluded from the operation. Either pass `</span><span style=\"color: #808000; text-decoration-color: #808000\">include_groups</span><span style=\"color: #808000; text-decoration-color: #808000\">=</span><span style=\"color: #808000; text-decoration-color: #808000; font-style: italic\">False</span><span style=\"color: #808000; text-decoration-color: #808000\">` to exclude the groupings or explicitly select the grouping columns after groupby to silence this warning.</span>\n",
       "</pre>\n"
      ],
      "text/plain": [
       "\u001b[1;33mC:\\Users\\Pavillon Plus\\AppData\\Local\\Temp\\ipykernel_15452\\\u001b[0m\u001b[1;33m1448036441.\u001b[0m\u001b[1;33mpy:\u001b[0m\u001b[1;33m45\u001b[0m\u001b[1;33m DeprecationWarning\u001b[0m\u001b[33m: DataFrameGroupBy.apply operated on the grouping columns. This behavior is deprecated, and in a future version of pandas the grouping columns will be excluded from the operation. Either pass `\u001b[0m\u001b[33minclude_groups\u001b[0m\u001b[33m=\u001b[0m\u001b[3;33mFalse\u001b[0m\u001b[33m` to exclude the groupings or explicitly select the grouping columns after groupby to silence this warning.\u001b[0m\n"
      ]
     },
     "metadata": {},
     "output_type": "display_data"
    },
    {
     "name": "stdout",
     "output_type": "stream",
     "text": [
      "Hourly aggregates saved to: hourly_aggregates\\hourly_processed_data_2024-01-11.parquet\n",
      "Processing file: processed_data_2024-01-11.parquet\n",
      "                       Hour  avg_sell_price  min_sell_price  max_sell_price  \\\n",
      "0 2024-01-11 00:00:00+00:00       57.613333           22.66           93.35   \n",
      "1 2024-01-11 01:00:00+00:00       63.482143           25.06           91.00   \n",
      "2 2024-01-11 02:00:00+00:00       67.635556           21.83           98.83   \n",
      "3 2024-01-11 03:00:00+00:00       63.550000           21.08           95.11   \n",
      "4 2024-01-11 04:00:00+00:00       58.156667           20.00           98.38   \n",
      "\n",
      "   total_sell_volume  sell_vwap  avg_buy_price  min_buy_price  max_buy_price  \\\n",
      "0            18527.0  59.061076      66.464643          22.58          95.76   \n",
      "1            15642.0  65.626842      63.950455          25.33          95.27   \n",
      "2            55761.0  77.637360      57.608750          22.24          94.80   \n",
      "3            60183.0  68.862212      65.884000          39.52          92.00   \n",
      "4            37361.0  64.592604      61.627647          20.54          97.09   \n",
      "\n",
      "   total_buy_volume   buy_vwap  \n",
      "0           30448.0  62.895100  \n",
      "1           60266.0  52.618159  \n",
      "2           46666.0  71.452979  \n",
      "3           23261.0  68.266991  \n",
      "4           17722.0  61.331148  \n"
     ]
    },
    {
     "data": {
      "text/html": [
       "<pre style=\"white-space:pre;overflow-x:auto;line-height:normal;font-family:Menlo,'DejaVu Sans Mono',consolas,'Courier New',monospace\"><span style=\"color: #808000; text-decoration-color: #808000; font-weight: bold\">C:\\Users\\Pavillon Plus\\AppData\\Local\\Temp\\ipykernel_15452\\</span><span style=\"color: #808000; text-decoration-color: #808000; font-weight: bold\">1448036441.</span><span style=\"color: #808000; text-decoration-color: #808000; font-weight: bold\">py:</span><span style=\"color: #808000; text-decoration-color: #808000; font-weight: bold\">12</span><span style=\"color: #808000; text-decoration-color: #808000; font-weight: bold\"> FutureWarning</span><span style=\"color: #808000; text-decoration-color: #808000\">: </span><span style=\"color: #808000; text-decoration-color: #808000\">'H'</span><span style=\"color: #808000; text-decoration-color: #808000\"> is deprecated and will be removed in a future version, please use </span><span style=\"color: #808000; text-decoration-color: #808000\">'h'</span><span style=\"color: #808000; text-decoration-color: #808000\"> instead.</span>\n",
       "</pre>\n"
      ],
      "text/plain": [
       "\u001b[1;33mC:\\Users\\Pavillon Plus\\AppData\\Local\\Temp\\ipykernel_15452\\\u001b[0m\u001b[1;33m1448036441.\u001b[0m\u001b[1;33mpy:\u001b[0m\u001b[1;33m12\u001b[0m\u001b[1;33m FutureWarning\u001b[0m\u001b[33m: \u001b[0m\u001b[33m'H'\u001b[0m\u001b[33m is deprecated and will be removed in a future version, please use \u001b[0m\u001b[33m'h'\u001b[0m\u001b[33m instead.\u001b[0m\n"
      ]
     },
     "metadata": {},
     "output_type": "display_data"
    },
    {
     "data": {
      "text/html": [
       "<pre style=\"white-space:pre;overflow-x:auto;line-height:normal;font-family:Menlo,'DejaVu Sans Mono',consolas,'Courier New',monospace\"><span style=\"color: #808000; text-decoration-color: #808000; font-weight: bold\">C:\\Users\\Pavillon Plus\\AppData\\Local\\Temp\\ipykernel_15452\\</span><span style=\"color: #808000; text-decoration-color: #808000; font-weight: bold\">1448036441.</span><span style=\"color: #808000; text-decoration-color: #808000; font-weight: bold\">py:</span><span style=\"color: #808000; text-decoration-color: #808000; font-weight: bold\">30</span><span style=\"color: #808000; text-decoration-color: #808000; font-weight: bold\"> DeprecationWarning</span><span style=\"color: #808000; text-decoration-color: #808000\">: DataFrameGroupBy.apply operated on the grouping columns. This behavior is deprecated, and in a future version of pandas the grouping columns will be excluded from the operation. Either pass `</span><span style=\"color: #808000; text-decoration-color: #808000\">include_groups</span><span style=\"color: #808000; text-decoration-color: #808000\">=</span><span style=\"color: #808000; text-decoration-color: #808000; font-style: italic\">False</span><span style=\"color: #808000; text-decoration-color: #808000\">` to exclude the groupings or explicitly select the grouping columns after groupby to silence this warning.</span>\n",
       "</pre>\n"
      ],
      "text/plain": [
       "\u001b[1;33mC:\\Users\\Pavillon Plus\\AppData\\Local\\Temp\\ipykernel_15452\\\u001b[0m\u001b[1;33m1448036441.\u001b[0m\u001b[1;33mpy:\u001b[0m\u001b[1;33m30\u001b[0m\u001b[1;33m DeprecationWarning\u001b[0m\u001b[33m: DataFrameGroupBy.apply operated on the grouping columns. This behavior is deprecated, and in a future version of pandas the grouping columns will be excluded from the operation. Either pass `\u001b[0m\u001b[33minclude_groups\u001b[0m\u001b[33m=\u001b[0m\u001b[3;33mFalse\u001b[0m\u001b[33m` to exclude the groupings or explicitly select the grouping columns after groupby to silence this warning.\u001b[0m\n"
      ]
     },
     "metadata": {},
     "output_type": "display_data"
    },
    {
     "data": {
      "text/html": [
       "<pre style=\"white-space:pre;overflow-x:auto;line-height:normal;font-family:Menlo,'DejaVu Sans Mono',consolas,'Courier New',monospace\"><span style=\"color: #808000; text-decoration-color: #808000; font-weight: bold\">C:\\Users\\Pavillon Plus\\AppData\\Local\\Temp\\ipykernel_15452\\</span><span style=\"color: #808000; text-decoration-color: #808000; font-weight: bold\">1448036441.</span><span style=\"color: #808000; text-decoration-color: #808000; font-weight: bold\">py:</span><span style=\"color: #808000; text-decoration-color: #808000; font-weight: bold\">45</span><span style=\"color: #808000; text-decoration-color: #808000; font-weight: bold\"> DeprecationWarning</span><span style=\"color: #808000; text-decoration-color: #808000\">: DataFrameGroupBy.apply operated on the grouping columns. This behavior is deprecated, and in a future version of pandas the grouping columns will be excluded from the operation. Either pass `</span><span style=\"color: #808000; text-decoration-color: #808000\">include_groups</span><span style=\"color: #808000; text-decoration-color: #808000\">=</span><span style=\"color: #808000; text-decoration-color: #808000; font-style: italic\">False</span><span style=\"color: #808000; text-decoration-color: #808000\">` to exclude the groupings or explicitly select the grouping columns after groupby to silence this warning.</span>\n",
       "</pre>\n"
      ],
      "text/plain": [
       "\u001b[1;33mC:\\Users\\Pavillon Plus\\AppData\\Local\\Temp\\ipykernel_15452\\\u001b[0m\u001b[1;33m1448036441.\u001b[0m\u001b[1;33mpy:\u001b[0m\u001b[1;33m45\u001b[0m\u001b[1;33m DeprecationWarning\u001b[0m\u001b[33m: DataFrameGroupBy.apply operated on the grouping columns. This behavior is deprecated, and in a future version of pandas the grouping columns will be excluded from the operation. Either pass `\u001b[0m\u001b[33minclude_groups\u001b[0m\u001b[33m=\u001b[0m\u001b[3;33mFalse\u001b[0m\u001b[33m` to exclude the groupings or explicitly select the grouping columns after groupby to silence this warning.\u001b[0m\n"
      ]
     },
     "metadata": {},
     "output_type": "display_data"
    },
    {
     "name": "stdout",
     "output_type": "stream",
     "text": [
      "Hourly aggregates saved to: hourly_aggregates\\hourly_processed_data_2024-01-12.parquet\n",
      "Processing file: processed_data_2024-01-12.parquet\n",
      "                       Hour  avg_sell_price  min_sell_price  max_sell_price  \\\n",
      "0 2024-01-12 00:00:00+00:00       56.110000           22.94           96.47   \n",
      "1 2024-01-12 01:00:00+00:00       60.631000           21.92           97.42   \n",
      "2 2024-01-12 02:00:00+00:00       55.065263           20.06           85.41   \n",
      "3 2024-01-12 03:00:00+00:00       60.048462           21.13           95.00   \n",
      "4 2024-01-12 04:00:00+00:00       56.593158           20.94           94.00   \n",
      "\n",
      "   total_sell_volume  sell_vwap  avg_buy_price  min_buy_price  max_buy_price  \\\n",
      "0            20451.0  57.121350      64.657500          25.84          98.24   \n",
      "1            24247.0  59.665974      61.279091          21.54          95.47   \n",
      "2            16773.0  54.227417      58.926111          21.04          96.07   \n",
      "3            15396.0  63.750242      65.605000          39.32          99.67   \n",
      "4            18347.0  54.544395      53.580000          24.05          82.86   \n",
      "\n",
      "   total_buy_volume   buy_vwap  \n",
      "0           21442.0  65.335332  \n",
      "1           21802.0  59.292710  \n",
      "2           20796.0  54.548504  \n",
      "3           11571.0  67.522494  \n",
      "4           20299.0  54.270743  \n"
     ]
    },
    {
     "data": {
      "text/html": [
       "<pre style=\"white-space:pre;overflow-x:auto;line-height:normal;font-family:Menlo,'DejaVu Sans Mono',consolas,'Courier New',monospace\"><span style=\"color: #808000; text-decoration-color: #808000; font-weight: bold\">C:\\Users\\Pavillon Plus\\AppData\\Local\\Temp\\ipykernel_15452\\</span><span style=\"color: #808000; text-decoration-color: #808000; font-weight: bold\">1448036441.</span><span style=\"color: #808000; text-decoration-color: #808000; font-weight: bold\">py:</span><span style=\"color: #808000; text-decoration-color: #808000; font-weight: bold\">12</span><span style=\"color: #808000; text-decoration-color: #808000; font-weight: bold\"> FutureWarning</span><span style=\"color: #808000; text-decoration-color: #808000\">: </span><span style=\"color: #808000; text-decoration-color: #808000\">'H'</span><span style=\"color: #808000; text-decoration-color: #808000\"> is deprecated and will be removed in a future version, please use </span><span style=\"color: #808000; text-decoration-color: #808000\">'h'</span><span style=\"color: #808000; text-decoration-color: #808000\"> instead.</span>\n",
       "</pre>\n"
      ],
      "text/plain": [
       "\u001b[1;33mC:\\Users\\Pavillon Plus\\AppData\\Local\\Temp\\ipykernel_15452\\\u001b[0m\u001b[1;33m1448036441.\u001b[0m\u001b[1;33mpy:\u001b[0m\u001b[1;33m12\u001b[0m\u001b[1;33m FutureWarning\u001b[0m\u001b[33m: \u001b[0m\u001b[33m'H'\u001b[0m\u001b[33m is deprecated and will be removed in a future version, please use \u001b[0m\u001b[33m'h'\u001b[0m\u001b[33m instead.\u001b[0m\n"
      ]
     },
     "metadata": {},
     "output_type": "display_data"
    },
    {
     "data": {
      "text/html": [
       "<pre style=\"white-space:pre;overflow-x:auto;line-height:normal;font-family:Menlo,'DejaVu Sans Mono',consolas,'Courier New',monospace\"><span style=\"color: #808000; text-decoration-color: #808000; font-weight: bold\">C:\\Users\\Pavillon Plus\\AppData\\Local\\Temp\\ipykernel_15452\\</span><span style=\"color: #808000; text-decoration-color: #808000; font-weight: bold\">1448036441.</span><span style=\"color: #808000; text-decoration-color: #808000; font-weight: bold\">py:</span><span style=\"color: #808000; text-decoration-color: #808000; font-weight: bold\">30</span><span style=\"color: #808000; text-decoration-color: #808000; font-weight: bold\"> DeprecationWarning</span><span style=\"color: #808000; text-decoration-color: #808000\">: DataFrameGroupBy.apply operated on the grouping columns. This behavior is deprecated, and in a future version of pandas the grouping columns will be excluded from the operation. Either pass `</span><span style=\"color: #808000; text-decoration-color: #808000\">include_groups</span><span style=\"color: #808000; text-decoration-color: #808000\">=</span><span style=\"color: #808000; text-decoration-color: #808000; font-style: italic\">False</span><span style=\"color: #808000; text-decoration-color: #808000\">` to exclude the groupings or explicitly select the grouping columns after groupby to silence this warning.</span>\n",
       "</pre>\n"
      ],
      "text/plain": [
       "\u001b[1;33mC:\\Users\\Pavillon Plus\\AppData\\Local\\Temp\\ipykernel_15452\\\u001b[0m\u001b[1;33m1448036441.\u001b[0m\u001b[1;33mpy:\u001b[0m\u001b[1;33m30\u001b[0m\u001b[1;33m DeprecationWarning\u001b[0m\u001b[33m: DataFrameGroupBy.apply operated on the grouping columns. This behavior is deprecated, and in a future version of pandas the grouping columns will be excluded from the operation. Either pass `\u001b[0m\u001b[33minclude_groups\u001b[0m\u001b[33m=\u001b[0m\u001b[3;33mFalse\u001b[0m\u001b[33m` to exclude the groupings or explicitly select the grouping columns after groupby to silence this warning.\u001b[0m\n"
      ]
     },
     "metadata": {},
     "output_type": "display_data"
    },
    {
     "data": {
      "text/html": [
       "<pre style=\"white-space:pre;overflow-x:auto;line-height:normal;font-family:Menlo,'DejaVu Sans Mono',consolas,'Courier New',monospace\"><span style=\"color: #808000; text-decoration-color: #808000; font-weight: bold\">C:\\Users\\Pavillon Plus\\AppData\\Local\\Temp\\ipykernel_15452\\</span><span style=\"color: #808000; text-decoration-color: #808000; font-weight: bold\">1448036441.</span><span style=\"color: #808000; text-decoration-color: #808000; font-weight: bold\">py:</span><span style=\"color: #808000; text-decoration-color: #808000; font-weight: bold\">45</span><span style=\"color: #808000; text-decoration-color: #808000; font-weight: bold\"> DeprecationWarning</span><span style=\"color: #808000; text-decoration-color: #808000\">: DataFrameGroupBy.apply operated on the grouping columns. This behavior is deprecated, and in a future version of pandas the grouping columns will be excluded from the operation. Either pass `</span><span style=\"color: #808000; text-decoration-color: #808000\">include_groups</span><span style=\"color: #808000; text-decoration-color: #808000\">=</span><span style=\"color: #808000; text-decoration-color: #808000; font-style: italic\">False</span><span style=\"color: #808000; text-decoration-color: #808000\">` to exclude the groupings or explicitly select the grouping columns after groupby to silence this warning.</span>\n",
       "</pre>\n"
      ],
      "text/plain": [
       "\u001b[1;33mC:\\Users\\Pavillon Plus\\AppData\\Local\\Temp\\ipykernel_15452\\\u001b[0m\u001b[1;33m1448036441.\u001b[0m\u001b[1;33mpy:\u001b[0m\u001b[1;33m45\u001b[0m\u001b[1;33m DeprecationWarning\u001b[0m\u001b[33m: DataFrameGroupBy.apply operated on the grouping columns. This behavior is deprecated, and in a future version of pandas the grouping columns will be excluded from the operation. Either pass `\u001b[0m\u001b[33minclude_groups\u001b[0m\u001b[33m=\u001b[0m\u001b[3;33mFalse\u001b[0m\u001b[33m` to exclude the groupings or explicitly select the grouping columns after groupby to silence this warning.\u001b[0m\n"
      ]
     },
     "metadata": {},
     "output_type": "display_data"
    },
    {
     "name": "stdout",
     "output_type": "stream",
     "text": [
      "Hourly aggregates saved to: hourly_aggregates\\hourly_processed_data_2024-01-13.parquet\n",
      "Processing file: processed_data_2024-01-13.parquet\n",
      "                       Hour  avg_sell_price  min_sell_price  max_sell_price  \\\n",
      "0 2024-01-13 00:00:00+00:00       49.598235           20.43           75.64   \n",
      "1 2024-01-13 01:00:00+00:00       56.245000           24.64           96.04   \n",
      "2 2024-01-13 02:00:00+00:00       58.451765           21.89           92.17   \n",
      "3 2024-01-13 03:00:00+00:00       56.656364           21.00           92.34   \n",
      "4 2024-01-13 04:00:00+00:00       61.207500           30.08           95.07   \n",
      "\n",
      "   total_sell_volume  sell_vwap  avg_buy_price  min_buy_price  max_buy_price  \\\n",
      "0            18371.0  51.277840      57.702778          23.87          99.31   \n",
      "1            12610.0  53.882646      56.403500          24.37          97.06   \n",
      "2            15456.0  56.613783      57.722727          22.04          98.64   \n",
      "3            23692.0  56.429391      62.013077          22.18          97.03   \n",
      "4            52159.0  62.878251      66.823333          21.68          99.69   \n",
      "\n",
      "   total_buy_volume   buy_vwap  \n",
      "0           16265.0  57.166152  \n",
      "1           20262.0  56.749317  \n",
      "2           15962.0  52.640814  \n",
      "3            8105.0  58.092294  \n",
      "4          119986.0  77.554219  \n"
     ]
    },
    {
     "data": {
      "text/html": [
       "<pre style=\"white-space:pre;overflow-x:auto;line-height:normal;font-family:Menlo,'DejaVu Sans Mono',consolas,'Courier New',monospace\"><span style=\"color: #808000; text-decoration-color: #808000; font-weight: bold\">C:\\Users\\Pavillon Plus\\AppData\\Local\\Temp\\ipykernel_15452\\</span><span style=\"color: #808000; text-decoration-color: #808000; font-weight: bold\">1448036441.</span><span style=\"color: #808000; text-decoration-color: #808000; font-weight: bold\">py:</span><span style=\"color: #808000; text-decoration-color: #808000; font-weight: bold\">12</span><span style=\"color: #808000; text-decoration-color: #808000; font-weight: bold\"> FutureWarning</span><span style=\"color: #808000; text-decoration-color: #808000\">: </span><span style=\"color: #808000; text-decoration-color: #808000\">'H'</span><span style=\"color: #808000; text-decoration-color: #808000\"> is deprecated and will be removed in a future version, please use </span><span style=\"color: #808000; text-decoration-color: #808000\">'h'</span><span style=\"color: #808000; text-decoration-color: #808000\"> instead.</span>\n",
       "</pre>\n"
      ],
      "text/plain": [
       "\u001b[1;33mC:\\Users\\Pavillon Plus\\AppData\\Local\\Temp\\ipykernel_15452\\\u001b[0m\u001b[1;33m1448036441.\u001b[0m\u001b[1;33mpy:\u001b[0m\u001b[1;33m12\u001b[0m\u001b[1;33m FutureWarning\u001b[0m\u001b[33m: \u001b[0m\u001b[33m'H'\u001b[0m\u001b[33m is deprecated and will be removed in a future version, please use \u001b[0m\u001b[33m'h'\u001b[0m\u001b[33m instead.\u001b[0m\n"
      ]
     },
     "metadata": {},
     "output_type": "display_data"
    },
    {
     "data": {
      "text/html": [
       "<pre style=\"white-space:pre;overflow-x:auto;line-height:normal;font-family:Menlo,'DejaVu Sans Mono',consolas,'Courier New',monospace\"><span style=\"color: #808000; text-decoration-color: #808000; font-weight: bold\">C:\\Users\\Pavillon Plus\\AppData\\Local\\Temp\\ipykernel_15452\\</span><span style=\"color: #808000; text-decoration-color: #808000; font-weight: bold\">1448036441.</span><span style=\"color: #808000; text-decoration-color: #808000; font-weight: bold\">py:</span><span style=\"color: #808000; text-decoration-color: #808000; font-weight: bold\">30</span><span style=\"color: #808000; text-decoration-color: #808000; font-weight: bold\"> DeprecationWarning</span><span style=\"color: #808000; text-decoration-color: #808000\">: DataFrameGroupBy.apply operated on the grouping columns. This behavior is deprecated, and in a future version of pandas the grouping columns will be excluded from the operation. Either pass `</span><span style=\"color: #808000; text-decoration-color: #808000\">include_groups</span><span style=\"color: #808000; text-decoration-color: #808000\">=</span><span style=\"color: #808000; text-decoration-color: #808000; font-style: italic\">False</span><span style=\"color: #808000; text-decoration-color: #808000\">` to exclude the groupings or explicitly select the grouping columns after groupby to silence this warning.</span>\n",
       "</pre>\n"
      ],
      "text/plain": [
       "\u001b[1;33mC:\\Users\\Pavillon Plus\\AppData\\Local\\Temp\\ipykernel_15452\\\u001b[0m\u001b[1;33m1448036441.\u001b[0m\u001b[1;33mpy:\u001b[0m\u001b[1;33m30\u001b[0m\u001b[1;33m DeprecationWarning\u001b[0m\u001b[33m: DataFrameGroupBy.apply operated on the grouping columns. This behavior is deprecated, and in a future version of pandas the grouping columns will be excluded from the operation. Either pass `\u001b[0m\u001b[33minclude_groups\u001b[0m\u001b[33m=\u001b[0m\u001b[3;33mFalse\u001b[0m\u001b[33m` to exclude the groupings or explicitly select the grouping columns after groupby to silence this warning.\u001b[0m\n"
      ]
     },
     "metadata": {},
     "output_type": "display_data"
    },
    {
     "data": {
      "text/html": [
       "<pre style=\"white-space:pre;overflow-x:auto;line-height:normal;font-family:Menlo,'DejaVu Sans Mono',consolas,'Courier New',monospace\"><span style=\"color: #808000; text-decoration-color: #808000; font-weight: bold\">C:\\Users\\Pavillon Plus\\AppData\\Local\\Temp\\ipykernel_15452\\</span><span style=\"color: #808000; text-decoration-color: #808000; font-weight: bold\">1448036441.</span><span style=\"color: #808000; text-decoration-color: #808000; font-weight: bold\">py:</span><span style=\"color: #808000; text-decoration-color: #808000; font-weight: bold\">45</span><span style=\"color: #808000; text-decoration-color: #808000; font-weight: bold\"> DeprecationWarning</span><span style=\"color: #808000; text-decoration-color: #808000\">: DataFrameGroupBy.apply operated on the grouping columns. This behavior is deprecated, and in a future version of pandas the grouping columns will be excluded from the operation. Either pass `</span><span style=\"color: #808000; text-decoration-color: #808000\">include_groups</span><span style=\"color: #808000; text-decoration-color: #808000\">=</span><span style=\"color: #808000; text-decoration-color: #808000; font-style: italic\">False</span><span style=\"color: #808000; text-decoration-color: #808000\">` to exclude the groupings or explicitly select the grouping columns after groupby to silence this warning.</span>\n",
       "</pre>\n"
      ],
      "text/plain": [
       "\u001b[1;33mC:\\Users\\Pavillon Plus\\AppData\\Local\\Temp\\ipykernel_15452\\\u001b[0m\u001b[1;33m1448036441.\u001b[0m\u001b[1;33mpy:\u001b[0m\u001b[1;33m45\u001b[0m\u001b[1;33m DeprecationWarning\u001b[0m\u001b[33m: DataFrameGroupBy.apply operated on the grouping columns. This behavior is deprecated, and in a future version of pandas the grouping columns will be excluded from the operation. Either pass `\u001b[0m\u001b[33minclude_groups\u001b[0m\u001b[33m=\u001b[0m\u001b[3;33mFalse\u001b[0m\u001b[33m` to exclude the groupings or explicitly select the grouping columns after groupby to silence this warning.\u001b[0m\n"
      ]
     },
     "metadata": {},
     "output_type": "display_data"
    },
    {
     "name": "stdout",
     "output_type": "stream",
     "text": [
      "Hourly aggregates saved to: hourly_aggregates\\hourly_processed_data_2024-01-14.parquet\n",
      "Processing file: processed_data_2024-01-14.parquet\n",
      "                       Hour  avg_sell_price  min_sell_price  max_sell_price  \\\n",
      "0 2024-01-14 00:00:00+00:00       59.546471           22.42           97.78   \n",
      "1 2024-01-14 01:00:00+00:00       62.334706           26.59           99.27   \n",
      "2 2024-01-14 02:00:00+00:00       62.683077           21.61           99.83   \n",
      "3 2024-01-14 03:00:00+00:00       61.656667           20.85           97.55   \n",
      "4 2024-01-14 04:00:00+00:00       61.007407           25.82           97.66   \n",
      "\n",
      "   total_sell_volume  sell_vwap  avg_buy_price  min_buy_price  max_buy_price  \\\n",
      "0            15550.0  65.264430      74.872500          43.97          98.32   \n",
      "1            61701.0  69.869937      61.899474          25.33          95.89   \n",
      "2            15282.0  61.346438      52.646000          27.56          62.32   \n",
      "3            67650.0  58.187797      62.306786          20.07          99.23   \n",
      "4            29875.0  59.303491      57.714348          21.61          98.18   \n",
      "\n",
      "   total_buy_volume   buy_vwap  \n",
      "0           16860.0  69.710296  \n",
      "1           15900.0  66.942772  \n",
      "2           11786.0  54.414415  \n",
      "3           70931.0  57.231869  \n",
      "4           69759.0  45.860561  \n"
     ]
    },
    {
     "data": {
      "text/html": [
       "<pre style=\"white-space:pre;overflow-x:auto;line-height:normal;font-family:Menlo,'DejaVu Sans Mono',consolas,'Courier New',monospace\"><span style=\"color: #808000; text-decoration-color: #808000; font-weight: bold\">C:\\Users\\Pavillon Plus\\AppData\\Local\\Temp\\ipykernel_15452\\</span><span style=\"color: #808000; text-decoration-color: #808000; font-weight: bold\">1448036441.</span><span style=\"color: #808000; text-decoration-color: #808000; font-weight: bold\">py:</span><span style=\"color: #808000; text-decoration-color: #808000; font-weight: bold\">12</span><span style=\"color: #808000; text-decoration-color: #808000; font-weight: bold\"> FutureWarning</span><span style=\"color: #808000; text-decoration-color: #808000\">: </span><span style=\"color: #808000; text-decoration-color: #808000\">'H'</span><span style=\"color: #808000; text-decoration-color: #808000\"> is deprecated and will be removed in a future version, please use </span><span style=\"color: #808000; text-decoration-color: #808000\">'h'</span><span style=\"color: #808000; text-decoration-color: #808000\"> instead.</span>\n",
       "</pre>\n"
      ],
      "text/plain": [
       "\u001b[1;33mC:\\Users\\Pavillon Plus\\AppData\\Local\\Temp\\ipykernel_15452\\\u001b[0m\u001b[1;33m1448036441.\u001b[0m\u001b[1;33mpy:\u001b[0m\u001b[1;33m12\u001b[0m\u001b[1;33m FutureWarning\u001b[0m\u001b[33m: \u001b[0m\u001b[33m'H'\u001b[0m\u001b[33m is deprecated and will be removed in a future version, please use \u001b[0m\u001b[33m'h'\u001b[0m\u001b[33m instead.\u001b[0m\n"
      ]
     },
     "metadata": {},
     "output_type": "display_data"
    },
    {
     "data": {
      "text/html": [
       "<pre style=\"white-space:pre;overflow-x:auto;line-height:normal;font-family:Menlo,'DejaVu Sans Mono',consolas,'Courier New',monospace\"><span style=\"color: #808000; text-decoration-color: #808000; font-weight: bold\">C:\\Users\\Pavillon Plus\\AppData\\Local\\Temp\\ipykernel_15452\\</span><span style=\"color: #808000; text-decoration-color: #808000; font-weight: bold\">1448036441.</span><span style=\"color: #808000; text-decoration-color: #808000; font-weight: bold\">py:</span><span style=\"color: #808000; text-decoration-color: #808000; font-weight: bold\">30</span><span style=\"color: #808000; text-decoration-color: #808000; font-weight: bold\"> DeprecationWarning</span><span style=\"color: #808000; text-decoration-color: #808000\">: DataFrameGroupBy.apply operated on the grouping columns. This behavior is deprecated, and in a future version of pandas the grouping columns will be excluded from the operation. Either pass `</span><span style=\"color: #808000; text-decoration-color: #808000\">include_groups</span><span style=\"color: #808000; text-decoration-color: #808000\">=</span><span style=\"color: #808000; text-decoration-color: #808000; font-style: italic\">False</span><span style=\"color: #808000; text-decoration-color: #808000\">` to exclude the groupings or explicitly select the grouping columns after groupby to silence this warning.</span>\n",
       "</pre>\n"
      ],
      "text/plain": [
       "\u001b[1;33mC:\\Users\\Pavillon Plus\\AppData\\Local\\Temp\\ipykernel_15452\\\u001b[0m\u001b[1;33m1448036441.\u001b[0m\u001b[1;33mpy:\u001b[0m\u001b[1;33m30\u001b[0m\u001b[1;33m DeprecationWarning\u001b[0m\u001b[33m: DataFrameGroupBy.apply operated on the grouping columns. This behavior is deprecated, and in a future version of pandas the grouping columns will be excluded from the operation. Either pass `\u001b[0m\u001b[33minclude_groups\u001b[0m\u001b[33m=\u001b[0m\u001b[3;33mFalse\u001b[0m\u001b[33m` to exclude the groupings or explicitly select the grouping columns after groupby to silence this warning.\u001b[0m\n"
      ]
     },
     "metadata": {},
     "output_type": "display_data"
    },
    {
     "data": {
      "text/html": [
       "<pre style=\"white-space:pre;overflow-x:auto;line-height:normal;font-family:Menlo,'DejaVu Sans Mono',consolas,'Courier New',monospace\"><span style=\"color: #808000; text-decoration-color: #808000; font-weight: bold\">C:\\Users\\Pavillon Plus\\AppData\\Local\\Temp\\ipykernel_15452\\</span><span style=\"color: #808000; text-decoration-color: #808000; font-weight: bold\">1448036441.</span><span style=\"color: #808000; text-decoration-color: #808000; font-weight: bold\">py:</span><span style=\"color: #808000; text-decoration-color: #808000; font-weight: bold\">45</span><span style=\"color: #808000; text-decoration-color: #808000; font-weight: bold\"> DeprecationWarning</span><span style=\"color: #808000; text-decoration-color: #808000\">: DataFrameGroupBy.apply operated on the grouping columns. This behavior is deprecated, and in a future version of pandas the grouping columns will be excluded from the operation. Either pass `</span><span style=\"color: #808000; text-decoration-color: #808000\">include_groups</span><span style=\"color: #808000; text-decoration-color: #808000\">=</span><span style=\"color: #808000; text-decoration-color: #808000; font-style: italic\">False</span><span style=\"color: #808000; text-decoration-color: #808000\">` to exclude the groupings or explicitly select the grouping columns after groupby to silence this warning.</span>\n",
       "</pre>\n"
      ],
      "text/plain": [
       "\u001b[1;33mC:\\Users\\Pavillon Plus\\AppData\\Local\\Temp\\ipykernel_15452\\\u001b[0m\u001b[1;33m1448036441.\u001b[0m\u001b[1;33mpy:\u001b[0m\u001b[1;33m45\u001b[0m\u001b[1;33m DeprecationWarning\u001b[0m\u001b[33m: DataFrameGroupBy.apply operated on the grouping columns. This behavior is deprecated, and in a future version of pandas the grouping columns will be excluded from the operation. Either pass `\u001b[0m\u001b[33minclude_groups\u001b[0m\u001b[33m=\u001b[0m\u001b[3;33mFalse\u001b[0m\u001b[33m` to exclude the groupings or explicitly select the grouping columns after groupby to silence this warning.\u001b[0m\n"
      ]
     },
     "metadata": {},
     "output_type": "display_data"
    },
    {
     "name": "stdout",
     "output_type": "stream",
     "text": [
      "Hourly aggregates saved to: hourly_aggregates\\hourly_processed_data_2024-01-15.parquet\n",
      "Processing file: processed_data_2024-01-15.parquet\n",
      "                       Hour  avg_sell_price  min_sell_price  max_sell_price  \\\n",
      "0 2024-01-15 00:00:00+00:00       54.412500           21.32           95.78   \n",
      "1 2024-01-15 01:00:00+00:00       66.391667           29.20           93.35   \n",
      "2 2024-01-15 02:00:00+00:00       69.233571           21.96           99.78   \n",
      "3 2024-01-15 03:00:00+00:00       53.341818           20.71           94.00   \n",
      "4 2024-01-15 04:00:00+00:00       52.164375           24.67           97.07   \n",
      "\n",
      "   total_sell_volume  sell_vwap  avg_buy_price  min_buy_price  max_buy_price  \\\n",
      "0            15583.0  59.345290      55.650370          20.49          96.32   \n",
      "1            12410.0  64.787224      61.411667          27.62          97.46   \n",
      "2            13231.0  75.879482      53.456087          23.62          95.38   \n",
      "3            23204.0  51.592848      63.334762          22.10          99.54   \n",
      "4            13262.0  49.909802      65.245882          22.44          99.07   \n",
      "\n",
      "   total_buy_volume   buy_vwap  \n",
      "0           26719.0  56.749430  \n",
      "1           56901.0  75.974644  \n",
      "2           24785.0  54.080341  \n",
      "3           48011.0  67.923572  \n",
      "4           19416.0  70.040353  \n"
     ]
    },
    {
     "data": {
      "text/html": [
       "<pre style=\"white-space:pre;overflow-x:auto;line-height:normal;font-family:Menlo,'DejaVu Sans Mono',consolas,'Courier New',monospace\"><span style=\"color: #808000; text-decoration-color: #808000; font-weight: bold\">C:\\Users\\Pavillon Plus\\AppData\\Local\\Temp\\ipykernel_15452\\</span><span style=\"color: #808000; text-decoration-color: #808000; font-weight: bold\">1448036441.</span><span style=\"color: #808000; text-decoration-color: #808000; font-weight: bold\">py:</span><span style=\"color: #808000; text-decoration-color: #808000; font-weight: bold\">12</span><span style=\"color: #808000; text-decoration-color: #808000; font-weight: bold\"> FutureWarning</span><span style=\"color: #808000; text-decoration-color: #808000\">: </span><span style=\"color: #808000; text-decoration-color: #808000\">'H'</span><span style=\"color: #808000; text-decoration-color: #808000\"> is deprecated and will be removed in a future version, please use </span><span style=\"color: #808000; text-decoration-color: #808000\">'h'</span><span style=\"color: #808000; text-decoration-color: #808000\"> instead.</span>\n",
       "</pre>\n"
      ],
      "text/plain": [
       "\u001b[1;33mC:\\Users\\Pavillon Plus\\AppData\\Local\\Temp\\ipykernel_15452\\\u001b[0m\u001b[1;33m1448036441.\u001b[0m\u001b[1;33mpy:\u001b[0m\u001b[1;33m12\u001b[0m\u001b[1;33m FutureWarning\u001b[0m\u001b[33m: \u001b[0m\u001b[33m'H'\u001b[0m\u001b[33m is deprecated and will be removed in a future version, please use \u001b[0m\u001b[33m'h'\u001b[0m\u001b[33m instead.\u001b[0m\n"
      ]
     },
     "metadata": {},
     "output_type": "display_data"
    },
    {
     "data": {
      "text/html": [
       "<pre style=\"white-space:pre;overflow-x:auto;line-height:normal;font-family:Menlo,'DejaVu Sans Mono',consolas,'Courier New',monospace\"><span style=\"color: #808000; text-decoration-color: #808000; font-weight: bold\">C:\\Users\\Pavillon Plus\\AppData\\Local\\Temp\\ipykernel_15452\\</span><span style=\"color: #808000; text-decoration-color: #808000; font-weight: bold\">1448036441.</span><span style=\"color: #808000; text-decoration-color: #808000; font-weight: bold\">py:</span><span style=\"color: #808000; text-decoration-color: #808000; font-weight: bold\">30</span><span style=\"color: #808000; text-decoration-color: #808000; font-weight: bold\"> DeprecationWarning</span><span style=\"color: #808000; text-decoration-color: #808000\">: DataFrameGroupBy.apply operated on the grouping columns. This behavior is deprecated, and in a future version of pandas the grouping columns will be excluded from the operation. Either pass `</span><span style=\"color: #808000; text-decoration-color: #808000\">include_groups</span><span style=\"color: #808000; text-decoration-color: #808000\">=</span><span style=\"color: #808000; text-decoration-color: #808000; font-style: italic\">False</span><span style=\"color: #808000; text-decoration-color: #808000\">` to exclude the groupings or explicitly select the grouping columns after groupby to silence this warning.</span>\n",
       "</pre>\n"
      ],
      "text/plain": [
       "\u001b[1;33mC:\\Users\\Pavillon Plus\\AppData\\Local\\Temp\\ipykernel_15452\\\u001b[0m\u001b[1;33m1448036441.\u001b[0m\u001b[1;33mpy:\u001b[0m\u001b[1;33m30\u001b[0m\u001b[1;33m DeprecationWarning\u001b[0m\u001b[33m: DataFrameGroupBy.apply operated on the grouping columns. This behavior is deprecated, and in a future version of pandas the grouping columns will be excluded from the operation. Either pass `\u001b[0m\u001b[33minclude_groups\u001b[0m\u001b[33m=\u001b[0m\u001b[3;33mFalse\u001b[0m\u001b[33m` to exclude the groupings or explicitly select the grouping columns after groupby to silence this warning.\u001b[0m\n"
      ]
     },
     "metadata": {},
     "output_type": "display_data"
    },
    {
     "data": {
      "text/html": [
       "<pre style=\"white-space:pre;overflow-x:auto;line-height:normal;font-family:Menlo,'DejaVu Sans Mono',consolas,'Courier New',monospace\"><span style=\"color: #808000; text-decoration-color: #808000; font-weight: bold\">C:\\Users\\Pavillon Plus\\AppData\\Local\\Temp\\ipykernel_15452\\</span><span style=\"color: #808000; text-decoration-color: #808000; font-weight: bold\">1448036441.</span><span style=\"color: #808000; text-decoration-color: #808000; font-weight: bold\">py:</span><span style=\"color: #808000; text-decoration-color: #808000; font-weight: bold\">45</span><span style=\"color: #808000; text-decoration-color: #808000; font-weight: bold\"> DeprecationWarning</span><span style=\"color: #808000; text-decoration-color: #808000\">: DataFrameGroupBy.apply operated on the grouping columns. This behavior is deprecated, and in a future version of pandas the grouping columns will be excluded from the operation. Either pass `</span><span style=\"color: #808000; text-decoration-color: #808000\">include_groups</span><span style=\"color: #808000; text-decoration-color: #808000\">=</span><span style=\"color: #808000; text-decoration-color: #808000; font-style: italic\">False</span><span style=\"color: #808000; text-decoration-color: #808000\">` to exclude the groupings or explicitly select the grouping columns after groupby to silence this warning.</span>\n",
       "</pre>\n"
      ],
      "text/plain": [
       "\u001b[1;33mC:\\Users\\Pavillon Plus\\AppData\\Local\\Temp\\ipykernel_15452\\\u001b[0m\u001b[1;33m1448036441.\u001b[0m\u001b[1;33mpy:\u001b[0m\u001b[1;33m45\u001b[0m\u001b[1;33m DeprecationWarning\u001b[0m\u001b[33m: DataFrameGroupBy.apply operated on the grouping columns. This behavior is deprecated, and in a future version of pandas the grouping columns will be excluded from the operation. Either pass `\u001b[0m\u001b[33minclude_groups\u001b[0m\u001b[33m=\u001b[0m\u001b[3;33mFalse\u001b[0m\u001b[33m` to exclude the groupings or explicitly select the grouping columns after groupby to silence this warning.\u001b[0m\n"
      ]
     },
     "metadata": {},
     "output_type": "display_data"
    },
    {
     "name": "stdout",
     "output_type": "stream",
     "text": [
      "Hourly aggregates saved to: hourly_aggregates\\hourly_processed_data_2024-01-16.parquet\n",
      "Processing file: processed_data_2024-01-16.parquet\n",
      "                       Hour  avg_sell_price  min_sell_price  max_sell_price  \\\n",
      "0 2024-01-16 00:00:00+00:00       69.615385           31.60           98.05   \n",
      "1 2024-01-16 01:00:00+00:00       54.345714           21.77           95.40   \n",
      "2 2024-01-16 02:00:00+00:00       62.229412           20.95           95.85   \n",
      "3 2024-01-16 03:00:00+00:00       60.594545           23.47           97.60   \n",
      "4 2024-01-16 04:00:00+00:00       50.507273           24.08           99.56   \n",
      "\n",
      "   total_sell_volume  sell_vwap  avg_buy_price  min_buy_price  max_buy_price  \\\n",
      "0            27466.0  69.527956      55.385000          27.07          96.10   \n",
      "1            37054.0  47.031872      61.288889          20.42          98.68   \n",
      "2            14457.0  69.326175      53.284375          24.30          91.76   \n",
      "3            14976.0  58.649744      56.855000          22.05          99.32   \n",
      "4            14050.0  51.138569      63.901739          20.35          99.28   \n",
      "\n",
      "   total_buy_volume   buy_vwap  \n",
      "0           16326.0  52.745091  \n",
      "1           25234.0  61.088498  \n",
      "2           14528.0  56.183888  \n",
      "3           24697.0  55.848305  \n",
      "4           24181.0  61.822351  \n"
     ]
    },
    {
     "data": {
      "text/html": [
       "<pre style=\"white-space:pre;overflow-x:auto;line-height:normal;font-family:Menlo,'DejaVu Sans Mono',consolas,'Courier New',monospace\"><span style=\"color: #808000; text-decoration-color: #808000; font-weight: bold\">C:\\Users\\Pavillon Plus\\AppData\\Local\\Temp\\ipykernel_15452\\</span><span style=\"color: #808000; text-decoration-color: #808000; font-weight: bold\">1448036441.</span><span style=\"color: #808000; text-decoration-color: #808000; font-weight: bold\">py:</span><span style=\"color: #808000; text-decoration-color: #808000; font-weight: bold\">12</span><span style=\"color: #808000; text-decoration-color: #808000; font-weight: bold\"> FutureWarning</span><span style=\"color: #808000; text-decoration-color: #808000\">: </span><span style=\"color: #808000; text-decoration-color: #808000\">'H'</span><span style=\"color: #808000; text-decoration-color: #808000\"> is deprecated and will be removed in a future version, please use </span><span style=\"color: #808000; text-decoration-color: #808000\">'h'</span><span style=\"color: #808000; text-decoration-color: #808000\"> instead.</span>\n",
       "</pre>\n"
      ],
      "text/plain": [
       "\u001b[1;33mC:\\Users\\Pavillon Plus\\AppData\\Local\\Temp\\ipykernel_15452\\\u001b[0m\u001b[1;33m1448036441.\u001b[0m\u001b[1;33mpy:\u001b[0m\u001b[1;33m12\u001b[0m\u001b[1;33m FutureWarning\u001b[0m\u001b[33m: \u001b[0m\u001b[33m'H'\u001b[0m\u001b[33m is deprecated and will be removed in a future version, please use \u001b[0m\u001b[33m'h'\u001b[0m\u001b[33m instead.\u001b[0m\n"
      ]
     },
     "metadata": {},
     "output_type": "display_data"
    },
    {
     "data": {
      "text/html": [
       "<pre style=\"white-space:pre;overflow-x:auto;line-height:normal;font-family:Menlo,'DejaVu Sans Mono',consolas,'Courier New',monospace\"><span style=\"color: #808000; text-decoration-color: #808000; font-weight: bold\">C:\\Users\\Pavillon Plus\\AppData\\Local\\Temp\\ipykernel_15452\\</span><span style=\"color: #808000; text-decoration-color: #808000; font-weight: bold\">1448036441.</span><span style=\"color: #808000; text-decoration-color: #808000; font-weight: bold\">py:</span><span style=\"color: #808000; text-decoration-color: #808000; font-weight: bold\">30</span><span style=\"color: #808000; text-decoration-color: #808000; font-weight: bold\"> DeprecationWarning</span><span style=\"color: #808000; text-decoration-color: #808000\">: DataFrameGroupBy.apply operated on the grouping columns. This behavior is deprecated, and in a future version of pandas the grouping columns will be excluded from the operation. Either pass `</span><span style=\"color: #808000; text-decoration-color: #808000\">include_groups</span><span style=\"color: #808000; text-decoration-color: #808000\">=</span><span style=\"color: #808000; text-decoration-color: #808000; font-style: italic\">False</span><span style=\"color: #808000; text-decoration-color: #808000\">` to exclude the groupings or explicitly select the grouping columns after groupby to silence this warning.</span>\n",
       "</pre>\n"
      ],
      "text/plain": [
       "\u001b[1;33mC:\\Users\\Pavillon Plus\\AppData\\Local\\Temp\\ipykernel_15452\\\u001b[0m\u001b[1;33m1448036441.\u001b[0m\u001b[1;33mpy:\u001b[0m\u001b[1;33m30\u001b[0m\u001b[1;33m DeprecationWarning\u001b[0m\u001b[33m: DataFrameGroupBy.apply operated on the grouping columns. This behavior is deprecated, and in a future version of pandas the grouping columns will be excluded from the operation. Either pass `\u001b[0m\u001b[33minclude_groups\u001b[0m\u001b[33m=\u001b[0m\u001b[3;33mFalse\u001b[0m\u001b[33m` to exclude the groupings or explicitly select the grouping columns after groupby to silence this warning.\u001b[0m\n"
      ]
     },
     "metadata": {},
     "output_type": "display_data"
    },
    {
     "data": {
      "text/html": [
       "<pre style=\"white-space:pre;overflow-x:auto;line-height:normal;font-family:Menlo,'DejaVu Sans Mono',consolas,'Courier New',monospace\"><span style=\"color: #808000; text-decoration-color: #808000; font-weight: bold\">C:\\Users\\Pavillon Plus\\AppData\\Local\\Temp\\ipykernel_15452\\</span><span style=\"color: #808000; text-decoration-color: #808000; font-weight: bold\">1448036441.</span><span style=\"color: #808000; text-decoration-color: #808000; font-weight: bold\">py:</span><span style=\"color: #808000; text-decoration-color: #808000; font-weight: bold\">45</span><span style=\"color: #808000; text-decoration-color: #808000; font-weight: bold\"> DeprecationWarning</span><span style=\"color: #808000; text-decoration-color: #808000\">: DataFrameGroupBy.apply operated on the grouping columns. This behavior is deprecated, and in a future version of pandas the grouping columns will be excluded from the operation. Either pass `</span><span style=\"color: #808000; text-decoration-color: #808000\">include_groups</span><span style=\"color: #808000; text-decoration-color: #808000\">=</span><span style=\"color: #808000; text-decoration-color: #808000; font-style: italic\">False</span><span style=\"color: #808000; text-decoration-color: #808000\">` to exclude the groupings or explicitly select the grouping columns after groupby to silence this warning.</span>\n",
       "</pre>\n"
      ],
      "text/plain": [
       "\u001b[1;33mC:\\Users\\Pavillon Plus\\AppData\\Local\\Temp\\ipykernel_15452\\\u001b[0m\u001b[1;33m1448036441.\u001b[0m\u001b[1;33mpy:\u001b[0m\u001b[1;33m45\u001b[0m\u001b[1;33m DeprecationWarning\u001b[0m\u001b[33m: DataFrameGroupBy.apply operated on the grouping columns. This behavior is deprecated, and in a future version of pandas the grouping columns will be excluded from the operation. Either pass `\u001b[0m\u001b[33minclude_groups\u001b[0m\u001b[33m=\u001b[0m\u001b[3;33mFalse\u001b[0m\u001b[33m` to exclude the groupings or explicitly select the grouping columns after groupby to silence this warning.\u001b[0m\n"
      ]
     },
     "metadata": {},
     "output_type": "display_data"
    },
    {
     "name": "stdout",
     "output_type": "stream",
     "text": [
      "Hourly aggregates saved to: hourly_aggregates\\hourly_processed_data_2024-01-17.parquet\n",
      "Processing file: processed_data_2024-01-17.parquet\n",
      "                       Hour  avg_sell_price  min_sell_price  max_sell_price  \\\n",
      "0 2024-01-17 00:00:00+00:00       49.155238           22.88           97.60   \n",
      "1 2024-01-17 01:00:00+00:00       61.466842           30.20           97.70   \n",
      "2 2024-01-17 02:00:00+00:00       68.461333           37.34           97.97   \n",
      "3 2024-01-17 03:00:00+00:00       67.258636           27.97           97.12   \n",
      "4 2024-01-17 04:00:00+00:00       61.602105           22.87           99.47   \n",
      "\n",
      "   total_sell_volume  sell_vwap  avg_buy_price  min_buy_price  max_buy_price  \\\n",
      "0            55201.0  30.941518      58.110833          21.28          99.26   \n",
      "1            18308.0  62.709872      57.087143          21.18          99.69   \n",
      "2            15818.0  68.825317      45.694545          25.19          95.65   \n",
      "3            20871.0  69.802721      65.895455          34.80          99.27   \n",
      "4            48424.0  67.679783      55.446538          20.53          99.19   \n",
      "\n",
      "   total_buy_volume   buy_vwap  \n",
      "0           57725.0  72.974062  \n",
      "1           22508.0  55.851538  \n",
      "2            7310.0  37.273343  \n",
      "3           11698.0  58.956581  \n",
      "4           28690.0  59.040566  \n"
     ]
    },
    {
     "data": {
      "text/html": [
       "<pre style=\"white-space:pre;overflow-x:auto;line-height:normal;font-family:Menlo,'DejaVu Sans Mono',consolas,'Courier New',monospace\"><span style=\"color: #808000; text-decoration-color: #808000; font-weight: bold\">C:\\Users\\Pavillon Plus\\AppData\\Local\\Temp\\ipykernel_15452\\</span><span style=\"color: #808000; text-decoration-color: #808000; font-weight: bold\">1448036441.</span><span style=\"color: #808000; text-decoration-color: #808000; font-weight: bold\">py:</span><span style=\"color: #808000; text-decoration-color: #808000; font-weight: bold\">12</span><span style=\"color: #808000; text-decoration-color: #808000; font-weight: bold\"> FutureWarning</span><span style=\"color: #808000; text-decoration-color: #808000\">: </span><span style=\"color: #808000; text-decoration-color: #808000\">'H'</span><span style=\"color: #808000; text-decoration-color: #808000\"> is deprecated and will be removed in a future version, please use </span><span style=\"color: #808000; text-decoration-color: #808000\">'h'</span><span style=\"color: #808000; text-decoration-color: #808000\"> instead.</span>\n",
       "</pre>\n"
      ],
      "text/plain": [
       "\u001b[1;33mC:\\Users\\Pavillon Plus\\AppData\\Local\\Temp\\ipykernel_15452\\\u001b[0m\u001b[1;33m1448036441.\u001b[0m\u001b[1;33mpy:\u001b[0m\u001b[1;33m12\u001b[0m\u001b[1;33m FutureWarning\u001b[0m\u001b[33m: \u001b[0m\u001b[33m'H'\u001b[0m\u001b[33m is deprecated and will be removed in a future version, please use \u001b[0m\u001b[33m'h'\u001b[0m\u001b[33m instead.\u001b[0m\n"
      ]
     },
     "metadata": {},
     "output_type": "display_data"
    },
    {
     "data": {
      "text/html": [
       "<pre style=\"white-space:pre;overflow-x:auto;line-height:normal;font-family:Menlo,'DejaVu Sans Mono',consolas,'Courier New',monospace\"><span style=\"color: #808000; text-decoration-color: #808000; font-weight: bold\">C:\\Users\\Pavillon Plus\\AppData\\Local\\Temp\\ipykernel_15452\\</span><span style=\"color: #808000; text-decoration-color: #808000; font-weight: bold\">1448036441.</span><span style=\"color: #808000; text-decoration-color: #808000; font-weight: bold\">py:</span><span style=\"color: #808000; text-decoration-color: #808000; font-weight: bold\">30</span><span style=\"color: #808000; text-decoration-color: #808000; font-weight: bold\"> DeprecationWarning</span><span style=\"color: #808000; text-decoration-color: #808000\">: DataFrameGroupBy.apply operated on the grouping columns. This behavior is deprecated, and in a future version of pandas the grouping columns will be excluded from the operation. Either pass `</span><span style=\"color: #808000; text-decoration-color: #808000\">include_groups</span><span style=\"color: #808000; text-decoration-color: #808000\">=</span><span style=\"color: #808000; text-decoration-color: #808000; font-style: italic\">False</span><span style=\"color: #808000; text-decoration-color: #808000\">` to exclude the groupings or explicitly select the grouping columns after groupby to silence this warning.</span>\n",
       "</pre>\n"
      ],
      "text/plain": [
       "\u001b[1;33mC:\\Users\\Pavillon Plus\\AppData\\Local\\Temp\\ipykernel_15452\\\u001b[0m\u001b[1;33m1448036441.\u001b[0m\u001b[1;33mpy:\u001b[0m\u001b[1;33m30\u001b[0m\u001b[1;33m DeprecationWarning\u001b[0m\u001b[33m: DataFrameGroupBy.apply operated on the grouping columns. This behavior is deprecated, and in a future version of pandas the grouping columns will be excluded from the operation. Either pass `\u001b[0m\u001b[33minclude_groups\u001b[0m\u001b[33m=\u001b[0m\u001b[3;33mFalse\u001b[0m\u001b[33m` to exclude the groupings or explicitly select the grouping columns after groupby to silence this warning.\u001b[0m\n"
      ]
     },
     "metadata": {},
     "output_type": "display_data"
    },
    {
     "data": {
      "text/html": [
       "<pre style=\"white-space:pre;overflow-x:auto;line-height:normal;font-family:Menlo,'DejaVu Sans Mono',consolas,'Courier New',monospace\"><span style=\"color: #808000; text-decoration-color: #808000; font-weight: bold\">C:\\Users\\Pavillon Plus\\AppData\\Local\\Temp\\ipykernel_15452\\</span><span style=\"color: #808000; text-decoration-color: #808000; font-weight: bold\">1448036441.</span><span style=\"color: #808000; text-decoration-color: #808000; font-weight: bold\">py:</span><span style=\"color: #808000; text-decoration-color: #808000; font-weight: bold\">45</span><span style=\"color: #808000; text-decoration-color: #808000; font-weight: bold\"> DeprecationWarning</span><span style=\"color: #808000; text-decoration-color: #808000\">: DataFrameGroupBy.apply operated on the grouping columns. This behavior is deprecated, and in a future version of pandas the grouping columns will be excluded from the operation. Either pass `</span><span style=\"color: #808000; text-decoration-color: #808000\">include_groups</span><span style=\"color: #808000; text-decoration-color: #808000\">=</span><span style=\"color: #808000; text-decoration-color: #808000; font-style: italic\">False</span><span style=\"color: #808000; text-decoration-color: #808000\">` to exclude the groupings or explicitly select the grouping columns after groupby to silence this warning.</span>\n",
       "</pre>\n"
      ],
      "text/plain": [
       "\u001b[1;33mC:\\Users\\Pavillon Plus\\AppData\\Local\\Temp\\ipykernel_15452\\\u001b[0m\u001b[1;33m1448036441.\u001b[0m\u001b[1;33mpy:\u001b[0m\u001b[1;33m45\u001b[0m\u001b[1;33m DeprecationWarning\u001b[0m\u001b[33m: DataFrameGroupBy.apply operated on the grouping columns. This behavior is deprecated, and in a future version of pandas the grouping columns will be excluded from the operation. Either pass `\u001b[0m\u001b[33minclude_groups\u001b[0m\u001b[33m=\u001b[0m\u001b[3;33mFalse\u001b[0m\u001b[33m` to exclude the groupings or explicitly select the grouping columns after groupby to silence this warning.\u001b[0m\n"
      ]
     },
     "metadata": {},
     "output_type": "display_data"
    },
    {
     "name": "stdout",
     "output_type": "stream",
     "text": [
      "Hourly aggregates saved to: hourly_aggregates\\hourly_processed_data_2024-01-18.parquet\n",
      "Processing file: processed_data_2024-01-18.parquet\n",
      "                       Hour  avg_sell_price  min_sell_price  max_sell_price  \\\n",
      "0 2024-01-18 00:00:00+00:00       68.737391           21.15           99.79   \n",
      "1 2024-01-18 01:00:00+00:00       64.852500           30.06           93.94   \n",
      "2 2024-01-18 02:00:00+00:00       57.377273           20.28           92.48   \n",
      "3 2024-01-18 03:00:00+00:00       62.456190           32.43           93.45   \n",
      "4 2024-01-18 04:00:00+00:00       56.694286           28.00           87.28   \n",
      "\n",
      "   total_sell_volume  sell_vwap  avg_buy_price  min_buy_price  max_buy_price  \\\n",
      "0            63001.0  61.334445      53.369412          24.33          94.83   \n",
      "1            21567.0  67.057011      57.548966          24.32          97.95   \n",
      "2            24424.0  58.053386      56.527778          21.49          90.60   \n",
      "3            68155.0  47.473759      62.247000          20.76          95.00   \n",
      "4            12988.0  57.260207      64.792222          31.36          98.88   \n",
      "\n",
      "   total_buy_volume   buy_vwap  \n",
      "0           14568.0  60.577487  \n",
      "1           28900.0  57.084449  \n",
      "2           55364.0  37.786617  \n",
      "3           19042.0  60.368428  \n",
      "4           23413.0  66.632020  \n"
     ]
    },
    {
     "data": {
      "text/html": [
       "<pre style=\"white-space:pre;overflow-x:auto;line-height:normal;font-family:Menlo,'DejaVu Sans Mono',consolas,'Courier New',monospace\"><span style=\"color: #808000; text-decoration-color: #808000; font-weight: bold\">C:\\Users\\Pavillon Plus\\AppData\\Local\\Temp\\ipykernel_15452\\</span><span style=\"color: #808000; text-decoration-color: #808000; font-weight: bold\">1448036441.</span><span style=\"color: #808000; text-decoration-color: #808000; font-weight: bold\">py:</span><span style=\"color: #808000; text-decoration-color: #808000; font-weight: bold\">12</span><span style=\"color: #808000; text-decoration-color: #808000; font-weight: bold\"> FutureWarning</span><span style=\"color: #808000; text-decoration-color: #808000\">: </span><span style=\"color: #808000; text-decoration-color: #808000\">'H'</span><span style=\"color: #808000; text-decoration-color: #808000\"> is deprecated and will be removed in a future version, please use </span><span style=\"color: #808000; text-decoration-color: #808000\">'h'</span><span style=\"color: #808000; text-decoration-color: #808000\"> instead.</span>\n",
       "</pre>\n"
      ],
      "text/plain": [
       "\u001b[1;33mC:\\Users\\Pavillon Plus\\AppData\\Local\\Temp\\ipykernel_15452\\\u001b[0m\u001b[1;33m1448036441.\u001b[0m\u001b[1;33mpy:\u001b[0m\u001b[1;33m12\u001b[0m\u001b[1;33m FutureWarning\u001b[0m\u001b[33m: \u001b[0m\u001b[33m'H'\u001b[0m\u001b[33m is deprecated and will be removed in a future version, please use \u001b[0m\u001b[33m'h'\u001b[0m\u001b[33m instead.\u001b[0m\n"
      ]
     },
     "metadata": {},
     "output_type": "display_data"
    },
    {
     "data": {
      "text/html": [
       "<pre style=\"white-space:pre;overflow-x:auto;line-height:normal;font-family:Menlo,'DejaVu Sans Mono',consolas,'Courier New',monospace\"><span style=\"color: #808000; text-decoration-color: #808000; font-weight: bold\">C:\\Users\\Pavillon Plus\\AppData\\Local\\Temp\\ipykernel_15452\\</span><span style=\"color: #808000; text-decoration-color: #808000; font-weight: bold\">1448036441.</span><span style=\"color: #808000; text-decoration-color: #808000; font-weight: bold\">py:</span><span style=\"color: #808000; text-decoration-color: #808000; font-weight: bold\">30</span><span style=\"color: #808000; text-decoration-color: #808000; font-weight: bold\"> DeprecationWarning</span><span style=\"color: #808000; text-decoration-color: #808000\">: DataFrameGroupBy.apply operated on the grouping columns. This behavior is deprecated, and in a future version of pandas the grouping columns will be excluded from the operation. Either pass `</span><span style=\"color: #808000; text-decoration-color: #808000\">include_groups</span><span style=\"color: #808000; text-decoration-color: #808000\">=</span><span style=\"color: #808000; text-decoration-color: #808000; font-style: italic\">False</span><span style=\"color: #808000; text-decoration-color: #808000\">` to exclude the groupings or explicitly select the grouping columns after groupby to silence this warning.</span>\n",
       "</pre>\n"
      ],
      "text/plain": [
       "\u001b[1;33mC:\\Users\\Pavillon Plus\\AppData\\Local\\Temp\\ipykernel_15452\\\u001b[0m\u001b[1;33m1448036441.\u001b[0m\u001b[1;33mpy:\u001b[0m\u001b[1;33m30\u001b[0m\u001b[1;33m DeprecationWarning\u001b[0m\u001b[33m: DataFrameGroupBy.apply operated on the grouping columns. This behavior is deprecated, and in a future version of pandas the grouping columns will be excluded from the operation. Either pass `\u001b[0m\u001b[33minclude_groups\u001b[0m\u001b[33m=\u001b[0m\u001b[3;33mFalse\u001b[0m\u001b[33m` to exclude the groupings or explicitly select the grouping columns after groupby to silence this warning.\u001b[0m\n"
      ]
     },
     "metadata": {},
     "output_type": "display_data"
    },
    {
     "data": {
      "text/html": [
       "<pre style=\"white-space:pre;overflow-x:auto;line-height:normal;font-family:Menlo,'DejaVu Sans Mono',consolas,'Courier New',monospace\"><span style=\"color: #808000; text-decoration-color: #808000; font-weight: bold\">C:\\Users\\Pavillon Plus\\AppData\\Local\\Temp\\ipykernel_15452\\</span><span style=\"color: #808000; text-decoration-color: #808000; font-weight: bold\">1448036441.</span><span style=\"color: #808000; text-decoration-color: #808000; font-weight: bold\">py:</span><span style=\"color: #808000; text-decoration-color: #808000; font-weight: bold\">45</span><span style=\"color: #808000; text-decoration-color: #808000; font-weight: bold\"> DeprecationWarning</span><span style=\"color: #808000; text-decoration-color: #808000\">: DataFrameGroupBy.apply operated on the grouping columns. This behavior is deprecated, and in a future version of pandas the grouping columns will be excluded from the operation. Either pass `</span><span style=\"color: #808000; text-decoration-color: #808000\">include_groups</span><span style=\"color: #808000; text-decoration-color: #808000\">=</span><span style=\"color: #808000; text-decoration-color: #808000; font-style: italic\">False</span><span style=\"color: #808000; text-decoration-color: #808000\">` to exclude the groupings or explicitly select the grouping columns after groupby to silence this warning.</span>\n",
       "</pre>\n"
      ],
      "text/plain": [
       "\u001b[1;33mC:\\Users\\Pavillon Plus\\AppData\\Local\\Temp\\ipykernel_15452\\\u001b[0m\u001b[1;33m1448036441.\u001b[0m\u001b[1;33mpy:\u001b[0m\u001b[1;33m45\u001b[0m\u001b[1;33m DeprecationWarning\u001b[0m\u001b[33m: DataFrameGroupBy.apply operated on the grouping columns. This behavior is deprecated, and in a future version of pandas the grouping columns will be excluded from the operation. Either pass `\u001b[0m\u001b[33minclude_groups\u001b[0m\u001b[33m=\u001b[0m\u001b[3;33mFalse\u001b[0m\u001b[33m` to exclude the groupings or explicitly select the grouping columns after groupby to silence this warning.\u001b[0m\n"
      ]
     },
     "metadata": {},
     "output_type": "display_data"
    },
    {
     "name": "stdout",
     "output_type": "stream",
     "text": [
      "Hourly aggregates saved to: hourly_aggregates\\hourly_processed_data_2024-01-19.parquet\n",
      "Processing file: processed_data_2024-01-19.parquet\n",
      "                       Hour  avg_sell_price  min_sell_price  max_sell_price  \\\n",
      "0 2024-01-19 00:00:00+00:00       62.510417           26.75           95.96   \n",
      "1 2024-01-19 01:00:00+00:00       59.422000           21.96           92.88   \n",
      "2 2024-01-19 02:00:00+00:00       67.187273           27.00           97.39   \n",
      "3 2024-01-19 03:00:00+00:00       62.079000           20.70           93.33   \n",
      "4 2024-01-19 04:00:00+00:00       59.311765           23.84           98.03   \n",
      "\n",
      "   total_sell_volume  sell_vwap  avg_buy_price  min_buy_price  max_buy_price  \\\n",
      "0            67267.0  70.649500      60.790000          22.23          96.64   \n",
      "1            22416.0  58.371923      71.471818          35.56          99.65   \n",
      "2            31069.0  75.057238      64.058148          21.73          98.91   \n",
      "3            22822.0  64.377338      60.595000          20.61          98.19   \n",
      "4            16391.0  62.276289      56.411333          20.26          95.67   \n",
      "\n",
      "   total_buy_volume   buy_vwap  \n",
      "0           20427.0  57.994523  \n",
      "1           11742.0  75.593293  \n",
      "2           32838.0  62.484877  \n",
      "3           24003.0  58.542661  \n",
      "4           15971.0  57.332441  \n"
     ]
    },
    {
     "data": {
      "text/html": [
       "<pre style=\"white-space:pre;overflow-x:auto;line-height:normal;font-family:Menlo,'DejaVu Sans Mono',consolas,'Courier New',monospace\"><span style=\"color: #808000; text-decoration-color: #808000; font-weight: bold\">C:\\Users\\Pavillon Plus\\AppData\\Local\\Temp\\ipykernel_15452\\</span><span style=\"color: #808000; text-decoration-color: #808000; font-weight: bold\">1448036441.</span><span style=\"color: #808000; text-decoration-color: #808000; font-weight: bold\">py:</span><span style=\"color: #808000; text-decoration-color: #808000; font-weight: bold\">12</span><span style=\"color: #808000; text-decoration-color: #808000; font-weight: bold\"> FutureWarning</span><span style=\"color: #808000; text-decoration-color: #808000\">: </span><span style=\"color: #808000; text-decoration-color: #808000\">'H'</span><span style=\"color: #808000; text-decoration-color: #808000\"> is deprecated and will be removed in a future version, please use </span><span style=\"color: #808000; text-decoration-color: #808000\">'h'</span><span style=\"color: #808000; text-decoration-color: #808000\"> instead.</span>\n",
       "</pre>\n"
      ],
      "text/plain": [
       "\u001b[1;33mC:\\Users\\Pavillon Plus\\AppData\\Local\\Temp\\ipykernel_15452\\\u001b[0m\u001b[1;33m1448036441.\u001b[0m\u001b[1;33mpy:\u001b[0m\u001b[1;33m12\u001b[0m\u001b[1;33m FutureWarning\u001b[0m\u001b[33m: \u001b[0m\u001b[33m'H'\u001b[0m\u001b[33m is deprecated and will be removed in a future version, please use \u001b[0m\u001b[33m'h'\u001b[0m\u001b[33m instead.\u001b[0m\n"
      ]
     },
     "metadata": {},
     "output_type": "display_data"
    },
    {
     "data": {
      "text/html": [
       "<pre style=\"white-space:pre;overflow-x:auto;line-height:normal;font-family:Menlo,'DejaVu Sans Mono',consolas,'Courier New',monospace\"><span style=\"color: #808000; text-decoration-color: #808000; font-weight: bold\">C:\\Users\\Pavillon Plus\\AppData\\Local\\Temp\\ipykernel_15452\\</span><span style=\"color: #808000; text-decoration-color: #808000; font-weight: bold\">1448036441.</span><span style=\"color: #808000; text-decoration-color: #808000; font-weight: bold\">py:</span><span style=\"color: #808000; text-decoration-color: #808000; font-weight: bold\">30</span><span style=\"color: #808000; text-decoration-color: #808000; font-weight: bold\"> DeprecationWarning</span><span style=\"color: #808000; text-decoration-color: #808000\">: DataFrameGroupBy.apply operated on the grouping columns. This behavior is deprecated, and in a future version of pandas the grouping columns will be excluded from the operation. Either pass `</span><span style=\"color: #808000; text-decoration-color: #808000\">include_groups</span><span style=\"color: #808000; text-decoration-color: #808000\">=</span><span style=\"color: #808000; text-decoration-color: #808000; font-style: italic\">False</span><span style=\"color: #808000; text-decoration-color: #808000\">` to exclude the groupings or explicitly select the grouping columns after groupby to silence this warning.</span>\n",
       "</pre>\n"
      ],
      "text/plain": [
       "\u001b[1;33mC:\\Users\\Pavillon Plus\\AppData\\Local\\Temp\\ipykernel_15452\\\u001b[0m\u001b[1;33m1448036441.\u001b[0m\u001b[1;33mpy:\u001b[0m\u001b[1;33m30\u001b[0m\u001b[1;33m DeprecationWarning\u001b[0m\u001b[33m: DataFrameGroupBy.apply operated on the grouping columns. This behavior is deprecated, and in a future version of pandas the grouping columns will be excluded from the operation. Either pass `\u001b[0m\u001b[33minclude_groups\u001b[0m\u001b[33m=\u001b[0m\u001b[3;33mFalse\u001b[0m\u001b[33m` to exclude the groupings or explicitly select the grouping columns after groupby to silence this warning.\u001b[0m\n"
      ]
     },
     "metadata": {},
     "output_type": "display_data"
    },
    {
     "data": {
      "text/html": [
       "<pre style=\"white-space:pre;overflow-x:auto;line-height:normal;font-family:Menlo,'DejaVu Sans Mono',consolas,'Courier New',monospace\"><span style=\"color: #808000; text-decoration-color: #808000; font-weight: bold\">C:\\Users\\Pavillon Plus\\AppData\\Local\\Temp\\ipykernel_15452\\</span><span style=\"color: #808000; text-decoration-color: #808000; font-weight: bold\">1448036441.</span><span style=\"color: #808000; text-decoration-color: #808000; font-weight: bold\">py:</span><span style=\"color: #808000; text-decoration-color: #808000; font-weight: bold\">45</span><span style=\"color: #808000; text-decoration-color: #808000; font-weight: bold\"> DeprecationWarning</span><span style=\"color: #808000; text-decoration-color: #808000\">: DataFrameGroupBy.apply operated on the grouping columns. This behavior is deprecated, and in a future version of pandas the grouping columns will be excluded from the operation. Either pass `</span><span style=\"color: #808000; text-decoration-color: #808000\">include_groups</span><span style=\"color: #808000; text-decoration-color: #808000\">=</span><span style=\"color: #808000; text-decoration-color: #808000; font-style: italic\">False</span><span style=\"color: #808000; text-decoration-color: #808000\">` to exclude the groupings or explicitly select the grouping columns after groupby to silence this warning.</span>\n",
       "</pre>\n"
      ],
      "text/plain": [
       "\u001b[1;33mC:\\Users\\Pavillon Plus\\AppData\\Local\\Temp\\ipykernel_15452\\\u001b[0m\u001b[1;33m1448036441.\u001b[0m\u001b[1;33mpy:\u001b[0m\u001b[1;33m45\u001b[0m\u001b[1;33m DeprecationWarning\u001b[0m\u001b[33m: DataFrameGroupBy.apply operated on the grouping columns. This behavior is deprecated, and in a future version of pandas the grouping columns will be excluded from the operation. Either pass `\u001b[0m\u001b[33minclude_groups\u001b[0m\u001b[33m=\u001b[0m\u001b[3;33mFalse\u001b[0m\u001b[33m` to exclude the groupings or explicitly select the grouping columns after groupby to silence this warning.\u001b[0m\n"
      ]
     },
     "metadata": {},
     "output_type": "display_data"
    },
    {
     "name": "stdout",
     "output_type": "stream",
     "text": [
      "Hourly aggregates saved to: hourly_aggregates\\hourly_processed_data_2024-01-20.parquet\n",
      "Processing file: processed_data_2024-01-20.parquet\n",
      "                       Hour  avg_sell_price  min_sell_price  max_sell_price  \\\n",
      "0 2024-01-20 00:00:00+00:00       66.427273           31.45           99.46   \n",
      "1 2024-01-20 01:00:00+00:00       65.938214           23.82           98.28   \n",
      "2 2024-01-20 02:00:00+00:00       66.977000           22.30           97.29   \n",
      "3 2024-01-20 03:00:00+00:00       63.704667           21.94           99.64   \n",
      "4 2024-01-20 04:00:00+00:00       67.219048           20.92           99.52   \n",
      "\n",
      "   total_sell_volume  sell_vwap  avg_buy_price  min_buy_price  max_buy_price  \\\n",
      "0            24488.0  64.874357      54.895909          22.07          93.27   \n",
      "1            28193.0  69.079166      68.643333          26.39          97.85   \n",
      "2            21491.0  70.051926      71.290714          30.53          96.71   \n",
      "3            26376.0  62.627720      49.787692          21.72          95.30   \n",
      "4            59097.0  76.112063      58.861250          22.09          97.88   \n",
      "\n",
      "   total_buy_volume   buy_vwap  \n",
      "0           23612.0  52.341434  \n",
      "1           19096.0  70.318213  \n",
      "2           16861.0  67.134273  \n",
      "3           42294.0  43.134967  \n",
      "4           20846.0  60.105928  \n"
     ]
    },
    {
     "data": {
      "text/html": [
       "<pre style=\"white-space:pre;overflow-x:auto;line-height:normal;font-family:Menlo,'DejaVu Sans Mono',consolas,'Courier New',monospace\"><span style=\"color: #808000; text-decoration-color: #808000; font-weight: bold\">C:\\Users\\Pavillon Plus\\AppData\\Local\\Temp\\ipykernel_15452\\</span><span style=\"color: #808000; text-decoration-color: #808000; font-weight: bold\">1448036441.</span><span style=\"color: #808000; text-decoration-color: #808000; font-weight: bold\">py:</span><span style=\"color: #808000; text-decoration-color: #808000; font-weight: bold\">12</span><span style=\"color: #808000; text-decoration-color: #808000; font-weight: bold\"> FutureWarning</span><span style=\"color: #808000; text-decoration-color: #808000\">: </span><span style=\"color: #808000; text-decoration-color: #808000\">'H'</span><span style=\"color: #808000; text-decoration-color: #808000\"> is deprecated and will be removed in a future version, please use </span><span style=\"color: #808000; text-decoration-color: #808000\">'h'</span><span style=\"color: #808000; text-decoration-color: #808000\"> instead.</span>\n",
       "</pre>\n"
      ],
      "text/plain": [
       "\u001b[1;33mC:\\Users\\Pavillon Plus\\AppData\\Local\\Temp\\ipykernel_15452\\\u001b[0m\u001b[1;33m1448036441.\u001b[0m\u001b[1;33mpy:\u001b[0m\u001b[1;33m12\u001b[0m\u001b[1;33m FutureWarning\u001b[0m\u001b[33m: \u001b[0m\u001b[33m'H'\u001b[0m\u001b[33m is deprecated and will be removed in a future version, please use \u001b[0m\u001b[33m'h'\u001b[0m\u001b[33m instead.\u001b[0m\n"
      ]
     },
     "metadata": {},
     "output_type": "display_data"
    },
    {
     "data": {
      "text/html": [
       "<pre style=\"white-space:pre;overflow-x:auto;line-height:normal;font-family:Menlo,'DejaVu Sans Mono',consolas,'Courier New',monospace\"><span style=\"color: #808000; text-decoration-color: #808000; font-weight: bold\">C:\\Users\\Pavillon Plus\\AppData\\Local\\Temp\\ipykernel_15452\\</span><span style=\"color: #808000; text-decoration-color: #808000; font-weight: bold\">1448036441.</span><span style=\"color: #808000; text-decoration-color: #808000; font-weight: bold\">py:</span><span style=\"color: #808000; text-decoration-color: #808000; font-weight: bold\">30</span><span style=\"color: #808000; text-decoration-color: #808000; font-weight: bold\"> DeprecationWarning</span><span style=\"color: #808000; text-decoration-color: #808000\">: DataFrameGroupBy.apply operated on the grouping columns. This behavior is deprecated, and in a future version of pandas the grouping columns will be excluded from the operation. Either pass `</span><span style=\"color: #808000; text-decoration-color: #808000\">include_groups</span><span style=\"color: #808000; text-decoration-color: #808000\">=</span><span style=\"color: #808000; text-decoration-color: #808000; font-style: italic\">False</span><span style=\"color: #808000; text-decoration-color: #808000\">` to exclude the groupings or explicitly select the grouping columns after groupby to silence this warning.</span>\n",
       "</pre>\n"
      ],
      "text/plain": [
       "\u001b[1;33mC:\\Users\\Pavillon Plus\\AppData\\Local\\Temp\\ipykernel_15452\\\u001b[0m\u001b[1;33m1448036441.\u001b[0m\u001b[1;33mpy:\u001b[0m\u001b[1;33m30\u001b[0m\u001b[1;33m DeprecationWarning\u001b[0m\u001b[33m: DataFrameGroupBy.apply operated on the grouping columns. This behavior is deprecated, and in a future version of pandas the grouping columns will be excluded from the operation. Either pass `\u001b[0m\u001b[33minclude_groups\u001b[0m\u001b[33m=\u001b[0m\u001b[3;33mFalse\u001b[0m\u001b[33m` to exclude the groupings or explicitly select the grouping columns after groupby to silence this warning.\u001b[0m\n"
      ]
     },
     "metadata": {},
     "output_type": "display_data"
    },
    {
     "data": {
      "text/html": [
       "<pre style=\"white-space:pre;overflow-x:auto;line-height:normal;font-family:Menlo,'DejaVu Sans Mono',consolas,'Courier New',monospace\"><span style=\"color: #808000; text-decoration-color: #808000; font-weight: bold\">C:\\Users\\Pavillon Plus\\AppData\\Local\\Temp\\ipykernel_15452\\</span><span style=\"color: #808000; text-decoration-color: #808000; font-weight: bold\">1448036441.</span><span style=\"color: #808000; text-decoration-color: #808000; font-weight: bold\">py:</span><span style=\"color: #808000; text-decoration-color: #808000; font-weight: bold\">45</span><span style=\"color: #808000; text-decoration-color: #808000; font-weight: bold\"> DeprecationWarning</span><span style=\"color: #808000; text-decoration-color: #808000\">: DataFrameGroupBy.apply operated on the grouping columns. This behavior is deprecated, and in a future version of pandas the grouping columns will be excluded from the operation. Either pass `</span><span style=\"color: #808000; text-decoration-color: #808000\">include_groups</span><span style=\"color: #808000; text-decoration-color: #808000\">=</span><span style=\"color: #808000; text-decoration-color: #808000; font-style: italic\">False</span><span style=\"color: #808000; text-decoration-color: #808000\">` to exclude the groupings or explicitly select the grouping columns after groupby to silence this warning.</span>\n",
       "</pre>\n"
      ],
      "text/plain": [
       "\u001b[1;33mC:\\Users\\Pavillon Plus\\AppData\\Local\\Temp\\ipykernel_15452\\\u001b[0m\u001b[1;33m1448036441.\u001b[0m\u001b[1;33mpy:\u001b[0m\u001b[1;33m45\u001b[0m\u001b[1;33m DeprecationWarning\u001b[0m\u001b[33m: DataFrameGroupBy.apply operated on the grouping columns. This behavior is deprecated, and in a future version of pandas the grouping columns will be excluded from the operation. Either pass `\u001b[0m\u001b[33minclude_groups\u001b[0m\u001b[33m=\u001b[0m\u001b[3;33mFalse\u001b[0m\u001b[33m` to exclude the groupings or explicitly select the grouping columns after groupby to silence this warning.\u001b[0m\n"
      ]
     },
     "metadata": {},
     "output_type": "display_data"
    },
    {
     "name": "stdout",
     "output_type": "stream",
     "text": [
      "Hourly aggregates saved to: hourly_aggregates\\hourly_processed_data_2024-01-21.parquet\n",
      "Processing file: processed_data_2024-01-21.parquet\n",
      "                       Hour  avg_sell_price  min_sell_price  max_sell_price  \\\n",
      "0 2024-01-21 00:00:00+00:00       54.736400           25.30           98.97   \n",
      "1 2024-01-21 01:00:00+00:00       60.279310           21.05           99.54   \n",
      "2 2024-01-21 02:00:00+00:00       57.744444           25.96           98.82   \n",
      "3 2024-01-21 03:00:00+00:00       63.009231           25.42           98.25   \n",
      "4 2024-01-21 04:00:00+00:00       50.297500           21.87           99.00   \n",
      "\n",
      "   total_sell_volume  sell_vwap  avg_buy_price  min_buy_price  max_buy_price  \\\n",
      "0            24822.0  53.134462      59.748889          23.30          97.78   \n",
      "1            41366.0  64.162591      61.815417          24.84          96.08   \n",
      "2            21110.0  54.713900      63.057200          23.88          97.52   \n",
      "3            31222.0  61.166393      62.576800          21.03          96.40   \n",
      "4            16884.0  55.492133      60.222105          23.82          99.45   \n",
      "\n",
      "   total_buy_volume   buy_vwap  \n",
      "0           16611.0  56.833623  \n",
      "1           22842.0  61.064162  \n",
      "2           23120.0  62.991257  \n",
      "3           28471.0  60.316227  \n",
      "4           19420.0  60.542056  \n"
     ]
    },
    {
     "data": {
      "text/html": [
       "<pre style=\"white-space:pre;overflow-x:auto;line-height:normal;font-family:Menlo,'DejaVu Sans Mono',consolas,'Courier New',monospace\"><span style=\"color: #808000; text-decoration-color: #808000; font-weight: bold\">C:\\Users\\Pavillon Plus\\AppData\\Local\\Temp\\ipykernel_15452\\</span><span style=\"color: #808000; text-decoration-color: #808000; font-weight: bold\">1448036441.</span><span style=\"color: #808000; text-decoration-color: #808000; font-weight: bold\">py:</span><span style=\"color: #808000; text-decoration-color: #808000; font-weight: bold\">12</span><span style=\"color: #808000; text-decoration-color: #808000; font-weight: bold\"> FutureWarning</span><span style=\"color: #808000; text-decoration-color: #808000\">: </span><span style=\"color: #808000; text-decoration-color: #808000\">'H'</span><span style=\"color: #808000; text-decoration-color: #808000\"> is deprecated and will be removed in a future version, please use </span><span style=\"color: #808000; text-decoration-color: #808000\">'h'</span><span style=\"color: #808000; text-decoration-color: #808000\"> instead.</span>\n",
       "</pre>\n"
      ],
      "text/plain": [
       "\u001b[1;33mC:\\Users\\Pavillon Plus\\AppData\\Local\\Temp\\ipykernel_15452\\\u001b[0m\u001b[1;33m1448036441.\u001b[0m\u001b[1;33mpy:\u001b[0m\u001b[1;33m12\u001b[0m\u001b[1;33m FutureWarning\u001b[0m\u001b[33m: \u001b[0m\u001b[33m'H'\u001b[0m\u001b[33m is deprecated and will be removed in a future version, please use \u001b[0m\u001b[33m'h'\u001b[0m\u001b[33m instead.\u001b[0m\n"
      ]
     },
     "metadata": {},
     "output_type": "display_data"
    },
    {
     "data": {
      "text/html": [
       "<pre style=\"white-space:pre;overflow-x:auto;line-height:normal;font-family:Menlo,'DejaVu Sans Mono',consolas,'Courier New',monospace\"><span style=\"color: #808000; text-decoration-color: #808000; font-weight: bold\">C:\\Users\\Pavillon Plus\\AppData\\Local\\Temp\\ipykernel_15452\\</span><span style=\"color: #808000; text-decoration-color: #808000; font-weight: bold\">1448036441.</span><span style=\"color: #808000; text-decoration-color: #808000; font-weight: bold\">py:</span><span style=\"color: #808000; text-decoration-color: #808000; font-weight: bold\">30</span><span style=\"color: #808000; text-decoration-color: #808000; font-weight: bold\"> DeprecationWarning</span><span style=\"color: #808000; text-decoration-color: #808000\">: DataFrameGroupBy.apply operated on the grouping columns. This behavior is deprecated, and in a future version of pandas the grouping columns will be excluded from the operation. Either pass `</span><span style=\"color: #808000; text-decoration-color: #808000\">include_groups</span><span style=\"color: #808000; text-decoration-color: #808000\">=</span><span style=\"color: #808000; text-decoration-color: #808000; font-style: italic\">False</span><span style=\"color: #808000; text-decoration-color: #808000\">` to exclude the groupings or explicitly select the grouping columns after groupby to silence this warning.</span>\n",
       "</pre>\n"
      ],
      "text/plain": [
       "\u001b[1;33mC:\\Users\\Pavillon Plus\\AppData\\Local\\Temp\\ipykernel_15452\\\u001b[0m\u001b[1;33m1448036441.\u001b[0m\u001b[1;33mpy:\u001b[0m\u001b[1;33m30\u001b[0m\u001b[1;33m DeprecationWarning\u001b[0m\u001b[33m: DataFrameGroupBy.apply operated on the grouping columns. This behavior is deprecated, and in a future version of pandas the grouping columns will be excluded from the operation. Either pass `\u001b[0m\u001b[33minclude_groups\u001b[0m\u001b[33m=\u001b[0m\u001b[3;33mFalse\u001b[0m\u001b[33m` to exclude the groupings or explicitly select the grouping columns after groupby to silence this warning.\u001b[0m\n"
      ]
     },
     "metadata": {},
     "output_type": "display_data"
    },
    {
     "data": {
      "text/html": [
       "<pre style=\"white-space:pre;overflow-x:auto;line-height:normal;font-family:Menlo,'DejaVu Sans Mono',consolas,'Courier New',monospace\"><span style=\"color: #808000; text-decoration-color: #808000; font-weight: bold\">C:\\Users\\Pavillon Plus\\AppData\\Local\\Temp\\ipykernel_15452\\</span><span style=\"color: #808000; text-decoration-color: #808000; font-weight: bold\">1448036441.</span><span style=\"color: #808000; text-decoration-color: #808000; font-weight: bold\">py:</span><span style=\"color: #808000; text-decoration-color: #808000; font-weight: bold\">45</span><span style=\"color: #808000; text-decoration-color: #808000; font-weight: bold\"> DeprecationWarning</span><span style=\"color: #808000; text-decoration-color: #808000\">: DataFrameGroupBy.apply operated on the grouping columns. This behavior is deprecated, and in a future version of pandas the grouping columns will be excluded from the operation. Either pass `</span><span style=\"color: #808000; text-decoration-color: #808000\">include_groups</span><span style=\"color: #808000; text-decoration-color: #808000\">=</span><span style=\"color: #808000; text-decoration-color: #808000; font-style: italic\">False</span><span style=\"color: #808000; text-decoration-color: #808000\">` to exclude the groupings or explicitly select the grouping columns after groupby to silence this warning.</span>\n",
       "</pre>\n"
      ],
      "text/plain": [
       "\u001b[1;33mC:\\Users\\Pavillon Plus\\AppData\\Local\\Temp\\ipykernel_15452\\\u001b[0m\u001b[1;33m1448036441.\u001b[0m\u001b[1;33mpy:\u001b[0m\u001b[1;33m45\u001b[0m\u001b[1;33m DeprecationWarning\u001b[0m\u001b[33m: DataFrameGroupBy.apply operated on the grouping columns. This behavior is deprecated, and in a future version of pandas the grouping columns will be excluded from the operation. Either pass `\u001b[0m\u001b[33minclude_groups\u001b[0m\u001b[33m=\u001b[0m\u001b[3;33mFalse\u001b[0m\u001b[33m` to exclude the groupings or explicitly select the grouping columns after groupby to silence this warning.\u001b[0m\n"
      ]
     },
     "metadata": {},
     "output_type": "display_data"
    },
    {
     "name": "stdout",
     "output_type": "stream",
     "text": [
      "Hourly aggregates saved to: hourly_aggregates\\hourly_processed_data_2024-01-22.parquet\n",
      "Processing file: processed_data_2024-01-22.parquet\n",
      "                       Hour  avg_sell_price  min_sell_price  max_sell_price  \\\n",
      "0 2024-01-22 00:00:00+00:00       55.200769           24.88           93.50   \n",
      "1 2024-01-22 01:00:00+00:00       58.886111           21.30           98.56   \n",
      "2 2024-01-22 02:00:00+00:00       61.860000           24.14           97.33   \n",
      "3 2024-01-22 03:00:00+00:00       56.923103           25.57           99.92   \n",
      "4 2024-01-22 04:00:00+00:00       60.264706           20.57           99.76   \n",
      "\n",
      "   total_sell_volume  sell_vwap  avg_buy_price  min_buy_price  max_buy_price  \\\n",
      "0            17842.0  53.079398      57.690476          21.02          99.87   \n",
      "1            18212.0  60.960925      64.877742          21.25          98.41   \n",
      "2            23267.0  59.261873      57.699524          21.56          94.21   \n",
      "3            57044.0  54.467242      54.064444          20.86          99.39   \n",
      "4            19019.0  60.547309      55.236923          22.72          97.94   \n",
      "\n",
      "   total_buy_volume   buy_vwap  \n",
      "0           18345.0  63.648589  \n",
      "1           33247.0  67.569659  \n",
      "2           19242.0  59.176093  \n",
      "3           18598.0  59.592451  \n",
      "4           31952.0  57.493123  \n"
     ]
    },
    {
     "data": {
      "text/html": [
       "<pre style=\"white-space:pre;overflow-x:auto;line-height:normal;font-family:Menlo,'DejaVu Sans Mono',consolas,'Courier New',monospace\"><span style=\"color: #808000; text-decoration-color: #808000; font-weight: bold\">C:\\Users\\Pavillon Plus\\AppData\\Local\\Temp\\ipykernel_15452\\</span><span style=\"color: #808000; text-decoration-color: #808000; font-weight: bold\">1448036441.</span><span style=\"color: #808000; text-decoration-color: #808000; font-weight: bold\">py:</span><span style=\"color: #808000; text-decoration-color: #808000; font-weight: bold\">12</span><span style=\"color: #808000; text-decoration-color: #808000; font-weight: bold\"> FutureWarning</span><span style=\"color: #808000; text-decoration-color: #808000\">: </span><span style=\"color: #808000; text-decoration-color: #808000\">'H'</span><span style=\"color: #808000; text-decoration-color: #808000\"> is deprecated and will be removed in a future version, please use </span><span style=\"color: #808000; text-decoration-color: #808000\">'h'</span><span style=\"color: #808000; text-decoration-color: #808000\"> instead.</span>\n",
       "</pre>\n"
      ],
      "text/plain": [
       "\u001b[1;33mC:\\Users\\Pavillon Plus\\AppData\\Local\\Temp\\ipykernel_15452\\\u001b[0m\u001b[1;33m1448036441.\u001b[0m\u001b[1;33mpy:\u001b[0m\u001b[1;33m12\u001b[0m\u001b[1;33m FutureWarning\u001b[0m\u001b[33m: \u001b[0m\u001b[33m'H'\u001b[0m\u001b[33m is deprecated and will be removed in a future version, please use \u001b[0m\u001b[33m'h'\u001b[0m\u001b[33m instead.\u001b[0m\n"
      ]
     },
     "metadata": {},
     "output_type": "display_data"
    },
    {
     "data": {
      "text/html": [
       "<pre style=\"white-space:pre;overflow-x:auto;line-height:normal;font-family:Menlo,'DejaVu Sans Mono',consolas,'Courier New',monospace\"><span style=\"color: #808000; text-decoration-color: #808000; font-weight: bold\">C:\\Users\\Pavillon Plus\\AppData\\Local\\Temp\\ipykernel_15452\\</span><span style=\"color: #808000; text-decoration-color: #808000; font-weight: bold\">1448036441.</span><span style=\"color: #808000; text-decoration-color: #808000; font-weight: bold\">py:</span><span style=\"color: #808000; text-decoration-color: #808000; font-weight: bold\">30</span><span style=\"color: #808000; text-decoration-color: #808000; font-weight: bold\"> DeprecationWarning</span><span style=\"color: #808000; text-decoration-color: #808000\">: DataFrameGroupBy.apply operated on the grouping columns. This behavior is deprecated, and in a future version of pandas the grouping columns will be excluded from the operation. Either pass `</span><span style=\"color: #808000; text-decoration-color: #808000\">include_groups</span><span style=\"color: #808000; text-decoration-color: #808000\">=</span><span style=\"color: #808000; text-decoration-color: #808000; font-style: italic\">False</span><span style=\"color: #808000; text-decoration-color: #808000\">` to exclude the groupings or explicitly select the grouping columns after groupby to silence this warning.</span>\n",
       "</pre>\n"
      ],
      "text/plain": [
       "\u001b[1;33mC:\\Users\\Pavillon Plus\\AppData\\Local\\Temp\\ipykernel_15452\\\u001b[0m\u001b[1;33m1448036441.\u001b[0m\u001b[1;33mpy:\u001b[0m\u001b[1;33m30\u001b[0m\u001b[1;33m DeprecationWarning\u001b[0m\u001b[33m: DataFrameGroupBy.apply operated on the grouping columns. This behavior is deprecated, and in a future version of pandas the grouping columns will be excluded from the operation. Either pass `\u001b[0m\u001b[33minclude_groups\u001b[0m\u001b[33m=\u001b[0m\u001b[3;33mFalse\u001b[0m\u001b[33m` to exclude the groupings or explicitly select the grouping columns after groupby to silence this warning.\u001b[0m\n"
      ]
     },
     "metadata": {},
     "output_type": "display_data"
    },
    {
     "data": {
      "text/html": [
       "<pre style=\"white-space:pre;overflow-x:auto;line-height:normal;font-family:Menlo,'DejaVu Sans Mono',consolas,'Courier New',monospace\"><span style=\"color: #808000; text-decoration-color: #808000; font-weight: bold\">C:\\Users\\Pavillon Plus\\AppData\\Local\\Temp\\ipykernel_15452\\</span><span style=\"color: #808000; text-decoration-color: #808000; font-weight: bold\">1448036441.</span><span style=\"color: #808000; text-decoration-color: #808000; font-weight: bold\">py:</span><span style=\"color: #808000; text-decoration-color: #808000; font-weight: bold\">45</span><span style=\"color: #808000; text-decoration-color: #808000; font-weight: bold\"> DeprecationWarning</span><span style=\"color: #808000; text-decoration-color: #808000\">: DataFrameGroupBy.apply operated on the grouping columns. This behavior is deprecated, and in a future version of pandas the grouping columns will be excluded from the operation. Either pass `</span><span style=\"color: #808000; text-decoration-color: #808000\">include_groups</span><span style=\"color: #808000; text-decoration-color: #808000\">=</span><span style=\"color: #808000; text-decoration-color: #808000; font-style: italic\">False</span><span style=\"color: #808000; text-decoration-color: #808000\">` to exclude the groupings or explicitly select the grouping columns after groupby to silence this warning.</span>\n",
       "</pre>\n"
      ],
      "text/plain": [
       "\u001b[1;33mC:\\Users\\Pavillon Plus\\AppData\\Local\\Temp\\ipykernel_15452\\\u001b[0m\u001b[1;33m1448036441.\u001b[0m\u001b[1;33mpy:\u001b[0m\u001b[1;33m45\u001b[0m\u001b[1;33m DeprecationWarning\u001b[0m\u001b[33m: DataFrameGroupBy.apply operated on the grouping columns. This behavior is deprecated, and in a future version of pandas the grouping columns will be excluded from the operation. Either pass `\u001b[0m\u001b[33minclude_groups\u001b[0m\u001b[33m=\u001b[0m\u001b[3;33mFalse\u001b[0m\u001b[33m` to exclude the groupings or explicitly select the grouping columns after groupby to silence this warning.\u001b[0m\n"
      ]
     },
     "metadata": {},
     "output_type": "display_data"
    },
    {
     "name": "stdout",
     "output_type": "stream",
     "text": [
      "Hourly aggregates saved to: hourly_aggregates\\hourly_processed_data_2024-01-23.parquet\n",
      "Processing file: processed_data_2024-01-23.parquet\n",
      "                       Hour  avg_sell_price  min_sell_price  max_sell_price  \\\n",
      "0 2024-01-23 00:00:00+00:00       66.362941           28.06           97.27   \n",
      "1 2024-01-23 01:00:00+00:00       57.399200           22.32           98.94   \n",
      "2 2024-01-23 02:00:00+00:00       56.743846           22.51           89.40   \n",
      "3 2024-01-23 03:00:00+00:00       60.383500           20.17           99.27   \n",
      "4 2024-01-23 04:00:00+00:00       61.184138           23.18           97.98   \n",
      "\n",
      "   total_sell_volume  sell_vwap  avg_buy_price  min_buy_price  max_buy_price  \\\n",
      "0            18838.0  66.541159      68.617273          32.01          99.95   \n",
      "1            29271.0  56.677368      59.567826          27.24          99.55   \n",
      "2            12918.0  56.585777      62.331176          21.85          99.82   \n",
      "3            21585.0  61.927767      50.703333          28.62          81.04   \n",
      "4            38619.0  59.906173      61.080000          27.11          96.34   \n",
      "\n",
      "   total_buy_volume   buy_vwap  \n",
      "0           11364.0  73.715194  \n",
      "1           20901.0  61.645838  \n",
      "2           19569.0  58.443752  \n",
      "3           18953.0  52.203814  \n",
      "4           25394.0  64.251374  \n"
     ]
    },
    {
     "data": {
      "text/html": [
       "<pre style=\"white-space:pre;overflow-x:auto;line-height:normal;font-family:Menlo,'DejaVu Sans Mono',consolas,'Courier New',monospace\"><span style=\"color: #808000; text-decoration-color: #808000; font-weight: bold\">C:\\Users\\Pavillon Plus\\AppData\\Local\\Temp\\ipykernel_15452\\</span><span style=\"color: #808000; text-decoration-color: #808000; font-weight: bold\">1448036441.</span><span style=\"color: #808000; text-decoration-color: #808000; font-weight: bold\">py:</span><span style=\"color: #808000; text-decoration-color: #808000; font-weight: bold\">12</span><span style=\"color: #808000; text-decoration-color: #808000; font-weight: bold\"> FutureWarning</span><span style=\"color: #808000; text-decoration-color: #808000\">: </span><span style=\"color: #808000; text-decoration-color: #808000\">'H'</span><span style=\"color: #808000; text-decoration-color: #808000\"> is deprecated and will be removed in a future version, please use </span><span style=\"color: #808000; text-decoration-color: #808000\">'h'</span><span style=\"color: #808000; text-decoration-color: #808000\"> instead.</span>\n",
       "</pre>\n"
      ],
      "text/plain": [
       "\u001b[1;33mC:\\Users\\Pavillon Plus\\AppData\\Local\\Temp\\ipykernel_15452\\\u001b[0m\u001b[1;33m1448036441.\u001b[0m\u001b[1;33mpy:\u001b[0m\u001b[1;33m12\u001b[0m\u001b[1;33m FutureWarning\u001b[0m\u001b[33m: \u001b[0m\u001b[33m'H'\u001b[0m\u001b[33m is deprecated and will be removed in a future version, please use \u001b[0m\u001b[33m'h'\u001b[0m\u001b[33m instead.\u001b[0m\n"
      ]
     },
     "metadata": {},
     "output_type": "display_data"
    },
    {
     "data": {
      "text/html": [
       "<pre style=\"white-space:pre;overflow-x:auto;line-height:normal;font-family:Menlo,'DejaVu Sans Mono',consolas,'Courier New',monospace\"><span style=\"color: #808000; text-decoration-color: #808000; font-weight: bold\">C:\\Users\\Pavillon Plus\\AppData\\Local\\Temp\\ipykernel_15452\\</span><span style=\"color: #808000; text-decoration-color: #808000; font-weight: bold\">1448036441.</span><span style=\"color: #808000; text-decoration-color: #808000; font-weight: bold\">py:</span><span style=\"color: #808000; text-decoration-color: #808000; font-weight: bold\">30</span><span style=\"color: #808000; text-decoration-color: #808000; font-weight: bold\"> DeprecationWarning</span><span style=\"color: #808000; text-decoration-color: #808000\">: DataFrameGroupBy.apply operated on the grouping columns. This behavior is deprecated, and in a future version of pandas the grouping columns will be excluded from the operation. Either pass `</span><span style=\"color: #808000; text-decoration-color: #808000\">include_groups</span><span style=\"color: #808000; text-decoration-color: #808000\">=</span><span style=\"color: #808000; text-decoration-color: #808000; font-style: italic\">False</span><span style=\"color: #808000; text-decoration-color: #808000\">` to exclude the groupings or explicitly select the grouping columns after groupby to silence this warning.</span>\n",
       "</pre>\n"
      ],
      "text/plain": [
       "\u001b[1;33mC:\\Users\\Pavillon Plus\\AppData\\Local\\Temp\\ipykernel_15452\\\u001b[0m\u001b[1;33m1448036441.\u001b[0m\u001b[1;33mpy:\u001b[0m\u001b[1;33m30\u001b[0m\u001b[1;33m DeprecationWarning\u001b[0m\u001b[33m: DataFrameGroupBy.apply operated on the grouping columns. This behavior is deprecated, and in a future version of pandas the grouping columns will be excluded from the operation. Either pass `\u001b[0m\u001b[33minclude_groups\u001b[0m\u001b[33m=\u001b[0m\u001b[3;33mFalse\u001b[0m\u001b[33m` to exclude the groupings or explicitly select the grouping columns after groupby to silence this warning.\u001b[0m\n"
      ]
     },
     "metadata": {},
     "output_type": "display_data"
    },
    {
     "data": {
      "text/html": [
       "<pre style=\"white-space:pre;overflow-x:auto;line-height:normal;font-family:Menlo,'DejaVu Sans Mono',consolas,'Courier New',monospace\"><span style=\"color: #808000; text-decoration-color: #808000; font-weight: bold\">C:\\Users\\Pavillon Plus\\AppData\\Local\\Temp\\ipykernel_15452\\</span><span style=\"color: #808000; text-decoration-color: #808000; font-weight: bold\">1448036441.</span><span style=\"color: #808000; text-decoration-color: #808000; font-weight: bold\">py:</span><span style=\"color: #808000; text-decoration-color: #808000; font-weight: bold\">45</span><span style=\"color: #808000; text-decoration-color: #808000; font-weight: bold\"> DeprecationWarning</span><span style=\"color: #808000; text-decoration-color: #808000\">: DataFrameGroupBy.apply operated on the grouping columns. This behavior is deprecated, and in a future version of pandas the grouping columns will be excluded from the operation. Either pass `</span><span style=\"color: #808000; text-decoration-color: #808000\">include_groups</span><span style=\"color: #808000; text-decoration-color: #808000\">=</span><span style=\"color: #808000; text-decoration-color: #808000; font-style: italic\">False</span><span style=\"color: #808000; text-decoration-color: #808000\">` to exclude the groupings or explicitly select the grouping columns after groupby to silence this warning.</span>\n",
       "</pre>\n"
      ],
      "text/plain": [
       "\u001b[1;33mC:\\Users\\Pavillon Plus\\AppData\\Local\\Temp\\ipykernel_15452\\\u001b[0m\u001b[1;33m1448036441.\u001b[0m\u001b[1;33mpy:\u001b[0m\u001b[1;33m45\u001b[0m\u001b[1;33m DeprecationWarning\u001b[0m\u001b[33m: DataFrameGroupBy.apply operated on the grouping columns. This behavior is deprecated, and in a future version of pandas the grouping columns will be excluded from the operation. Either pass `\u001b[0m\u001b[33minclude_groups\u001b[0m\u001b[33m=\u001b[0m\u001b[3;33mFalse\u001b[0m\u001b[33m` to exclude the groupings or explicitly select the grouping columns after groupby to silence this warning.\u001b[0m\n"
      ]
     },
     "metadata": {},
     "output_type": "display_data"
    },
    {
     "name": "stdout",
     "output_type": "stream",
     "text": [
      "Hourly aggregates saved to: hourly_aggregates\\hourly_processed_data_2024-01-24.parquet\n",
      "Processing file: processed_data_2024-01-24.parquet\n",
      "                       Hour  avg_sell_price  min_sell_price  max_sell_price  \\\n",
      "0 2024-01-24 00:00:00+00:00       66.985882           24.30           98.79   \n",
      "1 2024-01-24 01:00:00+00:00       55.821875           23.58           87.03   \n",
      "2 2024-01-24 02:00:00+00:00       59.911739           24.00           92.86   \n",
      "3 2024-01-24 03:00:00+00:00       63.479375           26.89           93.47   \n",
      "4 2024-01-24 04:00:00+00:00       80.063077           43.63           97.32   \n",
      "\n",
      "   total_sell_volume  sell_vwap  avg_buy_price  min_buy_price  max_buy_price  \\\n",
      "0            22134.0  67.883701      70.276250          32.51          99.36   \n",
      "1            20704.0  54.513120      53.912105          25.88          97.55   \n",
      "2            24409.0  59.300592      62.712500          20.85          98.43   \n",
      "3            14029.0  61.149542      66.104737          23.12          96.97   \n",
      "4            51320.0  92.041586      58.630000          23.62          96.13   \n",
      "\n",
      "   total_buy_volume   buy_vwap  \n",
      "0           15582.0  64.588762  \n",
      "1           20200.0  53.136105  \n",
      "2           26600.0  65.126169  \n",
      "3           48660.0  75.995282  \n",
      "4           23977.0  62.461707  \n"
     ]
    },
    {
     "data": {
      "text/html": [
       "<pre style=\"white-space:pre;overflow-x:auto;line-height:normal;font-family:Menlo,'DejaVu Sans Mono',consolas,'Courier New',monospace\"><span style=\"color: #808000; text-decoration-color: #808000; font-weight: bold\">C:\\Users\\Pavillon Plus\\AppData\\Local\\Temp\\ipykernel_15452\\</span><span style=\"color: #808000; text-decoration-color: #808000; font-weight: bold\">1448036441.</span><span style=\"color: #808000; text-decoration-color: #808000; font-weight: bold\">py:</span><span style=\"color: #808000; text-decoration-color: #808000; font-weight: bold\">12</span><span style=\"color: #808000; text-decoration-color: #808000; font-weight: bold\"> FutureWarning</span><span style=\"color: #808000; text-decoration-color: #808000\">: </span><span style=\"color: #808000; text-decoration-color: #808000\">'H'</span><span style=\"color: #808000; text-decoration-color: #808000\"> is deprecated and will be removed in a future version, please use </span><span style=\"color: #808000; text-decoration-color: #808000\">'h'</span><span style=\"color: #808000; text-decoration-color: #808000\"> instead.</span>\n",
       "</pre>\n"
      ],
      "text/plain": [
       "\u001b[1;33mC:\\Users\\Pavillon Plus\\AppData\\Local\\Temp\\ipykernel_15452\\\u001b[0m\u001b[1;33m1448036441.\u001b[0m\u001b[1;33mpy:\u001b[0m\u001b[1;33m12\u001b[0m\u001b[1;33m FutureWarning\u001b[0m\u001b[33m: \u001b[0m\u001b[33m'H'\u001b[0m\u001b[33m is deprecated and will be removed in a future version, please use \u001b[0m\u001b[33m'h'\u001b[0m\u001b[33m instead.\u001b[0m\n"
      ]
     },
     "metadata": {},
     "output_type": "display_data"
    },
    {
     "data": {
      "text/html": [
       "<pre style=\"white-space:pre;overflow-x:auto;line-height:normal;font-family:Menlo,'DejaVu Sans Mono',consolas,'Courier New',monospace\"><span style=\"color: #808000; text-decoration-color: #808000; font-weight: bold\">C:\\Users\\Pavillon Plus\\AppData\\Local\\Temp\\ipykernel_15452\\</span><span style=\"color: #808000; text-decoration-color: #808000; font-weight: bold\">1448036441.</span><span style=\"color: #808000; text-decoration-color: #808000; font-weight: bold\">py:</span><span style=\"color: #808000; text-decoration-color: #808000; font-weight: bold\">30</span><span style=\"color: #808000; text-decoration-color: #808000; font-weight: bold\"> DeprecationWarning</span><span style=\"color: #808000; text-decoration-color: #808000\">: DataFrameGroupBy.apply operated on the grouping columns. This behavior is deprecated, and in a future version of pandas the grouping columns will be excluded from the operation. Either pass `</span><span style=\"color: #808000; text-decoration-color: #808000\">include_groups</span><span style=\"color: #808000; text-decoration-color: #808000\">=</span><span style=\"color: #808000; text-decoration-color: #808000; font-style: italic\">False</span><span style=\"color: #808000; text-decoration-color: #808000\">` to exclude the groupings or explicitly select the grouping columns after groupby to silence this warning.</span>\n",
       "</pre>\n"
      ],
      "text/plain": [
       "\u001b[1;33mC:\\Users\\Pavillon Plus\\AppData\\Local\\Temp\\ipykernel_15452\\\u001b[0m\u001b[1;33m1448036441.\u001b[0m\u001b[1;33mpy:\u001b[0m\u001b[1;33m30\u001b[0m\u001b[1;33m DeprecationWarning\u001b[0m\u001b[33m: DataFrameGroupBy.apply operated on the grouping columns. This behavior is deprecated, and in a future version of pandas the grouping columns will be excluded from the operation. Either pass `\u001b[0m\u001b[33minclude_groups\u001b[0m\u001b[33m=\u001b[0m\u001b[3;33mFalse\u001b[0m\u001b[33m` to exclude the groupings or explicitly select the grouping columns after groupby to silence this warning.\u001b[0m\n"
      ]
     },
     "metadata": {},
     "output_type": "display_data"
    },
    {
     "data": {
      "text/html": [
       "<pre style=\"white-space:pre;overflow-x:auto;line-height:normal;font-family:Menlo,'DejaVu Sans Mono',consolas,'Courier New',monospace\"><span style=\"color: #808000; text-decoration-color: #808000; font-weight: bold\">C:\\Users\\Pavillon Plus\\AppData\\Local\\Temp\\ipykernel_15452\\</span><span style=\"color: #808000; text-decoration-color: #808000; font-weight: bold\">1448036441.</span><span style=\"color: #808000; text-decoration-color: #808000; font-weight: bold\">py:</span><span style=\"color: #808000; text-decoration-color: #808000; font-weight: bold\">45</span><span style=\"color: #808000; text-decoration-color: #808000; font-weight: bold\"> DeprecationWarning</span><span style=\"color: #808000; text-decoration-color: #808000\">: DataFrameGroupBy.apply operated on the grouping columns. This behavior is deprecated, and in a future version of pandas the grouping columns will be excluded from the operation. Either pass `</span><span style=\"color: #808000; text-decoration-color: #808000\">include_groups</span><span style=\"color: #808000; text-decoration-color: #808000\">=</span><span style=\"color: #808000; text-decoration-color: #808000; font-style: italic\">False</span><span style=\"color: #808000; text-decoration-color: #808000\">` to exclude the groupings or explicitly select the grouping columns after groupby to silence this warning.</span>\n",
       "</pre>\n"
      ],
      "text/plain": [
       "\u001b[1;33mC:\\Users\\Pavillon Plus\\AppData\\Local\\Temp\\ipykernel_15452\\\u001b[0m\u001b[1;33m1448036441.\u001b[0m\u001b[1;33mpy:\u001b[0m\u001b[1;33m45\u001b[0m\u001b[1;33m DeprecationWarning\u001b[0m\u001b[33m: DataFrameGroupBy.apply operated on the grouping columns. This behavior is deprecated, and in a future version of pandas the grouping columns will be excluded from the operation. Either pass `\u001b[0m\u001b[33minclude_groups\u001b[0m\u001b[33m=\u001b[0m\u001b[3;33mFalse\u001b[0m\u001b[33m` to exclude the groupings or explicitly select the grouping columns after groupby to silence this warning.\u001b[0m\n"
      ]
     },
     "metadata": {},
     "output_type": "display_data"
    },
    {
     "name": "stdout",
     "output_type": "stream",
     "text": [
      "Hourly aggregates saved to: hourly_aggregates\\hourly_processed_data_2024-01-25.parquet\n",
      "Processing file: processed_data_2024-01-25.parquet\n",
      "                       Hour  avg_sell_price  min_sell_price  max_sell_price  \\\n",
      "0 2024-01-25 00:00:00+00:00       62.370526           21.59           96.33   \n",
      "1 2024-01-25 01:00:00+00:00       43.106364           21.03           82.67   \n",
      "2 2024-01-25 02:00:00+00:00       56.962500           23.00           98.71   \n",
      "3 2024-01-25 03:00:00+00:00       56.796316           23.50           98.03   \n",
      "4 2024-01-25 04:00:00+00:00       60.112632           21.87           96.72   \n",
      "\n",
      "   total_sell_volume  sell_vwap  avg_buy_price  min_buy_price  max_buy_price  \\\n",
      "0            16450.0  57.259064      66.678125          34.38          99.78   \n",
      "1            12325.0  47.733283      57.257037          21.35          93.93   \n",
      "2            17085.0  49.170572      59.327222          23.35          92.78   \n",
      "3            22018.0  59.358389      48.553529          22.41          87.14   \n",
      "4            17741.0  61.041846      64.058571          22.49          96.94   \n",
      "\n",
      "   total_buy_volume   buy_vwap  \n",
      "0           16237.0  65.706663  \n",
      "1           27071.0  56.643145  \n",
      "2           20366.0  56.934824  \n",
      "3           17279.0  52.845011  \n",
      "4           19729.0  64.465184  \n"
     ]
    },
    {
     "data": {
      "text/html": [
       "<pre style=\"white-space:pre;overflow-x:auto;line-height:normal;font-family:Menlo,'DejaVu Sans Mono',consolas,'Courier New',monospace\"><span style=\"color: #808000; text-decoration-color: #808000; font-weight: bold\">C:\\Users\\Pavillon Plus\\AppData\\Local\\Temp\\ipykernel_15452\\</span><span style=\"color: #808000; text-decoration-color: #808000; font-weight: bold\">1448036441.</span><span style=\"color: #808000; text-decoration-color: #808000; font-weight: bold\">py:</span><span style=\"color: #808000; text-decoration-color: #808000; font-weight: bold\">12</span><span style=\"color: #808000; text-decoration-color: #808000; font-weight: bold\"> FutureWarning</span><span style=\"color: #808000; text-decoration-color: #808000\">: </span><span style=\"color: #808000; text-decoration-color: #808000\">'H'</span><span style=\"color: #808000; text-decoration-color: #808000\"> is deprecated and will be removed in a future version, please use </span><span style=\"color: #808000; text-decoration-color: #808000\">'h'</span><span style=\"color: #808000; text-decoration-color: #808000\"> instead.</span>\n",
       "</pre>\n"
      ],
      "text/plain": [
       "\u001b[1;33mC:\\Users\\Pavillon Plus\\AppData\\Local\\Temp\\ipykernel_15452\\\u001b[0m\u001b[1;33m1448036441.\u001b[0m\u001b[1;33mpy:\u001b[0m\u001b[1;33m12\u001b[0m\u001b[1;33m FutureWarning\u001b[0m\u001b[33m: \u001b[0m\u001b[33m'H'\u001b[0m\u001b[33m is deprecated and will be removed in a future version, please use \u001b[0m\u001b[33m'h'\u001b[0m\u001b[33m instead.\u001b[0m\n"
      ]
     },
     "metadata": {},
     "output_type": "display_data"
    },
    {
     "data": {
      "text/html": [
       "<pre style=\"white-space:pre;overflow-x:auto;line-height:normal;font-family:Menlo,'DejaVu Sans Mono',consolas,'Courier New',monospace\"><span style=\"color: #808000; text-decoration-color: #808000; font-weight: bold\">C:\\Users\\Pavillon Plus\\AppData\\Local\\Temp\\ipykernel_15452\\</span><span style=\"color: #808000; text-decoration-color: #808000; font-weight: bold\">1448036441.</span><span style=\"color: #808000; text-decoration-color: #808000; font-weight: bold\">py:</span><span style=\"color: #808000; text-decoration-color: #808000; font-weight: bold\">30</span><span style=\"color: #808000; text-decoration-color: #808000; font-weight: bold\"> DeprecationWarning</span><span style=\"color: #808000; text-decoration-color: #808000\">: DataFrameGroupBy.apply operated on the grouping columns. This behavior is deprecated, and in a future version of pandas the grouping columns will be excluded from the operation. Either pass `</span><span style=\"color: #808000; text-decoration-color: #808000\">include_groups</span><span style=\"color: #808000; text-decoration-color: #808000\">=</span><span style=\"color: #808000; text-decoration-color: #808000; font-style: italic\">False</span><span style=\"color: #808000; text-decoration-color: #808000\">` to exclude the groupings or explicitly select the grouping columns after groupby to silence this warning.</span>\n",
       "</pre>\n"
      ],
      "text/plain": [
       "\u001b[1;33mC:\\Users\\Pavillon Plus\\AppData\\Local\\Temp\\ipykernel_15452\\\u001b[0m\u001b[1;33m1448036441.\u001b[0m\u001b[1;33mpy:\u001b[0m\u001b[1;33m30\u001b[0m\u001b[1;33m DeprecationWarning\u001b[0m\u001b[33m: DataFrameGroupBy.apply operated on the grouping columns. This behavior is deprecated, and in a future version of pandas the grouping columns will be excluded from the operation. Either pass `\u001b[0m\u001b[33minclude_groups\u001b[0m\u001b[33m=\u001b[0m\u001b[3;33mFalse\u001b[0m\u001b[33m` to exclude the groupings or explicitly select the grouping columns after groupby to silence this warning.\u001b[0m\n"
      ]
     },
     "metadata": {},
     "output_type": "display_data"
    },
    {
     "data": {
      "text/html": [
       "<pre style=\"white-space:pre;overflow-x:auto;line-height:normal;font-family:Menlo,'DejaVu Sans Mono',consolas,'Courier New',monospace\"><span style=\"color: #808000; text-decoration-color: #808000; font-weight: bold\">C:\\Users\\Pavillon Plus\\AppData\\Local\\Temp\\ipykernel_15452\\</span><span style=\"color: #808000; text-decoration-color: #808000; font-weight: bold\">1448036441.</span><span style=\"color: #808000; text-decoration-color: #808000; font-weight: bold\">py:</span><span style=\"color: #808000; text-decoration-color: #808000; font-weight: bold\">45</span><span style=\"color: #808000; text-decoration-color: #808000; font-weight: bold\"> DeprecationWarning</span><span style=\"color: #808000; text-decoration-color: #808000\">: DataFrameGroupBy.apply operated on the grouping columns. This behavior is deprecated, and in a future version of pandas the grouping columns will be excluded from the operation. Either pass `</span><span style=\"color: #808000; text-decoration-color: #808000\">include_groups</span><span style=\"color: #808000; text-decoration-color: #808000\">=</span><span style=\"color: #808000; text-decoration-color: #808000; font-style: italic\">False</span><span style=\"color: #808000; text-decoration-color: #808000\">` to exclude the groupings or explicitly select the grouping columns after groupby to silence this warning.</span>\n",
       "</pre>\n"
      ],
      "text/plain": [
       "\u001b[1;33mC:\\Users\\Pavillon Plus\\AppData\\Local\\Temp\\ipykernel_15452\\\u001b[0m\u001b[1;33m1448036441.\u001b[0m\u001b[1;33mpy:\u001b[0m\u001b[1;33m45\u001b[0m\u001b[1;33m DeprecationWarning\u001b[0m\u001b[33m: DataFrameGroupBy.apply operated on the grouping columns. This behavior is deprecated, and in a future version of pandas the grouping columns will be excluded from the operation. Either pass `\u001b[0m\u001b[33minclude_groups\u001b[0m\u001b[33m=\u001b[0m\u001b[3;33mFalse\u001b[0m\u001b[33m` to exclude the groupings or explicitly select the grouping columns after groupby to silence this warning.\u001b[0m\n"
      ]
     },
     "metadata": {},
     "output_type": "display_data"
    },
    {
     "name": "stdout",
     "output_type": "stream",
     "text": [
      "Hourly aggregates saved to: hourly_aggregates\\hourly_processed_data_2024-01-26.parquet\n",
      "Processing file: processed_data_2024-01-26.parquet\n",
      "                       Hour  avg_sell_price  min_sell_price  max_sell_price  \\\n",
      "0 2024-01-26 00:00:00+00:00       55.410000           26.02           98.44   \n",
      "1 2024-01-26 01:00:00+00:00       59.678421           26.54           94.42   \n",
      "2 2024-01-26 02:00:00+00:00       57.625455           21.55           93.10   \n",
      "3 2024-01-26 03:00:00+00:00       58.453333           21.16           98.43   \n",
      "4 2024-01-26 04:00:00+00:00       51.867368           21.42           85.83   \n",
      "\n",
      "   total_sell_volume  sell_vwap  avg_buy_price  min_buy_price  max_buy_price  \\\n",
      "0            17121.0  54.349106      57.628000          21.71          96.00   \n",
      "1            21109.0  62.382164      62.375833          21.76          97.29   \n",
      "2            25250.0  62.451118      64.673158          25.90          86.55   \n",
      "3            23707.0  56.644667      51.680476          20.16          89.43   \n",
      "4            23513.0  49.655599      55.822105          21.43          90.72   \n",
      "\n",
      "   total_buy_volume   buy_vwap  \n",
      "0           20410.0  54.876576  \n",
      "1           24310.0  64.303768  \n",
      "2           20118.0  66.439619  \n",
      "3           21964.0  51.270204  \n",
      "4           19648.0  51.478202  \n"
     ]
    },
    {
     "data": {
      "text/html": [
       "<pre style=\"white-space:pre;overflow-x:auto;line-height:normal;font-family:Menlo,'DejaVu Sans Mono',consolas,'Courier New',monospace\"><span style=\"color: #808000; text-decoration-color: #808000; font-weight: bold\">C:\\Users\\Pavillon Plus\\AppData\\Local\\Temp\\ipykernel_15452\\</span><span style=\"color: #808000; text-decoration-color: #808000; font-weight: bold\">1448036441.</span><span style=\"color: #808000; text-decoration-color: #808000; font-weight: bold\">py:</span><span style=\"color: #808000; text-decoration-color: #808000; font-weight: bold\">12</span><span style=\"color: #808000; text-decoration-color: #808000; font-weight: bold\"> FutureWarning</span><span style=\"color: #808000; text-decoration-color: #808000\">: </span><span style=\"color: #808000; text-decoration-color: #808000\">'H'</span><span style=\"color: #808000; text-decoration-color: #808000\"> is deprecated and will be removed in a future version, please use </span><span style=\"color: #808000; text-decoration-color: #808000\">'h'</span><span style=\"color: #808000; text-decoration-color: #808000\"> instead.</span>\n",
       "</pre>\n"
      ],
      "text/plain": [
       "\u001b[1;33mC:\\Users\\Pavillon Plus\\AppData\\Local\\Temp\\ipykernel_15452\\\u001b[0m\u001b[1;33m1448036441.\u001b[0m\u001b[1;33mpy:\u001b[0m\u001b[1;33m12\u001b[0m\u001b[1;33m FutureWarning\u001b[0m\u001b[33m: \u001b[0m\u001b[33m'H'\u001b[0m\u001b[33m is deprecated and will be removed in a future version, please use \u001b[0m\u001b[33m'h'\u001b[0m\u001b[33m instead.\u001b[0m\n"
      ]
     },
     "metadata": {},
     "output_type": "display_data"
    },
    {
     "data": {
      "text/html": [
       "<pre style=\"white-space:pre;overflow-x:auto;line-height:normal;font-family:Menlo,'DejaVu Sans Mono',consolas,'Courier New',monospace\"><span style=\"color: #808000; text-decoration-color: #808000; font-weight: bold\">C:\\Users\\Pavillon Plus\\AppData\\Local\\Temp\\ipykernel_15452\\</span><span style=\"color: #808000; text-decoration-color: #808000; font-weight: bold\">1448036441.</span><span style=\"color: #808000; text-decoration-color: #808000; font-weight: bold\">py:</span><span style=\"color: #808000; text-decoration-color: #808000; font-weight: bold\">30</span><span style=\"color: #808000; text-decoration-color: #808000; font-weight: bold\"> DeprecationWarning</span><span style=\"color: #808000; text-decoration-color: #808000\">: DataFrameGroupBy.apply operated on the grouping columns. This behavior is deprecated, and in a future version of pandas the grouping columns will be excluded from the operation. Either pass `</span><span style=\"color: #808000; text-decoration-color: #808000\">include_groups</span><span style=\"color: #808000; text-decoration-color: #808000\">=</span><span style=\"color: #808000; text-decoration-color: #808000; font-style: italic\">False</span><span style=\"color: #808000; text-decoration-color: #808000\">` to exclude the groupings or explicitly select the grouping columns after groupby to silence this warning.</span>\n",
       "</pre>\n"
      ],
      "text/plain": [
       "\u001b[1;33mC:\\Users\\Pavillon Plus\\AppData\\Local\\Temp\\ipykernel_15452\\\u001b[0m\u001b[1;33m1448036441.\u001b[0m\u001b[1;33mpy:\u001b[0m\u001b[1;33m30\u001b[0m\u001b[1;33m DeprecationWarning\u001b[0m\u001b[33m: DataFrameGroupBy.apply operated on the grouping columns. This behavior is deprecated, and in a future version of pandas the grouping columns will be excluded from the operation. Either pass `\u001b[0m\u001b[33minclude_groups\u001b[0m\u001b[33m=\u001b[0m\u001b[3;33mFalse\u001b[0m\u001b[33m` to exclude the groupings or explicitly select the grouping columns after groupby to silence this warning.\u001b[0m\n"
      ]
     },
     "metadata": {},
     "output_type": "display_data"
    },
    {
     "data": {
      "text/html": [
       "<pre style=\"white-space:pre;overflow-x:auto;line-height:normal;font-family:Menlo,'DejaVu Sans Mono',consolas,'Courier New',monospace\"><span style=\"color: #808000; text-decoration-color: #808000; font-weight: bold\">C:\\Users\\Pavillon Plus\\AppData\\Local\\Temp\\ipykernel_15452\\</span><span style=\"color: #808000; text-decoration-color: #808000; font-weight: bold\">1448036441.</span><span style=\"color: #808000; text-decoration-color: #808000; font-weight: bold\">py:</span><span style=\"color: #808000; text-decoration-color: #808000; font-weight: bold\">45</span><span style=\"color: #808000; text-decoration-color: #808000; font-weight: bold\"> DeprecationWarning</span><span style=\"color: #808000; text-decoration-color: #808000\">: DataFrameGroupBy.apply operated on the grouping columns. This behavior is deprecated, and in a future version of pandas the grouping columns will be excluded from the operation. Either pass `</span><span style=\"color: #808000; text-decoration-color: #808000\">include_groups</span><span style=\"color: #808000; text-decoration-color: #808000\">=</span><span style=\"color: #808000; text-decoration-color: #808000; font-style: italic\">False</span><span style=\"color: #808000; text-decoration-color: #808000\">` to exclude the groupings or explicitly select the grouping columns after groupby to silence this warning.</span>\n",
       "</pre>\n"
      ],
      "text/plain": [
       "\u001b[1;33mC:\\Users\\Pavillon Plus\\AppData\\Local\\Temp\\ipykernel_15452\\\u001b[0m\u001b[1;33m1448036441.\u001b[0m\u001b[1;33mpy:\u001b[0m\u001b[1;33m45\u001b[0m\u001b[1;33m DeprecationWarning\u001b[0m\u001b[33m: DataFrameGroupBy.apply operated on the grouping columns. This behavior is deprecated, and in a future version of pandas the grouping columns will be excluded from the operation. Either pass `\u001b[0m\u001b[33minclude_groups\u001b[0m\u001b[33m=\u001b[0m\u001b[3;33mFalse\u001b[0m\u001b[33m` to exclude the groupings or explicitly select the grouping columns after groupby to silence this warning.\u001b[0m\n"
      ]
     },
     "metadata": {},
     "output_type": "display_data"
    },
    {
     "name": "stdout",
     "output_type": "stream",
     "text": [
      "Hourly aggregates saved to: hourly_aggregates\\hourly_processed_data_2024-01-27.parquet\n",
      "Processing file: processed_data_2024-01-27.parquet\n",
      "                       Hour  avg_sell_price  min_sell_price  max_sell_price  \\\n",
      "0 2024-01-27 00:00:00+00:00       65.914762           23.41           98.64   \n",
      "1 2024-01-27 01:00:00+00:00       56.719583           21.06           97.29   \n",
      "2 2024-01-27 02:00:00+00:00       68.775333           30.35           93.64   \n",
      "3 2024-01-27 03:00:00+00:00       61.695909           24.79           98.86   \n",
      "4 2024-01-27 04:00:00+00:00       71.589565           29.05           99.43   \n",
      "\n",
      "   total_sell_volume  sell_vwap  avg_buy_price  min_buy_price  max_buy_price  \\\n",
      "0            19469.0  69.136728      63.447778          20.41          97.45   \n",
      "1            24462.0  57.736195      56.098000          30.45          94.09   \n",
      "2            14919.0  63.484393      62.476667          21.69          99.56   \n",
      "3            24974.0  61.370649      68.890000          21.14          99.31   \n",
      "4            23922.0  71.737685      64.458750          21.59          98.62   \n",
      "\n",
      "   total_buy_volume   buy_vwap  \n",
      "0           19299.0  64.670356  \n",
      "1           22761.0  56.308130  \n",
      "2           60834.0  61.028702  \n",
      "3           17973.0  65.003599  \n",
      "4           17178.0  63.081732  \n"
     ]
    },
    {
     "data": {
      "text/html": [
       "<pre style=\"white-space:pre;overflow-x:auto;line-height:normal;font-family:Menlo,'DejaVu Sans Mono',consolas,'Courier New',monospace\"><span style=\"color: #808000; text-decoration-color: #808000; font-weight: bold\">C:\\Users\\Pavillon Plus\\AppData\\Local\\Temp\\ipykernel_15452\\</span><span style=\"color: #808000; text-decoration-color: #808000; font-weight: bold\">1448036441.</span><span style=\"color: #808000; text-decoration-color: #808000; font-weight: bold\">py:</span><span style=\"color: #808000; text-decoration-color: #808000; font-weight: bold\">12</span><span style=\"color: #808000; text-decoration-color: #808000; font-weight: bold\"> FutureWarning</span><span style=\"color: #808000; text-decoration-color: #808000\">: </span><span style=\"color: #808000; text-decoration-color: #808000\">'H'</span><span style=\"color: #808000; text-decoration-color: #808000\"> is deprecated and will be removed in a future version, please use </span><span style=\"color: #808000; text-decoration-color: #808000\">'h'</span><span style=\"color: #808000; text-decoration-color: #808000\"> instead.</span>\n",
       "</pre>\n"
      ],
      "text/plain": [
       "\u001b[1;33mC:\\Users\\Pavillon Plus\\AppData\\Local\\Temp\\ipykernel_15452\\\u001b[0m\u001b[1;33m1448036441.\u001b[0m\u001b[1;33mpy:\u001b[0m\u001b[1;33m12\u001b[0m\u001b[1;33m FutureWarning\u001b[0m\u001b[33m: \u001b[0m\u001b[33m'H'\u001b[0m\u001b[33m is deprecated and will be removed in a future version, please use \u001b[0m\u001b[33m'h'\u001b[0m\u001b[33m instead.\u001b[0m\n"
      ]
     },
     "metadata": {},
     "output_type": "display_data"
    },
    {
     "data": {
      "text/html": [
       "<pre style=\"white-space:pre;overflow-x:auto;line-height:normal;font-family:Menlo,'DejaVu Sans Mono',consolas,'Courier New',monospace\"><span style=\"color: #808000; text-decoration-color: #808000; font-weight: bold\">C:\\Users\\Pavillon Plus\\AppData\\Local\\Temp\\ipykernel_15452\\</span><span style=\"color: #808000; text-decoration-color: #808000; font-weight: bold\">1448036441.</span><span style=\"color: #808000; text-decoration-color: #808000; font-weight: bold\">py:</span><span style=\"color: #808000; text-decoration-color: #808000; font-weight: bold\">30</span><span style=\"color: #808000; text-decoration-color: #808000; font-weight: bold\"> DeprecationWarning</span><span style=\"color: #808000; text-decoration-color: #808000\">: DataFrameGroupBy.apply operated on the grouping columns. This behavior is deprecated, and in a future version of pandas the grouping columns will be excluded from the operation. Either pass `</span><span style=\"color: #808000; text-decoration-color: #808000\">include_groups</span><span style=\"color: #808000; text-decoration-color: #808000\">=</span><span style=\"color: #808000; text-decoration-color: #808000; font-style: italic\">False</span><span style=\"color: #808000; text-decoration-color: #808000\">` to exclude the groupings or explicitly select the grouping columns after groupby to silence this warning.</span>\n",
       "</pre>\n"
      ],
      "text/plain": [
       "\u001b[1;33mC:\\Users\\Pavillon Plus\\AppData\\Local\\Temp\\ipykernel_15452\\\u001b[0m\u001b[1;33m1448036441.\u001b[0m\u001b[1;33mpy:\u001b[0m\u001b[1;33m30\u001b[0m\u001b[1;33m DeprecationWarning\u001b[0m\u001b[33m: DataFrameGroupBy.apply operated on the grouping columns. This behavior is deprecated, and in a future version of pandas the grouping columns will be excluded from the operation. Either pass `\u001b[0m\u001b[33minclude_groups\u001b[0m\u001b[33m=\u001b[0m\u001b[3;33mFalse\u001b[0m\u001b[33m` to exclude the groupings or explicitly select the grouping columns after groupby to silence this warning.\u001b[0m\n"
      ]
     },
     "metadata": {},
     "output_type": "display_data"
    },
    {
     "data": {
      "text/html": [
       "<pre style=\"white-space:pre;overflow-x:auto;line-height:normal;font-family:Menlo,'DejaVu Sans Mono',consolas,'Courier New',monospace\"><span style=\"color: #808000; text-decoration-color: #808000; font-weight: bold\">C:\\Users\\Pavillon Plus\\AppData\\Local\\Temp\\ipykernel_15452\\</span><span style=\"color: #808000; text-decoration-color: #808000; font-weight: bold\">1448036441.</span><span style=\"color: #808000; text-decoration-color: #808000; font-weight: bold\">py:</span><span style=\"color: #808000; text-decoration-color: #808000; font-weight: bold\">45</span><span style=\"color: #808000; text-decoration-color: #808000; font-weight: bold\"> DeprecationWarning</span><span style=\"color: #808000; text-decoration-color: #808000\">: DataFrameGroupBy.apply operated on the grouping columns. This behavior is deprecated, and in a future version of pandas the grouping columns will be excluded from the operation. Either pass `</span><span style=\"color: #808000; text-decoration-color: #808000\">include_groups</span><span style=\"color: #808000; text-decoration-color: #808000\">=</span><span style=\"color: #808000; text-decoration-color: #808000; font-style: italic\">False</span><span style=\"color: #808000; text-decoration-color: #808000\">` to exclude the groupings or explicitly select the grouping columns after groupby to silence this warning.</span>\n",
       "</pre>\n"
      ],
      "text/plain": [
       "\u001b[1;33mC:\\Users\\Pavillon Plus\\AppData\\Local\\Temp\\ipykernel_15452\\\u001b[0m\u001b[1;33m1448036441.\u001b[0m\u001b[1;33mpy:\u001b[0m\u001b[1;33m45\u001b[0m\u001b[1;33m DeprecationWarning\u001b[0m\u001b[33m: DataFrameGroupBy.apply operated on the grouping columns. This behavior is deprecated, and in a future version of pandas the grouping columns will be excluded from the operation. Either pass `\u001b[0m\u001b[33minclude_groups\u001b[0m\u001b[33m=\u001b[0m\u001b[3;33mFalse\u001b[0m\u001b[33m` to exclude the groupings or explicitly select the grouping columns after groupby to silence this warning.\u001b[0m\n"
      ]
     },
     "metadata": {},
     "output_type": "display_data"
    },
    {
     "name": "stdout",
     "output_type": "stream",
     "text": [
      "Hourly aggregates saved to: hourly_aggregates\\hourly_processed_data_2024-01-28.parquet\n",
      "Processing file: processed_data_2024-01-28.parquet\n",
      "                       Hour  avg_sell_price  min_sell_price  max_sell_price  \\\n",
      "0 2024-01-28 00:00:00+00:00       57.948696           24.55           98.73   \n",
      "1 2024-01-28 01:00:00+00:00       56.485000           23.81           87.84   \n",
      "2 2024-01-28 02:00:00+00:00       56.966250           20.55           98.30   \n",
      "3 2024-01-28 03:00:00+00:00       61.827500           27.15           82.55   \n",
      "4 2024-01-28 04:00:00+00:00       59.563846           24.00           99.90   \n",
      "\n",
      "   total_sell_volume  sell_vwap  avg_buy_price  min_buy_price  max_buy_price  \\\n",
      "0            24957.0  54.649208      53.937647          20.53          97.68   \n",
      "1            60011.0  55.620296      60.737200          20.86          96.23   \n",
      "2            20217.0  56.749942      54.778636          21.47          95.97   \n",
      "3            13588.0  60.924270      63.580476          31.98          92.75   \n",
      "4            15098.0  57.307520      62.005333          28.90          92.50   \n",
      "\n",
      "   total_buy_volume   buy_vwap  \n",
      "0           30719.0  52.220688  \n",
      "1           24757.0  60.314463  \n",
      "2           19061.0  51.968455  \n",
      "3           25042.0  63.483586  \n",
      "4           18443.0  63.298235  \n"
     ]
    },
    {
     "data": {
      "text/html": [
       "<pre style=\"white-space:pre;overflow-x:auto;line-height:normal;font-family:Menlo,'DejaVu Sans Mono',consolas,'Courier New',monospace\"><span style=\"color: #808000; text-decoration-color: #808000; font-weight: bold\">C:\\Users\\Pavillon Plus\\AppData\\Local\\Temp\\ipykernel_15452\\</span><span style=\"color: #808000; text-decoration-color: #808000; font-weight: bold\">1448036441.</span><span style=\"color: #808000; text-decoration-color: #808000; font-weight: bold\">py:</span><span style=\"color: #808000; text-decoration-color: #808000; font-weight: bold\">12</span><span style=\"color: #808000; text-decoration-color: #808000; font-weight: bold\"> FutureWarning</span><span style=\"color: #808000; text-decoration-color: #808000\">: </span><span style=\"color: #808000; text-decoration-color: #808000\">'H'</span><span style=\"color: #808000; text-decoration-color: #808000\"> is deprecated and will be removed in a future version, please use </span><span style=\"color: #808000; text-decoration-color: #808000\">'h'</span><span style=\"color: #808000; text-decoration-color: #808000\"> instead.</span>\n",
       "</pre>\n"
      ],
      "text/plain": [
       "\u001b[1;33mC:\\Users\\Pavillon Plus\\AppData\\Local\\Temp\\ipykernel_15452\\\u001b[0m\u001b[1;33m1448036441.\u001b[0m\u001b[1;33mpy:\u001b[0m\u001b[1;33m12\u001b[0m\u001b[1;33m FutureWarning\u001b[0m\u001b[33m: \u001b[0m\u001b[33m'H'\u001b[0m\u001b[33m is deprecated and will be removed in a future version, please use \u001b[0m\u001b[33m'h'\u001b[0m\u001b[33m instead.\u001b[0m\n"
      ]
     },
     "metadata": {},
     "output_type": "display_data"
    },
    {
     "data": {
      "text/html": [
       "<pre style=\"white-space:pre;overflow-x:auto;line-height:normal;font-family:Menlo,'DejaVu Sans Mono',consolas,'Courier New',monospace\"><span style=\"color: #808000; text-decoration-color: #808000; font-weight: bold\">C:\\Users\\Pavillon Plus\\AppData\\Local\\Temp\\ipykernel_15452\\</span><span style=\"color: #808000; text-decoration-color: #808000; font-weight: bold\">1448036441.</span><span style=\"color: #808000; text-decoration-color: #808000; font-weight: bold\">py:</span><span style=\"color: #808000; text-decoration-color: #808000; font-weight: bold\">30</span><span style=\"color: #808000; text-decoration-color: #808000; font-weight: bold\"> DeprecationWarning</span><span style=\"color: #808000; text-decoration-color: #808000\">: DataFrameGroupBy.apply operated on the grouping columns. This behavior is deprecated, and in a future version of pandas the grouping columns will be excluded from the operation. Either pass `</span><span style=\"color: #808000; text-decoration-color: #808000\">include_groups</span><span style=\"color: #808000; text-decoration-color: #808000\">=</span><span style=\"color: #808000; text-decoration-color: #808000; font-style: italic\">False</span><span style=\"color: #808000; text-decoration-color: #808000\">` to exclude the groupings or explicitly select the grouping columns after groupby to silence this warning.</span>\n",
       "</pre>\n"
      ],
      "text/plain": [
       "\u001b[1;33mC:\\Users\\Pavillon Plus\\AppData\\Local\\Temp\\ipykernel_15452\\\u001b[0m\u001b[1;33m1448036441.\u001b[0m\u001b[1;33mpy:\u001b[0m\u001b[1;33m30\u001b[0m\u001b[1;33m DeprecationWarning\u001b[0m\u001b[33m: DataFrameGroupBy.apply operated on the grouping columns. This behavior is deprecated, and in a future version of pandas the grouping columns will be excluded from the operation. Either pass `\u001b[0m\u001b[33minclude_groups\u001b[0m\u001b[33m=\u001b[0m\u001b[3;33mFalse\u001b[0m\u001b[33m` to exclude the groupings or explicitly select the grouping columns after groupby to silence this warning.\u001b[0m\n"
      ]
     },
     "metadata": {},
     "output_type": "display_data"
    },
    {
     "data": {
      "text/html": [
       "<pre style=\"white-space:pre;overflow-x:auto;line-height:normal;font-family:Menlo,'DejaVu Sans Mono',consolas,'Courier New',monospace\"><span style=\"color: #808000; text-decoration-color: #808000; font-weight: bold\">C:\\Users\\Pavillon Plus\\AppData\\Local\\Temp\\ipykernel_15452\\</span><span style=\"color: #808000; text-decoration-color: #808000; font-weight: bold\">1448036441.</span><span style=\"color: #808000; text-decoration-color: #808000; font-weight: bold\">py:</span><span style=\"color: #808000; text-decoration-color: #808000; font-weight: bold\">45</span><span style=\"color: #808000; text-decoration-color: #808000; font-weight: bold\"> DeprecationWarning</span><span style=\"color: #808000; text-decoration-color: #808000\">: DataFrameGroupBy.apply operated on the grouping columns. This behavior is deprecated, and in a future version of pandas the grouping columns will be excluded from the operation. Either pass `</span><span style=\"color: #808000; text-decoration-color: #808000\">include_groups</span><span style=\"color: #808000; text-decoration-color: #808000\">=</span><span style=\"color: #808000; text-decoration-color: #808000; font-style: italic\">False</span><span style=\"color: #808000; text-decoration-color: #808000\">` to exclude the groupings or explicitly select the grouping columns after groupby to silence this warning.</span>\n",
       "</pre>\n"
      ],
      "text/plain": [
       "\u001b[1;33mC:\\Users\\Pavillon Plus\\AppData\\Local\\Temp\\ipykernel_15452\\\u001b[0m\u001b[1;33m1448036441.\u001b[0m\u001b[1;33mpy:\u001b[0m\u001b[1;33m45\u001b[0m\u001b[1;33m DeprecationWarning\u001b[0m\u001b[33m: DataFrameGroupBy.apply operated on the grouping columns. This behavior is deprecated, and in a future version of pandas the grouping columns will be excluded from the operation. Either pass `\u001b[0m\u001b[33minclude_groups\u001b[0m\u001b[33m=\u001b[0m\u001b[3;33mFalse\u001b[0m\u001b[33m` to exclude the groupings or explicitly select the grouping columns after groupby to silence this warning.\u001b[0m\n"
      ]
     },
     "metadata": {},
     "output_type": "display_data"
    },
    {
     "name": "stdout",
     "output_type": "stream",
     "text": [
      "Hourly aggregates saved to: hourly_aggregates\\hourly_processed_data_2024-01-29.parquet\n",
      "Processing file: processed_data_2024-01-29.parquet\n",
      "                       Hour  avg_sell_price  min_sell_price  max_sell_price  \\\n",
      "0 2024-01-29 00:00:00+00:00       62.836818           25.16           99.79   \n",
      "1 2024-01-29 01:00:00+00:00       64.271481           20.00           99.64   \n",
      "2 2024-01-29 02:00:00+00:00       59.818889           24.94           94.29   \n",
      "3 2024-01-29 03:00:00+00:00       63.601905           22.74           92.57   \n",
      "4 2024-01-29 04:00:00+00:00       66.024545           25.07           94.60   \n",
      "\n",
      "   total_sell_volume  sell_vwap  avg_buy_price  min_buy_price  max_buy_price  \\\n",
      "0            24469.0  63.225760      63.640588          25.00          97.34   \n",
      "1            66097.0  74.297746      59.876842          23.05          94.84   \n",
      "2            16405.0  60.865689      57.851304          22.45          99.41   \n",
      "3            23121.0  65.341115      61.939545          27.08          98.22   \n",
      "4            11255.0  62.869317      65.664074          25.56          96.85   \n",
      "\n",
      "   total_buy_volume   buy_vwap  \n",
      "0           60054.0  86.359338  \n",
      "1           24876.0  59.037975  \n",
      "2           44921.0  49.777277  \n",
      "3           18449.0  58.593889  \n",
      "4           25504.0  69.877779  \n"
     ]
    },
    {
     "data": {
      "text/html": [
       "<pre style=\"white-space:pre;overflow-x:auto;line-height:normal;font-family:Menlo,'DejaVu Sans Mono',consolas,'Courier New',monospace\"><span style=\"color: #808000; text-decoration-color: #808000; font-weight: bold\">C:\\Users\\Pavillon Plus\\AppData\\Local\\Temp\\ipykernel_15452\\</span><span style=\"color: #808000; text-decoration-color: #808000; font-weight: bold\">1448036441.</span><span style=\"color: #808000; text-decoration-color: #808000; font-weight: bold\">py:</span><span style=\"color: #808000; text-decoration-color: #808000; font-weight: bold\">12</span><span style=\"color: #808000; text-decoration-color: #808000; font-weight: bold\"> FutureWarning</span><span style=\"color: #808000; text-decoration-color: #808000\">: </span><span style=\"color: #808000; text-decoration-color: #808000\">'H'</span><span style=\"color: #808000; text-decoration-color: #808000\"> is deprecated and will be removed in a future version, please use </span><span style=\"color: #808000; text-decoration-color: #808000\">'h'</span><span style=\"color: #808000; text-decoration-color: #808000\"> instead.</span>\n",
       "</pre>\n"
      ],
      "text/plain": [
       "\u001b[1;33mC:\\Users\\Pavillon Plus\\AppData\\Local\\Temp\\ipykernel_15452\\\u001b[0m\u001b[1;33m1448036441.\u001b[0m\u001b[1;33mpy:\u001b[0m\u001b[1;33m12\u001b[0m\u001b[1;33m FutureWarning\u001b[0m\u001b[33m: \u001b[0m\u001b[33m'H'\u001b[0m\u001b[33m is deprecated and will be removed in a future version, please use \u001b[0m\u001b[33m'h'\u001b[0m\u001b[33m instead.\u001b[0m\n"
      ]
     },
     "metadata": {},
     "output_type": "display_data"
    },
    {
     "data": {
      "text/html": [
       "<pre style=\"white-space:pre;overflow-x:auto;line-height:normal;font-family:Menlo,'DejaVu Sans Mono',consolas,'Courier New',monospace\"><span style=\"color: #808000; text-decoration-color: #808000; font-weight: bold\">C:\\Users\\Pavillon Plus\\AppData\\Local\\Temp\\ipykernel_15452\\</span><span style=\"color: #808000; text-decoration-color: #808000; font-weight: bold\">1448036441.</span><span style=\"color: #808000; text-decoration-color: #808000; font-weight: bold\">py:</span><span style=\"color: #808000; text-decoration-color: #808000; font-weight: bold\">30</span><span style=\"color: #808000; text-decoration-color: #808000; font-weight: bold\"> DeprecationWarning</span><span style=\"color: #808000; text-decoration-color: #808000\">: DataFrameGroupBy.apply operated on the grouping columns. This behavior is deprecated, and in a future version of pandas the grouping columns will be excluded from the operation. Either pass `</span><span style=\"color: #808000; text-decoration-color: #808000\">include_groups</span><span style=\"color: #808000; text-decoration-color: #808000\">=</span><span style=\"color: #808000; text-decoration-color: #808000; font-style: italic\">False</span><span style=\"color: #808000; text-decoration-color: #808000\">` to exclude the groupings or explicitly select the grouping columns after groupby to silence this warning.</span>\n",
       "</pre>\n"
      ],
      "text/plain": [
       "\u001b[1;33mC:\\Users\\Pavillon Plus\\AppData\\Local\\Temp\\ipykernel_15452\\\u001b[0m\u001b[1;33m1448036441.\u001b[0m\u001b[1;33mpy:\u001b[0m\u001b[1;33m30\u001b[0m\u001b[1;33m DeprecationWarning\u001b[0m\u001b[33m: DataFrameGroupBy.apply operated on the grouping columns. This behavior is deprecated, and in a future version of pandas the grouping columns will be excluded from the operation. Either pass `\u001b[0m\u001b[33minclude_groups\u001b[0m\u001b[33m=\u001b[0m\u001b[3;33mFalse\u001b[0m\u001b[33m` to exclude the groupings or explicitly select the grouping columns after groupby to silence this warning.\u001b[0m\n"
      ]
     },
     "metadata": {},
     "output_type": "display_data"
    },
    {
     "data": {
      "text/html": [
       "<pre style=\"white-space:pre;overflow-x:auto;line-height:normal;font-family:Menlo,'DejaVu Sans Mono',consolas,'Courier New',monospace\"><span style=\"color: #808000; text-decoration-color: #808000; font-weight: bold\">C:\\Users\\Pavillon Plus\\AppData\\Local\\Temp\\ipykernel_15452\\</span><span style=\"color: #808000; text-decoration-color: #808000; font-weight: bold\">1448036441.</span><span style=\"color: #808000; text-decoration-color: #808000; font-weight: bold\">py:</span><span style=\"color: #808000; text-decoration-color: #808000; font-weight: bold\">45</span><span style=\"color: #808000; text-decoration-color: #808000; font-weight: bold\"> DeprecationWarning</span><span style=\"color: #808000; text-decoration-color: #808000\">: DataFrameGroupBy.apply operated on the grouping columns. This behavior is deprecated, and in a future version of pandas the grouping columns will be excluded from the operation. Either pass `</span><span style=\"color: #808000; text-decoration-color: #808000\">include_groups</span><span style=\"color: #808000; text-decoration-color: #808000\">=</span><span style=\"color: #808000; text-decoration-color: #808000; font-style: italic\">False</span><span style=\"color: #808000; text-decoration-color: #808000\">` to exclude the groupings or explicitly select the grouping columns after groupby to silence this warning.</span>\n",
       "</pre>\n"
      ],
      "text/plain": [
       "\u001b[1;33mC:\\Users\\Pavillon Plus\\AppData\\Local\\Temp\\ipykernel_15452\\\u001b[0m\u001b[1;33m1448036441.\u001b[0m\u001b[1;33mpy:\u001b[0m\u001b[1;33m45\u001b[0m\u001b[1;33m DeprecationWarning\u001b[0m\u001b[33m: DataFrameGroupBy.apply operated on the grouping columns. This behavior is deprecated, and in a future version of pandas the grouping columns will be excluded from the operation. Either pass `\u001b[0m\u001b[33minclude_groups\u001b[0m\u001b[33m=\u001b[0m\u001b[3;33mFalse\u001b[0m\u001b[33m` to exclude the groupings or explicitly select the grouping columns after groupby to silence this warning.\u001b[0m\n"
      ]
     },
     "metadata": {},
     "output_type": "display_data"
    },
    {
     "name": "stdout",
     "output_type": "stream",
     "text": [
      "Hourly aggregates saved to: hourly_aggregates\\hourly_processed_data_2024-01-30.parquet\n",
      "Processing file: processed_data_2024-01-30.parquet\n",
      "                       Hour  avg_sell_price  min_sell_price  max_sell_price  \\\n",
      "0 2024-01-30 00:00:00+00:00       60.933529           31.04           99.74   \n",
      "1 2024-01-30 01:00:00+00:00       66.929167           27.54           98.86   \n",
      "2 2024-01-30 02:00:00+00:00       54.378235           21.26           81.66   \n",
      "3 2024-01-30 03:00:00+00:00       59.243750           26.31           95.09   \n",
      "4 2024-01-30 04:00:00+00:00       59.864583           24.05           99.00   \n",
      "\n",
      "   total_sell_volume  sell_vwap  avg_buy_price  min_buy_price  max_buy_price  \\\n",
      "0            15462.0  60.442972      57.928667          24.55          99.96   \n",
      "1            51975.0  75.729647      56.001765          22.01          96.08   \n",
      "2            52027.0  40.135401      61.159333          26.55          96.70   \n",
      "3             6784.0  61.311904      50.104667          22.11          90.72   \n",
      "4            61455.0  58.881723      64.651364          37.91          99.40   \n",
      "\n",
      "   total_buy_volume   buy_vwap  \n",
      "0           12722.0  58.615540  \n",
      "1           19261.0  58.792599  \n",
      "2           74896.0  45.945761  \n",
      "3           15868.0  47.622837  \n",
      "4           24690.0  63.609145  \n"
     ]
    },
    {
     "data": {
      "text/html": [
       "<pre style=\"white-space:pre;overflow-x:auto;line-height:normal;font-family:Menlo,'DejaVu Sans Mono',consolas,'Courier New',monospace\"><span style=\"color: #808000; text-decoration-color: #808000; font-weight: bold\">C:\\Users\\Pavillon Plus\\AppData\\Local\\Temp\\ipykernel_15452\\</span><span style=\"color: #808000; text-decoration-color: #808000; font-weight: bold\">1448036441.</span><span style=\"color: #808000; text-decoration-color: #808000; font-weight: bold\">py:</span><span style=\"color: #808000; text-decoration-color: #808000; font-weight: bold\">12</span><span style=\"color: #808000; text-decoration-color: #808000; font-weight: bold\"> FutureWarning</span><span style=\"color: #808000; text-decoration-color: #808000\">: </span><span style=\"color: #808000; text-decoration-color: #808000\">'H'</span><span style=\"color: #808000; text-decoration-color: #808000\"> is deprecated and will be removed in a future version, please use </span><span style=\"color: #808000; text-decoration-color: #808000\">'h'</span><span style=\"color: #808000; text-decoration-color: #808000\"> instead.</span>\n",
       "</pre>\n"
      ],
      "text/plain": [
       "\u001b[1;33mC:\\Users\\Pavillon Plus\\AppData\\Local\\Temp\\ipykernel_15452\\\u001b[0m\u001b[1;33m1448036441.\u001b[0m\u001b[1;33mpy:\u001b[0m\u001b[1;33m12\u001b[0m\u001b[1;33m FutureWarning\u001b[0m\u001b[33m: \u001b[0m\u001b[33m'H'\u001b[0m\u001b[33m is deprecated and will be removed in a future version, please use \u001b[0m\u001b[33m'h'\u001b[0m\u001b[33m instead.\u001b[0m\n"
      ]
     },
     "metadata": {},
     "output_type": "display_data"
    },
    {
     "data": {
      "text/html": [
       "<pre style=\"white-space:pre;overflow-x:auto;line-height:normal;font-family:Menlo,'DejaVu Sans Mono',consolas,'Courier New',monospace\"><span style=\"color: #808000; text-decoration-color: #808000; font-weight: bold\">C:\\Users\\Pavillon Plus\\AppData\\Local\\Temp\\ipykernel_15452\\</span><span style=\"color: #808000; text-decoration-color: #808000; font-weight: bold\">1448036441.</span><span style=\"color: #808000; text-decoration-color: #808000; font-weight: bold\">py:</span><span style=\"color: #808000; text-decoration-color: #808000; font-weight: bold\">30</span><span style=\"color: #808000; text-decoration-color: #808000; font-weight: bold\"> DeprecationWarning</span><span style=\"color: #808000; text-decoration-color: #808000\">: DataFrameGroupBy.apply operated on the grouping columns. This behavior is deprecated, and in a future version of pandas the grouping columns will be excluded from the operation. Either pass `</span><span style=\"color: #808000; text-decoration-color: #808000\">include_groups</span><span style=\"color: #808000; text-decoration-color: #808000\">=</span><span style=\"color: #808000; text-decoration-color: #808000; font-style: italic\">False</span><span style=\"color: #808000; text-decoration-color: #808000\">` to exclude the groupings or explicitly select the grouping columns after groupby to silence this warning.</span>\n",
       "</pre>\n"
      ],
      "text/plain": [
       "\u001b[1;33mC:\\Users\\Pavillon Plus\\AppData\\Local\\Temp\\ipykernel_15452\\\u001b[0m\u001b[1;33m1448036441.\u001b[0m\u001b[1;33mpy:\u001b[0m\u001b[1;33m30\u001b[0m\u001b[1;33m DeprecationWarning\u001b[0m\u001b[33m: DataFrameGroupBy.apply operated on the grouping columns. This behavior is deprecated, and in a future version of pandas the grouping columns will be excluded from the operation. Either pass `\u001b[0m\u001b[33minclude_groups\u001b[0m\u001b[33m=\u001b[0m\u001b[3;33mFalse\u001b[0m\u001b[33m` to exclude the groupings or explicitly select the grouping columns after groupby to silence this warning.\u001b[0m\n"
      ]
     },
     "metadata": {},
     "output_type": "display_data"
    },
    {
     "data": {
      "text/html": [
       "<pre style=\"white-space:pre;overflow-x:auto;line-height:normal;font-family:Menlo,'DejaVu Sans Mono',consolas,'Courier New',monospace\"><span style=\"color: #808000; text-decoration-color: #808000; font-weight: bold\">C:\\Users\\Pavillon Plus\\AppData\\Local\\Temp\\ipykernel_15452\\</span><span style=\"color: #808000; text-decoration-color: #808000; font-weight: bold\">1448036441.</span><span style=\"color: #808000; text-decoration-color: #808000; font-weight: bold\">py:</span><span style=\"color: #808000; text-decoration-color: #808000; font-weight: bold\">45</span><span style=\"color: #808000; text-decoration-color: #808000; font-weight: bold\"> DeprecationWarning</span><span style=\"color: #808000; text-decoration-color: #808000\">: DataFrameGroupBy.apply operated on the grouping columns. This behavior is deprecated, and in a future version of pandas the grouping columns will be excluded from the operation. Either pass `</span><span style=\"color: #808000; text-decoration-color: #808000\">include_groups</span><span style=\"color: #808000; text-decoration-color: #808000\">=</span><span style=\"color: #808000; text-decoration-color: #808000; font-style: italic\">False</span><span style=\"color: #808000; text-decoration-color: #808000\">` to exclude the groupings or explicitly select the grouping columns after groupby to silence this warning.</span>\n",
       "</pre>\n"
      ],
      "text/plain": [
       "\u001b[1;33mC:\\Users\\Pavillon Plus\\AppData\\Local\\Temp\\ipykernel_15452\\\u001b[0m\u001b[1;33m1448036441.\u001b[0m\u001b[1;33mpy:\u001b[0m\u001b[1;33m45\u001b[0m\u001b[1;33m DeprecationWarning\u001b[0m\u001b[33m: DataFrameGroupBy.apply operated on the grouping columns. This behavior is deprecated, and in a future version of pandas the grouping columns will be excluded from the operation. Either pass `\u001b[0m\u001b[33minclude_groups\u001b[0m\u001b[33m=\u001b[0m\u001b[3;33mFalse\u001b[0m\u001b[33m` to exclude the groupings or explicitly select the grouping columns after groupby to silence this warning.\u001b[0m\n"
      ]
     },
     "metadata": {},
     "output_type": "display_data"
    },
    {
     "name": "stdout",
     "output_type": "stream",
     "text": [
      "Hourly aggregates saved to: hourly_aggregates\\hourly_processed_data_2024-01-31.parquet\n",
      "Processing file: processed_data_2024-01-31.parquet\n",
      "                       Hour  avg_sell_price  min_sell_price  max_sell_price  \\\n",
      "0 2024-01-31 00:00:00+00:00       64.907143           20.51           99.86   \n",
      "1 2024-01-31 01:00:00+00:00       65.376316           26.14           94.70   \n",
      "2 2024-01-31 02:00:00+00:00       60.721667           25.33           85.97   \n",
      "3 2024-01-31 03:00:00+00:00       66.820000           21.68           96.78   \n",
      "4 2024-01-31 04:00:00+00:00       66.624118           35.78           99.62   \n",
      "\n",
      "   total_sell_volume  sell_vwap  avg_buy_price  min_buy_price  max_buy_price  \\\n",
      "0            22429.0  64.164903      59.203571          21.00          96.93   \n",
      "1            17816.0  59.957266      54.194762          20.23          95.06   \n",
      "2            13145.0  62.322875      51.763636          21.40          92.11   \n",
      "3            26481.0  71.409197      56.587857          29.42          92.76   \n",
      "4            20423.0  65.637645      55.185500          23.78          94.37   \n",
      "\n",
      "   total_buy_volume   buy_vwap  \n",
      "0           13389.0  65.001650  \n",
      "1           22994.0  51.368637  \n",
      "2           22490.0  53.518815  \n",
      "3           15225.0  57.707615  \n",
      "4           23080.0  53.065470  \n"
     ]
    }
   ],
   "source": [
    "#Task 1 : Directory containing daily Parquet files and Aggregation & Scenario Simulation\n",
    "processed_data_dir = 'processed_data'\n",
    "\n",
    "# Creating a directory to save hourly aggregates data values \n",
    "hourly_aggregates_dir = 'hourly_aggregates'\n",
    "os.makedirs(hourly_aggregates_dir, exist_ok=True)\n",
    "\n",
    "def compute_hourly_aggregates(parquet_file):\n",
    "    daily_data = pd.read_parquet(parquet_file)\n",
    "\n",
    "    daily_data['Timestamp'] = pd.to_datetime(daily_data['Timestamp'], utc=True)\n",
    "    daily_data['Hour'] = daily_data['Timestamp'].dt.floor('H')\n",
    "    \n",
    "\n",
    "    # Spliting dataset into sell and buy orders\n",
    "    sell_orders = daily_data[daily_data['Sell_Buy'] == 'sell']\n",
    "    buy_orders = daily_data[daily_data['Sell_Buy'] == 'buy']\n",
    "\n",
    "    # Calculating hourly aggregates for sell orders\n",
    "    sell_hourly = sell_orders.groupby('Hour').agg(\n",
    "        avg_sell_price=('Price', 'mean'),\n",
    "        min_sell_price=('Price', 'min'),\n",
    "        max_sell_price=('Price', 'max'),\n",
    "        total_sell_volume=('Volume', 'sum'),\n",
    "    ).reset_index()\n",
    "\n",
    "    # Calculating VWAP for sell orders\n",
    "    sell_hourly['sell_vwap'] = (\n",
    "        sell_orders.groupby('Hour')\n",
    "        .apply(lambda x: (x['Price'] * x['Volume']).sum() / x['Volume'].sum() if x['Volume'].sum() > 0 else 0)\n",
    "        .values\n",
    "    )\n",
    "\n",
    "    # Calculating hourly aggregates for buy orders\n",
    "    buy_hourly = buy_orders.groupby('Hour').agg(\n",
    "        avg_buy_price=('Price', 'mean'),\n",
    "        min_buy_price=('Price', 'min'),\n",
    "        max_buy_price=('Price', 'max'),\n",
    "        total_buy_volume=('Volume', 'sum'),\n",
    "    ).reset_index()\n",
    "\n",
    "    # Calculating VWAP for buy orders\n",
    "    buy_hourly['buy_vwap'] = (\n",
    "        buy_orders.groupby('Hour')\n",
    "        .apply(lambda x: (x['Price'] * x['Volume']).sum() / x['Volume'].sum() if x['Volume'].sum() > 0 else 0)\n",
    "        .values\n",
    "    )\n",
    "\n",
    "    # Merging buy and sell hourly aggregates\n",
    "    hourly_aggregates = pd.merge(sell_hourly, buy_hourly, on='Hour', how='outer').sort_values(by='Hour')\n",
    "    \n",
    "    return hourly_aggregates\n",
    "\n",
    "# Iterate through each daily Parquet file and compute aggregates\n",
    "for parquet_file in os.listdir(processed_data_dir):\n",
    "    if parquet_file.endswith('.parquet'):\n",
    "        \n",
    "        daily_file_path = os.path.join(processed_data_dir, parquet_file)\n",
    "    \n",
    "        hourly_aggregates = compute_hourly_aggregates(daily_file_path) # Compute hourly aggregates\n",
    "        output_file = os.path.join(hourly_aggregates_dir, f\"hourly_{parquet_file}\")  # Save to new Parquet file\n",
    "        hourly_aggregates.to_parquet(output_file, index=False)\n",
    "        \n",
    "        print(f\"Hourly aggregates saved to: {output_file}\")\n",
    "        print(f\"Processing file: {parquet_file}\")\n",
    "        print(hourly_aggregates.head(5))\n"
   ]
  },
  {
   "cell_type": "code",
   "execution_count": 16,
   "id": "4d08549c-a4cd-4172-963b-195500b800dd",
   "metadata": {},
   "outputs": [
    {
     "data": {
      "image/png": "[encoded data removed]",
      "text/plain": [
       "<Figure size 1500x700 with 1 Axes>"
      ]
     },
     "metadata": {},
     "output_type": "display_data"
    },
    {
     "name": "stdout",
     "output_type": "stream",
     "text": [
      "Equilibrium Price: 57.46760165820858\n",
      "Equilibrium Volume: 264715.89936643816\n"
     ]
    }
   ],
   "source": [
    "# Task 2: Finding equlibrium using linear regression \n",
    "\n",
    "def calculate_equilibrium_linear_regression(daily_data):\n",
    "    # Filter out rows with missing or invalid values in 'Price' or 'Volume'\n",
    "    daily_data = daily_data.dropna(subset=['Price', 'Volume'])\n",
    "    \n",
    "    # Separate sell and buy orders\n",
    "    sell_orders = daily_data[daily_data['Sell_Buy'] == 'sell'].copy()\n",
    "    buy_orders = daily_data[daily_data['Sell_Buy'] == 'buy'].copy()\n",
    "\n",
    "    # Sort sell orders by ascending price (supply curve)\n",
    "    sell_orders = sell_orders.sort_values(by='Price').reset_index(drop=True)\n",
    "    sell_orders['Cumulative_Supply'] = sell_orders['Volume'].cumsum()\n",
    "\n",
    "    # Sort buy orders by descending price (demand curve)\n",
    "    buy_orders = buy_orders.sort_values(by='Price', ascending=False).reset_index(drop=True)\n",
    "    buy_orders['Cumulative_Demand'] = buy_orders['Volume'].cumsum()\n",
    "\n",
    "    # Fit linear regression models for supply and demand curves\n",
    "    supply_model = LinearRegression()\n",
    "    supply_model.fit(sell_orders[['Cumulative_Supply']], sell_orders['Price'])\n",
    "\n",
    "    demand_model = LinearRegression()\n",
    "    demand_model.fit(buy_orders[['Cumulative_Demand']], buy_orders['Price'])\n",
    "\n",
    "    # Extract regression parameters (slopes and intercepts)\n",
    "    m_supply = supply_model.coef_[0]\n",
    "    b_supply = supply_model.intercept_\n",
    "\n",
    "    m_demand = demand_model.coef_[0]\n",
    "    b_demand = demand_model.intercept_\n",
    "\n",
    "    # Calculate equilibrium volume and price\n",
    "    equilibrium_volume = (b_demand - b_supply) / (m_supply - m_demand)\n",
    "    equilibrium_price = m_supply * equilibrium_volume + b_supply\n",
    "\n",
    "    # Plotting the supply and demand curves along with the equilibrium point\n",
    "    plt.figure(figsize=(15, 7))\n",
    "    plt.scatter(sell_orders['Cumulative_Supply'], sell_orders['Price'], label='Supply Data', color='blue', alpha=0.5)\n",
    "    plt.scatter(buy_orders['Cumulative_Demand'], buy_orders['Price'], label='Demand Data', color='red', alpha=0.5)\n",
    "\n",
    "    # Plot regression lines\n",
    "    supply_line = m_supply * sell_orders['Cumulative_Supply'] + b_supply\n",
    "    demand_line = m_demand * buy_orders['Cumulative_Demand'] + b_demand\n",
    "    plt.plot(sell_orders['Cumulative_Supply'], supply_line, label='Supply Regression', color='blue', linestyle='--')\n",
    "    plt.plot(buy_orders['Cumulative_Demand'], demand_line, label='Demand Regression', color='red', linestyle='--')\n",
    "\n",
    "    # Add equilibrium point\n",
    "    plt.scatter(equilibrium_volume, equilibrium_price, color='green', label=f'Equilibrium\\n(P={equilibrium_price:.2f}, Q={equilibrium_volume:.2f})', zorder=5)\n",
    "    plt.axhline(y=equilibrium_price, color='green', linestyle='--', label=f'Equilibrium Price: {equilibrium_price:.2f}')\n",
    "    plt.axvline(x=equilibrium_volume, color='purple', linestyle='--', label=f'Equilibrium Volume: {equilibrium_volume:.2f}')\n",
    "\n",
    "    # Add labels, title, and legend\n",
    "    plt.xlabel('Cumulative Volume')\n",
    "    plt.ylabel('Price')\n",
    "    plt.title('Supply–Demand Equilibrium Using Linear Regression')\n",
    "    plt.legend()\n",
    "    plt.grid()\n",
    "    plt.show()\n",
    "\n",
    "    return equilibrium_price, equilibrium_volume\n",
    "\n",
    "\n",
    "# Load a sample daily Parquet file (replace with your file path)\n",
    "parquet_file = 'processed_data/2024-01-31.parquet' \n",
    "daily_data = pd.read_parquet(parquet_file)\n",
    "daily_data['Timestamp'] = pd.to_datetime(daily_data['Timestamp'], utc=True)\n",
    "\n",
    "equilibrium_price, equilibrium_volume = calculate_equilibrium_linear_regression(daily_data)\n",
    "\n",
    "print(f\"Equilibrium Price: {equilibrium_price}\")\n",
    "print(f\"Equilibrium Volume: {equilibrium_volume}\")\n"
   ]
  },
  {
   "cell_type": "code",
   "execution_count": 27,
   "id": "1eeb750c-6887-48e8-b80b-2e55e2c42ea9",
   "metadata": {},
   "outputs": [
    {
     "data": {
      "text/html": [
       "<pre style=\"white-space:pre;overflow-x:auto;line-height:normal;font-family:Menlo,'DejaVu Sans Mono',consolas,'Courier New',monospace\"><span style=\"color: #808000; text-decoration-color: #808000; font-weight: bold\">C:\\Users\\Pavillon Plus\\AppData\\Local\\Temp\\ipykernel_15452\\</span><span style=\"color: #808000; text-decoration-color: #808000; font-weight: bold\">2522394263.</span><span style=\"color: #808000; text-decoration-color: #808000; font-weight: bold\">py:</span><span style=\"color: #808000; text-decoration-color: #808000; font-weight: bold\">7</span><span style=\"color: #808000; text-decoration-color: #808000; font-weight: bold\"> FutureWarning</span><span style=\"color: #808000; text-decoration-color: #808000\">: </span><span style=\"color: #808000; text-decoration-color: #808000\">'H'</span><span style=\"color: #808000; text-decoration-color: #808000\"> is deprecated and will be removed in a future version, please use </span><span style=\"color: #808000; text-decoration-color: #808000\">'h'</span><span style=\"color: #808000; text-decoration-color: #808000\"> instead.</span>\n",
       "</pre>\n"
      ],
      "text/plain": [
       "\u001b[1;33mC:\\Users\\Pavillon Plus\\AppData\\Local\\Temp\\ipykernel_15452\\\u001b[0m\u001b[1;33m2522394263.\u001b[0m\u001b[1;33mpy:\u001b[0m\u001b[1;33m7\u001b[0m\u001b[1;33m FutureWarning\u001b[0m\u001b[33m: \u001b[0m\u001b[33m'H'\u001b[0m\u001b[33m is deprecated and will be removed in a future version, please use \u001b[0m\u001b[33m'h'\u001b[0m\u001b[33m instead.\u001b[0m\n"
      ]
     },
     "metadata": {},
     "output_type": "display_data"
    },
    {
     "name": "stdout",
     "output_type": "stream",
     "text": [
      "Hourly Total Sell Volumes:\n",
      "                       Hour  total_sell_volume\n",
      "0 2024-01-31 00:00:00+00:00       19791.279856\n",
      "1 2024-01-31 01:00:00+00:00       21288.896898\n",
      "2 2024-01-31 02:00:00+00:00       10308.983887\n",
      "3 2024-01-31 03:00:00+00:00       25111.503082\n",
      "4 2024-01-31 04:00:00+00:00       17325.727978\n"
     ]
    },
    {
     "data": {
      "text/html": [
       "<pre style=\"white-space:pre;overflow-x:auto;line-height:normal;font-family:Menlo,'DejaVu Sans Mono',consolas,'Courier New',monospace\"><span style=\"color: #808000; text-decoration-color: #808000; font-weight: bold\">C:\\Users\\Pavillon Plus\\AppData\\Local\\Temp\\ipykernel_15452\\</span><span style=\"color: #808000; text-decoration-color: #808000; font-weight: bold\">2522394263.</span><span style=\"color: #808000; text-decoration-color: #808000; font-weight: bold\">py:</span><span style=\"color: #808000; text-decoration-color: #808000; font-weight: bold\">26</span><span style=\"color: #808000; text-decoration-color: #808000; font-weight: bold\"> FutureWarning</span><span style=\"color: #808000; text-decoration-color: #808000\">: </span><span style=\"color: #808000; text-decoration-color: #808000\">'H'</span><span style=\"color: #808000; text-decoration-color: #808000\"> is deprecated and will be removed in a future version, please use </span><span style=\"color: #808000; text-decoration-color: #808000\">'h'</span><span style=\"color: #808000; text-decoration-color: #808000\"> instead.</span>\n",
       "</pre>\n"
      ],
      "text/plain": [
       "\u001b[1;33mC:\\Users\\Pavillon Plus\\AppData\\Local\\Temp\\ipykernel_15452\\\u001b[0m\u001b[1;33m2522394263.\u001b[0m\u001b[1;33mpy:\u001b[0m\u001b[1;33m26\u001b[0m\u001b[1;33m FutureWarning\u001b[0m\u001b[33m: \u001b[0m\u001b[33m'H'\u001b[0m\u001b[33m is deprecated and will be removed in a future version, please use \u001b[0m\u001b[33m'h'\u001b[0m\u001b[33m instead.\u001b[0m\n"
      ]
     },
     "metadata": {},
     "output_type": "display_data"
    },
    {
     "name": "stdout",
     "output_type": "stream",
     "text": [
      "Adjusted Sell Volumes (first few rows):\n",
      "                       Hour       Volume  shifted_volume\n",
      "0 2024-01-31 00:00:00+00:00   665.284565      833.359740\n",
      "1 2024-01-31 00:00:00+00:00   199.469520      249.862805\n",
      "2 2024-01-31 00:00:00+00:00  1353.771044     1695.783045\n",
      "3 2024-01-31 00:00:00+00:00   152.316948      190.797771\n",
      "4 2024-01-31 00:00:00+00:00  1176.977371     1474.324834\n",
      "New Renewable-Adjusted Equilibrium Price: 59.51389439871847\n",
      "New Equilibrium Volume: 269015.67384407576\n"
     ]
    }
   ],
   "source": [
    "#Task 3.1: For Renewable Energy Sceanrio +5000 MWh\n",
    "\n",
    "#Step 1: Sum the total sell volume for each hour\n",
    "# Step 1: Sum the total sell volume for each hour\n",
    "def sum_hourly_sell_volume(daily_data):\n",
    "    daily_data['Timestamp'] = pd.to_datetime(daily_data['Timestamp'], utc=True)\n",
    "    daily_data['Hour'] = daily_data['Timestamp'].dt.floor('H')\n",
    "\n",
    "    # Group by hour and calculate total sell volume\n",
    "    hourly_sell_volume = (\n",
    "        daily_data[daily_data['Sell_Buy'] == 'sell']\n",
    "        .groupby('Hour')\n",
    "        .agg(total_sell_volume=('Volume', 'sum'))\n",
    "        .reset_index()\n",
    "    )\n",
    "    \n",
    "    print(\"Hourly Total Sell Volumes:\")\n",
    "    print(hourly_sell_volume.head())\n",
    "    \n",
    "    return hourly_sell_volume\n",
    "\n",
    "hourly_sell_volume = sum_hourly_sell_volume(daily_data)\n",
    "\n",
    "# Step 2: Add 5000 MWh to the total “sell” side, distributing proportionally\n",
    "def adjust_sell_volumes(daily_data, hourly_sell_volume):\n",
    "    daily_data['Hour'] = daily_data['Timestamp'].dt.floor('H')\n",
    "    sell_data = daily_data[daily_data['Sell_Buy'] == 'sell'].copy()\n",
    "    sell_data = sell_data.merge(hourly_sell_volume, on='Hour', how='left')\n",
    "\n",
    "    sell_data['shifted_volume'] = sell_data['Volume'] + (\n",
    "        5000 * (sell_data['Volume'] / sell_data['total_sell_volume'])\n",
    "    )\n",
    "\n",
    "    daily_data.loc[sell_data.index, 'Volume'] = sell_data['shifted_volume']\n",
    "    \n",
    "    print(\"Adjusted Sell Volumes (first few rows):\")\n",
    "    print(sell_data[['Hour', 'Volume', 'shifted_volume']].head())\n",
    "    \n",
    "    return daily_data\n",
    "\n",
    "adjusted_daily_data = adjust_sell_volumes(daily_data, hourly_sell_volume)\n",
    "\n",
    "# Step 3: Re-run intersection logic with the new shifted volumes\n",
    "def calculate_equilibrium_with_shifted_volumes(adjusted_daily_data):\n",
    "    adjusted_daily_data = adjusted_daily_data.dropna(subset=['Price', 'Volume'])\n",
    "    sell_orders = adjusted_daily_data[adjusted_daily_data['Sell_Buy'] == 'sell'].copy()\n",
    "    buy_orders = adjusted_daily_data[adjusted_daily_data['Sell_Buy'] == 'buy'].copy()\n",
    "\n",
    "    sell_orders = sell_orders.sort_values(by='Price').reset_index(drop=True)\n",
    "    sell_orders['Cumulative_Supply'] = sell_orders['Volume'].cumsum()\n",
    "    buy_orders = buy_orders.sort_values(by='Price', ascending=False).reset_index(drop=True)\n",
    "    buy_orders['Cumulative_Demand'] = buy_orders['Volume'].cumsum()\n",
    "\n",
    "    supply_model = LinearRegression()\n",
    "    supply_model.fit(sell_orders[['Cumulative_Supply']], sell_orders['Price'])\n",
    "\n",
    "    demand_model = LinearRegression()\n",
    "    demand_model.fit(buy_orders[['Cumulative_Demand']], buy_orders['Price'])\n",
    "\n",
    "    m_supply = supply_model.coef_[0]\n",
    "    b_supply = supply_model.intercept_\n",
    "    m_demand = demand_model.coef_[0]\n",
    "    b_demand = demand_model.intercept_\n",
    "\n",
    "    equilibrium_volume = (b_demand - b_supply) / (m_supply - m_demand)\n",
    "    renewable_adjusted_equilibrium_price = m_supply * equilibrium_volume + b_supply\n",
    "\n",
    "    print(f\"New Renewable-Adjusted Equilibrium Price: {renewable_adjusted_equilibrium_price}\")\n",
    "    print(f\"New Equilibrium Volume: {equilibrium_volume}\")\n",
    "\n",
    "    return renewable_adjusted_equilibrium_price, equilibrium_volume\n",
    "\n",
    "new_renewable_adjusted_price, new_equilibrium_volume = calculate_equilibrium_with_shifted_volumes(adjusted_daily_data)\n"
   ]
  },
  {
   "cell_type": "code",
   "execution_count": 28,
   "id": "5818ce6a-0d11-4b44-9af4-5589aa8b7246",
   "metadata": {},
   "outputs": [
    {
     "data": {
      "text/html": [
       "<pre style=\"white-space:pre;overflow-x:auto;line-height:normal;font-family:Menlo,'DejaVu Sans Mono',consolas,'Courier New',monospace\"><span style=\"color: #808000; text-decoration-color: #808000; font-weight: bold\">C:\\Users\\Pavillon Plus\\AppData\\Local\\Temp\\ipykernel_15452\\</span><span style=\"color: #808000; text-decoration-color: #808000; font-weight: bold\">588117661.</span><span style=\"color: #808000; text-decoration-color: #808000; font-weight: bold\">py:</span><span style=\"color: #808000; text-decoration-color: #808000; font-weight: bold\">4</span><span style=\"color: #808000; text-decoration-color: #808000; font-weight: bold\"> FutureWarning</span><span style=\"color: #808000; text-decoration-color: #808000\">: </span><span style=\"color: #808000; text-decoration-color: #808000\">'H'</span><span style=\"color: #808000; text-decoration-color: #808000\"> is deprecated and will be removed in a future version, please use </span><span style=\"color: #808000; text-decoration-color: #808000\">'h'</span><span style=\"color: #808000; text-decoration-color: #808000\"> instead.</span>\n",
       "</pre>\n"
      ],
      "text/plain": [
       "\u001b[1;33mC:\\Users\\Pavillon Plus\\AppData\\Local\\Temp\\ipykernel_15452\\\u001b[0m\u001b[1;33m588117661.\u001b[0m\u001b[1;33mpy:\u001b[0m\u001b[1;33m4\u001b[0m\u001b[1;33m FutureWarning\u001b[0m\u001b[33m: \u001b[0m\u001b[33m'H'\u001b[0m\u001b[33m is deprecated and will be removed in a future version, please use \u001b[0m\u001b[33m'h'\u001b[0m\u001b[33m instead.\u001b[0m\n"
      ]
     },
     "metadata": {},
     "output_type": "display_data"
    },
    {
     "name": "stdout",
     "output_type": "stream",
     "text": [
      "Hourly Total Sell Volumes:\n",
      "                       Hour  total_sell_volume\n",
      "0 2024-01-31 00:00:00+00:00       21924.494987\n",
      "1 2024-01-31 01:00:00+00:00       29487.681379\n",
      "2 2024-01-31 02:00:00+00:00       10211.203265\n",
      "3 2024-01-31 03:00:00+00:00       25140.564090\n",
      "4 2024-01-31 04:00:00+00:00       19819.000218\n"
     ]
    },
    {
     "data": {
      "text/html": [
       "<pre style=\"white-space:pre;overflow-x:auto;line-height:normal;font-family:Menlo,'DejaVu Sans Mono',consolas,'Courier New',monospace\"><span style=\"color: #808000; text-decoration-color: #808000; font-weight: bold\">C:\\Users\\Pavillon Plus\\AppData\\Local\\Temp\\ipykernel_15452\\</span><span style=\"color: #808000; text-decoration-color: #808000; font-weight: bold\">588117661.</span><span style=\"color: #808000; text-decoration-color: #808000; font-weight: bold\">py:</span><span style=\"color: #808000; text-decoration-color: #808000; font-weight: bold\">22</span><span style=\"color: #808000; text-decoration-color: #808000; font-weight: bold\"> FutureWarning</span><span style=\"color: #808000; text-decoration-color: #808000\">: </span><span style=\"color: #808000; text-decoration-color: #808000\">'H'</span><span style=\"color: #808000; text-decoration-color: #808000\"> is deprecated and will be removed in a future version, please use </span><span style=\"color: #808000; text-decoration-color: #808000\">'h'</span><span style=\"color: #808000; text-decoration-color: #808000\"> instead.</span>\n",
       "</pre>\n"
      ],
      "text/plain": [
       "\u001b[1;33mC:\\Users\\Pavillon Plus\\AppData\\Local\\Temp\\ipykernel_15452\\\u001b[0m\u001b[1;33m588117661.\u001b[0m\u001b[1;33mpy:\u001b[0m\u001b[1;33m22\u001b[0m\u001b[1;33m FutureWarning\u001b[0m\u001b[33m: \u001b[0m\u001b[33m'H'\u001b[0m\u001b[33m is deprecated and will be removed in a future version, please use \u001b[0m\u001b[33m'h'\u001b[0m\u001b[33m instead.\u001b[0m\n"
      ]
     },
     "metadata": {},
     "output_type": "display_data"
    },
    {
     "name": "stdout",
     "output_type": "stream",
     "text": [
      "Adjusted Sell Volumes (first few rows):\n",
      "                       Hour       Volume  shifted_volume\n",
      "0 2024-01-31 00:00:00+00:00   833.359740      643.307531\n",
      "1 2024-01-31 00:00:00+00:00   190.797771      147.285304\n",
      "2 2024-01-31 00:00:00+00:00  1368.418621     1056.343332\n",
      "3 2024-01-31 00:00:00+00:00  1551.817149     1197.916831\n",
      "4 2024-01-31 00:00:00+00:00  1331.046864     1027.494407\n",
      "Renewable-Reduced Equilibrium Price: 59.36997019450899\n",
      "Equilibrium Volume (Reduced Supply): 230499.3069127032\n"
     ]
    }
   ],
   "source": [
    "# Step 1: Sum the total sell volume for each hour (no change needed)\n",
    "def sum_hourly_sell_volume(daily_data):\n",
    "    daily_data['Timestamp'] = pd.to_datetime(daily_data['Timestamp'], utc=True)\n",
    "    daily_data['Hour'] = daily_data['Timestamp'].dt.floor('H')\n",
    "\n",
    "    hourly_sell_volume = (\n",
    "        daily_data[daily_data['Sell_Buy'] == 'sell']\n",
    "        .groupby('Hour')\n",
    "        .agg(total_sell_volume=('Volume', 'sum'))\n",
    "        .reset_index()\n",
    "    )\n",
    "    \n",
    "    print(\"Hourly Total Sell Volumes:\")\n",
    "    print(hourly_sell_volume.head())\n",
    "    \n",
    "    return hourly_sell_volume\n",
    "\n",
    "hourly_sell_volume = sum_hourly_sell_volume(daily_data)\n",
    "\n",
    "# Step 2: Subtract 5000 MWh from the total “sell” side, distributing proportionally\n",
    "def adjust_sell_volumes(daily_data, hourly_sell_volume, reduction_amount=5000):\n",
    "    daily_data['Hour'] = daily_data['Timestamp'].dt.floor('H')\n",
    "    sell_data = daily_data[daily_data['Sell_Buy'] == 'sell'].copy()\n",
    "    sell_data = sell_data.merge(hourly_sell_volume, on='Hour', how='left')\n",
    "\n",
    "    sell_data['shifted_volume'] = sell_data['Volume'] - (\n",
    "        reduction_amount * (sell_data['Volume'] / sell_data['total_sell_volume'])\n",
    "    )\n",
    "\n",
    "    sell_data['shifted_volume'] = sell_data['shifted_volume'].clip(lower=0)\n",
    "    daily_data.loc[sell_data.index, 'Volume'] = sell_data['shifted_volume']\n",
    "    \n",
    "    print(\"Adjusted Sell Volumes (first few rows):\")\n",
    "    print(sell_data[['Hour', 'Volume', 'shifted_volume']].head())\n",
    "    \n",
    "    return daily_data\n",
    "\n",
    "adjusted_daily_data = adjust_sell_volumes(daily_data, hourly_sell_volume, reduction_amount=5000)\n",
    "\n",
    "# Step 3: Re-run intersection logic with the new shifted volumes (no change needed)\n",
    "def calculate_equilibrium_with_shifted_volumes(adjusted_daily_data):\n",
    "    adjusted_daily_data = adjusted_daily_data.dropna(subset=['Price', 'Volume'])\n",
    "    sell_orders = adjusted_daily_data[adjusted_daily_data['Sell_Buy'] == 'sell'].copy()\n",
    "    buy_orders = adjusted_daily_data[adjusted_daily_data['Sell_Buy'] == 'buy'].copy()\n",
    "\n",
    "    sell_orders = sell_orders.sort_values(by='Price').reset_index(drop=True)\n",
    "    sell_orders['Cumulative_Supply'] = sell_orders['Volume'].cumsum()\n",
    "    buy_orders = buy_orders.sort_values(by='Price', ascending=False).reset_index(drop=True)\n",
    "    buy_orders['Cumulative_Demand'] = buy_orders['Volume'].cumsum()\n",
    "\n",
    "    supply_model = LinearRegression()\n",
    "    supply_model.fit(sell_orders[['Cumulative_Supply']], sell_orders['Price'])\n",
    "\n",
    "    demand_model = LinearRegression()\n",
    "    demand_model.fit(buy_orders[['Cumulative_Demand']], buy_orders['Price'])\n",
    "\n",
    "    m_supply = supply_model.coef_[0]\n",
    "    b_supply = supply_model.intercept_\n",
    "    m_demand = demand_model.coef_[0]\n",
    "    b_demand = demand_model.intercept_\n",
    "\n",
    "    equilibrium_volume = (b_demand - b_supply) / (m_supply - m_demand)\n",
    "    renewable_reduced_equilibrium_price = m_supply * equilibrium_volume + b_supply\n",
    "\n",
    "    print(f\"Renewable-Reduced Equilibrium Price: {renewable_reduced_equilibrium_price}\")\n",
    "    print(f\"Equilibrium Volume (Reduced Supply): {equilibrium_volume}\")\n",
    "\n",
    "    return renewable_reduced_equilibrium_price, equilibrium_volume\n",
    "\n",
    "renewable_reduced_price, new_equilibrium_volume = calculate_equilibrium_with_shifted_volumes(adjusted_daily_data)\n"
   ]
  },
  {
   "cell_type": "code",
   "execution_count": 31,
   "id": "f587524f-151a-469f-9a15-ede864dc48d7",
   "metadata": {},
   "outputs": [
    {
     "data": {
      "image/png": "[encoded data removed]",
      "text/plain": [
       "<Figure size 1000x600 with 1 Axes>"
      ]
     },
     "metadata": {},
     "output_type": "display_data"
    }
   ],
   "source": [
    "# Comparing equilibrium prices from all three scenarios\n",
    "equilibrium_prices = {\n",
    "    \"Original Scenario\": equilibrium_price,\n",
    "    \"Renewable +5000 MWh\": new_renewable_adjusted_price,\n",
    "    \"Renewable -5000 MWh\": renewable_reduced_price      \n",
    "}\n",
    "\n",
    "# Creating bar graph\n",
    "scenarios = list(equilibrium_prices.keys())\n",
    "prices = list(equilibrium_prices.values())\n",
    "\n",
    "plt.figure(figsize=(10, 6))\n",
    "plt.bar(scenarios, prices, color=['blue', 'green', 'red'], alpha=0.7)\n",
    "\n",
    "# Adding labels and title\n",
    "plt.xlabel(\"Scenario\")\n",
    "plt.ylabel(\"Equilibrium Price\")\n",
    "plt.title(\"Comparison of Equilibrium Prices Across Scenarios\")\n",
    "plt.ylim(0, max(prices) * 1.2)  # Adjusting the y-axis for better visualization\n",
    "\n",
    "# Adding data labels on bars\n",
    "for i, price in enumerate(prices):\n",
    "    plt.text(i, price + max(prices) * 0.02, f\"{price:.2f}\", ha='center', fontsize=10)\n",
    "\n",
    "plt.grid(axis='y', linestyle='--', alpha=0.6)\n",
    "plt.tight_layout()\n",
    "plt.show()\n"
   ]
  },
  {
   "cell_type": "code",
   "execution_count": 32,
   "id": "9cb3e88d-3f6c-434d-b52c-0b8ff8c66c96",
   "metadata": {},
   "outputs": [
    {
     "data": {
      "text/html": [
       "<pre style=\"white-space:pre;overflow-x:auto;line-height:normal;font-family:Menlo,'DejaVu Sans Mono',consolas,'Courier New',monospace\"><span style=\"color: #808000; text-decoration-color: #808000; font-weight: bold\">C:\\Users\\Pavillon Plus\\AppData\\Local\\Temp\\ipykernel_15452\\</span><span style=\"color: #808000; text-decoration-color: #808000; font-weight: bold\">2171128376.</span><span style=\"color: #808000; text-decoration-color: #808000; font-weight: bold\">py:</span><span style=\"color: #808000; text-decoration-color: #808000; font-weight: bold\">12</span><span style=\"color: #808000; text-decoration-color: #808000; font-weight: bold\"> FutureWarning</span><span style=\"color: #808000; text-decoration-color: #808000\">: </span><span style=\"color: #808000; text-decoration-color: #808000\">'H'</span><span style=\"color: #808000; text-decoration-color: #808000\"> is deprecated and will be removed in a future version, please use </span><span style=\"color: #808000; text-decoration-color: #808000\">'h'</span><span style=\"color: #808000; text-decoration-color: #808000\"> instead.</span>\n",
       "</pre>\n"
      ],
      "text/plain": [
       "\u001b[1;33mC:\\Users\\Pavillon Plus\\AppData\\Local\\Temp\\ipykernel_15452\\\u001b[0m\u001b[1;33m2171128376.\u001b[0m\u001b[1;33mpy:\u001b[0m\u001b[1;33m12\u001b[0m\u001b[1;33m FutureWarning\u001b[0m\u001b[33m: \u001b[0m\u001b[33m'H'\u001b[0m\u001b[33m is deprecated and will be removed in a future version, please use \u001b[0m\u001b[33m'h'\u001b[0m\u001b[33m instead.\u001b[0m\n"
      ]
     },
     "metadata": {},
     "output_type": "display_data"
    },
    {
     "data": {
      "text/html": [
       "<pre style=\"white-space:pre;overflow-x:auto;line-height:normal;font-family:Menlo,'DejaVu Sans Mono',consolas,'Courier New',monospace\"><span style=\"color: #808000; text-decoration-color: #808000; font-weight: bold\">C:\\Users\\Pavillon Plus\\AppData\\Local\\Temp\\ipykernel_15452\\</span><span style=\"color: #808000; text-decoration-color: #808000; font-weight: bold\">2171128376.</span><span style=\"color: #808000; text-decoration-color: #808000; font-weight: bold\">py:</span><span style=\"color: #808000; text-decoration-color: #808000; font-weight: bold\">7</span><span style=\"color: #808000; text-decoration-color: #808000; font-weight: bold\"> RuntimeWarning</span><span style=\"color: #808000; text-decoration-color: #808000\">: invalid value encountered in scalar divide</span>\n",
       "</pre>\n"
      ],
      "text/plain": [
       "\u001b[1;33mC:\\Users\\Pavillon Plus\\AppData\\Local\\Temp\\ipykernel_15452\\\u001b[0m\u001b[1;33m2171128376.\u001b[0m\u001b[1;33mpy:\u001b[0m\u001b[1;33m7\u001b[0m\u001b[1;33m RuntimeWarning\u001b[0m\u001b[33m: invalid value encountered in scalar divide\u001b[0m\n"
      ]
     },
     "metadata": {},
     "output_type": "display_data"
    },
    {
     "name": "stdout",
     "output_type": "stream",
     "text": [
      "Hourly summary saved as 'hourly_summary.csv'.\n",
      "                       Hour  avg_price  min_price  max_price  total_volume  \\\n",
      "0 2024-01-31 00:00:00+00:00  62.836111      20.51      99.86  37327.967584   \n",
      "1 2024-01-31 01:00:00+00:00  58.931829      20.23      95.06  33034.338804   \n",
      "2 2024-01-31 02:00:00+00:00  54.499444      21.40      92.11  26782.980194   \n",
      "3 2024-01-31 03:00:00+00:00  63.602917      21.68      96.78  37587.424499   \n",
      "4 2024-01-31 04:00:00+00:00  60.441081      23.78      99.62  37404.043893   \n",
      "\n",
      "   vwap  Original_Equilibrium_Price  Equilibrium_Price_+5000_MWh  \\\n",
      "0   NaN                   57.467602                    59.513894   \n",
      "1   NaN                   57.467602                    59.513894   \n",
      "2   NaN                   57.467602                    59.513894   \n",
      "3   NaN                   57.467602                    59.513894   \n",
      "4   NaN                   57.467602                    59.513894   \n",
      "\n",
      "   Equilibrium_Price_-5000_MWh  \n",
      "0                     59.36997  \n",
      "1                     59.36997  \n",
      "2                     59.36997  \n",
      "3                     59.36997  \n",
      "4                     59.36997  \n"
     ]
    }
   ],
   "source": [
    "#Final Summary Output and Generate hourly_summary.csv\n",
    "\n",
    "import pandas as pd\n",
    "\n",
    "# Function to calculate VWAP (Volume Weighted Average Price)\n",
    "def calculate_vwap(data):\n",
    "    vwap = (data['Price'] * data['Volume']).sum() / data['Volume'].sum()\n",
    "    return vwap\n",
    "\n",
    "# Calculate hourly metrics\n",
    "def generate_hourly_summary(daily_data, equilibrium_price, new_renewable_adjusted_price, renewable_reduced_price):\n",
    "    daily_data['Hour'] = daily_data['Timestamp'].dt.floor('H')\n",
    "\n",
    "    # Group by hour and calculate metrics\n",
    "    hourly_summary = (\n",
    "        daily_data.groupby('Hour')\n",
    "        .agg(\n",
    "            avg_price=('Price', 'mean'),\n",
    "            min_price=('Price', 'min'),\n",
    "            max_price=('Price', 'max'),\n",
    "            total_volume=('Volume', 'sum'),\n",
    "            vwap=('Price', lambda x: calculate_vwap(daily_data[daily_data['Hour'] == x.name]))\n",
    "        )\n",
    "        .reset_index()\n",
    "    )\n",
    "\n",
    "    # Add equilibrium prices for each scenario\n",
    "    hourly_summary['Original_Equilibrium_Price'] = equilibrium_price\n",
    "    hourly_summary['Equilibrium_Price_+5000_MWh'] = new_renewable_adjusted_price\n",
    "    hourly_summary['Equilibrium_Price_-5000_MWh'] = renewable_reduced_price\n",
    "\n",
    "    # Save to CSV\n",
    "    hourly_summary.to_csv('hourly_summary.csv', index=False)\n",
    "\n",
    "    print(\"Hourly summary saved as 'hourly_summary.csv'.\")\n",
    "    return hourly_summary\n",
    "\n",
    "# Generate the summary\n",
    "hourly_summary = generate_hourly_summary(\n",
    "    daily_data,\n",
    "    equilibrium_price,\n",
    "    new_renewable_adjusted_price,\n",
    "    renewable_reduced_price\n",
    ")\n",
    "\n",
    "# Preview the generated hourly summary\n",
    "print(hourly_summary.head())\n",
    "\n",
    "\n"
   ]
  },
  {
   "cell_type": "code",
   "execution_count": 33,
   "id": "34de2e9c-4d4c-4919-a1bc-c714e2d97a20",
   "metadata": {},
   "outputs": [
    {
     "data": {
      "image/png": "[encoded data removed]",
      "text/plain": [
       "<Figure size 1200x800 with 1 Axes>"
      ]
     },
     "metadata": {},
     "output_type": "display_data"
    },
    {
     "data": {
      "image/png": "[encoded data removed]",
      "text/plain": [
       "<Figure size 1200x800 with 1 Axes>"
      ]
     },
     "metadata": {},
     "output_type": "display_data"
    }
   ],
   "source": [
    "#Code for Visualizing the Hourly Summary\n",
    "\n",
    "import matplotlib.pyplot as plt\n",
    "import pandas as pd\n",
    "\n",
    "# Load the hourly summary\n",
    "hourly_summary = pd.read_csv(\"hourly_summary.csv\", parse_dates=[\"Hour\"])\n",
    "\n",
    "# Plot 1: Hourly Metrics (Average Price, Min Price, Max Price, VWAP)\n",
    "def plot_hourly_metrics(hourly_summary):\n",
    "    plt.figure(figsize=(12, 8))\n",
    "\n",
    "    # Plot Average, Min, and Max Prices\n",
    "    plt.plot(hourly_summary['Hour'], hourly_summary['avg_price'], label='Average Price', color='blue', marker='o')\n",
    "    plt.plot(hourly_summary['Hour'], hourly_summary['min_price'], label='Min Price', color='green', linestyle='--')\n",
    "    plt.plot(hourly_summary['Hour'], hourly_summary['max_price'], label='Max Price', color='red', linestyle='--')\n",
    "\n",
    "    # Plot VWAP\n",
    "    plt.plot(hourly_summary['Hour'], hourly_summary['vwap'], label='VWAP', color='purple', linestyle='-.')\n",
    "\n",
    "    # Add labels, title, and legend\n",
    "    plt.xlabel(\"Hour\")\n",
    "    plt.ylabel(\"Price\")\n",
    "    plt.title(\"Hourly Price Metrics (Average, Min, Max, VWAP)\")\n",
    "    plt.legend(loc=\"upper left\")\n",
    "    plt.grid(alpha=0.5)\n",
    "    plt.xticks(rotation=45)\n",
    "    plt.tight_layout()\n",
    "    plt.show()\n",
    "\n",
    "# Plot 2: Hourly Equilibrium Prices Across Scenarios\n",
    "def plot_equilibrium_prices(hourly_summary):\n",
    "    plt.figure(figsize=(12, 8))\n",
    "\n",
    "    # Plot equilibrium prices for the three scenarios\n",
    "    plt.plot(hourly_summary['Hour'], hourly_summary['Original_Equilibrium_Price'], label='Original Equilibrium Price', color='blue', marker='o')\n",
    "    plt.plot(hourly_summary['Hour'], hourly_summary['Equilibrium_Price_+5000_MWh'], label='Equilibrium Price (+5000 MWh)', color='green', marker='o')\n",
    "    plt.plot(hourly_summary['Hour'], hourly_summary['Equilibrium_Price_-5000_MWh'], label='Equilibrium Price (-5000 MWh)', color='red', marker='o')\n",
    "\n",
    "    # Add labels, title, and legend\n",
    "    plt.xlabel(\"Hour\")\n",
    "    plt.ylabel(\"Equilibrium Price\")\n",
    "    plt.title(\"Hourly Equilibrium Prices Across Scenarios\")\n",
    "    plt.legend(loc=\"upper left\")\n",
    "    plt.grid(alpha=0.5)\n",
    "    plt.xticks(rotation=45)\n",
    "    plt.tight_layout()\n",
    "    plt.show()\n",
    "\n",
    "# Call the functions to generate plots\n",
    "plot_hourly_metrics(hourly_summary)\n",
    "plot_equilibrium_prices(hourly_summary)\n"
   ]
  },
  {
   "cell_type": "code",
   "execution_count": null,
   "id": "977e6fbb-54fb-4c93-9f36-f4e36e7652e3",
   "metadata": {},
   "outputs": [],
   "source": []
  },
  {
   "cell_type": "code",
   "execution_count": null,
   "id": "aa14eec1-7526-4660-8c71-bbf8df529a62",
   "metadata": {},
   "outputs": [],
   "source": []
  },
  {
   "cell_type": "code",
   "execution_count": null,
   "id": "fc4ea5f3-e3cb-4fcc-a063-59afc188db89",
   "metadata": {},
   "outputs": [],
   "source": []
  }
 ],
 "metadata": {
  "kernelspec": {
   "display_name": "Python 3 (ipykernel)",
   "language": "python",
   "name": "python3"
  },
  "language_info": {
   "codemirror_mode": {
    "name": "ipython",
    "version": 3
   },
   "file_extension": ".py",
   "mimetype": "text/x-python",
   "name": "python",
   "nbconvert_exporter": "python",
   "pygments_lexer": "ipython3",
   "version": "3.12.7"
  }
 },
 "nbformat": 4,
 "nbformat_minor": 5
}
